{
 "cells": [
  {
   "cell_type": "markdown",
   "metadata": {},
   "source": [
    "## Imports\n"
   ]
  },
  {
   "cell_type": "code",
   "execution_count": 4,
   "metadata": {
    "ExecuteTime": {
     "end_time": "2021-05-07T12:18:18.247859Z",
     "start_time": "2021-05-07T12:18:11.488036Z"
    }
   },
   "outputs": [
    {
     "name": "stderr",
     "output_type": "stream",
     "text": [
      "C:\\Anaconda3\\lib\\site-packages\\dask\\dataframe\\utils.py:14: FutureWarning: pandas.util.testing is deprecated. Use the functions in the public API at pandas.testing instead.\n",
      "  import pandas.util.testing as tm\n",
      "C:\\Anaconda3\\lib\\site-packages\\sklearn\\externals\\joblib\\__init__.py:15: FutureWarning: sklearn.externals.joblib is deprecated in 0.21 and will be removed in 0.23. Please import this functionality directly from joblib, which can be installed with: pip install joblib. If this warning is raised when loading pickled models, you may need to re-serialize those models with scikit-learn 0.21+.\n",
      "  warnings.warn(msg, category=FutureWarning)\n"
     ]
    }
   ],
   "source": [
    "from Filter_and_Grid_Search import *\n",
    "import os\n",
    "from sklearn.externals import joblib as skjoblib\n",
    "import joblib\n",
    "from sklearn.calibration import calibration_curve\n",
    "from sklearn.preprocessing import label_binarize\n",
    "from importlib import reload\n",
    "import Filter_and_Grid_Search\n",
    "Filter_and_Grid_Search = reload(Filter_and_Grid_Search)"
   ]
  },
  {
   "cell_type": "code",
   "execution_count": 5,
   "metadata": {
    "ExecuteTime": {
     "end_time": "2021-05-07T12:18:18.266865Z",
     "start_time": "2021-05-07T12:18:18.250858Z"
    }
   },
   "outputs": [],
   "source": [
    "import pandas as pd\n",
    "import numpy as np\n",
    "import json\n",
    "\n",
    "from sklearn.model_selection import KFold\n",
    "from sklearn.model_selection import cross_val_score\n",
    "\n",
    "from sklearn.linear_model import LogisticRegression\n",
    "from sklearn.linear_model import LinearRegression\n",
    "from sklearn.preprocessing import StandardScaler\n",
    "from sklearn import metrics\n",
    "from sklearn.utils import resample\n",
    "\n",
    "import matplotlib.pyplot as plt\n",
    "\n",
    "import numpy as np\n",
    "import pandas as pd\n",
    "from sklearn.tree import DecisionTreeClassifier\n",
    "from sklearn.ensemble import GradientBoostingClassifier \n",
    "from sklearn.ensemble import RandomForestClassifier\n",
    "\n",
    "import pydotplus \n",
    "\n",
    "from sklearn.model_selection import KFold\n",
    "from sklearn.model_selection import cross_val_score\n",
    "from sklearn.model_selection import train_test_split\n",
    "\n",
    "\n",
    "from sklearn import preprocessing\n",
    "from sklearn import metrics\n",
    "\n",
    "from sklearn.metrics import log_loss\n",
    "from sklearn.metrics import recall_score\n",
    "import math\n",
    "\n",
    "from datetime import datetime\n",
    "import scipy.stats as st\n",
    "from collections import Counter\n",
    "import xgboost as xgb\n",
    "from sklearn.preprocessing import OneHotEncoder\n",
    "from sklearn.preprocessing import LabelEncoder\n",
    "from numpy import array\n",
    "\n",
    "from sklearn.utils import check_consistent_length\n",
    "from sklearn.utils import column_or_1d, assert_all_finite\n",
    "from sklearn.utils.extmath import stable_cumsum\n",
    "from sklearn.utils.multiclass import type_of_target\n",
    "\n",
    "import collections"
   ]
  },
  {
   "cell_type": "code",
   "execution_count": 156,
   "metadata": {
    "ExecuteTime": {
     "end_time": "2021-05-11T08:13:04.678018Z",
     "start_time": "2021-05-11T08:13:04.649017Z"
    }
   },
   "outputs": [],
   "source": [
    "import numpy as np\n",
    "from numpy import array\n",
    "import pandas as pd\n",
    "\n",
    "from sklearn.ensemble import RandomForestClassifier\n",
    "from sklearn.model_selection import train_test_split\n",
    "from sklearn.decomposition import PCA\n",
    "\n",
    "import math\n",
    "\n",
    "import matplotlib.pylab as plt\n",
    "from matplotlib.pyplot import cm\n",
    "import seaborn as sns\n",
    "import itertools\n",
    "import collections\n",
    "from collections import OrderedDict, Counter\n",
    "\n",
    "import scipy.stats as stats\n",
    "from scipy.stats import normaltest, kstest, ttest_ind, ttest_rel, mannwhitneyu, wilcoxon, levene, bartlett\n",
    "from scipy.stats import chi2_contingency, fisher_exact, mode, pearsonr, f_oneway, kruskal, spearmanr\n",
    "\n",
    "#from rfpimp import *\n",
    "\n",
    "from datetime import datetime\n",
    "import re\n",
    "from seaborn import heatmap\n",
    "import random\n",
    "import statsmodels.distributions.empirical_distribution as edf\n",
    "from scipy.interpolate import interp1d\n",
    "from statsmodels.stats.outliers_influence import variance_inflation_factor\n",
    "\n",
    "from sklearn.utils import resample\n",
    "from functools import reduce\n",
    "from sklearn.model_selection import KFold, StratifiedKFold, cross_val_score\n",
    "\n",
    "from sklearn import metrics, preprocessing\n",
    "from sklearn.metrics import roc_auc_score, average_precision_score, f1_score, log_loss, recall_score\n",
    "from sklearn.preprocessing import OneHotEncoder, LabelEncoder, StandardScaler, PowerTransformer\n",
    "\n",
    "from sklearn.utils import check_consistent_length, column_or_1d, assert_all_finite\n",
    "from sklearn.utils.extmath import stable_cumsum\n",
    "from sklearn.utils.multiclass import type_of_target\n",
    "from sklearn.linear_model import LogisticRegression\n",
    "import re\n",
    "import gc\n",
    "\n",
    "import os\n",
    "import psutil\n",
    "from sklearn.externals import joblib\n",
    "\n",
    "from importlib import reload\n",
    "import Filter_and_Grid_Search\n",
    "Filter_and_Grid_Search = reload(Filter_and_Grid_Search)\n",
    "from Filter_and_Grid_Search import stratified_split\n",
    "from Filter_and_Grid_Search import attributes_list, attributes_list_new\n",
    "from Filter_and_Grid_Search import get_s_stat, get_PSI_stat, get_stats_by_month, get_stats, stable_unstable\n",
    "from Filter_and_Grid_Search import stable_unstable_by_month_divide, union_datas, individual_hists_all \n",
    "from Filter_and_Grid_Search import paired_time_hists_by_month, statistics_with_target\n",
    "from Filter_and_Grid_Search import receive_correlations, find_doubles_corr\n",
    "from Filter_and_Grid_Search import statistics_with_target, attributes_list, attributes_list_new, make_standard\n",
    "from Filter_and_Grid_Search import data_preprocessing_train, data_preprocessing_test\n",
    "from Filter_and_Grid_Search import receive_correlations, find_doubles_corr\n",
    "from Filter_and_Grid_Search import stratified_split, two_forests, turn_variables_with_values\n",
    "from Filter_and_Grid_Search import find_meta_params, calculate_vif#, find_meta_params_mem\n",
    "from Filter_and_Grid_Search import plot_meta_2d, data_preprocessing, find_ouliers_iqr\n",
    "from Filter_and_Grid_Search import train_model_receive_stats, simple_b_score_risk\n",
    "from Filter_and_Grid_Search import max_prof_corve, by_month_gini, check_attribute_list_cases\n",
    "from scipy.stats import norm\n",
    "\n",
    "from statsmodels.stats.proportion import proportions_ztest\n",
    "\n",
    "from sklearn.model_selection import GridSearchCV, RandomizedSearchCV"
   ]
  },
  {
   "cell_type": "markdown",
   "metadata": {},
   "source": [
    "## PATH"
   ]
  },
  {
   "cell_type": "markdown",
   "metadata": {},
   "source": [
    "[Вернуться к началу](#Содержание) "
   ]
  },
  {
   "cell_type": "code",
   "execution_count": 7,
   "metadata": {
    "ExecuteTime": {
     "end_time": "2021-05-07T12:18:18.304862Z",
     "start_time": "2021-05-07T12:18:18.292862Z"
    }
   },
   "outputs": [
    {
     "name": "stdout",
     "output_type": "stream",
     "text": [
      "D:/Share/01 -Risk Desc Science/AntiFraud/\n"
     ]
    }
   ],
   "source": [
    "PATH_ROOT = 'D:/Share/01 -Risk Desc Science/AntiFraud/' #root folder\n",
    "PATH = PATH_ROOT  #model folder\n",
    "print(PATH)"
   ]
  },
  {
   "cell_type": "code",
   "execution_count": 9,
   "metadata": {
    "ExecuteTime": {
     "end_time": "2021-05-07T12:18:18.328865Z",
     "start_time": "2021-05-07T12:18:18.317863Z"
    }
   },
   "outputs": [],
   "source": [
    "#File with features description\n",
    "description_file = 'D:/Share/01 -Risk Desc Science/AntiFraud/AntiFraud_переменные.xlsx' \n",
    "field_for_var_in_desc = 'NAME' #features names\n",
    "field_for_comment_in_desc = 'Описание' #features description\n",
    "field_for_type_in_desc = 'Категориальная' #1 - for category, 0 - for numeric\n",
    "\n",
    "#File with category features list\n",
    "categorial_file = 'D:/Share/01 -Risk Desc Science/AntiFraud/AntiFraud_переменные_категориальные.xlsx' \n",
    "field_for_var_in_cats = 'NAME' #features names"
   ]
  },
  {
   "cell_type": "code",
   "execution_count": 10,
   "metadata": {
    "ExecuteTime": {
     "end_time": "2021-05-07T12:18:18.340870Z",
     "start_time": "2021-05-07T12:18:18.333865Z"
    }
   },
   "outputs": [],
   "source": [
    "datasets_file = 'for_stratify.csv' #All data file\n",
    "train_data = 'antifraud_data_train_with_2014.csv' #Training data\n",
    "test_data = 'antifraud_data_valid_with_2014.csv' #test 1 data\n",
    "oot_data = 'antifraud_data_test_with_2014.csv' #test2 data\n",
    "oot_data2 = 'attrition_data_oot2.csv' #test 3 data\n",
    "\n",
    "black_list = 'AntiFraud_переменные_black_list.xlsx' #List of \"black\" features\n",
    "black_field_var = 'NAME' #features names\n",
    "filename_dump = 'AntiFraud.data' #dat file with selection info\n",
    "\n",
    "task = 'binary' \n",
    "missing_strings = 'MISSING' #string features will be converted with LabelEncoder. missing_strings for filling missing values before le\n",
    "p_value = 0.05 \n",
    "\n",
    "recommended_list = False #True is there is recommended list based on expert opinion\n",
    "target_dict = {'good': 0, 'bad': 1} #dict for bad_rate"
   ]
  },
  {
   "cell_type": "code",
   "execution_count": 11,
   "metadata": {
    "ExecuteTime": {
     "end_time": "2021-05-07T12:18:18.351867Z",
     "start_time": "2021-05-07T12:18:18.342866Z"
    }
   },
   "outputs": [],
   "source": [
    "target = 'bad_flag' #target\n",
    "index_month = 'month_year' #month index column\n",
    "list_of_vars_for_strat = ['month_year'] #for stratified split to train/test\n",
    "sort_by_var = 'APPPOSID' #id\n",
    "\n",
    "necessary_fields = [target, index_month, sort_by_var] #necessary fields for analysis [id, month_id, target]\n",
    "necessary_fields_upper = [target.upper(), index_month.upper(), sort_by_var.upper()] \n",
    "\n",
    "#system columns - fot deletion\n",
    "COL_SYS = ['INITIATED_DT', 'ROBOT_DAY', 'DEL_FLAG', 'INITIATED_DT_OUT',\n",
    "'CALL_OUT_DAY', 'MONTH_CALL', 'SMS_DAY', 'MONTHCALLMINUS2',\n",
    "'XSBASEDT_24M', 'XSBASEDT_12M', 'CALLDT', 'CALCDT_1M',\n",
    "'CALCDT_3M', 'CALCDT_6M', 'CALCDT_12M', 'CALCDT_24M',\n",
    "'CLIENT_NUMBER_TEXT', 'CIF_ID_TEXT', 'CLIENT_NUMBER',\n",
    "'DATE_REPORT_O', 'DATE_REPORT_B', 'SUPERID', 'SUPERID_OPEN',\n",
    "'SUPERID_AP', 'SUPERID_BUREAU', 'BUREAU_DT', 'UNNAMED: 0', index_month.upper()+'_GROSS', 'ACTIVE_IND']\n",
    "COL_TRG = target.upper()\n",
    "#\n",
    "hyper_disbalance= False"
   ]
  },
  {
   "cell_type": "code",
   "execution_count": 12,
   "metadata": {
    "ExecuteTime": {
     "end_time": "2021-05-07T12:18:18.363868Z",
     "start_time": "2021-05-07T12:18:18.353866Z"
    }
   },
   "outputs": [],
   "source": [
    "list_of_vars_for_strat_upper = [c.upper() for c in list_of_vars_for_strat]\n",
    "sort_by_var_upper = sort_by_var.upper()"
   ]
  },
  {
   "cell_type": "markdown",
   "metadata": {},
   "source": [
    "### Logging"
   ]
  },
  {
   "cell_type": "code",
   "execution_count": 13,
   "metadata": {
    "ExecuteTime": {
     "end_time": "2021-05-07T12:18:18.383868Z",
     "start_time": "2021-05-07T12:18:18.364867Z"
    }
   },
   "outputs": [
    {
     "name": "stdout",
     "output_type": "stream",
     "text": [
      "Смотри лог в  D:/Share/01 -Risk Desc Science/AntiFraud/file_log\n"
     ]
    }
   ],
   "source": [
    "# log writing\n",
    "def print_log(content):\n",
    "\n",
    "    pid = os.getpid()\n",
    "    py = psutil.Process(pid)\n",
    "    print(content)\n",
    "\n",
    "#    with open(PATH + 'file_log', mode='a', encoding = 'cp1251') as f:\n",
    "    with open(PATH + 'file_log', mode='a', encoding = 'utf-8') as f:\n",
    "        f.write(datetime.strftime(datetime.now(), \"%d.%m.%Y %H:%M:%S\") +' ' + content + '\\n') \n",
    "        f.write(str(dict(psutil.virtual_memory()._asdict())) + ' CPU ' + str(psutil.cpu_percent()) + '\\n')\n",
    "        f.write('memory use:' + str(round(py.memory_info()[0]/2.**30,3)) + '\\n') # memory use in GB\n",
    "#    f.close()    \n",
    "    \n",
    "print('Смотри лог в ', PATH + 'file_log')    "
   ]
  },
  {
   "cell_type": "code",
   "execution_count": 14,
   "metadata": {
    "ExecuteTime": {
     "end_time": "2021-05-07T12:18:18.398868Z",
     "start_time": "2021-05-07T12:18:18.386868Z"
    }
   },
   "outputs": [],
   "source": [
    "def column_dic(x, dic):\n",
    "    return dic.get(x.upper(),\n",
    "                        dic.get(re.sub(r'[0-9]+', 'NN', x).upper(),\n",
    "                                     dic.get(re.sub(r'[0-9]+_2', 'NN_2', x).upper(),\n",
    "                                                 dic.get(re.sub(r'2ALL_[0-9]+', '2All_NN', x).upper())\n",
    "                                                 )\n",
    "                                    )\n",
    "                       )"
   ]
  },
  {
   "cell_type": "markdown",
   "metadata": {},
   "source": [
    "## Features description"
   ]
  },
  {
   "cell_type": "code",
   "execution_count": 15,
   "metadata": {
    "ExecuteTime": {
     "end_time": "2021-05-07T12:18:18.623884Z",
     "start_time": "2021-05-07T12:18:18.439871Z"
    },
    "scrolled": true
   },
   "outputs": [
    {
     "name": "stdout",
     "output_type": "stream",
     "text": [
      "Создание вспомогательных справочников\n",
      "На листе Лист1\n",
      "0    558\n",
      "1      5\n",
      "Name: Категориальная, dtype: int64\n",
      "\n",
      " В словаре переменных  563\n"
     ]
    }
   ],
   "source": [
    "print_log('Создание вспомогательных справочников')\n",
    "\n",
    "sheet_names = ['Лист1']\n",
    "Var_type = {}\n",
    "Var_desc = {}\n",
    "for sheet_name in sheet_names:\n",
    "#C:\\Work\\01 -Risk Desc Science\\Application\\GP\\Repeat\\Selection\\excel    \n",
    "    Var_dic = pd.read_excel(description_file,sheet_name=sheet_name)\n",
    "    Var_dic[field_for_var_in_desc]= Var_dic[field_for_var_in_desc].apply(lambda x: x.upper())\n",
    "    print('На листе ' + sheet_name)\n",
    "    print(Var_dic[field_for_type_in_desc].value_counts())\n",
    "    #Словарь типов фичей\n",
    "    Var_type.update(Var_dic[[field_for_var_in_desc,\n",
    "                     field_for_type_in_desc]].set_index(field_for_var_in_desc).to_dict()[field_for_type_in_desc])\n",
    "    #Словать описаний фичей\n",
    "    Var_desc.update(Var_dic[[field_for_var_in_desc,\n",
    "                     field_for_comment_in_desc]].set_index(field_for_var_in_desc).to_dict()[field_for_comment_in_desc])\n",
    "print('\\n В словаре переменных ', len(Var_desc))\n"
   ]
  },
  {
   "cell_type": "markdown",
   "metadata": {},
   "source": [
    "## Recommended Features"
   ]
  },
  {
   "cell_type": "code",
   "execution_count": 17,
   "metadata": {
    "ExecuteTime": {
     "end_time": "2021-05-07T12:18:18.654888Z",
     "start_time": "2021-05-07T12:18:18.647886Z"
    }
   },
   "outputs": [],
   "source": [
    "if recommended_list == True:\n",
    "    col_from_list = pd.read_csv(PATH+'Data Sets/'+recommend_list, header = 0 , delimiter = '&')\n",
    "    col_from_list = [c.upper() for c in col_from_list.feature]"
   ]
  },
  {
   "cell_type": "code",
   "execution_count": 18,
   "metadata": {
    "ExecuteTime": {
     "end_time": "2021-05-07T12:18:18.675888Z",
     "start_time": "2021-05-07T12:18:18.661888Z"
    }
   },
   "outputs": [],
   "source": [
    "# Борьба с сокращенными названиями переменных\n",
    "\n",
    "if recommended_list == True:\n",
    "    col_nn = {} # Справочник рекомендованных/черных переменных с их сокращенными вариантами\n",
    "    for c in [c.upper() for c in data.columns]:\n",
    "        for r in col_from_list:\n",
    "            dcol = c\n",
    "            if dcol == r:\n",
    "                col_nn[c] = r\n",
    "                break\n",
    "            dcol = re.sub(r'[0-9]+', 'NN', c)\n",
    "            if dcol == r:\n",
    "                col_nn[c] = r\n",
    "                break\n",
    "            dcol = re.sub(r'[0-9]+_2', 'NN_2', c)\n",
    "            if dcol == r:\n",
    "                col_nn[c] = r\n",
    "                break\n",
    "            dcol = re.sub(r'2ALL_[0-9]+', '2ALL_NN', c)\n",
    "            if dcol == r:\n",
    "                col_nn[c] = r\n",
    "                break\n",
    "            dcol = re.sub('7D', 'NNM', c)\n",
    "            if dcol == r:\n",
    "                col_nn[c] = r\n",
    "                break\n",
    "            dcol = re.sub(r'ALL[0-9]+', 'ALLNN', c)\n",
    "            if dcol == r:\n",
    "                col_nn[c] = r\n",
    "                break\n",
    "            dcol = re.sub(r'ALLL[0-9]+', 'ALLLNN', c)\n",
    "            if dcol == r:\n",
    "                col_nn[c] = r\n",
    "                break\n",
    "            dcol = re.sub(r'[0-9]+M', 'NNM', c)\n",
    "            if dcol == r:\n",
    "                col_nn[c] = r\n",
    "                break\n",
    "    # Списки удаленных, системных и таргет\n",
    "    COL_DEL = []\n",
    "\n",
    "    COL_DEL = [c.upper() for c in data.columns if c.upper() not in list(col_nn.keys()) + COL_SYS + [COL_TRG]]\n",
    "    len(COL_DEL)\n",
    "\n",
    "    # Переменные, которые удаляем\n",
    "    for c in COL_DEL:\n",
    "        print(c, column_dic(c,Var_desc))\n",
    "else:\n",
    "    COL_DEL = []"
   ]
  },
  {
   "cell_type": "code",
   "execution_count": 530,
   "metadata": {
    "ExecuteTime": {
     "end_time": "2021-05-14T13:20:08.320916Z",
     "start_time": "2021-05-14T13:20:08.281915Z"
    }
   },
   "outputs": [],
   "source": [
    "def antifraud_profit_metrics_by_periods_unique_tt3(data, prediction, loss, target, period_name, \n",
    "                                                   tt_code, to_select = 30, thre=13):\n",
    "    \n",
    "#     all_fraud_tt = []\n",
    "    sum_losses1 = []\n",
    "    all_fraud_dict = {}\n",
    "    final_fraud_dict = {}\n",
    "    \n",
    "    def antifraud_profit_metrics_for_period_unique_tt(period):\n",
    "        \n",
    "        nonlocal all_fraud_dict\n",
    "        nonlocal sum_losses1\n",
    "        nonlocal final_fraud_dict\n",
    "        \n",
    "        all_fraud_dict = {k:v for k, v in all_fraud_dict.items() if (period-v)< thre}\n",
    "        all_fraud_tt = list(all_fraud_dict.keys())\n",
    "        \n",
    "        data1 = data.loc[(data[period_name] == period)&(~data[tt_code].isin(all_fraud_tt))].copy()\n",
    "        \n",
    "        data1.sort_values(by = prediction, ascending = False, inplace = True)\n",
    "        data1.reset_index(drop = True, inplace = True)\n",
    "        \n",
    "        data2 = data1.head(to_select)\n",
    "        \n",
    "#         if to_sum == True:\n",
    "#             if only_ones == True:\n",
    "#                 sum_loss = data2.loc[data2[target] == 1, loss].sum()\n",
    "#             else:\n",
    "#                 sum_loss = data2[loss].sum()\n",
    "#         else:\n",
    "#             if only_ones == True:\n",
    "#                 sum_loss = data2.loc[data2[target] == 1, loss].count()\n",
    "#             else:\n",
    "#                 sum_loss = data2[loss].count()\n",
    "        \n",
    "        fraud_tt = list(set(data2.loc[(data2[target] == 1), tt_code].to_list()))\n",
    "        if len(fraud_tt) > 0:\n",
    "            fraud_tt_check = [i in all_fraud_tt for i in fraud_tt]\n",
    "            assert max(fraud_tt_check) == False\n",
    "        for tt in fraud_tt:\n",
    "            all_fraud_dict[tt]=period\n",
    "            if tt not in final_fraud_dict.keys():\n",
    "                final_fraud_dict[tt] = [period]\n",
    "            else:\n",
    "                final_fraud_dict[tt] += [period]\n",
    "        \n",
    "        losses_data = data.loc[(data[target] == 1) & \n",
    "                               (data[tt_code].isin(fraud_tt)&\n",
    "                                (data[period_name] >= period)&\n",
    "                                (data[period_name] < period+thre))]\n",
    "        sum_loss1 = sum(losses_data.groupby(tt_code)[loss].max())\n",
    "        \n",
    "        sum_losses1.append(sum_loss1)\n",
    "        \n",
    "        gc.collect()\n",
    "        \n",
    "    \n",
    "    periods = sorted(data[period_name].unique())\n",
    "        \n",
    "    par_res = []\n",
    "    for period in periods:\n",
    "        par_res.append(antifraud_profit_metrics_for_period_unique_tt(period))\n",
    "\n",
    "#     fin_loss = sum(par_res)\n",
    "    \n",
    "#     with parallel:\n",
    "#         par_res = parallel((delayed(antifraud_profit_metrics_for_period)(data, prediction, \n",
    "#                                                     loss, target, period_name, \n",
    "#                                                     period, to_select, only_ones, to_sum = False) for period in periods))\n",
    "    \n",
    "#     fin_frauds = sum(par_res)\n",
    "    \n",
    "    sums_only1 = sum(sum_losses1)\n",
    "    \n",
    "    return sums_only1, final_fraud_dict\n",
    "\n",
    "\n",
    "\n",
    "def antifraud_profit_metrics_by_periods_unique_tt(data, prediction, loss, target, period_name, tt_code, to_select = 30, \n",
    "                                                  n_jobs = 3):\n",
    "    \n",
    "    all_fraud_tt = []\n",
    "    sum_losses1 = []\n",
    "    \n",
    "    def antifraud_profit_metrics_for_period_unique_tt(period):\n",
    "        \n",
    "        nonlocal all_fraud_tt\n",
    "        nonlocal sum_losses1\n",
    "        \n",
    "        data1 = data.loc[data[period_name] == period].copy()\n",
    "        \n",
    "        data1.sort_values(by = prediction, ascending = False, inplace = True)\n",
    "        data1.reset_index(drop = True, inplace = True)\n",
    "        \n",
    "        data2 = data1.head(to_select)\n",
    "        \n",
    "#         if to_sum == True:\n",
    "#             if only_ones == True:\n",
    "#                 sum_loss = data2.loc[data2[target] == 1, loss].sum()\n",
    "#             else:\n",
    "#                 sum_loss = data2[loss].sum()\n",
    "#         else:\n",
    "#             if only_ones == True:\n",
    "#                 sum_loss = data2.loc[data2[target] == 1, loss].count()\n",
    "#             else:\n",
    "#                 sum_loss = data2[loss].count()\n",
    "        \n",
    "        sum_loss1 = data2.loc[(data2[target] == 1) & (~data2[tt_code].isin(all_fraud_tt)), loss].sum()\n",
    "        fraud_tt = list(set(data2.loc[(data2[target] == 1) & (~data2[tt_code].isin(all_fraud_tt)), tt_code].to_list()))\n",
    "        \n",
    "        sum_losses1.append(sum_loss1)\n",
    "        all_fraud_tt = all_fraud_tt + fraud_tt\n",
    "        \n",
    "        gc.collect()\n",
    "        \n",
    "    \n",
    "    periods = sorted(data[period_name].unique())\n",
    "        \n",
    "    from joblib import Parallel, delayed\n",
    "    \n",
    "    parallel = Parallel(n_jobs=n_jobs, require='sharedmem')\n",
    "    \n",
    "    with parallel:\n",
    "        par_res = parallel((delayed(antifraud_profit_metrics_for_period_unique_tt)(period) for period in periods))\n",
    "    \n",
    "#     fin_loss = sum(par_res)\n",
    "    \n",
    "#     with parallel:\n",
    "#         par_res = parallel((delayed(antifraud_profit_metrics_for_period)(data, prediction, \n",
    "#                                                     loss, target, period_name, \n",
    "#                                                     period, to_select, only_ones, to_sum = False) for period in periods))\n",
    "    \n",
    "#     fin_frauds = sum(par_res)\n",
    "    \n",
    "    sums_only1 = sum(sum_losses1)\n",
    "    \n",
    "    return sums_only1\n",
    "\n",
    "\n",
    "\n",
    "\n",
    "\n",
    "def antifraud_profit_metrics_by_periods(data, prediction, loss, target, period_name, to_select = 30, n_jobs = 3, \n",
    "                                        only_ones = True):\n",
    "    \n",
    "    def antifraud_profit_metrics_for_period(data, prediction, loss, target, period_name, period, to_select = 30,\n",
    "                                           only_ones = True, to_sum = True):\n",
    "        \n",
    "        data1 = data.loc[data[period_name] == period].copy()\n",
    "        \n",
    "        data1.sort_values(by = prediction, ascending = False, inplace = True)\n",
    "        data1.reset_index(drop = True, inplace = True)\n",
    "        \n",
    "        data2 = data1.head(to_select)\n",
    "        \n",
    "#         if to_sum == True:\n",
    "#             if only_ones == True:\n",
    "#                 sum_loss = data2.loc[data2[target] == 1, loss].sum()\n",
    "#             else:\n",
    "#                 sum_loss = data2[loss].sum()\n",
    "#         else:\n",
    "#             if only_ones == True:\n",
    "#                 sum_loss = data2.loc[data2[target] == 1, loss].count()\n",
    "#             else:\n",
    "#                 sum_loss = data2[loss].count()\n",
    "        \n",
    "        sum_loss = data2.loc[data2[target] == 1, loss].sum()\n",
    "        sum_loss1 = data2[loss].sum()\n",
    "    \n",
    "        return sum_loss, sum_loss1\n",
    "    \n",
    "    periods = sorted(data[period_name].unique())\n",
    "        \n",
    "    from joblib import Parallel, delayed\n",
    "    \n",
    "    parallel = Parallel(n_jobs=n_jobs)\n",
    "    \n",
    "    with parallel:\n",
    "        par_res = parallel((delayed(antifraud_profit_metrics_for_period)(data, prediction, \n",
    "                                                    loss, target, period_name, \n",
    "                                                    period, to_select, only_ones, to_sum = True) for period in periods))\n",
    "    \n",
    "#     fin_loss = sum(par_res)\n",
    "    \n",
    "#     with parallel:\n",
    "#         par_res = parallel((delayed(antifraud_profit_metrics_for_period)(data, prediction, \n",
    "#                                                     loss, target, period_name, \n",
    "#                                                     period, to_select, only_ones, to_sum = False) for period in periods))\n",
    "    \n",
    "#     fin_frauds = sum(par_res)\n",
    "    \n",
    "    sums_only1 = [i[0] for i in par_res]\n",
    "    sums_all = [i[1] for i in par_res]\n",
    "    \n",
    "    return sum(sums_only1), sum(sums_all)\n",
    "\n",
    "\n",
    "def max_prof_corve(y_true, y_score, simple_score, business_dictionary, pos_label=None, sample_weight=None):\n",
    "    \n",
    "    \"\"\"\n",
    "    \n",
    "    Создает векторы для отрисовки кривой max_profit.\n",
    "    Пример использования:\n",
    "    \n",
    "    b_auc, tp_fps_auc, cut_auc, best_auc, cutoff_auc = max_prof_corve(y_2, auc_test_pred, simple_b_score_crm, business_dictionary)\n",
    "    \n",
    "    plt.figure(figsize = (10, 10))\n",
    "\n",
    "    plt.title('Business score test')\n",
    "\n",
    "    plt.plot(tp_fps_auc, b_auc, color='green',\n",
    "             lw=lw, label='maxProfit AUC model')\n",
    "    \n",
    "    \"\"\"\n",
    "\n",
    "    # Check to make sure y_true is valid\n",
    "    y_type = type_of_target(y_true)\n",
    "    if not (y_type == \"binary\" or\n",
    "            (y_type == \"multiclass\" and pos_label is not None)):\n",
    "        raise ValueError(\"{0} format is not supported\".format(y_type))\n",
    "\n",
    "    check_consistent_length(y_true, y_score, sample_weight)\n",
    "    y_true = column_or_1d(y_true)\n",
    "    y_score = column_or_1d(y_score)\n",
    "    assert_all_finite(y_true)\n",
    "    assert_all_finite(y_score)\n",
    "\n",
    "    if sample_weight is not None:\n",
    "        sample_weight = column_or_1d(sample_weight)\n",
    "\n",
    "    # ensure binary classification if pos_label is not specified\n",
    "    classes = np.unique(y_true)\n",
    "    if (pos_label is None and\n",
    "        not (np.array_equal(classes, [0, 1]) or\n",
    "             np.array_equal(classes, [-1, 1]) or\n",
    "             np.array_equal(classes, [0]) or\n",
    "             np.array_equal(classes, [-1]) or\n",
    "             np.array_equal(classes, [1]))):\n",
    "        raise ValueError(\"Data is not binary and pos_label is not specified\")\n",
    "    elif pos_label is None:\n",
    "        pos_label = 1.\n",
    "\n",
    "    # make y_true a boolean vector\n",
    "    y_true = (y_true == pos_label)\n",
    "\n",
    "    # sort scores and corresponding truth values\n",
    "    desc_score_indices = np.argsort(y_score, kind=\"mergesort\")[::-1]\n",
    "    y_score = y_score[desc_score_indices]\n",
    "    y_true = y_true[desc_score_indices]\n",
    "    if sample_weight is not None:\n",
    "        weight = sample_weight[desc_score_indices]\n",
    "    else:\n",
    "        weight = 1.\n",
    "\n",
    "    # y_score typically has many tied values. Here we extract\n",
    "    # the indices associated with the distinct values. We also\n",
    "    # concatenate a value for the end of the curve.\n",
    "    distinct_value_indices = np.where(np.diff(y_score))[0]\n",
    "    threshold_idxs = np.r_[distinct_value_indices, y_true.size - 1]\n",
    "\n",
    "    # accumulate the true positives with decreasing threshold\n",
    "    tps = stable_cumsum(y_true * weight)[threshold_idxs]\n",
    "    if sample_weight is not None:\n",
    "        # express fps as a cumsum to ensure fps is increasing even in\n",
    "        # the presence of floating point errors\n",
    "        fps = stable_cumsum((1 - y_true) * weight)[threshold_idxs]\n",
    "    else:\n",
    "        fps = 1 + threshold_idxs - tps\n",
    "    tns =  fps[-1] - fps    \n",
    "    fns =  tps[-1] - tps\n",
    "    tp_fp = (tps + fps)/y_true.size \n",
    "    b_score = simple_score(_tn = tns, _fp = fps, _fn = fns, _tp = tps, **business_dictionary) \n",
    "    best_score = b_score.max()\n",
    "    cut_off = y_score[threshold_idxs][np.where(b_score == b_score.max())[0][0]]\n",
    "    return b_score, tp_fp, y_score[threshold_idxs], best_score, cut_off\n",
    "\n",
    "def antifraud_profit_metrics_usual(data, prediction, loss, target, n_jobs = 3, only_ones = True):\n",
    "    \n",
    "    def for_one_threshold(data, prediction, loss, target, threshold, only_ones = True):\n",
    "        \n",
    "        all_len = data.shape[0]\n",
    "        \n",
    "        data1 = data.loc[data[prediction] >= threshold].copy()\n",
    "        \n",
    "        selected_len = data1.shape[0]\n",
    "        \n",
    "        selected_share = selected_len/all_len\n",
    "        if only_ones == True:\n",
    "            sum_loss = data1.loc[data1[target] == 1, loss].sum()\n",
    "        else:\n",
    "            sum_loss = data1[loss].sum()\n",
    "        \n",
    "        return selected_share, sum_loss\n",
    "        \n",
    "        \n",
    "    from joblib import Parallel, delayed\n",
    "    \n",
    "    thresholds = sorted(data[prediction].unique())\n",
    "    \n",
    "    parallel = Parallel(n_jobs=n_jobs)\n",
    "    \n",
    "    with parallel:\n",
    "        shares_losses = parallel((delayed(for_one_threshold)(data, prediction, loss, \n",
    "                                                              target, threshold, only_ones) for threshold in thresholds))\n",
    "\n",
    "    shares_data = pd.DataFrame.from_records(shares_losses, columns = ['selection_rate', 'loss'])\n",
    "    \n",
    "    \n",
    "    return shares_data"
   ]
  },
  {
   "cell_type": "code",
   "execution_count": 531,
   "metadata": {
    "ExecuteTime": {
     "end_time": "2021-05-14T13:20:10.818091Z",
     "start_time": "2021-05-14T13:20:10.796091Z"
    }
   },
   "outputs": [],
   "source": [
    "def aps_ci_logit(y_true, y_scores, epsilon = 0.05):\n",
    "    aps = average_precision_score(y_true, y_scores)\n",
    "    n = len(y_true)\n",
    "    \n",
    "    nu = np.log(aps/(1-aps))\n",
    "    se = ((n*aps*(1-aps))**((-1)*1/2))\n",
    "    norm_se = norm.ppf(1-epsilon/2)*se\n",
    "    \n",
    "    exp_lower = np.exp(nu-norm_se)\n",
    "    exp_upper = np.exp(nu+norm_se)\n",
    "    \n",
    "    lower = exp_lower/(1+exp_lower)\n",
    "    upper = exp_upper/(1+exp_upper)\n",
    "    \n",
    "    return (lower, upper)\n",
    "    "
   ]
  },
  {
   "cell_type": "code",
   "execution_count": 532,
   "metadata": {
    "ExecuteTime": {
     "end_time": "2021-05-14T13:20:11.310131Z",
     "start_time": "2021-05-14T13:20:11.274129Z"
    }
   },
   "outputs": [],
   "source": [
    "from __future__ import absolute_import, division\n",
    "\n",
    "import numpy as np\n",
    "from scipy import stats\n",
    "import scipy.stats\n",
    "\n",
    "# AUC comparison adapted from\n",
    "# https://github.com/Netflix/vmaf/\n",
    "def compute_midrank(x):\n",
    "    \"\"\"\n",
    "    Computes midranks.\n",
    "    Parameters\n",
    "    ----------\n",
    "        x : np.array\n",
    "            x - a 1D numpy array\n",
    "    Returns\n",
    "    -------\n",
    "       T2 : np.array\n",
    "           Array of midranks\n",
    "    \"\"\"\n",
    "    J = np.argsort(x)\n",
    "    Z = x[J]\n",
    "    N = len(x)\n",
    "    T = np.zeros(N, dtype=np.float)\n",
    "    i = 0\n",
    "    while i < N:\n",
    "        j = i\n",
    "        while j < N and Z[j] == Z[i]:\n",
    "            j += 1\n",
    "        T[i:j] = 0.5*(i + j - 1)\n",
    "        i = j\n",
    "    T2 = np.empty(N, dtype=np.float)\n",
    "    # Note(kazeevn) +1 is due to Python using 0-based indexing\n",
    "    # instead of 1-based in the AUC formula in the paper\n",
    "    T2[J] = T + 1\n",
    "\n",
    "    return T2\n",
    "\n",
    "\n",
    "def compute_midrank_weight(x, sample_weight):\n",
    "    \"\"\"\n",
    "    Computes midranks.\n",
    "    Parameters\n",
    "    ----------\n",
    "        x : np.array\n",
    "        sample_weigh : int\n",
    "            x - a 1D numpy array\n",
    "    Returns\n",
    "    -------\n",
    "        T2 : np.array\n",
    "            array of midranks\n",
    "    \"\"\"\n",
    "    J = np.argsort(x)\n",
    "    Z = x[J]\n",
    "    cumulative_weight = np.cumsum(sample_weight[J])\n",
    "    N = len(x)\n",
    "    T = np.zeros(N, dtype=np.float)\n",
    "    i = 0\n",
    "    while i < N:\n",
    "        j = i\n",
    "        while j < N and Z[j] == Z[i]:\n",
    "            j += 1\n",
    "        T[i:j] = cumulative_weight[i:j].mean()\n",
    "        i = j\n",
    "    T2 = np.empty(N, dtype=np.float)\n",
    "    T2[J] = T\n",
    "    return T2\n",
    "\n",
    "\n",
    "def fastDeLong(predictions_sorted_transposed, label_1_count, sample_weight):\n",
    "    if sample_weight is None:\n",
    "        return fastDeLong_no_weights(\n",
    "            predictions_sorted_transposed,\n",
    "            label_1_count)\n",
    "    else:\n",
    "        return fastDeLong_weights(\n",
    "            predictions_sorted_transposed,\n",
    "            label_1_count,\n",
    "            sample_weight)\n",
    "\n",
    "\n",
    "def fastDeLong_weights(pred_sorted_transposed, label_1_count, sample_weight):\n",
    "    \"\"\"\n",
    "    The fast version of DeLong's method for computing the covariance of\n",
    "    unadjusted AUC.\n",
    "    Reference\n",
    "    ----------\n",
    "    @article{sun2014fast,\n",
    "       title={Fast Implementation of DeLong's Algorithm for\n",
    "              Comparing the Areas Under Correlated Receiver Oerating\n",
    "              Characteristic Curves},\n",
    "       author={Xu Sun and Weichao Xu},\n",
    "       journal={IEEE Signal Processing Letters},\n",
    "       volume={21},\n",
    "       number={11},\n",
    "       pages={1389--1393},\n",
    "       year={2014},\n",
    "       publisher={IEEE}\n",
    "     }\n",
    "    Parameters\n",
    "    ----------\n",
    "       predictions_sorted_transposed : np.array\n",
    "           a 2D numpy.array[n_classifiers, n_examples] sorted such as the\n",
    "           examples with label \"1\" are first\n",
    "    Returns\n",
    "    -------\n",
    "        aucs : float\n",
    "        delongcov : float\n",
    "            (AUC value, DeLong covariance)\n",
    "    \"\"\"\n",
    "    # Short variables are named as they are in the paper\n",
    "    m = label_1_count\n",
    "    n = pred_sorted_transposed.shape[1] - m\n",
    "    positive_examples = pred_sorted_transposed[:, :m]\n",
    "    negative_examples = pred_sorted_transposed[:, m:]\n",
    "    k = pred_sorted_transposed.shape[0]\n",
    "\n",
    "    tx = np.empty([k, m], dtype=np.float)\n",
    "    ty = np.empty([k, n], dtype=np.float)\n",
    "    tz = np.empty([k, m + n], dtype=np.float)\n",
    "    for r in range(k):\n",
    "        tx[r, :] = compute_midrank_weight(\n",
    "            positive_examples[r, :], sample_weight[:m])\n",
    "        ty[r, :] = compute_midrank_weight(\n",
    "            negative_examples[r, :], sample_weight[m:])\n",
    "        tz[r, :] = compute_midrank_weight(\n",
    "            pred_sorted_transposed[r, :], sample_weight)\n",
    "    total_positive_weights = sample_weight[:m].sum()\n",
    "    total_negative_weights = sample_weight[m:].sum()\n",
    "    pair_weights = np.dot(\n",
    "        sample_weight[:m, np.newaxis],\n",
    "        sample_weight[np.newaxis, m:])\n",
    "    total_pair_weights = pair_weights.sum()\n",
    "    aucs = (\n",
    "        sample_weight[:m]*(tz[:, :m] - tx)\n",
    "    ).sum(axis=1) / total_pair_weights\n",
    "    v01 = (tz[:, :m] - tx[:, :]) / total_negative_weights\n",
    "    v10 = 1. - (tz[:, m:] - ty[:, :]) / total_positive_weights\n",
    "    sx = np.cov(v01)\n",
    "    sy = np.cov(v10)\n",
    "    delongcov = sx / m + sy / n\n",
    "    return aucs, delongcov\n",
    "\n",
    "\n",
    "def fastDeLong_no_weights(predictions_sorted_transposed, label_1_count):\n",
    "    \"\"\"\n",
    "    The fast version of DeLong's method for computing the covariance of\n",
    "    unadjusted AUC.\n",
    "    Reference:\n",
    "        @article{sun2014fast,\n",
    "             title={\n",
    "                 Fast Implementation of DeLong's Algorithm for\n",
    "                 Comparing the Areas Under Correlated Receiver Oerating\n",
    "                 Characteristic Curves},\n",
    "             author={Xu Sun and Weichao Xu},\n",
    "             journal={IEEE Signal Processing Letters},\n",
    "             volume={21},\n",
    "             number={11},\n",
    "             pages={1389--1393},\n",
    "             year={2014},\n",
    "             publisher={IEEE}\n",
    "         }\n",
    "    Parameters\n",
    "    ----------\n",
    "        predictions_sorted_transposed : ?\n",
    "        label_1_count : ?\n",
    "            predictions_sorted_transposed: a 2D\n",
    "            ``numpy.array[n_classifiers, n_examples]``\n",
    "            sorted such as the examples with label \"1\" are first\n",
    "    Returns\n",
    "    -------\n",
    "       (AUC value, DeLong covariance)\n",
    "    \"\"\"\n",
    "    # Short variables are named as they are in the paper\n",
    "    m = label_1_count\n",
    "    n = predictions_sorted_transposed.shape[1] - m\n",
    "    positive_examples = predictions_sorted_transposed[:, :m]\n",
    "    negative_examples = predictions_sorted_transposed[:, m:]\n",
    "    k = predictions_sorted_transposed.shape[0]\n",
    "\n",
    "    tx = np.empty([k, m], dtype=np.float)\n",
    "    ty = np.empty([k, n], dtype=np.float)\n",
    "    tz = np.empty([k, m + n], dtype=np.float)\n",
    "    for r in range(k):\n",
    "        tx[r, :] = compute_midrank(positive_examples[r, :])\n",
    "        ty[r, :] = compute_midrank(negative_examples[r, :])\n",
    "        tz[r, :] = compute_midrank(predictions_sorted_transposed[r, :])\n",
    "    aucs = tz[:, :m].sum(axis=1) / m / n - float(m + 1.0) / 2.0 / n\n",
    "    v01 = (tz[:, :m] - tx[:, :]) / n\n",
    "    v10 = 1.0 - (tz[:, m:] - ty[:, :]) / m\n",
    "    sx = np.cov(v01)\n",
    "    sy = np.cov(v10)\n",
    "    delongcov = sx / m + sy / n\n",
    "    return aucs, delongcov\n",
    "\n",
    "\n",
    "def calc_pvalue(aucs, sigma):\n",
    "    \"\"\"\n",
    "    Computes log(10) of p-values.\n",
    "    Parameters\n",
    "    ----------\n",
    "       aucs: 1D array of AUCs\n",
    "       sigma: AUC DeLong covariances\n",
    "    Returns\n",
    "    -------\n",
    "       log10(pvalue)\n",
    "    \"\"\"\n",
    "    l_aux = np.array([[1, -1]])\n",
    "    z = np.abs(np.diff(aucs)) / np.sqrt(np.dot(np.dot(l_aux, sigma), l_aux.T))\n",
    "    return np.log10(2) + scipy.stats.norm.logsf(z, loc=0, scale=1) / np.log(10)\n",
    "\n",
    "\n",
    "def compute_ground_truth_statistics(ground_truth, sample_weight):\n",
    "    assert np.array_equal(np.unique(ground_truth), [0, 1])\n",
    "    order = (-ground_truth).argsort()\n",
    "    label_1_count = int(ground_truth.sum())\n",
    "    if sample_weight is None:\n",
    "        ordered_sample_weight = None\n",
    "    else:\n",
    "        ordered_sample_weight = sample_weight[order]\n",
    "\n",
    "    return order, label_1_count, ordered_sample_weight\n",
    "\n",
    "\n",
    "def delong_roc_variance(ground_truth, predictions, sample_weight=None):\n",
    "    \"\"\"\n",
    "    Computes ROC AUC variance for a single set of predictions\n",
    "    Parameters\n",
    "    ----------\n",
    "        ground_truth: np.array\n",
    "            of 0 and 1\n",
    "        predictions: np.array\n",
    "            of floats of the probability of being class 1\n",
    "    \"\"\"\n",
    "    ground_truth_stats = compute_ground_truth_statistics(\n",
    "        ground_truth,\n",
    "        sample_weight)\n",
    "    order, label_1_count, ordered_sample_weight = ground_truth_stats\n",
    "\n",
    "    predictions_sorted_transposed = predictions[np.newaxis, order]\n",
    "    aucs, delongcov = fastDeLong(\n",
    "        predictions_sorted_transposed,\n",
    "        label_1_count,\n",
    "        ordered_sample_weight)\n",
    "\n",
    "    assert_msg = \"There is a bug in the code, please forward this to the devs\"\n",
    "    assert len(aucs) == 1, assert_msg\n",
    "    return aucs[0], delongcov\n",
    "\n",
    "\n",
    "def delong_roc_test(ground_truth, pred_one, pred_two, sample_weight=None):\n",
    "    \"\"\"\n",
    "    Computes log(p-value) for hypothesis that two ROC AUCs are different\n",
    "    Parameters\n",
    "    ----------\n",
    "       ground_truth: np.array\n",
    "           of 0 and 1\n",
    "       predictions_one: np.array\n",
    "           predictions of the first model,\n",
    "           np.array of floats of the probability of being class 1\n",
    "       predictions_two: np.array\n",
    "           predictions of the second model, np.array of floats of the\n",
    "           probability of being class 1\n",
    "    \"\"\"\n",
    "    order, label_1_count, _ = compute_ground_truth_statistics(\n",
    "        ground_truth,\n",
    "        sample_weight)\n",
    "\n",
    "    predictions_sorted_transposed = np.vstack(\n",
    "        (pred_one, pred_two))[:, order]\n",
    "\n",
    "    aucs, delongcov = fastDeLong(\n",
    "        predictions_sorted_transposed,\n",
    "        label_1_count,\n",
    "        sample_weight)\n",
    "\n",
    "    # print(aucs, delongcov)\n",
    "    return calc_pvalue(aucs, delongcov)\n",
    "\n",
    "\n",
    "def auc_ci_Delong(y_true, y_scores, alpha=.95):\n",
    "    \"\"\"AUC confidence interval via DeLong.\n",
    "    Computes de ROC-AUC with its confidence interval via delong_roc_variance\n",
    "    References\n",
    "    -----------\n",
    "        See this `Stack Overflow Question\n",
    "        <https://stackoverflow.com/questions/19124239/scikit-learn-roc-curve-with-confidence-intervals/53180614#53180614/>`_\n",
    "        for further details\n",
    "    Examples\n",
    "    --------\n",
    "    ::\n",
    "        y_scores = np.array(\n",
    "            [0.21, 0.32, 0.63, 0.35, 0.92, 0.79, 0.82, 0.99, 0.04])\n",
    "        y_true = np.array([0, 1, 0, 0, 1, 1, 0, 1, 0])\n",
    "        auc, auc_var, auc_ci = auc_ci_Delong(y_true, y_scores, alpha=.95)\n",
    "        np.sqrt(auc_var) * 2\n",
    "        max(auc_ci) - min(auc_ci)\n",
    "        print('AUC: %s' % auc, 'AUC variance: %s' % auc_var)\n",
    "        print('AUC Conf. Interval: (%s, %s)' % tuple(auc_ci))\n",
    "        Out:\n",
    "            AUC: 0.8 AUC variance: 0.028749999999999998\n",
    "            AUC Conf. Interval: (0.4676719375452081, 1.0)\n",
    "    Parameters\n",
    "    ----------\n",
    "    y_true : list\n",
    "        Ground-truth of the binary labels (allows labels between 0 and 1).\n",
    "    y_scores : list\n",
    "        Predicted scores.\n",
    "    alpha : float\n",
    "        Default 0.95\n",
    "    Returns\n",
    "    -------\n",
    "        auc : float\n",
    "            AUC\n",
    "        auc_var : float\n",
    "            AUC Variance\n",
    "        auc_ci : tuple\n",
    "            AUC Confidence Interval given alpha\n",
    "    \"\"\"\n",
    "\n",
    "    y_true = np.array(y_true)\n",
    "    y_scores = np.array(y_scores)\n",
    "\n",
    "    # Get AUC and AUC variance\n",
    "    auc, auc_var = delong_roc_variance(\n",
    "        y_true,\n",
    "        y_scores)\n",
    "\n",
    "    auc_std = np.sqrt(auc_var)\n",
    "\n",
    "    # Confidence Interval\n",
    "    lower_upper_q = np.abs(np.array([0, 1]) - (1 - alpha) / 2)\n",
    "    lower_upper_ci = stats.norm.ppf(\n",
    "        lower_upper_q,\n",
    "        loc=auc,\n",
    "        scale=auc_std)\n",
    "\n",
    "    lower_upper_ci[lower_upper_ci > 1] = 1\n",
    "\n",
    "    return auc, auc_var, lower_upper_ci"
   ]
  },
  {
   "cell_type": "markdown",
   "metadata": {},
   "source": [
    "## Training "
   ]
  },
  {
   "cell_type": "markdown",
   "metadata": {},
   "source": [
    "## With B tests"
   ]
  },
  {
   "cell_type": "markdown",
   "metadata": {},
   "source": [
    "[Вернуться к началу](#Содержание) "
   ]
  },
  {
   "cell_type": "code",
   "execution_count": 463,
   "metadata": {
    "ExecuteTime": {
     "end_time": "2021-05-13T08:51:41.464249Z",
     "start_time": "2021-05-13T08:51:41.447247Z"
    }
   },
   "outputs": [],
   "source": [
    "new_features_data_no_vif = pd.read_csv('D:/Share/asmirnova5/Python-notebook/AF_ML_v2_2014/SandBox/selected_features_forest.csv', \n",
    "                                       sep = '\\t')"
   ]
  },
  {
   "cell_type": "code",
   "execution_count": 464,
   "metadata": {
    "ExecuteTime": {
     "end_time": "2021-05-13T08:51:41.487250Z",
     "start_time": "2021-05-13T08:51:41.473250Z"
    }
   },
   "outputs": [
    {
     "name": "stdout",
     "output_type": "stream",
     "text": [
      "(166, 5)\n"
     ]
    }
   ],
   "source": [
    "selected_features = new_features_data_no_vif\n",
    "sel_c = selected_features['genuine variable'].to_list()\n",
    "print(selected_features.shape)"
   ]
  },
  {
   "cell_type": "code",
   "execution_count": 465,
   "metadata": {
    "ExecuteTime": {
     "end_time": "2021-05-13T08:51:41.650263Z",
     "start_time": "2021-05-13T08:51:41.492250Z"
    },
    "scrolled": true
   },
   "outputs": [
    {
     "data": {
      "text/plain": [
       "60"
      ]
     },
     "execution_count": 465,
     "metadata": {},
     "output_type": "execute_result"
    }
   ],
   "source": [
    "gc.collect()"
   ]
  },
  {
   "cell_type": "code",
   "execution_count": 466,
   "metadata": {
    "ExecuteTime": {
     "end_time": "2021-05-13T08:57:46.079605Z",
     "start_time": "2021-05-13T08:51:41.656262Z"
    },
    "scrolled": true
   },
   "outputs": [],
   "source": [
    "train = pd.read_csv(PATH + 'Data Sets/' +  train_data, sep = '&', encoding = 'cp1251')\n",
    "test = pd.read_csv(PATH + 'Data Sets/' +  test_data, sep = '&', encoding = 'cp1251')\n",
    "oot = pd.read_csv(PATH + 'Data Sets/' +  oot_data, sep = '&', encoding = 'cp1251')\n",
    "\n",
    "oot_dataset1 = pd.read_csv(PATH+'Data Sets/'+'data_2013.csv', sep = '&', encoding = 'cp1251')\n",
    "oot_dataset1.columns = [i.upper() for i in oot_dataset1.columns]"
   ]
  },
  {
   "cell_type": "code",
   "execution_count": 467,
   "metadata": {
    "ExecuteTime": {
     "end_time": "2021-05-13T08:57:46.116608Z",
     "start_time": "2021-05-13T08:57:46.086609Z"
    },
    "scrolled": true
   },
   "outputs": [
    {
     "data": {
      "text/html": [
       "<div>\n",
       "<style scoped>\n",
       "    .dataframe tbody tr th:only-of-type {\n",
       "        vertical-align: middle;\n",
       "    }\n",
       "\n",
       "    .dataframe tbody tr th {\n",
       "        vertical-align: top;\n",
       "    }\n",
       "\n",
       "    .dataframe thead th {\n",
       "        text-align: right;\n",
       "    }\n",
       "</style>\n",
       "<table border=\"1\" class=\"dataframe\">\n",
       "  <thead>\n",
       "    <tr style=\"text-align: right;\">\n",
       "      <th></th>\n",
       "      <th>Unnamed: 0</th>\n",
       "      <th>APPPOSID</th>\n",
       "      <th>PERIOD_7</th>\n",
       "      <th>SUB_CHANNEL</th>\n",
       "      <th>COUNT_APP_7</th>\n",
       "      <th>COUNT_CONT_7</th>\n",
       "      <th>COUNT_APP_14</th>\n",
       "      <th>COUNT_CONT_14</th>\n",
       "      <th>COUNT_APP_30</th>\n",
       "      <th>COUNT_CONT_30</th>\n",
       "      <th>...</th>\n",
       "      <th>RULE_DIFF_INC_3_30</th>\n",
       "      <th>RULE_DIFF_INC_7_30</th>\n",
       "      <th>RULE_DIFF_INC_9_30</th>\n",
       "      <th>COUNT_INC_60</th>\n",
       "      <th>RULE_DIFF_INC_3_60</th>\n",
       "      <th>RULE_DIFF_INC_7_60</th>\n",
       "      <th>RULE_DIFF_INC_9_60</th>\n",
       "      <th>LOSS_90P</th>\n",
       "      <th>MONTH_YEAR</th>\n",
       "      <th>BAD_FLAG</th>\n",
       "    </tr>\n",
       "  </thead>\n",
       "  <tbody>\n",
       "    <tr>\n",
       "      <th>0</th>\n",
       "      <td>0</td>\n",
       "      <td>3175</td>\n",
       "      <td>124</td>\n",
       "      <td>LOCALS_OFFLINE</td>\n",
       "      <td>7</td>\n",
       "      <td>3</td>\n",
       "      <td>9</td>\n",
       "      <td>5</td>\n",
       "      <td>12</td>\n",
       "      <td>5</td>\n",
       "      <td>...</td>\n",
       "      <td>0.0</td>\n",
       "      <td>0.0</td>\n",
       "      <td>0.0</td>\n",
       "      <td>24</td>\n",
       "      <td>0.0</td>\n",
       "      <td>0.0</td>\n",
       "      <td>0.0</td>\n",
       "      <td>-2353.158325</td>\n",
       "      <td>201710</td>\n",
       "      <td>0</td>\n",
       "    </tr>\n",
       "    <tr>\n",
       "      <th>1</th>\n",
       "      <td>1</td>\n",
       "      <td>3175</td>\n",
       "      <td>125</td>\n",
       "      <td>LOCALS_OFFLINE</td>\n",
       "      <td>2</td>\n",
       "      <td>2</td>\n",
       "      <td>3</td>\n",
       "      <td>2</td>\n",
       "      <td>9</td>\n",
       "      <td>4</td>\n",
       "      <td>...</td>\n",
       "      <td>0.0</td>\n",
       "      <td>0.0</td>\n",
       "      <td>0.0</td>\n",
       "      <td>19</td>\n",
       "      <td>0.0</td>\n",
       "      <td>0.0</td>\n",
       "      <td>0.0</td>\n",
       "      <td>-4036.028396</td>\n",
       "      <td>201710</td>\n",
       "      <td>0</td>\n",
       "    </tr>\n",
       "    <tr>\n",
       "      <th>2</th>\n",
       "      <td>2</td>\n",
       "      <td>3175</td>\n",
       "      <td>126</td>\n",
       "      <td>LOCALS_OFFLINE</td>\n",
       "      <td>1</td>\n",
       "      <td>0</td>\n",
       "      <td>3</td>\n",
       "      <td>0</td>\n",
       "      <td>11</td>\n",
       "      <td>3</td>\n",
       "      <td>...</td>\n",
       "      <td>0.0</td>\n",
       "      <td>0.0</td>\n",
       "      <td>0.0</td>\n",
       "      <td>20</td>\n",
       "      <td>0.0</td>\n",
       "      <td>0.0</td>\n",
       "      <td>0.0</td>\n",
       "      <td>-4587.927273</td>\n",
       "      <td>201710</td>\n",
       "      <td>0</td>\n",
       "    </tr>\n",
       "    <tr>\n",
       "      <th>3</th>\n",
       "      <td>3</td>\n",
       "      <td>3175</td>\n",
       "      <td>127</td>\n",
       "      <td>LOCALS_OFFLINE</td>\n",
       "      <td>2</td>\n",
       "      <td>0</td>\n",
       "      <td>4</td>\n",
       "      <td>0</td>\n",
       "      <td>10</td>\n",
       "      <td>3</td>\n",
       "      <td>...</td>\n",
       "      <td>0.0</td>\n",
       "      <td>0.0</td>\n",
       "      <td>0.0</td>\n",
       "      <td>22</td>\n",
       "      <td>0.0</td>\n",
       "      <td>0.0</td>\n",
       "      <td>0.0</td>\n",
       "      <td>-4587.927273</td>\n",
       "      <td>201709</td>\n",
       "      <td>0</td>\n",
       "    </tr>\n",
       "    <tr>\n",
       "      <th>4</th>\n",
       "      <td>4</td>\n",
       "      <td>3175</td>\n",
       "      <td>128</td>\n",
       "      <td>LOCALS_OFFLINE</td>\n",
       "      <td>2</td>\n",
       "      <td>0</td>\n",
       "      <td>7</td>\n",
       "      <td>2</td>\n",
       "      <td>12</td>\n",
       "      <td>6</td>\n",
       "      <td>...</td>\n",
       "      <td>0.0</td>\n",
       "      <td>0.0</td>\n",
       "      <td>0.0</td>\n",
       "      <td>22</td>\n",
       "      <td>0.0</td>\n",
       "      <td>0.0</td>\n",
       "      <td>0.0</td>\n",
       "      <td>-4587.927273</td>\n",
       "      <td>201709</td>\n",
       "      <td>0</td>\n",
       "    </tr>\n",
       "  </tbody>\n",
       "</table>\n",
       "<p>5 rows × 512 columns</p>\n",
       "</div>"
      ],
      "text/plain": [
       "   Unnamed: 0  APPPOSID  PERIOD_7     SUB_CHANNEL  COUNT_APP_7  COUNT_CONT_7  \\\n",
       "0           0      3175       124  LOCALS_OFFLINE            7             3   \n",
       "1           1      3175       125  LOCALS_OFFLINE            2             2   \n",
       "2           2      3175       126  LOCALS_OFFLINE            1             0   \n",
       "3           3      3175       127  LOCALS_OFFLINE            2             0   \n",
       "4           4      3175       128  LOCALS_OFFLINE            2             0   \n",
       "\n",
       "   COUNT_APP_14  COUNT_CONT_14  COUNT_APP_30  COUNT_CONT_30  ...  \\\n",
       "0             9              5            12              5  ...   \n",
       "1             3              2             9              4  ...   \n",
       "2             3              0            11              3  ...   \n",
       "3             4              0            10              3  ...   \n",
       "4             7              2            12              6  ...   \n",
       "\n",
       "   RULE_DIFF_INC_3_30  RULE_DIFF_INC_7_30 RULE_DIFF_INC_9_30  COUNT_INC_60  \\\n",
       "0                 0.0                 0.0                0.0            24   \n",
       "1                 0.0                 0.0                0.0            19   \n",
       "2                 0.0                 0.0                0.0            20   \n",
       "3                 0.0                 0.0                0.0            22   \n",
       "4                 0.0                 0.0                0.0            22   \n",
       "\n",
       "   RULE_DIFF_INC_3_60  RULE_DIFF_INC_7_60  RULE_DIFF_INC_9_60     LOSS_90P  \\\n",
       "0                 0.0                 0.0                 0.0 -2353.158325   \n",
       "1                 0.0                 0.0                 0.0 -4036.028396   \n",
       "2                 0.0                 0.0                 0.0 -4587.927273   \n",
       "3                 0.0                 0.0                 0.0 -4587.927273   \n",
       "4                 0.0                 0.0                 0.0 -4587.927273   \n",
       "\n",
       "   MONTH_YEAR  BAD_FLAG  \n",
       "0      201710         0  \n",
       "1      201710         0  \n",
       "2      201710         0  \n",
       "3      201709         0  \n",
       "4      201709         0  \n",
       "\n",
       "[5 rows x 512 columns]"
      ]
     },
     "execution_count": 467,
     "metadata": {},
     "output_type": "execute_result"
    }
   ],
   "source": [
    "train.head()"
   ]
  },
  {
   "cell_type": "code",
   "execution_count": 468,
   "metadata": {
    "ExecuteTime": {
     "end_time": "2021-05-13T08:57:46.132608Z",
     "start_time": "2021-05-13T08:57:46.119607Z"
    }
   },
   "outputs": [
    {
     "name": "stdout",
     "output_type": "stream",
     "text": [
      "LOSS_90P\n"
     ]
    }
   ],
   "source": [
    "for i in train.columns.to_list():\n",
    "    if len(re.findall('LOSS', i)) > 0:\n",
    "        print(i)"
   ]
  },
  {
   "cell_type": "code",
   "execution_count": 469,
   "metadata": {
    "ExecuteTime": {
     "end_time": "2021-05-13T08:57:46.161609Z",
     "start_time": "2021-05-13T08:57:46.135607Z"
    }
   },
   "outputs": [
    {
     "data": {
      "text/html": [
       "<div>\n",
       "<style scoped>\n",
       "    .dataframe tbody tr th:only-of-type {\n",
       "        vertical-align: middle;\n",
       "    }\n",
       "\n",
       "    .dataframe tbody tr th {\n",
       "        vertical-align: top;\n",
       "    }\n",
       "\n",
       "    .dataframe thead th {\n",
       "        text-align: right;\n",
       "    }\n",
       "</style>\n",
       "<table border=\"1\" class=\"dataframe\">\n",
       "  <thead>\n",
       "    <tr style=\"text-align: right;\">\n",
       "      <th></th>\n",
       "      <th>Unnamed: 0</th>\n",
       "      <th>APPPOSID</th>\n",
       "      <th>PERIOD_7</th>\n",
       "      <th>SUB_CHANNEL</th>\n",
       "      <th>COUNT_APP_7</th>\n",
       "      <th>COUNT_CONT_7</th>\n",
       "      <th>COUNT_APP_14</th>\n",
       "      <th>COUNT_CONT_14</th>\n",
       "      <th>COUNT_APP_30</th>\n",
       "      <th>COUNT_CONT_30</th>\n",
       "      <th>...</th>\n",
       "      <th>RULE_DIFF_INC_3_30</th>\n",
       "      <th>RULE_DIFF_INC_7_30</th>\n",
       "      <th>RULE_DIFF_INC_9_30</th>\n",
       "      <th>COUNT_INC_60</th>\n",
       "      <th>RULE_DIFF_INC_3_60</th>\n",
       "      <th>RULE_DIFF_INC_7_60</th>\n",
       "      <th>RULE_DIFF_INC_9_60</th>\n",
       "      <th>LOSS_90P</th>\n",
       "      <th>MONTH_YEAR</th>\n",
       "      <th>BAD_FLAG</th>\n",
       "    </tr>\n",
       "  </thead>\n",
       "  <tbody>\n",
       "    <tr>\n",
       "      <th>0</th>\n",
       "      <td>125</td>\n",
       "      <td>8300</td>\n",
       "      <td>52</td>\n",
       "      <td>LOCALS_OFFLINE</td>\n",
       "      <td>4</td>\n",
       "      <td>0</td>\n",
       "      <td>11</td>\n",
       "      <td>0</td>\n",
       "      <td>25</td>\n",
       "      <td>0</td>\n",
       "      <td>...</td>\n",
       "      <td>0.0</td>\n",
       "      <td>0.0</td>\n",
       "      <td>0.0</td>\n",
       "      <td>34</td>\n",
       "      <td>0.0</td>\n",
       "      <td>0.0</td>\n",
       "      <td>0.0</td>\n",
       "      <td>-2369.426353</td>\n",
       "      <td>201903</td>\n",
       "      <td>0</td>\n",
       "    </tr>\n",
       "    <tr>\n",
       "      <th>1</th>\n",
       "      <td>126</td>\n",
       "      <td>8300</td>\n",
       "      <td>70</td>\n",
       "      <td>LOCALS_OFFLINE</td>\n",
       "      <td>6</td>\n",
       "      <td>0</td>\n",
       "      <td>10</td>\n",
       "      <td>0</td>\n",
       "      <td>20</td>\n",
       "      <td>1</td>\n",
       "      <td>...</td>\n",
       "      <td>0.0</td>\n",
       "      <td>0.0</td>\n",
       "      <td>0.0</td>\n",
       "      <td>34</td>\n",
       "      <td>0.0</td>\n",
       "      <td>0.0</td>\n",
       "      <td>0.0</td>\n",
       "      <td>9175.048008</td>\n",
       "      <td>201810</td>\n",
       "      <td>0</td>\n",
       "    </tr>\n",
       "    <tr>\n",
       "      <th>2</th>\n",
       "      <td>127</td>\n",
       "      <td>8300</td>\n",
       "      <td>71</td>\n",
       "      <td>LOCALS_OFFLINE</td>\n",
       "      <td>6</td>\n",
       "      <td>0</td>\n",
       "      <td>12</td>\n",
       "      <td>0</td>\n",
       "      <td>21</td>\n",
       "      <td>2</td>\n",
       "      <td>...</td>\n",
       "      <td>0.0</td>\n",
       "      <td>0.0</td>\n",
       "      <td>0.0</td>\n",
       "      <td>33</td>\n",
       "      <td>0.0</td>\n",
       "      <td>0.0</td>\n",
       "      <td>0.0</td>\n",
       "      <td>9175.048008</td>\n",
       "      <td>201810</td>\n",
       "      <td>0</td>\n",
       "    </tr>\n",
       "    <tr>\n",
       "      <th>3</th>\n",
       "      <td>128</td>\n",
       "      <td>8300</td>\n",
       "      <td>72</td>\n",
       "      <td>LOCALS_OFFLINE</td>\n",
       "      <td>6</td>\n",
       "      <td>0</td>\n",
       "      <td>9</td>\n",
       "      <td>1</td>\n",
       "      <td>16</td>\n",
       "      <td>2</td>\n",
       "      <td>...</td>\n",
       "      <td>0.0</td>\n",
       "      <td>0.0</td>\n",
       "      <td>0.0</td>\n",
       "      <td>36</td>\n",
       "      <td>0.0</td>\n",
       "      <td>0.0</td>\n",
       "      <td>0.0</td>\n",
       "      <td>9175.048008</td>\n",
       "      <td>201810</td>\n",
       "      <td>0</td>\n",
       "    </tr>\n",
       "    <tr>\n",
       "      <th>4</th>\n",
       "      <td>129</td>\n",
       "      <td>8300</td>\n",
       "      <td>73</td>\n",
       "      <td>LOCALS_OFFLINE</td>\n",
       "      <td>6</td>\n",
       "      <td>1</td>\n",
       "      <td>12</td>\n",
       "      <td>2</td>\n",
       "      <td>15</td>\n",
       "      <td>2</td>\n",
       "      <td>...</td>\n",
       "      <td>0.0</td>\n",
       "      <td>0.0</td>\n",
       "      <td>0.0</td>\n",
       "      <td>39</td>\n",
       "      <td>0.0</td>\n",
       "      <td>0.0</td>\n",
       "      <td>0.0</td>\n",
       "      <td>9175.048008</td>\n",
       "      <td>201810</td>\n",
       "      <td>0</td>\n",
       "    </tr>\n",
       "  </tbody>\n",
       "</table>\n",
       "<p>5 rows × 512 columns</p>\n",
       "</div>"
      ],
      "text/plain": [
       "   Unnamed: 0  APPPOSID  PERIOD_7     SUB_CHANNEL  COUNT_APP_7  COUNT_CONT_7  \\\n",
       "0         125      8300        52  LOCALS_OFFLINE            4             0   \n",
       "1         126      8300        70  LOCALS_OFFLINE            6             0   \n",
       "2         127      8300        71  LOCALS_OFFLINE            6             0   \n",
       "3         128      8300        72  LOCALS_OFFLINE            6             0   \n",
       "4         129      8300        73  LOCALS_OFFLINE            6             1   \n",
       "\n",
       "   COUNT_APP_14  COUNT_CONT_14  COUNT_APP_30  COUNT_CONT_30  ...  \\\n",
       "0            11              0            25              0  ...   \n",
       "1            10              0            20              1  ...   \n",
       "2            12              0            21              2  ...   \n",
       "3             9              1            16              2  ...   \n",
       "4            12              2            15              2  ...   \n",
       "\n",
       "   RULE_DIFF_INC_3_30  RULE_DIFF_INC_7_30 RULE_DIFF_INC_9_30  COUNT_INC_60  \\\n",
       "0                 0.0                 0.0                0.0            34   \n",
       "1                 0.0                 0.0                0.0            34   \n",
       "2                 0.0                 0.0                0.0            33   \n",
       "3                 0.0                 0.0                0.0            36   \n",
       "4                 0.0                 0.0                0.0            39   \n",
       "\n",
       "   RULE_DIFF_INC_3_60  RULE_DIFF_INC_7_60  RULE_DIFF_INC_9_60     LOSS_90P  \\\n",
       "0                 0.0                 0.0                 0.0 -2369.426353   \n",
       "1                 0.0                 0.0                 0.0  9175.048008   \n",
       "2                 0.0                 0.0                 0.0  9175.048008   \n",
       "3                 0.0                 0.0                 0.0  9175.048008   \n",
       "4                 0.0                 0.0                 0.0  9175.048008   \n",
       "\n",
       "   MONTH_YEAR  BAD_FLAG  \n",
       "0      201903         0  \n",
       "1      201810         0  \n",
       "2      201810         0  \n",
       "3      201810         0  \n",
       "4      201810         0  \n",
       "\n",
       "[5 rows x 512 columns]"
      ]
     },
     "execution_count": 469,
     "metadata": {},
     "output_type": "execute_result"
    }
   ],
   "source": [
    "oot.head()"
   ]
  },
  {
   "cell_type": "code",
   "execution_count": 470,
   "metadata": {
    "ExecuteTime": {
     "end_time": "2021-05-13T08:57:46.191611Z",
     "start_time": "2021-05-13T08:57:46.167609Z"
    }
   },
   "outputs": [],
   "source": [
    "train.columns = [col.upper() for col in train.columns]\n",
    "test.columns = [col.upper() for col in test.columns]\n",
    "oot.columns = [col.upper() for col in oot.columns]"
   ]
  },
  {
   "cell_type": "code",
   "execution_count": 471,
   "metadata": {
    "ExecuteTime": {
     "end_time": "2021-05-13T08:57:46.214614Z",
     "start_time": "2021-05-13T08:57:46.200613Z"
    },
    "scrolled": true
   },
   "outputs": [],
   "source": [
    "for i in new_features_data['genuine variable'].to_list():\n",
    "    if i not in oot.columns.to_list():\n",
    "        print(i)"
   ]
  },
  {
   "cell_type": "code",
   "execution_count": 472,
   "metadata": {
    "ExecuteTime": {
     "end_time": "2021-05-13T08:57:46.250617Z",
     "start_time": "2021-05-13T08:57:46.220615Z"
    },
    "scrolled": true
   },
   "outputs": [],
   "source": [
    "train_losses = train['LOSS_90P'].copy()\n",
    "test_losses = test['LOSS_90P'].copy()\n",
    "oot_losses = oot['LOSS_90P'].copy()\n",
    "oot_losses_2013 = oot_dataset1['LOSS_90P'].copy()"
   ]
  },
  {
   "cell_type": "code",
   "execution_count": 473,
   "metadata": {
    "ExecuteTime": {
     "end_time": "2021-05-13T08:57:46.278619Z",
     "start_time": "2021-05-13T08:57:46.253618Z"
    }
   },
   "outputs": [],
   "source": [
    "train_period_7 = train['PERIOD_7'].copy()\n",
    "test_period_7 = test['PERIOD_7'].copy()\n",
    "oot_period_7 = oot['PERIOD_7'].copy()\n",
    "oot_period_7_2013 = oot_dataset1['PERIOD_7'].copy()"
   ]
  },
  {
   "cell_type": "code",
   "execution_count": 474,
   "metadata": {
    "ExecuteTime": {
     "end_time": "2021-05-13T08:57:46.332632Z",
     "start_time": "2021-05-13T08:57:46.281619Z"
    },
    "scrolled": true
   },
   "outputs": [
    {
     "data": {
      "text/html": [
       "<div>\n",
       "<style scoped>\n",
       "    .dataframe tbody tr th:only-of-type {\n",
       "        vertical-align: middle;\n",
       "    }\n",
       "\n",
       "    .dataframe tbody tr th {\n",
       "        vertical-align: top;\n",
       "    }\n",
       "\n",
       "    .dataframe thead th {\n",
       "        text-align: right;\n",
       "    }\n",
       "</style>\n",
       "<table border=\"1\" class=\"dataframe\">\n",
       "  <thead>\n",
       "    <tr style=\"text-align: right;\">\n",
       "      <th></th>\n",
       "      <th>Unnamed: 0</th>\n",
       "      <th>new variable</th>\n",
       "      <th>genuine variable</th>\n",
       "      <th>rule</th>\n",
       "      <th>values</th>\n",
       "    </tr>\n",
       "  </thead>\n",
       "  <tbody>\n",
       "    <tr>\n",
       "      <th>0</th>\n",
       "      <td>0</td>\n",
       "      <td>COUNT_CONT_30</td>\n",
       "      <td>COUNT_CONT_30</td>\n",
       "      <td>Missing</td>\n",
       "      <td>NaN</td>\n",
       "    </tr>\n",
       "    <tr>\n",
       "      <th>1</th>\n",
       "      <td>1</td>\n",
       "      <td>W_TEST_AGE_6_60D</td>\n",
       "      <td>W_TEST_AGE_6_60D</td>\n",
       "      <td>Missing</td>\n",
       "      <td>NaN</td>\n",
       "    </tr>\n",
       "    <tr>\n",
       "      <th>2</th>\n",
       "      <td>2</td>\n",
       "      <td>W_TEST_AGE_ALL5_7D</td>\n",
       "      <td>W_TEST_AGE_ALL5_7D</td>\n",
       "      <td>Missing</td>\n",
       "      <td>NaN</td>\n",
       "    </tr>\n",
       "    <tr>\n",
       "      <th>3</th>\n",
       "      <td>3</td>\n",
       "      <td>B_TEST_PASP_D_3_7D</td>\n",
       "      <td>B_TEST_PASP_D_3_7D</td>\n",
       "      <td>Missing</td>\n",
       "      <td>NaN</td>\n",
       "    </tr>\n",
       "    <tr>\n",
       "      <th>4</th>\n",
       "      <td>4</td>\n",
       "      <td>B_TEST_PASP_D_3_14D</td>\n",
       "      <td>B_TEST_PASP_D_3_14D</td>\n",
       "      <td>Missing</td>\n",
       "      <td>NaN</td>\n",
       "    </tr>\n",
       "    <tr>\n",
       "      <th>...</th>\n",
       "      <td>...</td>\n",
       "      <td>...</td>\n",
       "      <td>...</td>\n",
       "      <td>...</td>\n",
       "      <td>...</td>\n",
       "    </tr>\n",
       "    <tr>\n",
       "      <th>161</th>\n",
       "      <td>161</td>\n",
       "      <td>RULE_1_TRE3_SHARE_14_bin</td>\n",
       "      <td>RULE_1_TRE3_SHARE_14</td>\n",
       "      <td>_bin</td>\n",
       "      <td>NaN</td>\n",
       "    </tr>\n",
       "    <tr>\n",
       "      <th>162</th>\n",
       "      <td>162</td>\n",
       "      <td>COUNT_CONT_FIO7_7_bin</td>\n",
       "      <td>COUNT_CONT_FIO7_7</td>\n",
       "      <td>_bin</td>\n",
       "      <td>NaN</td>\n",
       "    </tr>\n",
       "    <tr>\n",
       "      <th>163</th>\n",
       "      <td>163</td>\n",
       "      <td>BAD_FLAG</td>\n",
       "      <td>BAD_FLAG</td>\n",
       "      <td>Missing</td>\n",
       "      <td>NaN</td>\n",
       "    </tr>\n",
       "    <tr>\n",
       "      <th>164</th>\n",
       "      <td>164</td>\n",
       "      <td>MONTH_YEAR</td>\n",
       "      <td>MONTH_YEAR</td>\n",
       "      <td>Missing</td>\n",
       "      <td>NaN</td>\n",
       "    </tr>\n",
       "    <tr>\n",
       "      <th>165</th>\n",
       "      <td>165</td>\n",
       "      <td>APPPOSID</td>\n",
       "      <td>APPPOSID</td>\n",
       "      <td>Missing</td>\n",
       "      <td>NaN</td>\n",
       "    </tr>\n",
       "  </tbody>\n",
       "</table>\n",
       "<p>166 rows × 5 columns</p>\n",
       "</div>"
      ],
      "text/plain": [
       "     Unnamed: 0              new variable      genuine variable     rule  \\\n",
       "0             0             COUNT_CONT_30         COUNT_CONT_30  Missing   \n",
       "1             1          W_TEST_AGE_6_60D      W_TEST_AGE_6_60D  Missing   \n",
       "2             2        W_TEST_AGE_ALL5_7D    W_TEST_AGE_ALL5_7D  Missing   \n",
       "3             3        B_TEST_PASP_D_3_7D    B_TEST_PASP_D_3_7D  Missing   \n",
       "4             4       B_TEST_PASP_D_3_14D   B_TEST_PASP_D_3_14D  Missing   \n",
       "..          ...                       ...                   ...      ...   \n",
       "161         161  RULE_1_TRE3_SHARE_14_bin  RULE_1_TRE3_SHARE_14     _bin   \n",
       "162         162     COUNT_CONT_FIO7_7_bin     COUNT_CONT_FIO7_7     _bin   \n",
       "163         163                  BAD_FLAG              BAD_FLAG  Missing   \n",
       "164         164                MONTH_YEAR            MONTH_YEAR  Missing   \n",
       "165         165                  APPPOSID              APPPOSID  Missing   \n",
       "\n",
       "    values  \n",
       "0      NaN  \n",
       "1      NaN  \n",
       "2      NaN  \n",
       "3      NaN  \n",
       "4      NaN  \n",
       "..     ...  \n",
       "161    NaN  \n",
       "162    NaN  \n",
       "163    NaN  \n",
       "164    NaN  \n",
       "165    NaN  \n",
       "\n",
       "[166 rows x 5 columns]"
      ]
     },
     "execution_count": 474,
     "metadata": {},
     "output_type": "execute_result"
    }
   ],
   "source": [
    "selected_features"
   ]
  },
  {
   "cell_type": "code",
   "execution_count": 475,
   "metadata": {
    "ExecuteTime": {
     "end_time": "2021-05-13T08:57:46.360624Z",
     "start_time": "2021-05-13T08:57:46.341623Z"
    }
   },
   "outputs": [],
   "source": [
    "for i in selected_features['genuine variable'].to_list():\n",
    "    if i not in oot.columns.to_list():\n",
    "        print(i)"
   ]
  },
  {
   "cell_type": "code",
   "execution_count": 476,
   "metadata": {
    "ExecuteTime": {
     "end_time": "2021-05-13T08:58:02.797279Z",
     "start_time": "2021-05-13T08:57:46.366628Z"
    },
    "scrolled": true
   },
   "outputs": [],
   "source": [
    "train = turn_variables_with_values(train, selected_features)\n",
    "test = turn_variables_with_values(test, selected_features)\n",
    "oot = turn_variables_with_values(oot, selected_features)\n",
    "oot_2013 = turn_variables_with_values(oot_dataset1, selected_features)"
   ]
  },
  {
   "cell_type": "code",
   "execution_count": 477,
   "metadata": {
    "ExecuteTime": {
     "end_time": "2021-05-13T08:58:02.812278Z",
     "start_time": "2021-05-13T08:58:02.804279Z"
    }
   },
   "outputs": [
    {
     "data": {
      "text/plain": [
       "'BAD_FLAG'"
      ]
     },
     "execution_count": 477,
     "metadata": {},
     "output_type": "execute_result"
    }
   ],
   "source": [
    "target = target.upper()\n",
    "target"
   ]
  },
  {
   "cell_type": "code",
   "execution_count": 478,
   "metadata": {
    "ExecuteTime": {
     "end_time": "2021-05-13T08:58:05.682704Z",
     "start_time": "2021-05-13T08:58:02.818279Z"
    }
   },
   "outputs": [],
   "source": [
    "y_train = train[target]\n",
    "y_test = test[target]\n",
    "y_oot = oot[target]\n",
    "y_oot_2013 = oot_2013[target]\n",
    "\n",
    "train.drop(target, axis = 1, inplace = True)\n",
    "test.drop(target, axis = 1, inplace = True)\n",
    "oot.drop(target, axis = 1, inplace = True)\n",
    "oot_2013.drop(target, axis = 1, inplace = True)"
   ]
  },
  {
   "cell_type": "code",
   "execution_count": 479,
   "metadata": {
    "ExecuteTime": {
     "end_time": "2021-05-13T08:58:05.742602Z",
     "start_time": "2021-05-13T08:58:05.688703Z"
    }
   },
   "outputs": [
    {
     "data": {
      "text/html": [
       "<div>\n",
       "<style scoped>\n",
       "    .dataframe tbody tr th:only-of-type {\n",
       "        vertical-align: middle;\n",
       "    }\n",
       "\n",
       "    .dataframe tbody tr th {\n",
       "        vertical-align: top;\n",
       "    }\n",
       "\n",
       "    .dataframe thead th {\n",
       "        text-align: right;\n",
       "    }\n",
       "</style>\n",
       "<table border=\"1\" class=\"dataframe\">\n",
       "  <thead>\n",
       "    <tr style=\"text-align: right;\">\n",
       "      <th></th>\n",
       "      <th>COUNT_CONT_30</th>\n",
       "      <th>W_TEST_AGE_6_60D</th>\n",
       "      <th>W_TEST_AGE_ALL5_7D</th>\n",
       "      <th>B_TEST_PASP_D_3_7D</th>\n",
       "      <th>B_TEST_PASP_D_3_14D</th>\n",
       "      <th>B_TEST_PASP_D_3_30D</th>\n",
       "      <th>B_TEST_PASP_D_3_60D</th>\n",
       "      <th>B_TEST_PASP_D_10_7D</th>\n",
       "      <th>B_TEST_PASP_D_10_30D</th>\n",
       "      <th>B_TEST_PASP_D_ALL5_30D</th>\n",
       "      <th>...</th>\n",
       "      <th>AVG_FUND_TT_14_bin</th>\n",
       "      <th>STD_SUM_TT_14_bin</th>\n",
       "      <th>AVG_FUND_TT_30_bin</th>\n",
       "      <th>STD_SUM_TT_30_bin</th>\n",
       "      <th>STD_SUM_TT_60_bin</th>\n",
       "      <th>RULE_1_TRE3_SHARE_7_bin</th>\n",
       "      <th>RULE_1_TRE3_SHARE_14_bin</th>\n",
       "      <th>COUNT_CONT_FIO7_7_bin</th>\n",
       "      <th>MONTH_YEAR</th>\n",
       "      <th>APPPOSID</th>\n",
       "    </tr>\n",
       "  </thead>\n",
       "  <tbody>\n",
       "    <tr>\n",
       "      <th>0</th>\n",
       "      <td>6</td>\n",
       "      <td>2.611413</td>\n",
       "      <td>13.212700</td>\n",
       "      <td>0.043605</td>\n",
       "      <td>0.047138</td>\n",
       "      <td>0.063218</td>\n",
       "      <td>0.091274</td>\n",
       "      <td>0.793605</td>\n",
       "      <td>0.322797</td>\n",
       "      <td>0.014368</td>\n",
       "      <td>...</td>\n",
       "      <td>1</td>\n",
       "      <td>1</td>\n",
       "      <td>1</td>\n",
       "      <td>1</td>\n",
       "      <td>1</td>\n",
       "      <td>1</td>\n",
       "      <td>1</td>\n",
       "      <td>0</td>\n",
       "      <td>201402</td>\n",
       "      <td>3182</td>\n",
       "    </tr>\n",
       "    <tr>\n",
       "      <th>1</th>\n",
       "      <td>9</td>\n",
       "      <td>3.113720</td>\n",
       "      <td>10.703593</td>\n",
       "      <td>0.309524</td>\n",
       "      <td>0.362295</td>\n",
       "      <td>0.269636</td>\n",
       "      <td>0.135019</td>\n",
       "      <td>0.275132</td>\n",
       "      <td>0.237112</td>\n",
       "      <td>0.278003</td>\n",
       "      <td>...</td>\n",
       "      <td>1</td>\n",
       "      <td>1</td>\n",
       "      <td>1</td>\n",
       "      <td>1</td>\n",
       "      <td>1</td>\n",
       "      <td>1</td>\n",
       "      <td>1</td>\n",
       "      <td>0</td>\n",
       "      <td>201402</td>\n",
       "      <td>9297</td>\n",
       "    </tr>\n",
       "    <tr>\n",
       "      <th>2</th>\n",
       "      <td>10</td>\n",
       "      <td>1.727280</td>\n",
       "      <td>8.856290</td>\n",
       "      <td>0.023810</td>\n",
       "      <td>0.037705</td>\n",
       "      <td>0.118600</td>\n",
       "      <td>0.038723</td>\n",
       "      <td>0.608466</td>\n",
       "      <td>0.301024</td>\n",
       "      <td>0.146702</td>\n",
       "      <td>...</td>\n",
       "      <td>1</td>\n",
       "      <td>1</td>\n",
       "      <td>1</td>\n",
       "      <td>1</td>\n",
       "      <td>1</td>\n",
       "      <td>1</td>\n",
       "      <td>1</td>\n",
       "      <td>0</td>\n",
       "      <td>201402</td>\n",
       "      <td>11516</td>\n",
       "    </tr>\n",
       "    <tr>\n",
       "      <th>3</th>\n",
       "      <td>6</td>\n",
       "      <td>5.157282</td>\n",
       "      <td>8.811540</td>\n",
       "      <td>0.176871</td>\n",
       "      <td>0.129240</td>\n",
       "      <td>0.091186</td>\n",
       "      <td>0.084268</td>\n",
       "      <td>0.739796</td>\n",
       "      <td>0.144540</td>\n",
       "      <td>0.070261</td>\n",
       "      <td>...</td>\n",
       "      <td>1</td>\n",
       "      <td>1</td>\n",
       "      <td>1</td>\n",
       "      <td>1</td>\n",
       "      <td>1</td>\n",
       "      <td>1</td>\n",
       "      <td>1</td>\n",
       "      <td>0</td>\n",
       "      <td>201402</td>\n",
       "      <td>13050</td>\n",
       "    </tr>\n",
       "    <tr>\n",
       "      <th>4</th>\n",
       "      <td>16</td>\n",
       "      <td>2.407625</td>\n",
       "      <td>4.021346</td>\n",
       "      <td>0.110204</td>\n",
       "      <td>0.016215</td>\n",
       "      <td>0.045732</td>\n",
       "      <td>0.086719</td>\n",
       "      <td>0.658163</td>\n",
       "      <td>0.232677</td>\n",
       "      <td>0.115715</td>\n",
       "      <td>...</td>\n",
       "      <td>1</td>\n",
       "      <td>1</td>\n",
       "      <td>1</td>\n",
       "      <td>1</td>\n",
       "      <td>1</td>\n",
       "      <td>1</td>\n",
       "      <td>1</td>\n",
       "      <td>0</td>\n",
       "      <td>201402</td>\n",
       "      <td>13094</td>\n",
       "    </tr>\n",
       "  </tbody>\n",
       "</table>\n",
       "<p>5 rows × 165 columns</p>\n",
       "</div>"
      ],
      "text/plain": [
       "   COUNT_CONT_30  W_TEST_AGE_6_60D  W_TEST_AGE_ALL5_7D  B_TEST_PASP_D_3_7D  \\\n",
       "0              6          2.611413           13.212700            0.043605   \n",
       "1              9          3.113720           10.703593            0.309524   \n",
       "2             10          1.727280            8.856290            0.023810   \n",
       "3              6          5.157282            8.811540            0.176871   \n",
       "4             16          2.407625            4.021346            0.110204   \n",
       "\n",
       "   B_TEST_PASP_D_3_14D  B_TEST_PASP_D_3_30D  B_TEST_PASP_D_3_60D  \\\n",
       "0             0.047138             0.063218             0.091274   \n",
       "1             0.362295             0.269636             0.135019   \n",
       "2             0.037705             0.118600             0.038723   \n",
       "3             0.129240             0.091186             0.084268   \n",
       "4             0.016215             0.045732             0.086719   \n",
       "\n",
       "   B_TEST_PASP_D_10_7D  B_TEST_PASP_D_10_30D  B_TEST_PASP_D_ALL5_30D  ...  \\\n",
       "0             0.793605              0.322797                0.014368  ...   \n",
       "1             0.275132              0.237112                0.278003  ...   \n",
       "2             0.608466              0.301024                0.146702  ...   \n",
       "3             0.739796              0.144540                0.070261  ...   \n",
       "4             0.658163              0.232677                0.115715  ...   \n",
       "\n",
       "   AVG_FUND_TT_14_bin  STD_SUM_TT_14_bin  AVG_FUND_TT_30_bin  \\\n",
       "0                   1                  1                   1   \n",
       "1                   1                  1                   1   \n",
       "2                   1                  1                   1   \n",
       "3                   1                  1                   1   \n",
       "4                   1                  1                   1   \n",
       "\n",
       "   STD_SUM_TT_30_bin  STD_SUM_TT_60_bin  RULE_1_TRE3_SHARE_7_bin  \\\n",
       "0                  1                  1                        1   \n",
       "1                  1                  1                        1   \n",
       "2                  1                  1                        1   \n",
       "3                  1                  1                        1   \n",
       "4                  1                  1                        1   \n",
       "\n",
       "   RULE_1_TRE3_SHARE_14_bin  COUNT_CONT_FIO7_7_bin  MONTH_YEAR  APPPOSID  \n",
       "0                         1                      0      201402      3182  \n",
       "1                         1                      0      201402      9297  \n",
       "2                         1                      0      201402     11516  \n",
       "3                         1                      0      201402     13050  \n",
       "4                         1                      0      201402     13094  \n",
       "\n",
       "[5 rows x 165 columns]"
      ]
     },
     "execution_count": 479,
     "metadata": {},
     "output_type": "execute_result"
    }
   ],
   "source": [
    "oot_2013.head()"
   ]
  },
  {
   "cell_type": "code",
   "execution_count": 480,
   "metadata": {
    "ExecuteTime": {
     "end_time": "2021-05-13T08:58:05.759596Z",
     "start_time": "2021-05-13T08:58:05.750599Z"
    }
   },
   "outputs": [],
   "source": [
    "list_of_columns = selected_features['new variable'].to_list()\n",
    "list_of_columns_no_sys = list_of_columns.copy()\n",
    "for i in necessary_fields_upper:\n",
    "    if i in list_of_columns_no_sys:\n",
    "        list_of_columns_no_sys.remove(i)"
   ]
  },
  {
   "cell_type": "code",
   "execution_count": 481,
   "metadata": {
    "ExecuteTime": {
     "end_time": "2021-05-13T08:58:05.791600Z",
     "start_time": "2021-05-13T08:58:05.772597Z"
    }
   },
   "outputs": [
    {
     "data": {
      "text/plain": [
       "163"
      ]
     },
     "execution_count": 481,
     "metadata": {},
     "output_type": "execute_result"
    }
   ],
   "source": [
    "len(list_of_columns_no_sys)"
   ]
  },
  {
   "cell_type": "code",
   "execution_count": 482,
   "metadata": {
    "ExecuteTime": {
     "end_time": "2021-05-13T08:58:54.568593Z",
     "start_time": "2021-05-13T08:58:05.799599Z"
    },
    "scrolled": true
   },
   "outputs": [
    {
     "data": {
      "application/vnd.jupyter.widget-view+json": {
       "model_id": "cce324ad99414c77985476bcc59e4e75",
       "version_major": 2,
       "version_minor": 0
      },
      "text/plain": [
       "HBox(children=(FloatProgress(value=0.0, description='Обработано признаков', max=165.0, style=ProgressStyle(des…"
      ]
     },
     "metadata": {},
     "output_type": "display_data"
    },
    {
     "name": "stdout",
     "output_type": "stream",
     "text": [
      "\n"
     ]
    }
   ],
   "source": [
    "attribute_list_model = attributes_list_new(train, list_of_columns_no_sys, [0.01, 0.5, 1, 2, 5, 95, 97, \n",
    "                                                                           98, 99, 99.5, 99.99])"
   ]
  },
  {
   "cell_type": "code",
   "execution_count": 483,
   "metadata": {
    "ExecuteTime": {
     "end_time": "2021-05-13T08:58:54.602596Z",
     "start_time": "2021-05-13T08:58:54.572594Z"
    },
    "scrolled": true
   },
   "outputs": [
    {
     "data": {
      "text/html": [
       "<div>\n",
       "<style scoped>\n",
       "    .dataframe tbody tr th:only-of-type {\n",
       "        vertical-align: middle;\n",
       "    }\n",
       "\n",
       "    .dataframe tbody tr th {\n",
       "        vertical-align: top;\n",
       "    }\n",
       "\n",
       "    .dataframe thead th {\n",
       "        text-align: right;\n",
       "    }\n",
       "</style>\n",
       "<table border=\"1\" class=\"dataframe\">\n",
       "  <thead>\n",
       "    <tr style=\"text-align: right;\">\n",
       "      <th></th>\n",
       "      <th>attribute</th>\n",
       "      <th>moda_val</th>\n",
       "      <th>count_miss</th>\n",
       "      <th>type_val</th>\n",
       "      <th>count_dist</th>\n",
       "      <th>count_value_moda</th>\n",
       "      <th>count_val</th>\n",
       "      <th>mean</th>\n",
       "      <th>stand_d_val</th>\n",
       "      <th>min_val</th>\n",
       "      <th>...</th>\n",
       "      <th>2%</th>\n",
       "      <th>5%</th>\n",
       "      <th>val_mediana</th>\n",
       "      <th>95%</th>\n",
       "      <th>97%</th>\n",
       "      <th>98%</th>\n",
       "      <th>99%</th>\n",
       "      <th>99.5%</th>\n",
       "      <th>99.99%</th>\n",
       "      <th>max_val</th>\n",
       "    </tr>\n",
       "  </thead>\n",
       "  <tbody>\n",
       "    <tr>\n",
       "      <th>147</th>\n",
       "      <td>DIVISION_Дальневосточный</td>\n",
       "      <td>0.0</td>\n",
       "      <td>0</td>\n",
       "      <td>int32</td>\n",
       "      <td>1</td>\n",
       "      <td>1507599</td>\n",
       "      <td>1507599.0</td>\n",
       "      <td>0.0</td>\n",
       "      <td>0.0</td>\n",
       "      <td>0.0</td>\n",
       "      <td>...</td>\n",
       "      <td>0.0</td>\n",
       "      <td>0.0</td>\n",
       "      <td>0.0</td>\n",
       "      <td>0.0</td>\n",
       "      <td>0.0</td>\n",
       "      <td>0.0</td>\n",
       "      <td>0.0</td>\n",
       "      <td>0.0</td>\n",
       "      <td>0.0</td>\n",
       "      <td>0.0</td>\n",
       "    </tr>\n",
       "    <tr>\n",
       "      <th>148</th>\n",
       "      <td>DIVISION_Московский</td>\n",
       "      <td>0.0</td>\n",
       "      <td>0</td>\n",
       "      <td>int32</td>\n",
       "      <td>1</td>\n",
       "      <td>1507599</td>\n",
       "      <td>1507599.0</td>\n",
       "      <td>0.0</td>\n",
       "      <td>0.0</td>\n",
       "      <td>0.0</td>\n",
       "      <td>...</td>\n",
       "      <td>0.0</td>\n",
       "      <td>0.0</td>\n",
       "      <td>0.0</td>\n",
       "      <td>0.0</td>\n",
       "      <td>0.0</td>\n",
       "      <td>0.0</td>\n",
       "      <td>0.0</td>\n",
       "      <td>0.0</td>\n",
       "      <td>0.0</td>\n",
       "      <td>0.0</td>\n",
       "    </tr>\n",
       "    <tr>\n",
       "      <th>149</th>\n",
       "      <td>DIVISION_Приволжский</td>\n",
       "      <td>0.0</td>\n",
       "      <td>0</td>\n",
       "      <td>int32</td>\n",
       "      <td>1</td>\n",
       "      <td>1507599</td>\n",
       "      <td>1507599.0</td>\n",
       "      <td>0.0</td>\n",
       "      <td>0.0</td>\n",
       "      <td>0.0</td>\n",
       "      <td>...</td>\n",
       "      <td>0.0</td>\n",
       "      <td>0.0</td>\n",
       "      <td>0.0</td>\n",
       "      <td>0.0</td>\n",
       "      <td>0.0</td>\n",
       "      <td>0.0</td>\n",
       "      <td>0.0</td>\n",
       "      <td>0.0</td>\n",
       "      <td>0.0</td>\n",
       "      <td>0.0</td>\n",
       "    </tr>\n",
       "    <tr>\n",
       "      <th>150</th>\n",
       "      <td>DIVISION_Северо-Западный</td>\n",
       "      <td>0.0</td>\n",
       "      <td>0</td>\n",
       "      <td>int32</td>\n",
       "      <td>1</td>\n",
       "      <td>1507599</td>\n",
       "      <td>1507599.0</td>\n",
       "      <td>0.0</td>\n",
       "      <td>0.0</td>\n",
       "      <td>0.0</td>\n",
       "      <td>...</td>\n",
       "      <td>0.0</td>\n",
       "      <td>0.0</td>\n",
       "      <td>0.0</td>\n",
       "      <td>0.0</td>\n",
       "      <td>0.0</td>\n",
       "      <td>0.0</td>\n",
       "      <td>0.0</td>\n",
       "      <td>0.0</td>\n",
       "      <td>0.0</td>\n",
       "      <td>0.0</td>\n",
       "    </tr>\n",
       "    <tr>\n",
       "      <th>151</th>\n",
       "      <td>DIVISION_Северо-Кавказский</td>\n",
       "      <td>0.0</td>\n",
       "      <td>0</td>\n",
       "      <td>int32</td>\n",
       "      <td>1</td>\n",
       "      <td>1507599</td>\n",
       "      <td>1507599.0</td>\n",
       "      <td>0.0</td>\n",
       "      <td>0.0</td>\n",
       "      <td>0.0</td>\n",
       "      <td>...</td>\n",
       "      <td>0.0</td>\n",
       "      <td>0.0</td>\n",
       "      <td>0.0</td>\n",
       "      <td>0.0</td>\n",
       "      <td>0.0</td>\n",
       "      <td>0.0</td>\n",
       "      <td>0.0</td>\n",
       "      <td>0.0</td>\n",
       "      <td>0.0</td>\n",
       "      <td>0.0</td>\n",
       "    </tr>\n",
       "    <tr>\n",
       "      <th>152</th>\n",
       "      <td>DIVISION_Центральный</td>\n",
       "      <td>0.0</td>\n",
       "      <td>0</td>\n",
       "      <td>int32</td>\n",
       "      <td>1</td>\n",
       "      <td>1507599</td>\n",
       "      <td>1507599.0</td>\n",
       "      <td>0.0</td>\n",
       "      <td>0.0</td>\n",
       "      <td>0.0</td>\n",
       "      <td>...</td>\n",
       "      <td>0.0</td>\n",
       "      <td>0.0</td>\n",
       "      <td>0.0</td>\n",
       "      <td>0.0</td>\n",
       "      <td>0.0</td>\n",
       "      <td>0.0</td>\n",
       "      <td>0.0</td>\n",
       "      <td>0.0</td>\n",
       "      <td>0.0</td>\n",
       "      <td>0.0</td>\n",
       "    </tr>\n",
       "    <tr>\n",
       "      <th>153</th>\n",
       "      <td>DIVISION_Южный</td>\n",
       "      <td>0.0</td>\n",
       "      <td>0</td>\n",
       "      <td>int32</td>\n",
       "      <td>1</td>\n",
       "      <td>1507599</td>\n",
       "      <td>1507599.0</td>\n",
       "      <td>0.0</td>\n",
       "      <td>0.0</td>\n",
       "      <td>0.0</td>\n",
       "      <td>...</td>\n",
       "      <td>0.0</td>\n",
       "      <td>0.0</td>\n",
       "      <td>0.0</td>\n",
       "      <td>0.0</td>\n",
       "      <td>0.0</td>\n",
       "      <td>0.0</td>\n",
       "      <td>0.0</td>\n",
       "      <td>0.0</td>\n",
       "      <td>0.0</td>\n",
       "      <td>0.0</td>\n",
       "    </tr>\n",
       "  </tbody>\n",
       "</table>\n",
       "<p>7 rows × 23 columns</p>\n",
       "</div>"
      ],
      "text/plain": [
       "                      attribute  moda_val  count_miss type_val  count_dist  \\\n",
       "147    DIVISION_Дальневосточный       0.0           0    int32           1   \n",
       "148         DIVISION_Московский       0.0           0    int32           1   \n",
       "149        DIVISION_Приволжский       0.0           0    int32           1   \n",
       "150    DIVISION_Северо-Западный       0.0           0    int32           1   \n",
       "151  DIVISION_Северо-Кавказский       0.0           0    int32           1   \n",
       "152        DIVISION_Центральный       0.0           0    int32           1   \n",
       "153              DIVISION_Южный       0.0           0    int32           1   \n",
       "\n",
       "     count_value_moda  count_val  mean  stand_d_val  min_val  ...   2%   5%  \\\n",
       "147           1507599  1507599.0   0.0          0.0      0.0  ...  0.0  0.0   \n",
       "148           1507599  1507599.0   0.0          0.0      0.0  ...  0.0  0.0   \n",
       "149           1507599  1507599.0   0.0          0.0      0.0  ...  0.0  0.0   \n",
       "150           1507599  1507599.0   0.0          0.0      0.0  ...  0.0  0.0   \n",
       "151           1507599  1507599.0   0.0          0.0      0.0  ...  0.0  0.0   \n",
       "152           1507599  1507599.0   0.0          0.0      0.0  ...  0.0  0.0   \n",
       "153           1507599  1507599.0   0.0          0.0      0.0  ...  0.0  0.0   \n",
       "\n",
       "     val_mediana  95%  97%  98%  99%  99.5%  99.99%  max_val  \n",
       "147          0.0  0.0  0.0  0.0  0.0    0.0     0.0      0.0  \n",
       "148          0.0  0.0  0.0  0.0  0.0    0.0     0.0      0.0  \n",
       "149          0.0  0.0  0.0  0.0  0.0    0.0     0.0      0.0  \n",
       "150          0.0  0.0  0.0  0.0  0.0    0.0     0.0      0.0  \n",
       "151          0.0  0.0  0.0  0.0  0.0    0.0     0.0      0.0  \n",
       "152          0.0  0.0  0.0  0.0  0.0    0.0     0.0      0.0  \n",
       "153          0.0  0.0  0.0  0.0  0.0    0.0     0.0      0.0  \n",
       "\n",
       "[7 rows x 23 columns]"
      ]
     },
     "execution_count": 483,
     "metadata": {},
     "output_type": "execute_result"
    }
   ],
   "source": [
    "attribute_list_model[attribute_list_model['99%'] == attribute_list_model['1%']]"
   ]
  },
  {
   "cell_type": "code",
   "execution_count": 484,
   "metadata": {
    "ExecuteTime": {
     "end_time": "2021-05-13T08:58:54.610597Z",
     "start_time": "2021-05-13T08:58:54.605604Z"
    }
   },
   "outputs": [],
   "source": [
    "list_of_categories_sel = attribute_list_model.loc[(attribute_list_model['count_dist'] == 2), 'attribute'].to_list() "
   ]
  },
  {
   "cell_type": "code",
   "execution_count": 485,
   "metadata": {
    "ExecuteTime": {
     "end_time": "2021-05-13T08:58:54.638599Z",
     "start_time": "2021-05-13T08:58:54.613596Z"
    }
   },
   "outputs": [],
   "source": [
    "categorials_data_fin = pd.read_csv(PATH + 'Selection_new/SandBox/categories_fin.csv', sep = '&')"
   ]
  },
  {
   "cell_type": "code",
   "execution_count": 486,
   "metadata": {
    "ExecuteTime": {
     "end_time": "2021-05-13T08:58:54.665600Z",
     "start_time": "2021-05-13T08:58:54.641599Z"
    }
   },
   "outputs": [
    {
     "data": {
      "text/html": [
       "<div>\n",
       "<style scoped>\n",
       "    .dataframe tbody tr th:only-of-type {\n",
       "        vertical-align: middle;\n",
       "    }\n",
       "\n",
       "    .dataframe tbody tr th {\n",
       "        vertical-align: top;\n",
       "    }\n",
       "\n",
       "    .dataframe thead th {\n",
       "        text-align: right;\n",
       "    }\n",
       "</style>\n",
       "<table border=\"1\" class=\"dataframe\">\n",
       "  <thead>\n",
       "    <tr style=\"text-align: right;\">\n",
       "      <th></th>\n",
       "      <th>Unnamed: 0</th>\n",
       "      <th>feature</th>\n",
       "    </tr>\n",
       "  </thead>\n",
       "  <tbody>\n",
       "    <tr>\n",
       "      <th>0</th>\n",
       "      <td>0</td>\n",
       "      <td>SUB_CHANNEL_MEGAFON</td>\n",
       "    </tr>\n",
       "    <tr>\n",
       "      <th>1</th>\n",
       "      <td>1</td>\n",
       "      <td>RULE_SAME_MOB_CONT6_9_30_bin</td>\n",
       "    </tr>\n",
       "    <tr>\n",
       "      <th>2</th>\n",
       "      <td>2</td>\n",
       "      <td>COUNT_CONT_FIO8_14_bin</td>\n",
       "    </tr>\n",
       "    <tr>\n",
       "      <th>3</th>\n",
       "      <td>3</td>\n",
       "      <td>RULE_3_TRE3_SHARE_7_bin</td>\n",
       "    </tr>\n",
       "    <tr>\n",
       "      <th>4</th>\n",
       "      <td>4</td>\n",
       "      <td>COUNT_CONT_FIO8_7_bin</td>\n",
       "    </tr>\n",
       "  </tbody>\n",
       "</table>\n",
       "</div>"
      ],
      "text/plain": [
       "   Unnamed: 0                       feature\n",
       "0           0           SUB_CHANNEL_MEGAFON\n",
       "1           1  RULE_SAME_MOB_CONT6_9_30_bin\n",
       "2           2        COUNT_CONT_FIO8_14_bin\n",
       "3           3       RULE_3_TRE3_SHARE_7_bin\n",
       "4           4         COUNT_CONT_FIO8_7_bin"
      ]
     },
     "execution_count": 486,
     "metadata": {},
     "output_type": "execute_result"
    }
   ],
   "source": [
    "categorials_data_fin.head()"
   ]
  },
  {
   "cell_type": "code",
   "execution_count": 487,
   "metadata": {
    "ExecuteTime": {
     "end_time": "2021-05-13T08:58:54.697603Z",
     "start_time": "2021-05-13T08:58:54.672602Z"
    }
   },
   "outputs": [],
   "source": [
    "for i in list_of_columns_no_sys:\n",
    "    if i in categorials_data_fin['feature'].to_list():\n",
    "        list_of_categories_sel.append(i)"
   ]
  },
  {
   "cell_type": "code",
   "execution_count": 488,
   "metadata": {
    "ExecuteTime": {
     "end_time": "2021-05-13T08:58:54.751607Z",
     "start_time": "2021-05-13T08:58:54.711604Z"
    }
   },
   "outputs": [
    {
     "data": {
      "text/plain": [
       "['SUB_CHANNEL_EUROSET',\n",
       " 'SUB_CHANNEL_LOCALS',\n",
       " 'SUB_CHANNEL_LOCALS_DESHELI',\n",
       " 'SUB_CHANNEL_LOCALS_DNS',\n",
       " 'SUB_CHANNEL_LOCALS_FURNITURE',\n",
       " 'SUB_CHANNEL_LOCALS_RBT',\n",
       " 'SUB_CHANNEL_MEGAFON',\n",
       " 'SUB_CHANNEL_SVYAZNOY_POS',\n",
       " 'AVG_FUND_TT_7_bin',\n",
       " 'AVG_FUND_TT_14_bin',\n",
       " 'STD_SUM_TT_14_bin',\n",
       " 'AVG_FUND_TT_30_bin',\n",
       " 'STD_SUM_TT_30_bin',\n",
       " 'STD_SUM_TT_60_bin',\n",
       " 'RULE_1_TRE3_SHARE_7_bin',\n",
       " 'RULE_1_TRE3_SHARE_14_bin',\n",
       " 'COUNT_CONT_FIO7_7_bin',\n",
       " 'SUB_CHANNEL_EUROSET',\n",
       " 'SUB_CHANNEL_LOCALS',\n",
       " 'SUB_CHANNEL_LOCALS_DESHELI',\n",
       " 'SUB_CHANNEL_LOCALS_DNS',\n",
       " 'SUB_CHANNEL_LOCALS_FURNITURE',\n",
       " 'SUB_CHANNEL_LOCALS_RBT',\n",
       " 'SUB_CHANNEL_MEGAFON',\n",
       " 'SUB_CHANNEL_SVYAZNOY_POS',\n",
       " 'DIVISION_Дальневосточный',\n",
       " 'DIVISION_Московский',\n",
       " 'DIVISION_Приволжский',\n",
       " 'DIVISION_Северо-Западный',\n",
       " 'DIVISION_Северо-Кавказский',\n",
       " 'DIVISION_Центральный',\n",
       " 'DIVISION_Южный',\n",
       " 'AVG_FUND_TT_7_bin',\n",
       " 'AVG_FUND_TT_14_bin',\n",
       " 'STD_SUM_TT_14_bin',\n",
       " 'AVG_FUND_TT_30_bin',\n",
       " 'STD_SUM_TT_30_bin',\n",
       " 'STD_SUM_TT_60_bin',\n",
       " 'RULE_1_TRE3_SHARE_7_bin',\n",
       " 'RULE_1_TRE3_SHARE_14_bin',\n",
       " 'COUNT_CONT_FIO7_7_bin']"
      ]
     },
     "execution_count": 488,
     "metadata": {},
     "output_type": "execute_result"
    }
   ],
   "source": [
    "list_of_categories_sel"
   ]
  },
  {
   "cell_type": "code",
   "execution_count": 490,
   "metadata": {
    "ExecuteTime": {
     "end_time": "2021-05-13T08:58:55.033625Z",
     "start_time": "2021-05-13T08:58:54.782613Z"
    }
   },
   "outputs": [],
   "source": [
    "once_rows = sum(y_train)\n",
    "second_rows = (len(y_train) - sum(y_train))\n",
    "y_unique = sorted(y_train.unique())\n",
    "all_rows = len(y_train)\n",
    "\n",
    "once_rows_share = once_rows/all_rows\n",
    "second_rows_share = second_rows/all_rows\n",
    "second_rows_share/once_rows_share\n",
    "\n",
    "if once_rows < second_rows:\n",
    "    w_b = once_rows/second_rows\n",
    "else:\n",
    "    w_b = second_rows/once_rows"
   ]
  },
  {
   "cell_type": "code",
   "execution_count": 491,
   "metadata": {
    "ExecuteTime": {
     "end_time": "2021-05-13T08:58:55.046625Z",
     "start_time": "2021-05-13T08:58:55.037626Z"
    }
   },
   "outputs": [
    {
     "data": {
      "text/plain": [
       "(0.00278190685984801, 0.997218093140152)"
      ]
     },
     "execution_count": 491,
     "metadata": {},
     "output_type": "execute_result"
    }
   ],
   "source": [
    "once_rows_share, second_rows_share"
   ]
  },
  {
   "cell_type": "code",
   "execution_count": 492,
   "metadata": {
    "ExecuteTime": {
     "end_time": "2021-05-13T08:58:55.059628Z",
     "start_time": "2021-05-13T08:58:55.050627Z"
    }
   },
   "outputs": [
    {
     "data": {
      "text/plain": [
       "0.0027896674548774283"
      ]
     },
     "execution_count": 492,
     "metadata": {},
     "output_type": "execute_result"
    }
   ],
   "source": [
    "w_b"
   ]
  },
  {
   "cell_type": "code",
   "execution_count": 493,
   "metadata": {
    "ExecuteTime": {
     "end_time": "2021-05-13T08:58:55.102631Z",
     "start_time": "2021-05-13T08:58:55.063629Z"
    }
   },
   "outputs": [
    {
     "data": {
      "text/plain": [
       "0    1503405\n",
       "1       4194\n",
       "Name: BAD_FLAG, dtype: int64"
      ]
     },
     "execution_count": 493,
     "metadata": {},
     "output_type": "execute_result"
    }
   ],
   "source": [
    "y_train.value_counts()"
   ]
  },
  {
   "cell_type": "code",
   "execution_count": 494,
   "metadata": {
    "ExecuteTime": {
     "end_time": "2021-05-13T08:58:55.140632Z",
     "start_time": "2021-05-13T08:58:55.108632Z"
    }
   },
   "outputs": [
    {
     "data": {
      "text/plain": [
       "0    0.997218\n",
       "1    0.002782\n",
       "Name: BAD_FLAG, dtype: float64"
      ]
     },
     "execution_count": 494,
     "metadata": {},
     "output_type": "execute_result"
    }
   ],
   "source": [
    "y_train.value_counts()/len(y_train)"
   ]
  },
  {
   "cell_type": "code",
   "execution_count": 495,
   "metadata": {
    "ExecuteTime": {
     "end_time": "2021-05-13T08:58:55.175636Z",
     "start_time": "2021-05-13T08:58:55.158636Z"
    }
   },
   "outputs": [
    {
     "data": {
      "text/plain": [
       "0    186942\n",
       "1       558\n",
       "Name: BAD_FLAG, dtype: int64"
      ]
     },
     "execution_count": 495,
     "metadata": {},
     "output_type": "execute_result"
    }
   ],
   "source": [
    "y_test.value_counts()"
   ]
  },
  {
   "cell_type": "code",
   "execution_count": 496,
   "metadata": {
    "ExecuteTime": {
     "end_time": "2021-05-13T08:58:55.197638Z",
     "start_time": "2021-05-13T08:58:55.182637Z"
    }
   },
   "outputs": [
    {
     "data": {
      "text/plain": [
       "0    0.997024\n",
       "1    0.002976\n",
       "Name: BAD_FLAG, dtype: float64"
      ]
     },
     "execution_count": 496,
     "metadata": {},
     "output_type": "execute_result"
    }
   ],
   "source": [
    "y_test.value_counts()/len(y_test)"
   ]
  },
  {
   "cell_type": "code",
   "execution_count": 498,
   "metadata": {
    "ExecuteTime": {
     "end_time": "2021-05-13T08:58:55.236640Z",
     "start_time": "2021-05-13T08:58:55.215644Z"
    }
   },
   "outputs": [],
   "source": [
    "from Filter_and_Grid_Search import br_correction\n",
    "from Filter_and_Grid_Search import lr_test_one_simple, lr_test_all_features"
   ]
  },
  {
   "cell_type": "code",
   "execution_count": 500,
   "metadata": {
    "ExecuteTime": {
     "end_time": "2021-05-13T08:58:58.136844Z",
     "start_time": "2021-05-13T08:58:58.121843Z"
    }
   },
   "outputs": [],
   "source": [
    "from sklearn.model_selection import GridSearchCV, RandomizedSearchCV\n",
    "from lightgbm import LGBMClassifier"
   ]
  },
  {
   "cell_type": "code",
   "execution_count": 501,
   "metadata": {
    "ExecuteTime": {
     "end_time": "2021-05-13T08:59:08.269892Z",
     "start_time": "2021-05-13T08:58:58.140845Z"
    },
    "scrolled": true
   },
   "outputs": [],
   "source": [
    "train2 = train.copy()\n",
    "y_train = train2[target]\n",
    "train2.drop(target, axis = 1, inplace = True)"
   ]
  },
  {
   "cell_type": "code",
   "execution_count": 502,
   "metadata": {
    "ExecuteTime": {
     "end_time": "2021-05-13T09:00:05.437274Z",
     "start_time": "2021-05-13T08:59:08.272892Z"
    }
   },
   "outputs": [],
   "source": [
    "train_lgbm_data, test_lgbm_data, y_train, y_test = data_preprocessing(train2,\n",
    "                                                          train[target], \n",
    "                                                        test, \n",
    "                                                          y_test, necessary_fields_upper, \n",
    "                                                       categorial_list = list_of_categories_sel,\n",
    "                                                 yeo_johnson = False, attribute_list = None, \n",
    "                                                       var_col = None,\n",
    "                                                       scale = False, median = 'median', check_percentile = 5,\n",
    "                                                   high_outlier = None, low_outlier = None, \n",
    "                                                       cols_outlier = [], \n",
    "                                             cut_non_out_9999 = False)\n",
    "\n",
    "train_lgbm_data, oot_lgbm_data, y_train, y_oot = data_preprocessing(train2,\n",
    "                                                          train[target], \n",
    "                                                        oot, \n",
    "                                                          y_oot, necessary_fields_upper, \n",
    "                                                       categorial_list = list_of_categories_sel,\n",
    "                                                 yeo_johnson = False, attribute_list = None, \n",
    "                                                       var_col = None,\n",
    "                                                       scale = False, median = 'median', check_percentile = 5,\n",
    "                                                   high_outlier = None, low_outlier = None, \n",
    "                                                       cols_outlier = [], \n",
    "                                             cut_non_out_9999 = False)\n",
    "\n",
    "train_lgbm_data, oot_lgbm_data_2013, y_train, y_oot_2013 = data_preprocessing(train2,\n",
    "                                                          train[target], \n",
    "                                                        oot_2013, \n",
    "                                                          y_oot_2013, necessary_fields_upper, \n",
    "                                                       categorial_list = list_of_categories_sel,\n",
    "                                                 yeo_johnson = False, attribute_list = None, \n",
    "                                                       var_col = None,\n",
    "                                                       scale = False, median = 'median', check_percentile = 5,\n",
    "                                                   high_outlier = None, low_outlier = None, \n",
    "                                                       cols_outlier = [], \n",
    "                                             cut_non_out_9999 = False)"
   ]
  },
  {
   "cell_type": "markdown",
   "metadata": {},
   "source": [
    "### Forest"
   ]
  },
  {
   "cell_type": "code",
   "execution_count": 157,
   "metadata": {
    "ExecuteTime": {
     "end_time": "2021-05-11T08:13:09.320328Z",
     "start_time": "2021-05-11T08:13:09.314328Z"
    }
   },
   "outputs": [],
   "source": [
    "params_forest = {\n",
    "    'max_depth': 6,\n",
    "    'n_estimators': 100,\n",
    "    'class_weight': {0: 3*w_b, 1: 1},\n",
    "    'random_state': 241, \n",
    "    'n_jobs': 5}"
   ]
  },
  {
   "cell_type": "code",
   "execution_count": 218,
   "metadata": {
    "ExecuteTime": {
     "end_time": "2021-05-11T19:05:02.546160Z",
     "start_time": "2021-05-11T18:58:28.847355Z"
    }
   },
   "outputs": [
    {
     "name": "stdout",
     "output_type": "stream",
     "text": [
      "Starting training... 11.05.2021 21:58:28\n",
      "Ending training... 11.05.2021 22:02:03\n",
      "roc auc train =  0.9459 aps train =  0.1084 nap train =  0.1059 bf train =  0.0028\n",
      "groc aucini test =  0.9283 aps test =  0.0615 nap test =  0.0587 bf test =  0.003\n",
      "roc auc oot =  0.9447 aps oot =  0.0632 nap oot =  0.0603 bf oot =  0.0031\n",
      "roc auc oot 2013 =  0.8605 aps oot 2013 =  0.073 nap oot 2013 =  0.0602 bf oot 2013 =  0.0137\n",
      "Calculate profits\n"
     ]
    }
   ],
   "source": [
    "forest_class = RandomForestClassifier(**params_forest)\n",
    "from datetime import datetime\n",
    "\n",
    "print('Starting training...', datetime.strftime(datetime.now(), \"%d.%m.%Y %H:%M:%S\"))\n",
    "\n",
    "forest3 = forest_class.fit(train_lgbm_data, y_train)\n",
    "\n",
    "print('Ending training...', datetime.strftime(datetime.now(), \"%d.%m.%Y %H:%M:%S\"))\n",
    "\n",
    "y_train_pred = forest3.predict_proba(train_lgbm_data)[:, 1]\n",
    "y_test_pred = forest3.predict_proba(test_lgbm_data)[:, 1]\n",
    "y_oot_pred = forest3.predict_proba(oot_lgbm_data)[:, 1]\n",
    "y_oot_pred_2013 = forest3.predict_proba(oot_lgbm_data_2013)[:, 1]\n",
    "##########################################################################\n",
    "\n",
    "roc_auc_train = roc_auc_score(y_train, y_train_pred)\n",
    "aps_train = average_precision_score(y_train, y_train_pred)\n",
    "br_train = np.mean(y_train)\n",
    "nap_train = (aps_train - br_train)/(1-br_train)\n",
    "auc_train, auc_var_train, lower_upper_ci_train = auc_ci_Delong(y_train, y_train_pred)\n",
    "lower_apr_train, upper_apr_train = aps_ci_logit(y_train, y_train_pred, epsilon=0.05)\n",
    "\n",
    "roc_auc_test = roc_auc_score(y_test, y_test_pred)\n",
    "aps_test = average_precision_score(y_test, y_test_pred)\n",
    "br_test = np.mean(y_test)\n",
    "nap_test = (aps_test - br_test)/(1-br_test)\n",
    "auc_test, auc_var_test, lower_upper_ci_test = auc_ci_Delong(y_test, y_test_pred)\n",
    "lower_apr_test, upper_apr_test = aps_ci_logit(y_test, y_test_pred, epsilon=0.05)\n",
    "\n",
    "roc_auc_oot = roc_auc_score(y_oot, y_oot_pred)\n",
    "aps_oot = average_precision_score(y_oot, y_oot_pred)\n",
    "br_oot = np.mean(y_oot)\n",
    "nap_oot = (aps_oot - br_oot)/(1-br_oot)\n",
    "auc_oot, auc_var_oot, lower_upper_ci_oot = auc_ci_Delong(y_oot, y_oot_pred)\n",
    "lower_apr_oot, upper_apr_oot = aps_ci_logit(y_oot, y_oot_pred, epsilon=0.05)\n",
    "\n",
    "roc_auc_oot_2013 = roc_auc_score(y_oot_2013, y_oot_pred_2013)\n",
    "aps_oot_2013 = average_precision_score(y_oot_2013, y_oot_pred_2013)\n",
    "br_oot_2013 = np.mean(y_oot_2013)\n",
    "nap_oot_2013 = (aps_oot_2013 - br_oot_2013)/(1-br_oot_2013)\n",
    "auc_oot_2013, auc_var_oot_2013, lower_upper_ci_oot_2013 = auc_ci_Delong(y_oot_2013, y_oot_pred_2013)\n",
    "lower_apr_oot_2013, upper_apr_oot_2013 = aps_ci_logit(y_oot_2013, y_oot_pred_2013, epsilon=0.05)\n",
    "\n",
    "##########################################################################\n",
    "\n",
    "print('roc auc train = ', round(roc_auc_train, 4), \n",
    "      'aps train = ', round(aps_train, 4),\n",
    "      'nap train = ', round(nap_train, 4),\n",
    "      'bf train = ', round(br_train, 4))\n",
    "\n",
    "print('groc aucini test = ', round(roc_auc_test, 4), \n",
    "      'aps test = ', round(aps_test, 4),\n",
    "      'nap test = ', round(nap_test, 4),\n",
    "      'bf test = ', round(br_test, 4))\n",
    "\n",
    "print('roc auc oot = ', round(roc_auc_oot, 4), \n",
    "      'aps oot = ', round(aps_oot, 4),\n",
    "      'nap oot = ', round(nap_oot, 4),\n",
    "      'bf oot = ', round(br_oot, 4))\n",
    "\n",
    "print('roc auc oot 2013 = ', round(roc_auc_oot_2013, 4), \n",
    "      'aps oot 2013 = ', round(aps_oot_2013, 4),\n",
    "      'nap oot 2013 = ', round(nap_oot_2013, 4),\n",
    "      'bf oot 2013 = ', round(br_oot_2013, 4))\n",
    "\n",
    "scores_default = pd.DataFrame()\n",
    "\n",
    "scores_default['bad rate train'] = [br_train]\n",
    "scores_default['bad rate test'] = [br_test]\n",
    "scores_default['bad rate oot'] = [br_oot]\n",
    "scores_default['bad rate oot 2013'] = [br_oot_2013]\n",
    "\n",
    "scores_default['roc auc train'] = [roc_auc_train]\n",
    "scores_default['roc auc test'] = [roc_auc_test]\n",
    "scores_default['roc auc oot'] = [roc_auc_oot]\n",
    "scores_default['roc auc oot 2013'] = [roc_auc_oot_2013]\n",
    "\n",
    "scores_default['roc_auc train lower upper'] = [lower_upper_ci_train]\n",
    "scores_default['roc_auc test lower upper'] = [lower_upper_ci_test]\n",
    "scores_default['roc_auc oot lower upper'] = [lower_upper_ci_oot]\n",
    "scores_default['roc_auc oot 2013 lower upper'] = [lower_upper_ci_oot_2013]\n",
    "\n",
    "scores_default['aps train'] = [aps_train]\n",
    "scores_default['aps test'] = [aps_test]\n",
    "scores_default['aps oot'] = [aps_oot]\n",
    "scores_default['aps oot 2013'] = [aps_oot_2013]\n",
    "\n",
    "scores_default['aps upper train'] = [upper_apr_train]\n",
    "scores_default['aps upper test'] = [upper_apr_test]\n",
    "scores_default['aps upper oot'] = [upper_apr_oot]\n",
    "scores_default['aps upper oot 2013'] = [upper_apr_oot_2013]\n",
    "\n",
    "scores_default['aps lower train'] = [lower_apr_train]\n",
    "scores_default['aps lower test'] = [lower_apr_test]\n",
    "scores_default['aps lower oot'] = [lower_apr_oot]\n",
    "scores_default['aps lower oot 2013'] = [lower_apr_oot_2013]\n",
    "\n",
    "scores_default['nap train'] = [nap_train]\n",
    "scores_default['nap test'] = [nap_test]\n",
    "scores_default['nap oot'] = [nap_oot]\n",
    "scores_default['nap oot 2013'] = [nap_oot_2013]\n",
    "\n",
    "#####################################################################\n",
    "\n",
    "predictions_train = pd.DataFrame()\n",
    "predictions_test = pd.DataFrame()\n",
    "predictions_oot = pd.DataFrame()\n",
    "predictions_oot_2013 = pd.DataFrame()\n",
    "\n",
    "predictions_train['prediction'] = y_train_pred\n",
    "predictions_train['bad_flag'] = y_train\n",
    "predictions_train['loss_90p'] = train_losses\n",
    "predictions_train['period_7'] = train_period_7\n",
    "predictions_train['APPPOSID'] = train['APPPOSID'].copy()\n",
    "\n",
    "predictions_test['prediction'] = y_test_pred\n",
    "predictions_test['bad_flag'] = y_test\n",
    "predictions_test['loss_90p'] = test_losses\n",
    "predictions_test['period_7'] = test_period_7\n",
    "predictions_test['APPPOSID'] = test['APPPOSID'].copy()\n",
    "\n",
    "predictions_oot['prediction'] = y_oot_pred\n",
    "predictions_oot['bad_flag'] = y_oot\n",
    "predictions_oot['loss_90p'] = oot_losses\n",
    "predictions_oot['period_7'] = oot_period_7\n",
    "predictions_oot['APPPOSID'] = oot['APPPOSID'].copy()\n",
    "\n",
    "predictions_oot_2013['prediction'] = y_oot_pred_2013\n",
    "predictions_oot_2013['bad_flag'] = y_oot_2013\n",
    "predictions_oot_2013['loss_90p'] = oot_losses_2013\n",
    "predictions_oot_2013['period_7'] = oot_period_7_2013\n",
    "predictions_oot_2013['APPPOSID'] = oot_2013['APPPOSID'].copy()\n",
    "\n",
    "print('Calculate profits')\n",
    "\n",
    "saved_money_test_tt = antifraud_profit_metrics_by_periods(predictions_test, \n",
    "                                                                   'prediction', 'loss_90p', \n",
    "                                                                   'bad_flag', 'period_7', \n",
    "                                                                   to_select = 5, n_jobs = 3)[0]\n",
    "saved_money_test_2_tt = antifraud_profit_metrics_by_periods(predictions_oot, \n",
    "                                                                     'prediction', 'loss_90p', \n",
    "                                                                     'bad_flag', 'period_7',\n",
    "                                                                     to_select = 5, n_jobs = 3)[0]\n",
    "saved_money_2013_tt = antifraud_profit_metrics_by_periods(predictions_oot_2013, \n",
    "                                                                   'prediction', 'loss_90p', \n",
    "                                                                   'bad_flag', 'period_7',\n",
    "                                                                   to_select = 40, n_jobs = 3)[0]\n",
    "\n",
    "#####################################################################################\n",
    "\n",
    "saved_money_test_distinct_tt = antifraud_profit_metrics_by_periods_unique_tt(predictions_test, \n",
    "                                                                             'prediction', 'loss_90p', \n",
    "                                                                             'bad_flag', 'period_7', \n",
    "                                                                             'APPPOSID',\n",
    "                                                                             to_select = 5, n_jobs = 1)\n",
    "saved_money_test_2_distinct_tt = antifraud_profit_metrics_by_periods_unique_tt(predictions_oot, \n",
    "                                                                               'prediction', 'loss_90p', \n",
    "                                                                               'bad_flag', 'period_7', \n",
    "                                                                               'APPPOSID',\n",
    "                                                                               to_select = 5, n_jobs = 1)\n",
    "saved_money_2013_distinct_tt = antifraud_profit_metrics_by_periods_unique_tt(predictions_oot_2013, \n",
    "                                                                             'prediction', 'loss_90p', \n",
    "                                                                             'bad_flag', 'period_7', \n",
    "                                                                             'APPPOSID',\n",
    "                                                                             to_select = 40, n_jobs = 1)\n",
    "\n",
    "#####################################################################################\n",
    "\n",
    "saved_money_test_distinct_tt_new = antifraud_profit_metrics_by_periods_unique_tt3(predictions_test, \n",
    "                                                                                  'prediction', 'loss_90p',\n",
    "                                                                                  'bad_flag', 'period_7', \n",
    "                                                                                  'APPPOSID',\n",
    "                                                                                  to_select = 5)[0]\n",
    "saved_money_test_2_distinct_tt_new = antifraud_profit_metrics_by_periods_unique_tt3(predictions_oot, \n",
    "                                                                                    'prediction', 'loss_90p',\n",
    "                                                                                    'bad_flag', 'period_7', \n",
    "                                                                                    'APPPOSID',\n",
    "                                                                                    to_select = 5)[0]\n",
    "saved_money_2013_distinct_tt_new = antifraud_profit_metrics_by_periods_unique_tt3(predictions_oot_2013, \n",
    "                                                                                  'prediction', 'loss_90p', \n",
    "                                                                                  'bad_flag', 'period_7', \n",
    "                                                                                  'APPPOSID',\n",
    "                                                                                  to_select = 40)[0]\n",
    "scores_default['saved_money_test_tt'] = [saved_money_test_tt]\n",
    "scores_default['saved_money_test_tt_multiply'] = [saved_money_test_tt*8]\n",
    "scores_default['saved_money_test_2_tt'] = [saved_money_test_2_tt]\n",
    "scores_default['saved_money_test_2_tt_multiply'] = [saved_money_test_2_tt*8]\n",
    "scores_default['saved_money_2013_tt'] = [saved_money_2013_tt]\n",
    "scores_default['saved_money_2013_tt_multiply'] = [saved_money_2013_tt]\n",
    "\n",
    "scores_default['saved_money_test_unique_tt'] = [saved_money_test_distinct_tt]\n",
    "scores_default['saved_money_test_unique_tt_multiply'] = [saved_money_test_distinct_tt*8]\n",
    "scores_default['saved_money_test_2_unique_tt'] = [saved_money_test_2_distinct_tt]\n",
    "scores_default['saved_money_test_2_unique_tt_multiply'] = [saved_money_test_2_distinct_tt*8]\n",
    "scores_default['saved_money_2013_unique_tt'] = [saved_money_2013_distinct_tt]\n",
    "scores_default['saved_money_2013_unique_tt_multiply'] = [saved_money_2013_distinct_tt]\n",
    "\n",
    "scores_default['saved_money_test_unique_tt_new'] = [saved_money_test_distinct_tt_new]\n",
    "scores_default['saved_money_test_unique_tt_new_multiply'] = [saved_money_test_distinct_tt_new*8]\n",
    "scores_default['saved_money_test_2_unique_tt_new'] = [saved_money_test_2_distinct_tt_new]\n",
    "scores_default['saved_money_test_2_unique_tt_new_multiply'] = [saved_money_test_2_distinct_tt_new*8]\n",
    "scores_default['saved_money_2013_unique_tt_new'] = [saved_money_2013_distinct_tt_new]\n",
    "scores_default['saved_money_2013_unique_tt_new_multiply'] = [saved_money_2013_distinct_tt_new]\n",
    "\n",
    "scores_default.to_csv(PATH + 'Modeling_fin/scores_forest1.csv', sep = '&')"
   ]
  },
  {
   "cell_type": "code",
   "execution_count": null,
   "metadata": {},
   "outputs": [],
   "source": []
  },
  {
   "cell_type": "code",
   "execution_count": 159,
   "metadata": {
    "ExecuteTime": {
     "end_time": "2021-05-11T08:20:17.776760Z",
     "start_time": "2021-05-11T08:20:17.771761Z"
    },
    "scrolled": true
   },
   "outputs": [],
   "source": [
    "params_dictionary = {'max_depth': [3, 7],\n",
    "        'verbose': 0,\n",
    "        'n_estimators': [30, 200],\n",
    "        'class_weight_0': [0.01*w_b, 6*w_b],\n",
    "        'random_state': 241\n",
    "    }\n",
    "\n",
    "pass_model = RandomForestClassifier\n",
    "sort_by_var = sort_by_var.upper()\n",
    "list_of_vars_for_strat = ['MONTH_YEAR']\n",
    "second_target = None\n",
    "yeo_johnson = False\n",
    "n_folds = 2\n",
    "simple_b_score = simple_b_score_crm\n",
    "business_dictionary = {'m_s': 15900, 'k': 47, 'c': 1}\n"
   ]
  },
  {
   "cell_type": "code",
   "execution_count": 160,
   "metadata": {
    "ExecuteTime": {
     "end_time": "2021-05-11T16:26:58.231975Z",
     "start_time": "2021-05-11T08:20:17.778759Z"
    },
    "scrolled": true
   },
   "outputs": [
    {
     "name": "stdout",
     "output_type": "stream",
     "text": [
      "Запущен новый подбор\n",
      "{'class_weight': {0: 2.7896674548774282e-05, 1: 1},\n",
      " 'max_depth'Запущен новый подбор: \n",
      "7{'class_weight',\n",
      " : 'n_estimators': {0: 2.7896674548774282e-05, 1: 1},\n",
      " 'max_depth'155: ,\n",
      " 'random_state'3: ,\n",
      " 241'n_estimators',\n",
      " : 'verbose'106: 0}\n",
      "{,\n",
      " 'high_outlier': 'random_state'None,\n",
      " : 241'low_outlier',\n",
      " 'verbose': : None0,\n",
      " }\n",
      "{'scale''high_outlier': 'mean': ,\n",
      " None'yeo_johnson': ,\n",
      " False'low_outlier': }None\n",
      ",\n",
      " 'scale': 'mean',\n",
      " 'yeo_johnson': False}\n",
      "-------------------- 11.05.2021 11:33:18 0 -------------------- \n",
      " Параметры: {'max_depth': 3, 'verbose': 0, 'n_estimators': 106, 'class_weight': {0: 2.7896674548774282e-05, 1: 1}, 'random_state': 241} \n",
      " Среднее значение APS = 0.03504394465733167 \n",
      " Среднее значение AUC = 0.8619695877738361 \n",
      " Минимальное значение AUC = 0.8434355036122364\n"
     ]
    },
    {
     "name": "stderr",
     "output_type": "stream",
     "text": [
      "[I 2021-05-11 11:33:18,536] Trial 1 finished with value: 0.029865821331752175 and parameters: {'max_depth': 3, 'n_estimators': 106, 'class_weight': 2.7896674548774282e-05}. Best is trial 1 with value: 0.029865821331752175.\n"
     ]
    },
    {
     "name": "stdout",
     "output_type": "stream",
     "text": [
      "Запущен новый подбор\n",
      "{'class_weight': {0: 2.7896674548774282e-05, 1: 1},\n",
      " 'max_depth': 4,\n",
      " 'n_estimators': 58,\n",
      " 'random_state': 241,\n",
      " 'verbose': 0}\n",
      "{'high_outlier': None,\n",
      " 'low_outlier': None,\n",
      " 'scale': 'mean',\n",
      " 'yeo_johnson': False}\n",
      "-------------------- 11.05.2021 11:43:04 1 -------------------- \n",
      " Параметры: {'max_depth': 4, 'verbose': 0, 'n_estimators': 58, 'class_weight': {0: 2.7896674548774282e-05, 1: 1}, 'random_state': 241} \n",
      " Среднее значение APS = 0.034163145761872384 \n",
      " Среднее значение AUC = 0.8525917506281395 \n",
      " Минимальное значение AUC = 0.8496441912943639\n"
     ]
    },
    {
     "name": "stderr",
     "output_type": "stream",
     "text": [
      "[I 2021-05-11 11:43:04,977] Trial 2 finished with value: 0.0313714817108626 and parameters: {'max_depth': 4, 'n_estimators': 58, 'class_weight': 2.7896674548774282e-05}. Best is trial 2 with value: 0.0313714817108626.\n"
     ]
    },
    {
     "name": "stdout",
     "output_type": "stream",
     "text": [
      "Запущен новый подбор\n",
      "{'class_weight': {0: 2.7896674548774282e-05, 1: 1},\n",
      " 'max_depth': 7,\n",
      " 'n_estimators': 163,\n",
      " 'random_state': 241,\n",
      " 'verbose': 0}\n",
      "{'high_outlier': None,\n",
      " 'low_outlier': None,\n",
      " 'scale': 'mean',\n",
      " 'yeo_johnson': False}\n",
      "-------------------- 11.05.2021 11:50:44 2 -------------------- \n",
      " Параметры: {'max_depth': 7, 'verbose': 0, 'n_estimators': 155, 'class_weight': {0: 2.7896674548774282e-05, 1: 1}, 'random_state': 241} \n",
      " Среднее значение APS = 0.03234225014530885 \n",
      " Среднее значение AUC = 0.862229495964599 \n",
      " Минимальное значение AUC = 0.8548664378555637\n"
     ]
    },
    {
     "name": "stderr",
     "output_type": "stream",
     "text": [
      "[I 2021-05-11 11:50:45,224] Trial 0 finished with value: 0.02622473023734878 and parameters: {'max_depth': 7, 'n_estimators': 155, 'class_weight': 2.7896674548774282e-05}. Best is trial 2 with value: 0.0313714817108626.\n"
     ]
    },
    {
     "name": "stdout",
     "output_type": "stream",
     "text": [
      "Запущен новый подбор\n",
      "{'class_weight': {0: 2.7896674548774282e-05, 1: 1},\n",
      " 'max_depth': 5,\n",
      " 'n_estimators': 31,\n",
      " 'random_state': 241,\n",
      " 'verbose': 0}\n",
      "{'high_outlier': None,\n",
      " 'low_outlier': None,\n",
      " 'scale': 'mean',\n",
      " 'yeo_johnson': False}\n",
      "-------------------- 11.05.2021 11:58:13 3 -------------------- \n",
      " Параметры: {'max_depth': 5, 'verbose': 0, 'n_estimators': 31, 'class_weight': {0: 2.7896674548774282e-05, 1: 1}, 'random_state': 241} \n",
      " Среднее значение APS = 0.035157694824462904 \n",
      " Среднее значение AUC = 0.8571345855772462 \n",
      " Минимальное значение AUC = 0.8400317590063336\n"
     ]
    },
    {
     "name": "stderr",
     "output_type": "stream",
     "text": [
      "[I 2021-05-11 11:58:13,608] Trial 4 finished with value: 0.031776373322244374 and parameters: {'max_depth': 5, 'n_estimators': 31, 'class_weight': 2.7896674548774282e-05}. Best is trial 4 with value: 0.031776373322244374.\n"
     ]
    },
    {
     "name": "stdout",
     "output_type": "stream",
     "text": [
      "Запущен новый подбор\n",
      "{'class_weight': {0: 2.7896674548774282e-05, 1: 1},\n",
      " 'max_depth': 4,\n",
      " 'n_estimators': 142,\n",
      " 'random_state': 241,\n",
      " 'verbose': 0}\n",
      "{'high_outlier': None,\n",
      " 'low_outlier': None,\n",
      " 'scale': 'mean',\n",
      " 'yeo_johnson': False}\n",
      "-------------------- 11.05.2021 12:15:06 4 -------------------- \n",
      " Параметры: {'max_depth': 7, 'verbose': 0, 'n_estimators': 163, 'class_weight': {0: 2.7896674548774282e-05, 1: 1}, 'random_state': 241} \n",
      " Среднее значение APS = 0.03130403362272527 \n",
      " Среднее значение AUC = 0.863436705354717 \n",
      " Минимальное значение AUC = 0.8408515947396027\n"
     ]
    },
    {
     "name": "stderr",
     "output_type": "stream",
     "text": [
      "[I 2021-05-11 12:15:06,954] Trial 3 finished with value: 0.029187821155626237 and parameters: {'max_depth': 7, 'n_estimators': 163, 'class_weight': 2.7896674548774282e-05}. Best is trial 4 with value: 0.031776373322244374.\n"
     ]
    },
    {
     "name": "stdout",
     "output_type": "stream",
     "text": [
      "Запущен новый подбор\n",
      "{'class_weight': {0: 2.7896674548774282e-05, 1: 1},\n",
      " 'max_depth': 7,\n",
      " 'n_estimators': 177,\n",
      " 'random_state': 241,\n",
      " 'verbose': 0}\n",
      "{'high_outlier': None,\n",
      " 'low_outlier': None,\n",
      " 'scale': 'mean',\n",
      " 'yeo_johnson': False}\n",
      "-------------------- 11.05.2021 12:17:53 5 -------------------- \n",
      " Параметры: {'max_depth': 4, 'verbose': 0, 'n_estimators': 142, 'class_weight': {0: 2.7896674548774282e-05, 1: 1}, 'random_state': 241} \n",
      " Среднее значение APS = 0.03427964997148155 \n",
      " Среднее значение AUC = 0.854454091943028 \n",
      " Минимальное значение AUC = 0.8521635020562557\n"
     ]
    },
    {
     "name": "stderr",
     "output_type": "stream",
     "text": [
      "[I 2021-05-11 12:17:53,846] Trial 5 finished with value: 0.030044845163677645 and parameters: {'max_depth': 4, 'n_estimators': 142, 'class_weight': 2.7896674548774282e-05}. Best is trial 4 with value: 0.031776373322244374.\n"
     ]
    },
    {
     "name": "stdout",
     "output_type": "stream",
     "text": [
      "Запущен новый подбор\n",
      "{'class_weight': {0: 0.01673800472926457, 1: 1},\n",
      " 'max_depth': 4,\n",
      " 'n_estimators': 138,\n",
      " 'random_state': 241,\n",
      " 'verbose': 0}\n",
      "{'high_outlier': None,\n",
      " 'low_outlier': None,\n",
      " 'scale': 'mean',\n",
      " 'yeo_johnson': False}\n",
      "-------------------- 11.05.2021 12:35:39 6 -------------------- \n",
      " Параметры: {'max_depth': 4, 'verbose': 0, 'n_estimators': 138, 'class_weight': {0: 0.01673800472926457, 1: 1}, 'random_state': 241} \n",
      " Среднее значение APS = 0.06186606930783026 \n",
      " Среднее значение AUC = 0.9147412225965725 \n",
      " Минимальное значение AUC = 0.9084914388442231\n"
     ]
    },
    {
     "name": "stderr",
     "output_type": "stream",
     "text": [
      "[I 2021-05-11 12:35:40,339] Trial 7 finished with value: 0.060350579995552864 and parameters: {'max_depth': 4, 'n_estimators': 138, 'class_weight': 0.01673800472926457}. Best is trial 7 with value: 0.060350579995552864.\n"
     ]
    },
    {
     "name": "stdout",
     "output_type": "stream",
     "text": [
      "Запущен новый подбор\n",
      "{'class_weight': {0: 0.01673800472926457, 1: 1},\n",
      " 'max_depth': 3,\n",
      " 'n_estimators': 98,\n",
      " 'random_state': 241,\n",
      " 'verbose': 0}\n",
      "{'high_outlier': None,\n",
      " 'low_outlier': None,\n",
      " 'scale': 'mean',\n",
      " 'yeo_johnson': False}\n",
      "-------------------- 11.05.2021 12:46:30 7 -------------------- \n",
      " Параметры: {'max_depth': 3, 'verbose': 0, 'n_estimators': 98, 'class_weight': {0: 0.01673800472926457, 1: 1}, 'random_state': 241} \n",
      " Среднее значение APS = 0.051016729656193714 \n",
      " Среднее значение AUC = 0.8954109697899388 \n",
      " Минимальное значение AUC = 0.8786491040403035\n"
     ]
    },
    {
     "name": "stderr",
     "output_type": "stream",
     "text": [
      "[I 2021-05-11 12:46:30,681] Trial 8 finished with value: 0.041996227280610435 and parameters: {'max_depth': 3, 'n_estimators': 98, 'class_weight': 0.01673800472926457}. Best is trial 7 with value: 0.060350579995552864.\n"
     ]
    },
    {
     "name": "stdout",
     "output_type": "stream",
     "text": [
      "Запущен новый подбор\n",
      "{'class_weight': {0: 0.01673800472926457, 1: 1},\n",
      " 'max_depth': 3,\n",
      " 'n_estimators': 190,\n",
      " 'random_state': 241,\n",
      " 'verbose': 0}\n",
      "{'high_outlier': None,\n",
      " 'low_outlier': None,\n",
      " 'scale': 'mean',\n",
      " 'yeo_johnson': False}\n",
      "-------------------- 11.05.2021 12:48:40 8 -------------------- \n",
      " Параметры: {'max_depth': 7, 'verbose': 0, 'n_estimators': 177, 'class_weight': {0: 2.7896674548774282e-05, 1: 1}, 'random_state': 241} \n",
      " Среднее значение APS = 0.03447562186095969 \n",
      " Среднее значение AUC = 0.8641626878326945 \n",
      " Минимальное значение AUC = 0.8516056485143038\n"
     ]
    },
    {
     "name": "stderr",
     "output_type": "stream",
     "text": [
      "[I 2021-05-11 12:48:41,313] Trial 6 finished with value: 0.0301443417520429 and parameters: {'max_depth': 7, 'n_estimators': 177, 'class_weight': 2.7896674548774282e-05}. Best is trial 7 with value: 0.060350579995552864.\n"
     ]
    },
    {
     "name": "stdout",
     "output_type": "stream",
     "text": [
      "Запущен новый подбор\n",
      "{'class_weight': {0: 2.7896674548774282e-05, 1: 1},\n",
      " 'max_depth': 7,\n",
      " 'n_estimators': 133,\n",
      " 'random_state': 241,\n",
      " 'verbose': 0}\n",
      "{'high_outlier': None,\n",
      " 'low_outlier': None,\n",
      " 'scale': 'mean',\n",
      " 'yeo_johnson': False}\n",
      "-------------------- 11.05.2021 13:05:02 9 -------------------- \n",
      " Параметры: {'max_depth': 3, 'verbose': 0, 'n_estimators': 190, 'class_weight': {0: 0.01673800472926457, 1: 1}, 'random_state': 241} \n",
      " Среднее значение APS = 0.05038752775398534 \n",
      " Среднее значение AUC = 0.8973613646899902 \n",
      " Минимальное значение AUC = 0.8967660637970084\n"
     ]
    },
    {
     "name": "stderr",
     "output_type": "stream",
     "text": [
      "[I 2021-05-11 13:05:03,118] Trial 9 finished with value: 0.04414916652261783 and parameters: {'max_depth': 3, 'n_estimators': 190, 'class_weight': 0.01673800472926457}. Best is trial 7 with value: 0.060350579995552864.\n"
     ]
    },
    {
     "name": "stdout",
     "output_type": "stream",
     "text": [
      "Запущен новый подбор\n",
      "{'class_weight': {0: 0.01673800472926457, 1: 1},\n",
      " 'max_depth': 5,\n",
      " 'n_estimators': 127,\n",
      " 'random_state': 241,\n",
      " 'verbose': 0}\n",
      "{'high_outlier': None,\n",
      " 'low_outlier': None,\n",
      " 'scale': 'mean',\n",
      " 'yeo_johnson': False}\n",
      "-------------------- 11.05.2021 13:13:03 10 -------------------- \n",
      " Параметры: {'max_depth': 7, 'verbose': 0, 'n_estimators': 133, 'class_weight': {0: 2.7896674548774282e-05, 1: 1}, 'random_state': 241} \n",
      " Среднее значение APS = 0.03765318133740998 \n",
      " Среднее значение AUC = 0.8704355432853788 \n",
      " Минимальное значение AUC = 0.869160129739095\n"
     ]
    },
    {
     "name": "stderr",
     "output_type": "stream",
     "text": [
      "[I 2021-05-11 13:13:03,848] Trial 10 finished with value: 0.03254145717687535 and parameters: {'max_depth': 7, 'n_estimators': 133, 'class_weight': 2.7896674548774282e-05}. Best is trial 7 with value: 0.060350579995552864.\n"
     ]
    },
    {
     "name": "stdout",
     "output_type": "stream",
     "text": [
      "Запущен новый подбор\n",
      "{'class_weight': {0: 0.01673800472926457, 1: 1},\n",
      " 'max_depth': 5,\n",
      " 'n_estimators': 185,\n",
      " 'random_state': 241,\n",
      " 'verbose': 0}\n",
      "{'high_outlier': None,\n",
      " 'low_outlier': None,\n",
      " 'scale': 'mean',\n",
      " 'yeo_johnson': False}\n",
      "-------------------- 11.05.2021 13:24:42 11 -------------------- \n",
      " Параметры: {'max_depth': 5, 'verbose': 0, 'n_estimators': 127, 'class_weight': {0: 0.01673800472926457, 1: 1}, 'random_state': 241} \n",
      " Среднее значение APS = 0.06951989752829431 \n",
      " Среднее значение AUC = 0.9200942918761568 \n",
      " Минимальное значение AUC = 0.910662854994073\n"
     ]
    },
    {
     "name": "stderr",
     "output_type": "stream",
     "text": [
      "[I 2021-05-11 13:24:42,991] Trial 11 finished with value: 0.05764522732090097 and parameters: {'max_depth': 5, 'n_estimators': 127, 'class_weight': 0.01673800472926457}. Best is trial 7 with value: 0.060350579995552864.\n"
     ]
    },
    {
     "name": "stdout",
     "output_type": "stream",
     "text": [
      "Запущен новый подбор\n",
      "{'class_weight': {0: 0.01673800472926457, 1: 1},\n",
      " 'max_depth': 5,\n",
      " 'n_estimators': 91,\n",
      " 'random_state': 241,\n",
      " 'verbose': 0}\n",
      "{'high_outlier': None,\n",
      " 'low_outlier': None,\n",
      " 'scale': 'mean',\n",
      " 'yeo_johnson': False}\n",
      "-------------------- 11.05.2021 13:40:14 12 -------------------- \n",
      " Параметры: {'max_depth': 5, 'verbose': 0, 'n_estimators': 91, 'class_weight': {0: 0.01673800472926457, 1: 1}, 'random_state': 241} \n",
      " Среднее значение APS = 0.0678112328500024 \n",
      " Среднее значение AUC = 0.9165799724081871 \n",
      " Минимальное значение AUC = 0.9076236925743828\n"
     ]
    },
    {
     "name": "stderr",
     "output_type": "stream",
     "text": [
      "[I 2021-05-11 13:40:15,107] Trial 13 finished with value: 0.06266573199283422 and parameters: {'max_depth': 5, 'n_estimators': 91, 'class_weight': 0.01673800472926457}. Best is trial 13 with value: 0.06266573199283422.\n"
     ]
    },
    {
     "name": "stdout",
     "output_type": "stream",
     "text": [
      "Запущен новый подбор\n",
      "{'class_weight': {0: 0.01673800472926457, 1: 1},\n",
      " 'max_depth': 6,\n",
      " 'n_estimators': 78,\n",
      " 'random_state': 241,\n",
      " 'verbose': 0}\n",
      "{'high_outlier': None,\n",
      " 'low_outlier': None,\n",
      " 'scale': 'mean',\n",
      " 'yeo_johnson': False}\n",
      "-------------------- 11.05.2021 13:42:18 13 -------------------- \n",
      " Параметры: {'max_depth': 5, 'verbose': 0, 'n_estimators': 185, 'class_weight': {0: 0.01673800472926457, 1: 1}, 'random_state': 241} \n",
      " Среднее значение APS = 0.06936262296119165 \n",
      " Среднее значение AUC = 0.9247856423152911 \n",
      " Минимальное значение AUC = 0.9191614942355244\n"
     ]
    },
    {
     "name": "stderr",
     "output_type": "stream",
     "text": [
      "[I 2021-05-11 13:42:18,888] Trial 12 finished with value: 0.06673157143279684 and parameters: {'max_depth': 5, 'n_estimators': 185, 'class_weight': 0.01673800472926457}. Best is trial 12 with value: 0.06673157143279684.\n"
     ]
    },
    {
     "name": "stdout",
     "output_type": "stream",
     "text": [
      "Запущен новый подбор\n",
      "{'class_weight': {0: 0.01673800472926457, 1: 1},\n",
      " 'max_depth': 6,\n",
      " 'n_estimators': 74,\n",
      " 'random_state': 241,\n",
      " 'verbose': 0}\n",
      "{'high_outlier': None,\n",
      " 'low_outlier': None,\n",
      " 'scale': 'mean',\n",
      " 'yeo_johnson': False}\n",
      "-------------------- 11.05.2021 13:56:15 14 -------------------- \n",
      " Параметры: {'max_depth': 6, 'verbose': 0, 'n_estimators': 78, 'class_weight': {0: 0.01673800472926457, 1: 1}, 'random_state': 241} \n",
      " Среднее значение APS = 0.07040026105465018 \n",
      " Среднее значение AUC = 0.9276549774668003 \n",
      " Минимальное значение AUC = 0.9148327836846585\n"
     ]
    },
    {
     "name": "stderr",
     "output_type": "stream",
     "text": [
      "[I 2021-05-11 13:56:16,252] Trial 14 finished with value: 0.06369987082880448 and parameters: {'max_depth': 6, 'n_estimators': 78, 'class_weight': 0.01673800472926457}. Best is trial 12 with value: 0.06673157143279684.\n"
     ]
    },
    {
     "name": "stdout",
     "output_type": "stream",
     "text": [
      "Запущен новый подбор\n",
      "{'class_weight': {0: 0.01673800472926457, 1: 1},\n",
      " 'max_depth': 6,\n",
      " 'n_estimators': 70,\n",
      " 'random_state': 241,\n",
      " 'verbose': 0}\n",
      "{'high_outlier': None,\n",
      " 'low_outlier': None,\n",
      " 'scale': 'mean',\n",
      " 'yeo_johnson': False}\n",
      "-------------------- 11.05.2021 13:58:10 15 -------------------- \n",
      " Параметры: {'max_depth': 6, 'verbose': 0, 'n_estimators': 74, 'class_weight': {0: 0.01673800472926457, 1: 1}, 'random_state': 241} \n",
      " Среднее значение APS = 0.07693524135277832 \n",
      " Среднее значение AUC = 0.9300243716514371 \n",
      " Минимальное значение AUC = 0.9192782347074732\n"
     ]
    },
    {
     "name": "stderr",
     "output_type": "stream",
     "text": [
      "[I 2021-05-11 13:58:10,563] Trial 15 finished with value: 0.07471917547871505 and parameters: {'max_depth': 6, 'n_estimators': 74, 'class_weight': 0.01673800472926457}. Best is trial 15 with value: 0.07471917547871505.\n"
     ]
    },
    {
     "name": "stdout",
     "output_type": "stream",
     "text": [
      "Запущен новый подбор\n",
      "{'class_weight': {0: 0.01673800472926457, 1: 1},\n",
      " 'max_depth': 6,\n",
      " 'n_estimators': 43,\n",
      " 'random_state': 241,\n",
      " 'verbose': 0}\n",
      "{'high_outlier': None,\n",
      " 'low_outlier': None,\n",
      " 'scale': 'mean',\n",
      " 'yeo_johnson': False}\n",
      "-------------------- 11.05.2021 14:08:46 16 -------------------- \n",
      " Параметры: {'max_depth': 6, 'verbose': 0, 'n_estimators': 43, 'class_weight': {0: 0.01673800472926457, 1: 1}, 'random_state': 241} \n",
      " Среднее значение APS = 0.062054812672061206 \n",
      " Среднее значение AUC = 0.9237556106020341 \n",
      " Минимальное значение AUC = 0.9229743301144772\n"
     ]
    },
    {
     "name": "stderr",
     "output_type": "stream",
     "text": [
      "[I 2021-05-11 14:08:46,854] Trial 17 finished with value: 0.055553174564902885 and parameters: {'max_depth': 6, 'n_estimators': 43, 'class_weight': 0.01673800472926457}. Best is trial 15 with value: 0.07471917547871505.\n"
     ]
    },
    {
     "name": "stdout",
     "output_type": "stream",
     "text": [
      "Запущен новый подбор\n",
      "{'class_weight': {0: 0.01673800472926457, 1: 1},\n",
      " 'max_depth': 6,\n",
      " 'n_estimators': 69,\n",
      " 'random_state': 241,\n",
      " 'verbose': 0}\n",
      "{'high_outlier': None,\n",
      " 'low_outlier': None,\n",
      " 'scale': 'mean',\n",
      " 'yeo_johnson': False}\n",
      "-------------------- 11.05.2021 14:11:57 17 -------------------- \n",
      " Параметры: {'max_depth': 6, 'verbose': 0, 'n_estimators': 70, 'class_weight': {0: 0.01673800472926457, 1: 1}, 'random_state': 241} \n",
      " Среднее значение APS = 0.07314416003536678 \n",
      " Среднее значение AUC = 0.9275330290143976 \n",
      " Минимальное значение AUC = 0.924364495733482\n"
     ]
    },
    {
     "name": "stderr",
     "output_type": "stream",
     "text": [
      "[I 2021-05-11 14:11:57,704] Trial 16 finished with value: 0.0710217784103365 and parameters: {'max_depth': 6, 'n_estimators': 70, 'class_weight': 0.01673800472926457}. Best is trial 15 with value: 0.07471917547871505.\n"
     ]
    },
    {
     "name": "stdout",
     "output_type": "stream",
     "text": [
      "Запущен новый подбор\n",
      "{'class_weight': {0: 0.01673800472926457, 1: 1},\n",
      " 'max_depth': 6,\n",
      " 'n_estimators': 68,\n",
      " 'random_state': 241,\n",
      " 'verbose': 0}\n",
      "{'high_outlier': None,\n",
      " 'low_outlier': None,\n",
      " 'scale': 'mean',\n",
      " 'yeo_johnson': False}\n",
      "-------------------- 11.05.2021 14:23:03 18 -------------------- \n",
      " Параметры: {'max_depth': 6, 'verbose': 0, 'n_estimators': 69, 'class_weight': {0: 0.01673800472926457, 1: 1}, 'random_state': 241} \n",
      " Среднее значение APS = 0.07066781340466881 \n",
      " Среднее значение AUC = 0.9296843879413219 \n",
      " Минимальное значение AUC = 0.9257379939500603\n"
     ]
    },
    {
     "name": "stderr",
     "output_type": "stream",
     "text": [
      "[I 2021-05-11 14:23:04,417] Trial 18 finished with value: 0.06574730243471345 and parameters: {'max_depth': 6, 'n_estimators': 69, 'class_weight': 0.01673800472926457}. Best is trial 15 with value: 0.07471917547871505.\n"
     ]
    },
    {
     "name": "stdout",
     "output_type": "stream",
     "text": [
      "Запущен новый подбор\n",
      "{'class_weight': {0: 0.01673800472926457, 1: 1},\n",
      " 'max_depth': 6,\n",
      " 'n_estimators': 53,\n",
      " 'random_state': 241,\n",
      " 'verbose': 0}\n",
      "{'high_outlier': None,\n",
      " 'low_outlier': None,\n",
      " 'scale': 'mean',\n",
      " 'yeo_johnson': False}\n",
      "-------------------- 11.05.2021 14:26:27 19 -------------------- \n",
      " Параметры: {'max_depth': 6, 'verbose': 0, 'n_estimators': 68, 'class_weight': {0: 0.01673800472926457, 1: 1}, 'random_state': 241} \n",
      " Среднее значение APS = 0.07497925815069986 \n",
      " Среднее значение AUC = 0.9273354875656206 \n",
      " Минимальное значение AUC = 0.9214221677407299\n"
     ]
    },
    {
     "name": "stderr",
     "output_type": "stream",
     "text": [
      "[I 2021-05-11 14:26:27,641] Trial 19 finished with value: 0.06386922969551287 and parameters: {'max_depth': 6, 'n_estimators': 68, 'class_weight': 0.01673800472926457}. Best is trial 15 with value: 0.07471917547871505.\n"
     ]
    },
    {
     "name": "stdout",
     "output_type": "stream",
     "text": [
      "Запущен новый подбор\n",
      "{'class_weight': {0: 0.01673800472926457, 1: 1},\n",
      " 'max_depth': 6,\n",
      " 'n_estimators': 43,\n",
      " 'random_state': 241,\n",
      " 'verbose': 0}\n",
      "{'high_outlier': None,\n",
      " 'low_outlier': None,\n",
      " 'scale': 'mean',\n",
      " 'yeo_johnson': False}\n",
      "-------------------- 11.05.2021 14:35:18 20 -------------------- \n",
      " Параметры: {'max_depth': 6, 'verbose': 0, 'n_estimators': 53, 'class_weight': {0: 0.01673800472926457, 1: 1}, 'random_state': 241} \n",
      " Среднее значение APS = 0.07693734915643496 \n",
      " Среднее значение AUC = 0.9295959458462948 \n",
      " Минимальное значение AUC = 0.9255380765248268\n"
     ]
    },
    {
     "name": "stderr",
     "output_type": "stream",
     "text": [
      "[I 2021-05-11 14:35:18,902] Trial 20 finished with value: 0.06331903397746222 and parameters: {'max_depth': 6, 'n_estimators': 53, 'class_weight': 0.01673800472926457}. Best is trial 15 with value: 0.07471917547871505.\n"
     ]
    },
    {
     "name": "stdout",
     "output_type": "stream",
     "text": [
      "Запущен новый подбор\n",
      "{'class_weight': {0: 0.01673800472926457, 1: 1},\n",
      " 'max_depth': 5,\n",
      " 'n_estimators': 84,\n",
      " 'random_state': 241,\n",
      " 'verbose': 0}\n",
      "{'high_outlier': None,\n",
      " 'low_outlier': None,\n",
      " 'scale': 'mean',\n",
      " 'yeo_johnson': False}\n",
      "-------------------- 11.05.2021 14:37:34 21 -------------------- \n",
      " Параметры: {'max_depth': 6, 'verbose': 0, 'n_estimators': 43, 'class_weight': {0: 0.01673800472926457, 1: 1}, 'random_state': 241} \n",
      " Среднее значение APS = 0.07200968459361332 \n",
      " Среднее значение AUC = 0.9272926755668485 \n",
      " Минимальное значение AUC = 0.9264810128538723\n"
     ]
    },
    {
     "name": "stderr",
     "output_type": "stream",
     "text": [
      "[I 2021-05-11 14:37:34,489] Trial 21 finished with value: 0.06677365901887353 and parameters: {'max_depth': 6, 'n_estimators': 43, 'class_weight': 0.01673800472926457}. Best is trial 15 with value: 0.07471917547871505.\n"
     ]
    },
    {
     "name": "stdout",
     "output_type": "stream",
     "text": [
      "Запущен новый подбор\n",
      "{'class_weight': {0: 0.01673800472926457, 1: 1},\n",
      " 'max_depth': 6,\n",
      " 'n_estimators': 38,\n",
      " 'random_state': 241,\n",
      " 'verbose': 0}\n",
      "{'high_outlier': None,\n",
      " 'low_outlier': None,\n",
      " 'scale': 'mean',\n",
      " 'yeo_johnson': False}\n",
      "-------------------- 11.05.2021 14:48:21 22 -------------------- \n",
      " Параметры: {'max_depth': 6, 'verbose': 0, 'n_estimators': 38, 'class_weight': {0: 0.01673800472926457, 1: 1}, 'random_state': 241} \n",
      " Среднее значение APS = 0.07301959568652239 \n",
      " Среднее значение AUC = 0.9296354326229336 \n",
      " Минимальное значение AUC = 0.9272826717218605\n"
     ]
    },
    {
     "name": "stderr",
     "output_type": "stream",
     "text": [
      "[I 2021-05-11 14:48:22,044] Trial 23 finished with value: 0.06506331281619572 and parameters: {'max_depth': 6, 'n_estimators': 38, 'class_weight': 0.01673800472926457}. Best is trial 15 with value: 0.07471917547871505.\n"
     ]
    },
    {
     "name": "stdout",
     "output_type": "stream",
     "text": [
      "Запущен новый подбор\n",
      "{'class_weight': {0: 0.01673800472926457, 1: 1},\n",
      " 'max_depth': 6,\n",
      " 'n_estimators': 85,\n",
      " 'random_state': 241,\n",
      " 'verbose': 0}\n",
      "{'high_outlier': None,\n",
      " 'low_outlier': None,\n",
      " 'scale': 'mean',\n",
      " 'yeo_johnson': False}\n",
      "-------------------- 11.05.2021 14:51:57 23 -------------------- \n",
      " Параметры: {'max_depth': 5, 'verbose': 0, 'n_estimators': 84, 'class_weight': {0: 0.01673800472926457, 1: 1}, 'random_state': 241} \n",
      " Среднее значение APS = 0.062129280190843836 \n",
      " Среднее значение AUC = 0.9196038922817911 \n",
      " Минимальное значение AUC = 0.9142555893557267\n"
     ]
    },
    {
     "name": "stderr",
     "output_type": "stream",
     "text": [
      "[I 2021-05-11 14:51:58,174] Trial 22 finished with value: 0.05372691648909325 and parameters: {'max_depth': 5, 'n_estimators': 84, 'class_weight': 0.01673800472926457}. Best is trial 15 with value: 0.07471917547871505.\n"
     ]
    },
    {
     "name": "stdout",
     "output_type": "stream",
     "text": [
      "Запущен новый подбор\n",
      "{'class_weight': {0: 0.01673800472926457, 1: 1},\n",
      " 'max_depth': 6,\n",
      " 'n_estimators': 49,\n",
      " 'random_state': 241,\n",
      " 'verbose': 0}\n",
      "{'high_outlier': None,\n",
      " 'low_outlier': None,\n",
      " 'scale': 'mean',\n",
      " 'yeo_johnson': False}\n",
      "-------------------- 11.05.2021 15:04:22 24 -------------------- \n",
      " Параметры: {'max_depth': 6, 'verbose': 0, 'n_estimators': 49, 'class_weight': {0: 0.01673800472926457, 1: 1}, 'random_state': 241} \n",
      " Среднее значение APS = 0.07151440024333232 \n",
      " Среднее значение AUC = 0.9288139764342467 \n",
      " Минимальное значение AUC = 0.91469668721728\n"
     ]
    },
    {
     "name": "stderr",
     "output_type": "stream",
     "text": [
      "[I 2021-05-11 15:04:22,578] Trial 25 finished with value: 0.06117750840249963 and parameters: {'max_depth': 6, 'n_estimators': 49, 'class_weight': 0.01673800472926457}. Best is trial 15 with value: 0.07471917547871505.\n"
     ]
    },
    {
     "name": "stdout",
     "output_type": "stream",
     "text": [
      "Запущен новый подбор\n",
      "{'class_weight': {0: 0.01673800472926457, 1: 1},\n",
      " 'max_depth': 7,\n",
      " 'n_estimators': 114,\n",
      " 'random_state': 241,\n",
      " 'verbose': 0}\n",
      "{'high_outlier': None,\n",
      " 'low_outlier': None,\n",
      " 'scale': 'mean',\n",
      " 'yeo_johnson': False}\n",
      "-------------------- 11.05.2021 15:07:04 25 -------------------- \n",
      " Параметры: {'max_depth': 6, 'verbose': 0, 'n_estimators': 85, 'class_weight': {0: 0.01673800472926457, 1: 1}, 'random_state': 241} \n",
      " Среднее значение APS = 0.07373246965169361 \n",
      " Среднее значение AUC = 0.9303834350409141 \n",
      " Минимальное значение AUC = 0.9158952610995912\n"
     ]
    },
    {
     "name": "stderr",
     "output_type": "stream",
     "text": [
      "[I 2021-05-11 15:07:05,352] Trial 24 finished with value: 0.06924039267906171 and parameters: {'max_depth': 6, 'n_estimators': 85, 'class_weight': 0.01673800472926457}. Best is trial 15 with value: 0.07471917547871505.\n"
     ]
    },
    {
     "name": "stdout",
     "output_type": "stream",
     "text": [
      "Запущен новый подбор\n",
      "{'class_weight': {0: 0.01673800472926457, 1: 1},\n",
      " 'max_depth': 7,\n",
      " 'n_estimators': 113,\n",
      " 'random_state': 241,\n",
      " 'verbose': 0}\n",
      "{'high_outlier': None,\n",
      " 'low_outlier': None,\n",
      " 'scale': 'mean',\n",
      " 'yeo_johnson': False}\n",
      "-------------------- 11.05.2021 15:28:35 26 -------------------- \n",
      " Параметры: {'max_depth': 7, 'verbose': 0, 'n_estimators': 114, 'class_weight': {0: 0.01673800472926457, 1: 1}, 'random_state': 241} \n",
      " Среднее значение APS = 0.06654586749817243 \n",
      " Среднее значение AUC = 0.9360395858751068 \n",
      " Минимальное значение AUC = 0.9359822802523984\n"
     ]
    },
    {
     "name": "stderr",
     "output_type": "stream",
     "text": [
      "[I 2021-05-11 15:28:35,683] Trial 26 finished with value: 0.06486706770461946 and parameters: {'max_depth': 7, 'n_estimators': 114, 'class_weight': 0.01673800472926457}. Best is trial 15 with value: 0.07471917547871505.\n"
     ]
    },
    {
     "name": "stdout",
     "output_type": "stream",
     "text": [
      "Запущен новый подбор\n",
      "{'class_weight': {0: 0.01673800472926457, 1: 1},\n",
      " 'max_depth': 6,\n",
      " 'n_estimators': 68,\n",
      " 'random_state': 241,\n",
      " 'verbose': 0}\n",
      "{'high_outlier': None,\n",
      " 'low_outlier': None,\n",
      " 'scale': 'mean',\n",
      " 'yeo_johnson': False}\n",
      "-------------------- 11.05.2021 15:31:19 27 -------------------- \n",
      " Параметры: {'max_depth': 7, 'verbose': 0, 'n_estimators': 113, 'class_weight': {0: 0.01673800472926457, 1: 1}, 'random_state': 241} \n",
      " Среднее значение APS = 0.0784522967825102 \n",
      " Среднее значение AUC = 0.936216607974593 \n",
      " Минимальное значение AUC = 0.9346175401079896\n"
     ]
    },
    {
     "name": "stderr",
     "output_type": "stream",
     "text": [
      "[I 2021-05-11 15:31:20,196] Trial 27 finished with value: 0.06358786927032604 and parameters: {'max_depth': 7, 'n_estimators': 113, 'class_weight': 0.01673800472926457}. Best is trial 15 with value: 0.07471917547871505.\n"
     ]
    },
    {
     "name": "stdout",
     "output_type": "stream",
     "text": [
      "Запущен новый подбор\n",
      "{'class_weight': {0: 0.01673800472926457, 1: 1},\n",
      " 'max_depth': 6,\n",
      " 'n_estimators': 69,\n",
      " 'random_state': 241,\n",
      " 'verbose': 0}\n",
      "{'high_outlier': None,\n",
      " 'low_outlier': None,\n",
      " 'scale': 'mean',\n",
      " 'yeo_johnson': False}\n",
      "-------------------- 11.05.2021 15:44:30 28 -------------------- \n",
      " Параметры: {'max_depth': 6, 'verbose': 0, 'n_estimators': 68, 'class_weight': {0: 0.01673800472926457, 1: 1}, 'random_state': 241} \n",
      " Среднее значение APS = 0.07724308150276296 \n",
      " Среднее значение AUC = 0.9301783992834242 \n",
      " Минимальное значение AUC = 0.9298087462637454\n"
     ]
    },
    {
     "name": "stderr",
     "output_type": "stream",
     "text": [
      "[I 2021-05-11 15:44:31,326] Trial 28 finished with value: 0.07502955562450386 and parameters: {'max_depth': 6, 'n_estimators': 68, 'class_weight': 0.01673800472926457}. Best is trial 28 with value: 0.07502955562450386.\n"
     ]
    },
    {
     "name": "stdout",
     "output_type": "stream",
     "text": [
      "Запущен новый подбор\n",
      "{'class_weight': {0: 0.01673800472926457, 1: 1},\n",
      " 'max_depth': 6,\n",
      " 'n_estimators': 65,\n",
      " 'random_state': 241,\n",
      " 'verbose': 0}\n",
      "{'high_outlier': None,\n",
      " 'low_outlier': None,\n",
      " 'scale': 'mean',\n",
      " 'yeo_johnson': False}\n",
      "-------------------- 11.05.2021 15:47:46 29 -------------------- \n",
      " Параметры: {'max_depth': 6, 'verbose': 0, 'n_estimators': 69, 'class_weight': {0: 0.01673800472926457, 1: 1}, 'random_state': 241} \n",
      " Среднее значение APS = 0.07293464702284692 \n",
      " Среднее значение AUC = 0.9286182136649817 \n",
      " Минимальное значение AUC = 0.9249414155443263\n"
     ]
    },
    {
     "name": "stderr",
     "output_type": "stream",
     "text": [
      "[I 2021-05-11 15:47:47,697] Trial 29 finished with value: 0.07177570200632913 and parameters: {'max_depth': 6, 'n_estimators': 69, 'class_weight': 0.01673800472926457}. Best is trial 28 with value: 0.07502955562450386.\n"
     ]
    },
    {
     "name": "stdout",
     "output_type": "stream",
     "text": [
      "Запущен новый подбор\n",
      "{'class_weight': {0: 0.01673800472926457, 1: 1},\n",
      " 'max_depth': 5,\n",
      " 'n_estimators': 59,\n",
      " 'random_state': 241,\n",
      " 'verbose': 0}\n",
      "{'high_outlier': None,\n",
      " 'low_outlier': None,\n",
      " 'scale': 'mean',\n",
      " 'yeo_johnson': False}\n",
      "-------------------- 11.05.2021 16:00:17 30 -------------------- \n",
      " Параметры: {'max_depth': 6, 'verbose': 0, 'n_estimators': 65, 'class_weight': {0: 0.01673800472926457, 1: 1}, 'random_state': 241} \n",
      " Среднее значение APS = 0.06756072866091625 \n",
      " Среднее значение AUC = 0.9297443338221949 \n",
      " Минимальное значение AUC = 0.9195908925328693\n"
     ]
    },
    {
     "name": "stderr",
     "output_type": "stream",
     "text": [
      "[I 2021-05-11 16:00:18,098] Trial 30 finished with value: 0.05281881609078628 and parameters: {'max_depth': 6, 'n_estimators': 65, 'class_weight': 0.01673800472926457}. Best is trial 28 with value: 0.07502955562450386.\n"
     ]
    },
    {
     "name": "stdout",
     "output_type": "stream",
     "text": [
      "Запущен новый подбор\n",
      "{'class_weight': {0: 0.01673800472926457, 1: 1},\n",
      " 'max_depth': 7,\n",
      " 'n_estimators': 77,\n",
      " 'random_state': 241,\n",
      " 'verbose': 0}\n",
      "{'high_outlier': None,\n",
      " 'low_outlier': None,\n",
      " 'scale': 'mean',\n",
      " 'yeo_johnson': False}\n",
      "-------------------- 11.05.2021 16:01:29 31 -------------------- \n",
      " Параметры: {'max_depth': 5, 'verbose': 0, 'n_estimators': 59, 'class_weight': {0: 0.01673800472926457, 1: 1}, 'random_state': 241} \n",
      " Среднее значение APS = 0.07248381650196473 \n",
      " Среднее значение AUC = 0.9234454312483399 \n",
      " Минимальное значение AUC = 0.9217590421783255\n"
     ]
    },
    {
     "name": "stderr",
     "output_type": "stream",
     "text": [
      "[I 2021-05-11 16:01:30,447] Trial 31 finished with value: 0.05909597415045766 and parameters: {'max_depth': 5, 'n_estimators': 59, 'class_weight': 0.01673800472926457}. Best is trial 28 with value: 0.07502955562450386.\n"
     ]
    },
    {
     "name": "stdout",
     "output_type": "stream",
     "text": [
      "Запущен новый подбор\n",
      "{'class_weight': {0: 0.01673800472926457, 1: 1},\n",
      " 'max_depth': 7,\n",
      " 'n_estimators': 100,\n",
      " 'random_state': 241,\n",
      " 'verbose': 0}\n",
      "{'high_outlier': None,\n",
      " 'low_outlier': None,\n",
      " 'scale': 'mean',\n",
      " 'yeo_johnson': False}\n",
      "-------------------- 11.05.2021 16:19:50 32 -------------------- \n",
      " Параметры: {'max_depth': 7, 'verbose': 0, 'n_estimators': 77, 'class_weight': {0: 0.01673800472926457, 1: 1}, 'random_state': 241} \n",
      " Среднее значение APS = 0.07246850701896826 \n",
      " Среднее значение AUC = 0.9315727716814831 \n",
      " Минимальное значение AUC = 0.9226929678291755\n"
     ]
    },
    {
     "name": "stderr",
     "output_type": "stream",
     "text": [
      "[I 2021-05-11 16:19:51,500] Trial 32 finished with value: 0.06524583532992762 and parameters: {'max_depth': 7, 'n_estimators': 77, 'class_weight': 0.01673800472926457}. Best is trial 28 with value: 0.07502955562450386.\n"
     ]
    },
    {
     "name": "stdout",
     "output_type": "stream",
     "text": [
      "Запущен новый подбор\n",
      "{'class_weight': {0: 0.01673800472926457, 1: 1},\n",
      " 'max_depth': 6,\n",
      " 'n_estimators': 96,\n",
      " 'random_state': 241,\n",
      " 'verbose': 0}\n",
      "{'high_outlier': None,\n",
      " 'low_outlier': None,\n",
      " 'scale': 'mean',\n",
      " 'yeo_johnson': False}\n",
      "-------------------- 11.05.2021 16:26:03 33 -------------------- \n",
      " Параметры: {'max_depth': 7, 'verbose': 0, 'n_estimators': 100, 'class_weight': {0: 0.01673800472926457, 1: 1}, 'random_state': 241} \n",
      " Среднее значение APS = 0.07566278529151454 \n",
      " Среднее значение AUC = 0.9358098238376382 \n",
      " Минимальное значение AUC = 0.9314611276006007\n"
     ]
    },
    {
     "name": "stderr",
     "output_type": "stream",
     "text": [
      "[I 2021-05-11 16:26:03,932] Trial 33 finished with value: 0.07258311086108124 and parameters: {'max_depth': 7, 'n_estimators': 100, 'class_weight': 0.01673800472926457}. Best is trial 28 with value: 0.07502955562450386.\n"
     ]
    },
    {
     "name": "stdout",
     "output_type": "stream",
     "text": [
      "Запущен новый подбор\n",
      "{'class_weight': {0: 0.01673800472926457, 1: 1},\n",
      " 'max_depth': 7,\n",
      " 'n_estimators': 98,\n",
      " 'random_state': 241,\n",
      " 'verbose': 0}\n",
      "{'high_outlier': None,\n",
      " 'low_outlier': None,\n",
      " 'scale': 'mean',\n",
      " 'yeo_johnson': False}\n",
      "-------------------- 11.05.2021 16:40:17 34 -------------------- \n",
      " Параметры: {'max_depth': 6, 'verbose': 0, 'n_estimators': 96, 'class_weight': {0: 0.01673800472926457, 1: 1}, 'random_state': 241} \n",
      " Среднее значение APS = 0.07724554986573529 \n",
      " Среднее значение AUC = 0.9298482426380181 \n",
      " Минимальное значение AUC = 0.9280475816582346\n"
     ]
    },
    {
     "name": "stderr",
     "output_type": "stream",
     "text": [
      "[I 2021-05-11 16:40:17,815] Trial 34 finished with value: 0.07504942154403396 and parameters: {'max_depth': 6, 'n_estimators': 96, 'class_weight': 0.01673800472926457}. Best is trial 34 with value: 0.07504942154403396.\n"
     ]
    },
    {
     "name": "stdout",
     "output_type": "stream",
     "text": [
      "Запущен новый подбор\n",
      "{'class_weight': {0: 0.01673800472926457, 1: 1},\n",
      " 'max_depth': 7,\n",
      " 'n_estimators': 102,\n",
      " 'random_state': 241,\n",
      " 'verbose': 0}\n",
      "{'high_outlier': None,\n",
      " 'low_outlier': None,\n",
      " 'scale': 'mean',\n",
      " 'yeo_johnson': False}\n",
      "-------------------- 11.05.2021 16:47:47 35 -------------------- \n",
      " Параметры: {'max_depth': 7, 'verbose': 0, 'n_estimators': 98, 'class_weight': {0: 0.01673800472926457, 1: 1}, 'random_state': 241} \n",
      " Среднее значение APS = 0.0784179025925425 \n",
      " Среднее значение AUC = 0.9341565423186974 \n",
      " Минимальное значение AUC = 0.9225651115797469\n"
     ]
    },
    {
     "name": "stderr",
     "output_type": "stream",
     "text": [
      "[I 2021-05-11 16:47:47,749] Trial 35 finished with value: 0.06579130204794341 and parameters: {'max_depth': 7, 'n_estimators': 98, 'class_weight': 0.01673800472926457}. Best is trial 34 with value: 0.07504942154403396.\n"
     ]
    },
    {
     "name": "stdout",
     "output_type": "stream",
     "text": [
      "Запущен новый подбор\n",
      "{'class_weight': {0: 0.01673800472926457, 1: 1},\n",
      " 'max_depth': 7,\n",
      " 'n_estimators': 101,\n",
      " 'random_state': 241,\n",
      " 'verbose': 0}\n",
      "{'high_outlier': None,\n",
      " 'low_outlier': None,\n",
      " 'scale': 'mean',\n",
      " 'yeo_johnson': False}\n",
      "-------------------- 11.05.2021 17:01:41 36 -------------------- \n",
      " Параметры: {'max_depth': 7, 'verbose': 0, 'n_estimators': 102, 'class_weight': {0: 0.01673800472926457, 1: 1}, 'random_state': 241} \n",
      " Среднее значение APS = 0.07554616418310911 \n",
      " Среднее значение AUC = 0.9371473619415962 \n",
      " Минимальное значение AUC = 0.9359144383932981\n"
     ]
    },
    {
     "name": "stderr",
     "output_type": "stream",
     "text": [
      "[I 2021-05-11 17:01:41,760] Trial 36 finished with value: 0.0723821768822131 and parameters: {'max_depth': 7, 'n_estimators': 102, 'class_weight': 0.01673800472926457}. Best is trial 34 with value: 0.07504942154403396.\n"
     ]
    },
    {
     "name": "stdout",
     "output_type": "stream",
     "text": [
      "Запущен новый подбор\n",
      "{'class_weight': {0: 2.7896674548774282e-05, 1: 1},\n",
      " 'max_depth': 7,\n",
      " 'n_estimators': 125,\n",
      " 'random_state': 241,\n",
      " 'verbose': 0}\n",
      "{'high_outlier': None,\n",
      " 'low_outlier': None,\n",
      " 'scale': 'mean',\n",
      " 'yeo_johnson': False}\n",
      "-------------------- 11.05.2021 17:08:38 37 -------------------- \n",
      " Параметры: {'max_depth': 7, 'verbose': 0, 'n_estimators': 101, 'class_weight': {0: 0.01673800472926457, 1: 1}, 'random_state': 241} \n",
      " Среднее значение APS = 0.07441064000820749 \n",
      " Среднее значение AUC = 0.9349183963019674 \n",
      " Минимальное значение AUC = 0.9269685662096501\n"
     ]
    },
    {
     "name": "stderr",
     "output_type": "stream",
     "text": [
      "[I 2021-05-11 17:08:39,358] Trial 37 finished with value: 0.06952021599846701 and parameters: {'max_depth': 7, 'n_estimators': 101, 'class_weight': 0.01673800472926457}. Best is trial 34 with value: 0.07504942154403396.\n"
     ]
    },
    {
     "name": "stdout",
     "output_type": "stream",
     "text": [
      "Запущен новый подбор\n",
      "{'class_weight': {0: 2.7896674548774282e-05, 1: 1},\n",
      " 'max_depth': 4,\n",
      " 'n_estimators': 89,\n",
      " 'random_state': 241,\n",
      " 'verbose': 0}\n",
      "{'high_outlier': None,\n",
      " 'low_outlier': None,\n",
      " 'scale': 'mean',\n",
      " 'yeo_johnson': False}\n",
      "-------------------- 11.05.2021 17:22:55 38 -------------------- \n",
      " Параметры: {'max_depth': 4, 'verbose': 0, 'n_estimators': 89, 'class_weight': {0: 2.7896674548774282e-05, 1: 1}, 'random_state': 241} \n",
      " Среднее значение APS = 0.03545266689525441 \n",
      " Среднее значение AUC = 0.856415920969964 \n",
      " Минимальное значение AUC = 0.8530572997192228\n"
     ]
    },
    {
     "name": "stderr",
     "output_type": "stream",
     "text": [
      "[I 2021-05-11 17:22:56,536] Trial 39 finished with value: 0.03326571368766931 and parameters: {'max_depth': 4, 'n_estimators': 89, 'class_weight': 2.7896674548774282e-05}. Best is trial 34 with value: 0.07504942154403396.\n"
     ]
    },
    {
     "name": "stdout",
     "output_type": "stream",
     "text": [
      "Запущен новый подбор\n",
      "{'class_weight': {0: 0.01673800472926457, 1: 1},\n",
      " 'max_depth': 7,\n",
      " 'n_estimators': 123,\n",
      " 'random_state': 241,\n",
      " 'verbose': 0}\n",
      "{'high_outlier': None,\n",
      " 'low_outlier': None,\n",
      " 'scale': 'mean',\n",
      " 'yeo_johnson': False}\n",
      "-------------------- 11.05.2021 17:27:51 39 -------------------- \n",
      " Параметры: {'max_depth': 7, 'verbose': 0, 'n_estimators': 125, 'class_weight': {0: 2.7896674548774282e-05, 1: 1}, 'random_state': 241} \n",
      " Среднее значение APS = 0.030924942623087454 \n",
      " Среднее значение AUC = 0.864231804918548 \n",
      " Минимальное значение AUC = 0.8637415082723591\n"
     ]
    },
    {
     "name": "stderr",
     "output_type": "stream",
     "text": [
      "[I 2021-05-11 17:27:51,829] Trial 38 finished with value: 0.028307613041281078 and parameters: {'max_depth': 7, 'n_estimators': 125, 'class_weight': 2.7896674548774282e-05}. Best is trial 34 with value: 0.07504942154403396.\n"
     ]
    },
    {
     "name": "stdout",
     "output_type": "stream",
     "text": [
      "Запущен новый подбор\n",
      "{'class_weight': {0: 0.01673800472926457, 1: 1},\n",
      " 'max_depth': 5,\n",
      " 'n_estimators': 109,\n",
      " 'random_state': 241,\n",
      " 'verbose': 0}\n",
      "{'high_outlier': None,\n",
      " 'low_outlier': None,\n",
      " 'scale': 'mean',\n",
      " 'yeo_johnson': False}\n",
      "-------------------- 11.05.2021 17:46:29 40 -------------------- \n",
      " Параметры: {'max_depth': 5, 'verbose': 0, 'n_estimators': 109, 'class_weight': {0: 0.01673800472926457, 1: 1}, 'random_state': 241} \n",
      " Среднее значение APS = 0.06773217230462758 \n",
      " Среднее значение AUC = 0.9210159994685789 \n",
      " Минимальное значение AUC = 0.9123763279915464\n"
     ]
    },
    {
     "name": "stderr",
     "output_type": "stream",
     "text": [
      "[I 2021-05-11 17:46:30,011] Trial 41 finished with value: 0.061657289978777674 and parameters: {'max_depth': 5, 'n_estimators': 109, 'class_weight': 0.01673800472926457}. Best is trial 34 with value: 0.07504942154403396.\n"
     ]
    },
    {
     "name": "stdout",
     "output_type": "stream",
     "text": [
      "Запущен новый подбор\n",
      "{'class_weight': {0: 0.01673800472926457, 1: 1},\n",
      " 'max_depth': 7,\n",
      " 'n_estimators': 102,\n",
      " 'random_state': 241,\n",
      " 'verbose': 0}\n",
      "{'high_outlier': None,\n",
      " 'low_outlier': None,\n",
      " 'scale': 'mean',\n",
      " 'yeo_johnson': False}\n",
      "-------------------- 11.05.2021 17:49:43 41 -------------------- \n",
      " Параметры: {'max_depth': 7, 'verbose': 0, 'n_estimators': 123, 'class_weight': {0: 0.01673800472926457, 1: 1}, 'random_state': 241} \n",
      " Среднее значение APS = 0.07212223207895166 \n",
      " Среднее значение AUC = 0.9331420543821458 \n",
      " Минимальное значение AUC = 0.9278878529340226\n"
     ]
    },
    {
     "name": "stderr",
     "output_type": "stream",
     "text": [
      "[I 2021-05-11 17:49:44,390] Trial 40 finished with value: 0.06487912608418869 and parameters: {'max_depth': 7, 'n_estimators': 123, 'class_weight': 0.01673800472926457}. Best is trial 34 with value: 0.07504942154403396.\n"
     ]
    },
    {
     "name": "stdout",
     "output_type": "stream",
     "text": [
      "Запущен новый подбор\n",
      "{'class_weight': {0: 0.01673800472926457, 1: 1},\n",
      " 'max_depth': 7,\n",
      " 'n_estimators': 105,\n",
      " 'random_state': 241,\n",
      " 'verbose': 0}\n",
      "{'high_outlier': None,\n",
      " 'low_outlier': None,\n",
      " 'scale': 'mean',\n",
      " 'yeo_johnson': False}\n",
      "-------------------- 11.05.2021 18:09:49 42 -------------------- \n",
      " Параметры: {'max_depth': 7, 'verbose': 0, 'n_estimators': 102, 'class_weight': {0: 0.01673800472926457, 1: 1}, 'random_state': 241} \n",
      " Среднее значение APS = 0.07656008120229496 \n",
      " Среднее значение AUC = 0.9359526992325555 \n",
      " Минимальное значение AUC = 0.9328564522856423\n"
     ]
    },
    {
     "name": "stderr",
     "output_type": "stream",
     "text": [
      "[I 2021-05-11 18:09:50,155] Trial 42 finished with value: 0.07437644264692844 and parameters: {'max_depth': 7, 'n_estimators': 102, 'class_weight': 0.01673800472926457}. Best is trial 34 with value: 0.07504942154403396.\n"
     ]
    },
    {
     "name": "stdout",
     "output_type": "stream",
     "text": [
      "Запущен новый подбор\n",
      "{'class_weight': {0: 0.01673800472926457, 1: 1},\n",
      " 'max_depth': 7,\n",
      " 'n_estimators': 93,\n",
      " 'random_state': 241,\n",
      " 'verbose': 0}\n",
      "{'high_outlier': None,\n",
      " 'low_outlier': None,\n",
      " 'scale': 'mean',\n",
      " 'yeo_johnson': False}\n",
      "-------------------- 11.05.2021 18:13:58 43 -------------------- \n",
      " Параметры: {'max_depth': 7, 'verbose': 0, 'n_estimators': 105, 'class_weight': {0: 0.01673800472926457, 1: 1}, 'random_state': 241} \n",
      " Среднее значение APS = 0.07551692648492139 \n",
      " Среднее значение AUC = 0.9364126883433952 \n",
      " Минимальное значение AUC = 0.9297754118645213\n"
     ]
    },
    {
     "name": "stderr",
     "output_type": "stream",
     "text": [
      "[I 2021-05-11 18:13:59,140] Trial 43 finished with value: 0.07428399659974763 and parameters: {'max_depth': 7, 'n_estimators': 105, 'class_weight': 0.01673800472926457}. Best is trial 34 with value: 0.07504942154403396.\n"
     ]
    },
    {
     "name": "stdout",
     "output_type": "stream",
     "text": [
      "Запущен новый подбор\n",
      "{'class_weight': {0: 0.01673800472926457, 1: 1},\n",
      " 'max_depth': 6,\n",
      " 'n_estimators': 144,\n",
      " 'random_state': 241,\n",
      " 'verbose': 0}\n",
      "{'high_outlier': None,\n",
      " 'low_outlier': None,\n",
      " 'scale': 'mean',\n",
      " 'yeo_johnson': False}\n",
      "-------------------- 11.05.2021 18:31:12 44 -------------------- \n",
      " Параметры: {'max_depth': 7, 'verbose': 0, 'n_estimators': 93, 'class_weight': {0: 0.01673800472926457, 1: 1}, 'random_state': 241} \n",
      " Среднее значение APS = 0.07646534784598488 \n",
      " Среднее значение AUC = 0.9346643350746338 \n",
      " Минимальное значение AUC = 0.9291627411606268\n"
     ]
    },
    {
     "name": "stderr",
     "output_type": "stream",
     "text": [
      "[I 2021-05-11 18:31:13,307] Trial 44 finished with value: 0.06545851372941314 and parameters: {'max_depth': 7, 'n_estimators': 93, 'class_weight': 0.01673800472926457}. Best is trial 34 with value: 0.07504942154403396.\n"
     ]
    },
    {
     "name": "stdout",
     "output_type": "stream",
     "text": [
      "Запущен новый подбор\n",
      "{'class_weight': {0: 0.01673800472926457, 1: 1},\n",
      " 'max_depth': 6,\n",
      " 'n_estimators': 83,\n",
      " 'random_state': 241,\n",
      " 'verbose': 0}\n",
      "{'high_outlier': None,\n",
      " 'low_outlier': None,\n",
      " 'scale': 'mean',\n",
      " 'yeo_johnson': False}\n",
      "-------------------- 11.05.2021 18:42:39 45 -------------------- \n",
      " Параметры: {'max_depth': 6, 'verbose': 0, 'n_estimators': 144, 'class_weight': {0: 0.01673800472926457, 1: 1}, 'random_state': 241} \n",
      " Среднее значение APS = 0.07388671611319447 \n",
      " Среднее значение AUC = 0.9326152190810568 \n",
      " Минимальное значение AUC = 0.9300463395163764\n"
     ]
    },
    {
     "name": "stderr",
     "output_type": "stream",
     "text": [
      "[I 2021-05-11 18:42:40,109] Trial 45 finished with value: 0.06491632694467314 and parameters: {'max_depth': 6, 'n_estimators': 144, 'class_weight': 0.01673800472926457}. Best is trial 34 with value: 0.07504942154403396.\n"
     ]
    },
    {
     "name": "stdout",
     "output_type": "stream",
     "text": [
      "Запущен новый подбор\n",
      "{'class_weight': {0: 0.01673800472926457, 1: 1},\n",
      " 'max_depth': 6,\n",
      " 'n_estimators': 80,\n",
      " 'random_state': 241,\n",
      " 'verbose': 0}\n",
      "{'high_outlier': None,\n",
      " 'low_outlier': None,\n",
      " 'scale': 'mean',\n",
      " 'yeo_johnson': False}\n",
      "-------------------- 11.05.2021 18:48:54 46 -------------------- \n",
      " Параметры: {'max_depth': 6, 'verbose': 0, 'n_estimators': 83, 'class_weight': {0: 0.01673800472926457, 1: 1}, 'random_state': 241} \n",
      " Среднее значение APS = 0.06660101086580919 \n",
      " Среднее значение AUC = 0.9295948555290434 \n",
      " Минимальное значение AUC = 0.9265913178197162\n"
     ]
    },
    {
     "name": "stderr",
     "output_type": "stream",
     "text": [
      "[I 2021-05-11 18:48:55,238] Trial 46 finished with value: 0.06143732763303489 and parameters: {'max_depth': 6, 'n_estimators': 83, 'class_weight': 0.01673800472926457}. Best is trial 34 with value: 0.07504942154403396.\n"
     ]
    },
    {
     "name": "stdout",
     "output_type": "stream",
     "text": [
      "Запущен новый подбор\n",
      "{'class_weight': {0: 2.7896674548774282e-05, 1: 1},\n",
      " 'max_depth': 5,\n",
      " 'n_estimators': 119,\n",
      " 'random_state': 241,\n",
      " 'verbose': 0}\n",
      "{'high_outlier': None,\n",
      " 'low_outlier': None,\n",
      " 'scale': 'mean',\n",
      " 'yeo_johnson': False}\n",
      "-------------------- 11.05.2021 19:00:54 47 -------------------- \n",
      " Параметры: {'max_depth': 6, 'verbose': 0, 'n_estimators': 80, 'class_weight': {0: 0.01673800472926457, 1: 1}, 'random_state': 241} \n",
      " Среднее значение APS = 0.07616342753212764 \n",
      " Среднее значение AUC = 0.9293435685881577 \n",
      " Минимальное значение AUC = 0.9234813233434088\n"
     ]
    },
    {
     "name": "stderr",
     "output_type": "stream",
     "text": [
      "[I 2021-05-11 19:00:55,243] Trial 47 finished with value: 0.06945473598889212 and parameters: {'max_depth': 6, 'n_estimators': 80, 'class_weight': 0.01673800472926457}. Best is trial 34 with value: 0.07504942154403396.\n"
     ]
    },
    {
     "name": "stdout",
     "output_type": "stream",
     "text": [
      "Запущен новый подбор\n",
      "{'class_weight': {0: 2.7896674548774282e-05, 1: 1},\n",
      " 'max_depth': 7,\n",
      " 'n_estimators': 121,\n",
      " 'random_state': 241,\n",
      " 'verbose': 0}\n",
      "{'high_outlier': None,\n",
      " 'low_outlier': None,\n",
      " 'scale': 'mean',\n",
      " 'yeo_johnson': False}\n",
      "-------------------- 11.05.2021 19:12:58 48 -------------------- \n",
      " Параметры: {'max_depth': 5, 'verbose': 0, 'n_estimators': 119, 'class_weight': {0: 2.7896674548774282e-05, 1: 1}, 'random_state': 241} \n",
      " Среднее значение APS = 0.03673155708712387 \n",
      " Среднее значение AUC = 0.8646880274406891 \n",
      " Минимальное значение AUC = 0.858872037402722\n"
     ]
    },
    {
     "name": "stderr",
     "output_type": "stream",
     "text": [
      "[I 2021-05-11 19:12:59,878] Trial 48 finished with value: 0.02810083378053124 and parameters: {'max_depth': 5, 'n_estimators': 119, 'class_weight': 2.7896674548774282e-05}. Best is trial 34 with value: 0.07504942154403396.\n"
     ]
    },
    {
     "name": "stdout",
     "output_type": "stream",
     "text": [
      "-------------------- 11.05.2021 19:26:57 49 -------------------- \n",
      " Параметры: {'max_depth': 7, 'verbose': 0, 'n_estimators': 121, 'class_weight': {0: 2.7896674548774282e-05, 1: 1}, 'random_state': 241} \n",
      " Среднее значение APS = 0.03364753112787018 \n",
      " Среднее значение AUC = 0.8694362482887134 \n",
      " Минимальное значение AUC = 0.8461916665368472\n"
     ]
    },
    {
     "name": "stderr",
     "output_type": "stream",
     "text": [
      "[I 2021-05-11 19:26:57,493] Trial 49 finished with value: 0.030153226371046345 and parameters: {'max_depth': 7, 'n_estimators': 121, 'class_weight': 2.7896674548774282e-05}. Best is trial 34 with value: 0.07504942154403396.\n"
     ]
    }
   ],
   "source": [
    "params_df = find_meta_params_optuna(train2, train[target], params_dictionary, pass_model, \n",
    "                     sort_by_var, list_of_vars_for_strat, n_folds, second_target, yeo_johnson, \n",
    "                     attribute_list = None, var_col = None, categorial_list = list_of_categories_sel, \n",
    "                     cols_outlier = None, need_business = False, \n",
    "                     draw = False, draw_by_approval_rate = False,\n",
    "                     simple_b_score = None, business_dict = None, business_dict_sec = None,\n",
    "                     scale = 'mean', median = 'median',\n",
    "                     high_outlier = None, \n",
    "                     low_outlier = None, check_percentile = 1, random_state = None, task = 'binary', k_logs = 1,\n",
    "                     cut_non_out_9999 = True, optimize_metric=\"APS\",\n",
    "                     direction='maximize', n_trials=50, path=PATH+'Modeling_fin/', \n",
    "                     n_jobs=2,a=0, k_fold_method=\"min\")"
   ]
  },
  {
   "cell_type": "code",
   "execution_count": 206,
   "metadata": {
    "ExecuteTime": {
     "end_time": "2021-05-11T18:17:31.136759Z",
     "start_time": "2021-05-11T18:17:31.106086Z"
    }
   },
   "outputs": [],
   "source": [
    "params_df_forest = params_df.copy()\n",
    "params_df_forest.reset_index(inplace=True)\n",
    "params_df_forest.to_csv(PATH+'Modeling_fin/params_df_forest.csv', sep= '&')"
   ]
  },
  {
   "cell_type": "code",
   "execution_count": 504,
   "metadata": {
    "ExecuteTime": {
     "end_time": "2021-05-13T09:01:07.257703Z",
     "start_time": "2021-05-13T09:01:07.240702Z"
    }
   },
   "outputs": [],
   "source": [
    "params_df_forest = pd.read_csv(PATH+'Modeling_fin/params_df_forest.csv', sep= '&')"
   ]
  },
  {
   "cell_type": "code",
   "execution_count": 505,
   "metadata": {
    "ExecuteTime": {
     "end_time": "2021-05-13T09:01:07.272703Z",
     "start_time": "2021-05-13T09:01:07.262702Z"
    }
   },
   "outputs": [],
   "source": [
    "best_forest_by_aps = params_df_forest.sort_values(by='APS', ascending=False)['index'].to_list()[0]\n",
    "best_forest_by_auc = params_df_forest.sort_values(by='AUC', ascending=False)['index'].to_list()[0]"
   ]
  },
  {
   "cell_type": "code",
   "execution_count": 506,
   "metadata": {
    "ExecuteTime": {
     "end_time": "2021-05-13T09:01:07.290706Z",
     "start_time": "2021-05-13T09:01:07.276703Z"
    }
   },
   "outputs": [],
   "source": [
    "params = {i:params_df_forest.loc[params_df_forest['index'] == best_forest_by_auc, i].to_list()[0] for i in  \n",
    "                      ['max_depth', 'n_estimators', 'class_weight_0', 'random_state']}\n",
    "best_params_by_auc = {}\n",
    "for key, value in params.items():\n",
    "    if len(re.findall('class_weight', key)) > 0:\n",
    "        best_params_by_auc['class_weight'] = eval(value)\n",
    "    else:\n",
    "        best_params_by_auc[key] = value\n",
    "        \n",
    "        \n",
    "params = {i:params_df_forest.loc[params_df_forest['index'] == best_forest_by_aps, i].to_list()[0] for i in  \n",
    "                      ['max_depth', 'n_estimators', 'class_weight_0', 'random_state']}\n",
    "best_params_by_aps = {}\n",
    "for key, value in params.items():\n",
    "    if len(re.findall('class_weight', key)) > 0:\n",
    "        best_params_by_aps['class_weight'] = eval(value)\n",
    "    else:\n",
    "        best_params_by_aps[key] = value"
   ]
  },
  {
   "cell_type": "code",
   "execution_count": 538,
   "metadata": {
    "ExecuteTime": {
     "end_time": "2021-05-17T12:46:11.060506Z",
     "start_time": "2021-05-17T12:46:11.048506Z"
    }
   },
   "outputs": [
    {
     "data": {
      "text/plain": [
       "{'max_depth': 7,\n",
       " 'n_estimators': 113,\n",
       " 'class_weight': {0: 0.01673800472926457, 1: 1},\n",
       " 'random_state': 241}"
      ]
     },
     "execution_count": 538,
     "metadata": {},
     "output_type": "execute_result"
    }
   ],
   "source": [
    "best_params_by_aps"
   ]
  },
  {
   "cell_type": "code",
   "execution_count": 508,
   "metadata": {
    "ExecuteTime": {
     "end_time": "2021-05-13T09:01:07.320845Z",
     "start_time": "2021-05-13T09:01:07.314845Z"
    }
   },
   "outputs": [
    {
     "data": {
      "text/plain": [
       "{'max_depth': 7,\n",
       " 'n_estimators': 102,\n",
       " 'class_weight': {0: 0.01673800472926457, 1: 1},\n",
       " 'random_state': 241}"
      ]
     },
     "execution_count": 508,
     "metadata": {},
     "output_type": "execute_result"
    }
   ],
   "source": [
    "best_params_by_auc"
   ]
  },
  {
   "cell_type": "code",
   "execution_count": 510,
   "metadata": {
    "ExecuteTime": {
     "end_time": "2021-05-13T09:22:14.975147Z",
     "start_time": "2021-05-13T09:01:07.348846Z"
    }
   },
   "outputs": [
    {
     "name": "stdout",
     "output_type": "stream",
     "text": [
      "Starting training... 13.05.2021 12:01:07\n",
      "Ending training... 13.05.2021 12:18:29\n",
      "roc auc train =  0.9541 aps train =  0.1433 nap train =  0.1409 bf train =  0.0028\n",
      "groc aucini test =  0.9371 aps test =  0.065 nap test =  0.0622 bf test =  0.003\n",
      "roc auc oot =  0.9468 aps oot =  0.0689 nap oot =  0.066 bf oot =  0.0031\n",
      "roc auc oot 2013 =  0.8459 aps oot 2013 =  0.0733 nap oot 2013 =  0.0604 bf oot 2013 =  0.0137\n",
      "Calculate profits\n"
     ]
    }
   ],
   "source": [
    "forest_class = RandomForestClassifier(**best_params_by_auc)\n",
    "print('Starting training...', datetime.strftime(datetime.now(), \"%d.%m.%Y %H:%M:%S\"))\n",
    "best_forest = forest_class.fit(train_lgbm_data, y_train)\n",
    "\n",
    "print('Ending training...', datetime.strftime(datetime.now(), \"%d.%m.%Y %H:%M:%S\"))\n",
    "\n",
    "y_train_pred = best_forest.predict_proba(train_lgbm_data)[:, 1]\n",
    "y_test_pred = best_forest.predict_proba(test_lgbm_data)[:, 1]\n",
    "y_oot_pred = best_forest.predict_proba(oot_lgbm_data)[:, 1]\n",
    "y_oot_pred_2013 = best_forest.predict_proba(oot_lgbm_data_2013)[:, 1]\n",
    "\n",
    "##########################################################################\n",
    "\n",
    "roc_auc_train = roc_auc_score(y_train, y_train_pred)\n",
    "aps_train = average_precision_score(y_train, y_train_pred)\n",
    "br_train = np.mean(y_train)\n",
    "nap_train = (aps_train - br_train)/(1-br_train)\n",
    "auc_train, auc_var_train, lower_upper_ci_train = auc_ci_Delong(y_train, y_train_pred)\n",
    "lower_apr_train, upper_apr_train = aps_ci_logit(y_train, y_train_pred, epsilon=0.05)\n",
    "\n",
    "roc_auc_test = roc_auc_score(y_test, y_test_pred)\n",
    "aps_test = average_precision_score(y_test, y_test_pred)\n",
    "br_test = np.mean(y_test)\n",
    "nap_test = (aps_test - br_test)/(1-br_test)\n",
    "auc_test, auc_var_test, lower_upper_ci_test = auc_ci_Delong(y_test, y_test_pred)\n",
    "lower_apr_test, upper_apr_test = aps_ci_logit(y_test, y_test_pred, epsilon=0.05)\n",
    "\n",
    "roc_auc_oot = roc_auc_score(y_oot, y_oot_pred)\n",
    "aps_oot = average_precision_score(y_oot, y_oot_pred)\n",
    "br_oot = np.mean(y_oot)\n",
    "nap_oot = (aps_oot - br_oot)/(1-br_oot)\n",
    "auc_oot, auc_var_oot, lower_upper_ci_oot = auc_ci_Delong(y_oot, y_oot_pred)\n",
    "lower_apr_oot, upper_apr_oot = aps_ci_logit(y_oot, y_oot_pred, epsilon=0.05)\n",
    "\n",
    "roc_auc_oot_2013 = roc_auc_score(y_oot_2013, y_oot_pred_2013)\n",
    "aps_oot_2013 = average_precision_score(y_oot_2013, y_oot_pred_2013)\n",
    "br_oot_2013 = np.mean(y_oot_2013)\n",
    "nap_oot_2013 = (aps_oot_2013 - br_oot_2013)/(1-br_oot_2013)\n",
    "auc_oot_2013, auc_var_oot_2013, lower_upper_ci_oot_2013 = auc_ci_Delong(y_oot_2013, y_oot_pred_2013)\n",
    "lower_apr_oot_2013, upper_apr_oot_2013 = aps_ci_logit(y_oot_2013, y_oot_pred_2013, epsilon=0.05)\n",
    "\n",
    "##########################################################################\n",
    "\n",
    "print('roc auc train = ', round(roc_auc_train, 4), \n",
    "      'aps train = ', round(aps_train, 4),\n",
    "      'nap train = ', round(nap_train, 4),\n",
    "      'bf train = ', round(br_train, 4))\n",
    "\n",
    "print('groc aucini test = ', round(roc_auc_test, 4), \n",
    "      'aps test = ', round(aps_test, 4),\n",
    "      'nap test = ', round(nap_test, 4),\n",
    "      'bf test = ', round(br_test, 4))\n",
    "\n",
    "print('roc auc oot = ', round(roc_auc_oot, 4), \n",
    "      'aps oot = ', round(aps_oot, 4),\n",
    "      'nap oot = ', round(nap_oot, 4),\n",
    "      'bf oot = ', round(br_oot, 4))\n",
    "\n",
    "print('roc auc oot 2013 = ', round(roc_auc_oot_2013, 4), \n",
    "      'aps oot 2013 = ', round(aps_oot_2013, 4),\n",
    "      'nap oot 2013 = ', round(nap_oot_2013, 4),\n",
    "      'bf oot 2013 = ', round(br_oot_2013, 4))\n",
    "\n",
    "scores_optuna = pd.DataFrame()\n",
    "\n",
    "scores_optuna['bad rate train'] = [br_train]\n",
    "scores_optuna['bad rate test'] = [br_test]\n",
    "scores_optuna['bad rate oot'] = [br_oot]\n",
    "scores_optuna['bad rate oot 2013'] = [br_oot_2013]\n",
    "\n",
    "scores_optuna['roc auc train'] = [roc_auc_train]\n",
    "scores_optuna['roc auc test'] = [roc_auc_test]\n",
    "scores_optuna['roc auc oot'] = [roc_auc_oot]\n",
    "scores_optuna['roc auc oot 2013'] = [roc_auc_oot_2013]\n",
    "\n",
    "scores_optuna['roc_auc train lower upper'] = [lower_upper_ci_train]\n",
    "scores_optuna['roc_auc test lower upper'] = [lower_upper_ci_test]\n",
    "scores_optuna['roc_auc oot lower upper'] = [lower_upper_ci_oot]\n",
    "scores_optuna['roc_auc oot 2013 lower upper'] = [lower_upper_ci_oot_2013]\n",
    "\n",
    "scores_optuna['aps train'] = [aps_train]\n",
    "scores_optuna['aps test'] = [aps_test]\n",
    "scores_optuna['aps oot'] = [aps_oot]\n",
    "scores_optuna['aps oot 2013'] = [aps_oot_2013]\n",
    "\n",
    "scores_optuna['aps upper train'] = [upper_apr_train]\n",
    "scores_optuna['aps upper test'] = [upper_apr_test]\n",
    "scores_optuna['aps upper oot'] = [upper_apr_oot]\n",
    "scores_optuna['aps upper oot 2013'] = [upper_apr_oot_2013]\n",
    "\n",
    "scores_optuna['aps lower train'] = [lower_apr_train]\n",
    "scores_optuna['aps lower test'] = [lower_apr_test]\n",
    "scores_optuna['aps lower oot'] = [lower_apr_oot]\n",
    "scores_optuna['aps lower oot 2013'] = [lower_apr_oot_2013]\n",
    "\n",
    "scores_optuna['nap train'] = [nap_train]\n",
    "scores_optuna['nap test'] = [nap_test]\n",
    "scores_optuna['nap oot'] = [nap_oot]\n",
    "scores_optuna['nap oot 2013'] = [nap_oot_2013]\n",
    "\n",
    "#########################################################################\n",
    "\n",
    "predictions_train = pd.DataFrame()\n",
    "predictions_test = pd.DataFrame()\n",
    "predictions_oot = pd.DataFrame()\n",
    "predictions_oot_2013 = pd.DataFrame()\n",
    "\n",
    "predictions_train['prediction'] = y_train_pred\n",
    "predictions_train['bad_flag'] = y_train\n",
    "predictions_train['loss_90p'] = train_losses\n",
    "predictions_train['period_7'] = train_period_7\n",
    "predictions_train['APPPOSID'] = train['APPPOSID'].copy()\n",
    "\n",
    "predictions_test['prediction'] = y_test_pred\n",
    "predictions_test['bad_flag'] = y_test\n",
    "predictions_test['loss_90p'] = test_losses\n",
    "predictions_test['period_7'] = test_period_7\n",
    "predictions_test['APPPOSID'] = test['APPPOSID'].copy()\n",
    "\n",
    "predictions_oot['prediction'] = y_oot_pred\n",
    "predictions_oot['bad_flag'] = y_oot\n",
    "predictions_oot['loss_90p'] = oot_losses\n",
    "predictions_oot['period_7'] = oot_period_7\n",
    "predictions_oot['APPPOSID'] = oot['APPPOSID'].copy()\n",
    "\n",
    "predictions_oot_2013['prediction'] = y_oot_pred_2013\n",
    "predictions_oot_2013['bad_flag'] = y_oot_2013\n",
    "predictions_oot_2013['loss_90p'] = oot_losses_2013\n",
    "predictions_oot_2013['period_7'] = oot_period_7_2013\n",
    "predictions_oot_2013['APPPOSID'] = oot_2013['APPPOSID'].copy()\n",
    "\n",
    "print('Calculate profits')\n",
    "\n",
    "saved_money_test_tt = antifraud_profit_metrics_by_periods(predictions_test, \n",
    "                                                                   'prediction', 'loss_90p', \n",
    "                                                                   'bad_flag', 'period_7', \n",
    "                                                                   to_select = 5, n_jobs = 3)[0]\n",
    "saved_money_test_2_tt = antifraud_profit_metrics_by_periods(predictions_oot, \n",
    "                                                                     'prediction', 'loss_90p', \n",
    "                                                                     'bad_flag', 'period_7',\n",
    "                                                                     to_select = 5, n_jobs = 3)[0]\n",
    "saved_money_2013_tt = antifraud_profit_metrics_by_periods(predictions_oot_2013, \n",
    "                                                                   'prediction', 'loss_90p', \n",
    "                                                                   'bad_flag', 'period_7',\n",
    "                                                                   to_select = 40, n_jobs = 3)[0]\n",
    "\n",
    "#####################################################################################\n",
    "\n",
    "saved_money_test_distinct_tt = antifraud_profit_metrics_by_periods_unique_tt(predictions_test, \n",
    "                                                                             'prediction', 'loss_90p', \n",
    "                                                                             'bad_flag', 'period_7', \n",
    "                                                                             'APPPOSID',\n",
    "                                                                             to_select = 5, n_jobs = 1)\n",
    "saved_money_test_2_distinct_tt = antifraud_profit_metrics_by_periods_unique_tt(predictions_oot, \n",
    "                                                                               'prediction', 'loss_90p', \n",
    "                                                                               'bad_flag', 'period_7', \n",
    "                                                                               'APPPOSID',\n",
    "                                                                               to_select = 5, n_jobs = 1)\n",
    "saved_money_2013_distinct_tt = antifraud_profit_metrics_by_periods_unique_tt(predictions_oot_2013, \n",
    "                                                                             'prediction', 'loss_90p', \n",
    "                                                                             'bad_flag', 'period_7', \n",
    "                                                                             'APPPOSID',\n",
    "                                                                             to_select = 40, n_jobs = 1)\n",
    "\n",
    "#####################################################################################\n",
    "\n",
    "saved_money_test_distinct_tt_new = antifraud_profit_metrics_by_periods_unique_tt3(predictions_test, \n",
    "                                                                                  'prediction', 'loss_90p',\n",
    "                                                                                  'bad_flag', 'period_7', \n",
    "                                                                                  'APPPOSID',\n",
    "                                                                                  to_select = 5)[0]\n",
    "saved_money_test_2_distinct_tt_new = antifraud_profit_metrics_by_periods_unique_tt3(predictions_oot, \n",
    "                                                                                    'prediction', 'loss_90p',\n",
    "                                                                                    'bad_flag', 'period_7', \n",
    "                                                                                    'APPPOSID',\n",
    "                                                                                    to_select = 5)[0]\n",
    "saved_money_2013_distinct_tt_new = antifraud_profit_metrics_by_periods_unique_tt3(predictions_oot_2013, \n",
    "                                                                                  'prediction', 'loss_90p', \n",
    "                                                                                  'bad_flag', 'period_7', \n",
    "                                                                                  'APPPOSID',\n",
    "                                                                                  to_select = 40)[0]\n",
    "scores_optuna['saved_money_test_tt'] = [saved_money_test_tt]\n",
    "scores_optuna['saved_money_test_tt_multiply'] = [saved_money_test_tt*8]\n",
    "scores_optuna['saved_money_test_2_tt'] = [saved_money_test_2_tt]\n",
    "scores_optuna['saved_money_test_2_tt_multiply'] = [saved_money_test_2_tt*8]\n",
    "scores_optuna['saved_money_2013_tt'] = [saved_money_2013_tt]\n",
    "scores_optuna['saved_money_2013_tt_multiply'] = [saved_money_2013_tt]\n",
    "\n",
    "scores_optuna['saved_money_test_unique_tt'] = [saved_money_test_distinct_tt]\n",
    "scores_optuna['saved_money_test_unique_tt_multiply'] = [saved_money_test_distinct_tt*8]\n",
    "scores_optuna['saved_money_test_2_unique_tt'] = [saved_money_test_2_distinct_tt]\n",
    "scores_optuna['saved_money_test_2_unique_tt_multiply'] = [saved_money_test_2_distinct_tt*8]\n",
    "scores_optuna['saved_money_2013_unique_tt'] = [saved_money_2013_distinct_tt]\n",
    "scores_optuna['saved_money_2013_unique_tt_multiply'] = [saved_money_2013_distinct_tt]\n",
    "\n",
    "scores_optuna['saved_money_test_unique_tt_new'] = [saved_money_test_distinct_tt_new]\n",
    "scores_optuna['saved_money_test_unique_tt_new_multiply'] = [saved_money_test_distinct_tt_new*8]\n",
    "scores_optuna['saved_money_test_2_unique_tt_new'] = [saved_money_test_2_distinct_tt_new]\n",
    "scores_optuna['saved_money_test_2_unique_tt_new_multiply'] = [saved_money_test_2_distinct_tt_new*8]\n",
    "scores_optuna['saved_money_2013_unique_tt_new'] = [saved_money_2013_distinct_tt_new]\n",
    "scores_optuna['saved_money_2013_unique_tt_new_multiply'] = [saved_money_2013_distinct_tt_new]\n",
    "\n",
    "scores_optuna.to_csv(PATH + 'Modeling_fin/scores_forest_optuna1_roc.csv', sep = '&')"
   ]
  },
  {
   "cell_type": "code",
   "execution_count": null,
   "metadata": {},
   "outputs": [],
   "source": []
  },
  {
   "cell_type": "code",
   "execution_count": 539,
   "metadata": {
    "ExecuteTime": {
     "end_time": "2021-05-17T13:11:14.627174Z",
     "start_time": "2021-05-17T12:46:21.814656Z"
    }
   },
   "outputs": [
    {
     "name": "stdout",
     "output_type": "stream",
     "text": [
      "Starting training... 17.05.2021 15:46:21\n",
      "Ending training... 17.05.2021 16:06:35\n",
      "roc auc train =  0.9544 aps train =  0.1433 nap train =  0.1409 bf train =  0.0028\n",
      "groc aucini test =  0.9379 aps test =  0.065 nap test =  0.0622 bf test =  0.003\n",
      "roc auc oot =  0.9474 aps oot =  0.0692 nap oot =  0.0663 bf oot =  0.0031\n",
      "roc auc oot 2013 =  0.8465 aps oot 2013 =  0.0732 nap oot 2013 =  0.0603 bf oot 2013 =  0.0137\n",
      "Calculate profits\n"
     ]
    }
   ],
   "source": [
    "forest_class = RandomForestClassifier(**best_params_by_aps)\n",
    "print('Starting training...', datetime.strftime(datetime.now(), \"%d.%m.%Y %H:%M:%S\"))\n",
    "# train\n",
    "best_forest = forest_class.fit(train_lgbm_data, y_train)\n",
    "\n",
    "print('Ending training...', datetime.strftime(datetime.now(), \"%d.%m.%Y %H:%M:%S\"))\n",
    "\n",
    "y_train_pred = best_forest.predict_proba(train_lgbm_data)[:, 1]\n",
    "y_test_pred = best_forest.predict_proba(test_lgbm_data)[:, 1]\n",
    "y_oot_pred = best_forest.predict_proba(oot_lgbm_data)[:, 1]\n",
    "y_oot_pred_2013 = best_forest.predict_proba(oot_lgbm_data_2013)[:, 1]\n",
    "\n",
    "##########################################################################\n",
    "\n",
    "roc_auc_train = roc_auc_score(y_train, y_train_pred)\n",
    "aps_train = average_precision_score(y_train, y_train_pred)\n",
    "br_train = np.mean(y_train)\n",
    "nap_train = (aps_train - br_train)/(1-br_train)\n",
    "auc_train, auc_var_train, lower_upper_ci_train = auc_ci_Delong(y_train, y_train_pred)\n",
    "lower_apr_train, upper_apr_train = aps_ci_logit(y_train, y_train_pred, epsilon=0.05)\n",
    "\n",
    "roc_auc_test = roc_auc_score(y_test, y_test_pred)\n",
    "aps_test = average_precision_score(y_test, y_test_pred)\n",
    "br_test = np.mean(y_test)\n",
    "nap_test = (aps_test - br_test)/(1-br_test)\n",
    "auc_test, auc_var_test, lower_upper_ci_test = auc_ci_Delong(y_test, y_test_pred)\n",
    "lower_apr_test, upper_apr_test = aps_ci_logit(y_test, y_test_pred, epsilon=0.05)\n",
    "\n",
    "roc_auc_oot = roc_auc_score(y_oot, y_oot_pred)\n",
    "aps_oot = average_precision_score(y_oot, y_oot_pred)\n",
    "br_oot = np.mean(y_oot)\n",
    "nap_oot = (aps_oot - br_oot)/(1-br_oot)\n",
    "auc_oot, auc_var_oot, lower_upper_ci_oot = auc_ci_Delong(y_oot, y_oot_pred)\n",
    "lower_apr_oot, upper_apr_oot = aps_ci_logit(y_oot, y_oot_pred, epsilon=0.05)\n",
    "\n",
    "roc_auc_oot_2013 = roc_auc_score(y_oot_2013, y_oot_pred_2013)\n",
    "aps_oot_2013 = average_precision_score(y_oot_2013, y_oot_pred_2013)\n",
    "br_oot_2013 = np.mean(y_oot_2013)\n",
    "nap_oot_2013 = (aps_oot_2013 - br_oot_2013)/(1-br_oot_2013)\n",
    "auc_oot_2013, auc_var_oot_2013, lower_upper_ci_oot_2013 = auc_ci_Delong(y_oot_2013, y_oot_pred_2013)\n",
    "lower_apr_oot_2013, upper_apr_oot_2013 = aps_ci_logit(y_oot_2013, y_oot_pred_2013, epsilon=0.05)\n",
    "\n",
    "##########################################################################\n",
    "\n",
    "print('roc auc train = ', round(roc_auc_train, 4), \n",
    "      'aps train = ', round(aps_train, 4),\n",
    "      'nap train = ', round(nap_train, 4),\n",
    "      'bf train = ', round(br_train, 4))\n",
    "\n",
    "print('groc aucini test = ', round(roc_auc_test, 4), \n",
    "      'aps test = ', round(aps_test, 4),\n",
    "      'nap test = ', round(nap_test, 4),\n",
    "      'bf test = ', round(br_test, 4))\n",
    "\n",
    "print('roc auc oot = ', round(roc_auc_oot, 4), \n",
    "      'aps oot = ', round(aps_oot, 4),\n",
    "      'nap oot = ', round(nap_oot, 4),\n",
    "      'bf oot = ', round(br_oot, 4))\n",
    "\n",
    "print('roc auc oot 2013 = ', round(roc_auc_oot_2013, 4), \n",
    "      'aps oot 2013 = ', round(aps_oot_2013, 4),\n",
    "      'nap oot 2013 = ', round(nap_oot_2013, 4),\n",
    "      'bf oot 2013 = ', round(br_oot_2013, 4))\n",
    "\n",
    "scores_optuna = pd.DataFrame()\n",
    "\n",
    "scores_optuna['bad rate train'] = [br_train]\n",
    "scores_optuna['bad rate test'] = [br_test]\n",
    "scores_optuna['bad rate oot'] = [br_oot]\n",
    "scores_optuna['bad rate oot 2013'] = [br_oot_2013]\n",
    "\n",
    "scores_optuna['roc auc train'] = [roc_auc_train]\n",
    "scores_optuna['roc auc test'] = [roc_auc_test]\n",
    "scores_optuna['roc auc oot'] = [roc_auc_oot]\n",
    "scores_optuna['roc auc oot 2013'] = [roc_auc_oot_2013]\n",
    "\n",
    "scores_optuna['roc_auc train lower upper'] = [lower_upper_ci_train]\n",
    "scores_optuna['roc_auc test lower upper'] = [lower_upper_ci_test]\n",
    "scores_optuna['roc_auc oot lower upper'] = [lower_upper_ci_oot]\n",
    "scores_optuna['roc_auc oot 2013 lower upper'] = [lower_upper_ci_oot_2013]\n",
    "\n",
    "scores_optuna['aps train'] = [aps_train]\n",
    "scores_optuna['aps test'] = [aps_test]\n",
    "scores_optuna['aps oot'] = [aps_oot]\n",
    "scores_optuna['aps oot 2013'] = [aps_oot_2013]\n",
    "\n",
    "scores_optuna['aps upper train'] = [upper_apr_train]\n",
    "scores_optuna['aps upper test'] = [upper_apr_test]\n",
    "scores_optuna['aps upper oot'] = [upper_apr_oot]\n",
    "scores_optuna['aps upper oot 2013'] = [upper_apr_oot_2013]\n",
    "\n",
    "scores_optuna['aps lower train'] = [lower_apr_train]\n",
    "scores_optuna['aps lower test'] = [lower_apr_test]\n",
    "scores_optuna['aps lower oot'] = [lower_apr_oot]\n",
    "scores_optuna['aps lower oot 2013'] = [lower_apr_oot_2013]\n",
    "\n",
    "scores_optuna['nap train'] = [nap_train]\n",
    "scores_optuna['nap test'] = [nap_test]\n",
    "scores_optuna['nap oot'] = [nap_oot]\n",
    "scores_optuna['nap oot 2013'] = [nap_oot_2013]\n",
    "\n",
    "#########################################################################\n",
    "\n",
    "predictions_train = pd.DataFrame()\n",
    "predictions_test = pd.DataFrame()\n",
    "predictions_oot = pd.DataFrame()\n",
    "predictions_oot_2013 = pd.DataFrame()\n",
    "\n",
    "predictions_train['prediction'] = y_train_pred\n",
    "predictions_train['bad_flag'] = y_train\n",
    "predictions_train['loss_90p'] = train_losses\n",
    "predictions_train['period_7'] = train_period_7\n",
    "predictions_train['APPPOSID'] = train['APPPOSID'].copy()\n",
    "\n",
    "predictions_test['prediction'] = y_test_pred\n",
    "predictions_test['bad_flag'] = y_test\n",
    "predictions_test['loss_90p'] = test_losses\n",
    "predictions_test['period_7'] = test_period_7\n",
    "predictions_test['APPPOSID'] = test['APPPOSID'].copy()\n",
    "\n",
    "predictions_oot['prediction'] = y_oot_pred\n",
    "predictions_oot['bad_flag'] = y_oot\n",
    "predictions_oot['loss_90p'] = oot_losses\n",
    "predictions_oot['period_7'] = oot_period_7\n",
    "predictions_oot['APPPOSID'] = oot['APPPOSID'].copy()\n",
    "\n",
    "predictions_oot_2013['prediction'] = y_oot_pred_2013\n",
    "predictions_oot_2013['bad_flag'] = y_oot_2013\n",
    "predictions_oot_2013['loss_90p'] = oot_losses_2013\n",
    "predictions_oot_2013['period_7'] = oot_period_7_2013\n",
    "predictions_oot_2013['APPPOSID'] = oot_2013['APPPOSID'].copy()\n",
    "\n",
    "print('Calculate profits')\n",
    "\n",
    "saved_money_test_tt = antifraud_profit_metrics_by_periods(predictions_test, \n",
    "                                                                   'prediction', 'loss_90p', \n",
    "                                                                   'bad_flag', 'period_7', \n",
    "                                                                   to_select = 5, n_jobs = 3)[0]\n",
    "saved_money_test_2_tt = antifraud_profit_metrics_by_periods(predictions_oot, \n",
    "                                                                     'prediction', 'loss_90p', \n",
    "                                                                     'bad_flag', 'period_7',\n",
    "                                                                     to_select = 5, n_jobs = 3)[0]\n",
    "saved_money_2013_tt = antifraud_profit_metrics_by_periods(predictions_oot_2013, \n",
    "                                                                   'prediction', 'loss_90p', \n",
    "                                                                   'bad_flag', 'period_7',\n",
    "                                                                   to_select = 40, n_jobs = 3)[0]\n",
    "\n",
    "#####################################################################################\n",
    "\n",
    "saved_money_test_distinct_tt = antifraud_profit_metrics_by_periods_unique_tt(predictions_test, \n",
    "                                                                             'prediction', 'loss_90p', \n",
    "                                                                             'bad_flag', 'period_7', \n",
    "                                                                             'APPPOSID',\n",
    "                                                                             to_select = 5, n_jobs = 1)\n",
    "saved_money_test_2_distinct_tt = antifraud_profit_metrics_by_periods_unique_tt(predictions_oot, \n",
    "                                                                               'prediction', 'loss_90p', \n",
    "                                                                               'bad_flag', 'period_7', \n",
    "                                                                               'APPPOSID',\n",
    "                                                                               to_select = 5, n_jobs = 1)\n",
    "saved_money_2013_distinct_tt = antifraud_profit_metrics_by_periods_unique_tt(predictions_oot_2013, \n",
    "                                                                             'prediction', 'loss_90p', \n",
    "                                                                             'bad_flag', 'period_7', \n",
    "                                                                             'APPPOSID',\n",
    "                                                                             to_select = 40, n_jobs = 1)\n",
    "\n",
    "#####################################################################################\n",
    "\n",
    "saved_money_test_distinct_tt_new = antifraud_profit_metrics_by_periods_unique_tt3(predictions_test, \n",
    "                                                                                  'prediction', 'loss_90p',\n",
    "                                                                                  'bad_flag', 'period_7', \n",
    "                                                                                  'APPPOSID',\n",
    "                                                                                  to_select = 5)[0]\n",
    "saved_money_test_2_distinct_tt_new = antifraud_profit_metrics_by_periods_unique_tt3(predictions_oot, \n",
    "                                                                                    'prediction', 'loss_90p',\n",
    "                                                                                    'bad_flag', 'period_7', \n",
    "                                                                                    'APPPOSID',\n",
    "                                                                                    to_select = 5)[0]\n",
    "saved_money_2013_distinct_tt_new = antifraud_profit_metrics_by_periods_unique_tt3(predictions_oot_2013, \n",
    "                                                                                  'prediction', 'loss_90p', \n",
    "                                                                                  'bad_flag', 'period_7', \n",
    "                                                                                  'APPPOSID',\n",
    "                                                                                  to_select = 40)[0]\n",
    "\n",
    "scores_optuna['saved_money_test_tt'] = [saved_money_test_tt]\n",
    "scores_optuna['saved_money_test_tt_multiply'] = [saved_money_test_tt*8]\n",
    "scores_optuna['saved_money_test_2_tt'] = [saved_money_test_2_tt]\n",
    "scores_optuna['saved_money_test_2_tt_multiply'] = [saved_money_test_2_tt*8]\n",
    "scores_optuna['saved_money_2013_tt'] = [saved_money_2013_tt]\n",
    "scores_optuna['saved_money_2013_tt_multiply'] = [saved_money_2013_tt]\n",
    "\n",
    "scores_optuna['saved_money_test_unique_tt'] = [saved_money_test_distinct_tt]\n",
    "scores_optuna['saved_money_test_unique_tt_multiply'] = [saved_money_test_distinct_tt*8]\n",
    "scores_optuna['saved_money_test_2_unique_tt'] = [saved_money_test_2_distinct_tt]\n",
    "scores_optuna['saved_money_test_2_unique_tt_multiply'] = [saved_money_test_2_distinct_tt*8]\n",
    "scores_optuna['saved_money_2013_unique_tt'] = [saved_money_2013_distinct_tt]\n",
    "scores_optuna['saved_money_2013_unique_tt_multiply'] = [saved_money_2013_distinct_tt]\n",
    "\n",
    "scores_optuna['saved_money_test_unique_tt_new'] = [saved_money_test_distinct_tt_new]\n",
    "scores_optuna['saved_money_test_unique_tt_new_multiply'] = [saved_money_test_distinct_tt_new*8]\n",
    "scores_optuna['saved_money_test_2_unique_tt_new'] = [saved_money_test_2_distinct_tt_new]\n",
    "scores_optuna['saved_money_test_2_unique_tt_new_multiply'] = [saved_money_test_2_distinct_tt_new*8]\n",
    "scores_optuna['saved_money_2013_unique_tt_new'] = [saved_money_2013_distinct_tt_new]\n",
    "scores_optuna['saved_money_2013_unique_tt_new_multiply'] = [saved_money_2013_distinct_tt_new]\n",
    "\n",
    "scores_optuna.to_csv(PATH + 'Modeling_fin/scores_forest_optuna2.csv', sep = '&')"
   ]
  },
  {
   "cell_type": "code",
   "execution_count": null,
   "metadata": {},
   "outputs": [],
   "source": []
  },
  {
   "cell_type": "code",
   "execution_count": 514,
   "metadata": {
    "ExecuteTime": {
     "end_time": "2021-05-13T10:49:28.415641Z",
     "start_time": "2021-05-13T10:39:07.317411Z"
    }
   },
   "outputs": [],
   "source": [
    "import shap\n",
    "explainer = shap.TreeExplainer(best_forest)\n",
    "shap_values = explainer.shap_values(test_lgbm_data)"
   ]
  },
  {
   "cell_type": "code",
   "execution_count": 517,
   "metadata": {
    "ExecuteTime": {
     "end_time": "2021-05-13T12:10:41.091756Z",
     "start_time": "2021-05-13T12:10:40.378711Z"
    }
   },
   "outputs": [],
   "source": [
    "shap_sum = np.abs(shap_values[0]).mean(axis=0)"
   ]
  },
  {
   "cell_type": "code",
   "execution_count": 518,
   "metadata": {
    "ExecuteTime": {
     "end_time": "2021-05-13T12:14:08.621502Z",
     "start_time": "2021-05-13T12:14:08.612501Z"
    }
   },
   "outputs": [],
   "source": [
    "cols = test_lgbm_data.columns.to_list()"
   ]
  },
  {
   "cell_type": "code",
   "execution_count": 523,
   "metadata": {
    "ExecuteTime": {
     "end_time": "2021-05-13T12:15:20.710773Z",
     "start_time": "2021-05-13T12:15:20.693771Z"
    }
   },
   "outputs": [],
   "source": [
    "importances = pd.DataFrame([cols, shap_sum]).T.rename(columns = {0: 'column', 1:'shap_mean'})"
   ]
  },
  {
   "cell_type": "code",
   "execution_count": 526,
   "metadata": {
    "ExecuteTime": {
     "end_time": "2021-05-13T12:42:32.559748Z",
     "start_time": "2021-05-13T12:42:31.892695Z"
    }
   },
   "outputs": [],
   "source": [
    "importances.to_excel(PATH + 'Modeling_fin/shap_values.xlsx')"
   ]
  },
  {
   "cell_type": "code",
   "execution_count": null,
   "metadata": {},
   "outputs": [],
   "source": []
  },
  {
   "cell_type": "markdown",
   "metadata": {},
   "source": [
    "## Without B test"
   ]
  },
  {
   "cell_type": "code",
   "execution_count": 540,
   "metadata": {
    "ExecuteTime": {
     "end_time": "2021-05-18T08:01:29.454209Z",
     "start_time": "2021-05-18T08:01:29.442205Z"
    }
   },
   "outputs": [],
   "source": [
    "new_features_data_no_vif = pd.read_csv('D:/Share/asmirnova5/Python-notebook/AF_ML_v2_2014/SandBox/selected_features_forest_no_b_test.csv', sep = '\\t')"
   ]
  },
  {
   "cell_type": "code",
   "execution_count": 414,
   "metadata": {
    "ExecuteTime": {
     "end_time": "2021-05-12T15:02:43.370543Z",
     "start_time": "2021-05-12T15:02:43.322541Z"
    }
   },
   "outputs": [
    {
     "data": {
      "text/plain": [
       "(126, 6)"
      ]
     },
     "execution_count": 414,
     "metadata": {},
     "output_type": "execute_result"
    }
   ],
   "source": [
    "new_features_data.shape"
   ]
  },
  {
   "cell_type": "code",
   "execution_count": 415,
   "metadata": {
    "ExecuteTime": {
     "end_time": "2021-05-12T15:02:43.390544Z",
     "start_time": "2021-05-12T15:02:43.381544Z"
    }
   },
   "outputs": [],
   "source": [
    "selected_features = new_features_data_no_vif\n",
    "sel_c = selected_features['genuine variable'].to_list()"
   ]
  },
  {
   "cell_type": "code",
   "execution_count": 418,
   "metadata": {
    "ExecuteTime": {
     "end_time": "2021-05-12T15:02:43.616560Z",
     "start_time": "2021-05-12T15:02:43.489551Z"
    },
    "scrolled": true
   },
   "outputs": [
    {
     "data": {
      "text/plain": [
       "224"
      ]
     },
     "execution_count": 418,
     "metadata": {},
     "output_type": "execute_result"
    }
   ],
   "source": [
    "gc.collect()"
   ]
  },
  {
   "cell_type": "code",
   "execution_count": 419,
   "metadata": {
    "ExecuteTime": {
     "end_time": "2021-05-12T15:09:23.838688Z",
     "start_time": "2021-05-12T15:02:43.667564Z"
    },
    "scrolled": true
   },
   "outputs": [],
   "source": [
    "train = pd.read_csv(PATH + 'Data Sets/' +  train_data, sep = '&', encoding = 'cp1251')\n",
    "test = pd.read_csv(PATH + 'Data Sets/' +  test_data, sep = '&', encoding = 'cp1251')\n",
    "oot = pd.read_csv(PATH + 'Data Sets/' +  oot_data, sep = '&', encoding = 'cp1251')\n",
    "\n",
    "oot_dataset1 = pd.read_csv(PATH+'Data Sets/'+'data_2013.csv', sep = '&', encoding = 'cp1251')\n",
    "oot_dataset1.columns = [i.upper() for i in oot_dataset1.columns]"
   ]
  },
  {
   "cell_type": "code",
   "execution_count": 420,
   "metadata": {
    "ExecuteTime": {
     "end_time": "2021-05-12T15:09:23.881689Z",
     "start_time": "2021-05-12T15:09:23.846688Z"
    },
    "scrolled": true
   },
   "outputs": [
    {
     "data": {
      "text/html": [
       "<div>\n",
       "<style scoped>\n",
       "    .dataframe tbody tr th:only-of-type {\n",
       "        vertical-align: middle;\n",
       "    }\n",
       "\n",
       "    .dataframe tbody tr th {\n",
       "        vertical-align: top;\n",
       "    }\n",
       "\n",
       "    .dataframe thead th {\n",
       "        text-align: right;\n",
       "    }\n",
       "</style>\n",
       "<table border=\"1\" class=\"dataframe\">\n",
       "  <thead>\n",
       "    <tr style=\"text-align: right;\">\n",
       "      <th></th>\n",
       "      <th>Unnamed: 0</th>\n",
       "      <th>APPPOSID</th>\n",
       "      <th>PERIOD_7</th>\n",
       "      <th>SUB_CHANNEL</th>\n",
       "      <th>COUNT_APP_7</th>\n",
       "      <th>COUNT_CONT_7</th>\n",
       "      <th>COUNT_APP_14</th>\n",
       "      <th>COUNT_CONT_14</th>\n",
       "      <th>COUNT_APP_30</th>\n",
       "      <th>COUNT_CONT_30</th>\n",
       "      <th>...</th>\n",
       "      <th>RULE_DIFF_INC_3_30</th>\n",
       "      <th>RULE_DIFF_INC_7_30</th>\n",
       "      <th>RULE_DIFF_INC_9_30</th>\n",
       "      <th>COUNT_INC_60</th>\n",
       "      <th>RULE_DIFF_INC_3_60</th>\n",
       "      <th>RULE_DIFF_INC_7_60</th>\n",
       "      <th>RULE_DIFF_INC_9_60</th>\n",
       "      <th>LOSS_90P</th>\n",
       "      <th>MONTH_YEAR</th>\n",
       "      <th>BAD_FLAG</th>\n",
       "    </tr>\n",
       "  </thead>\n",
       "  <tbody>\n",
       "    <tr>\n",
       "      <th>0</th>\n",
       "      <td>0</td>\n",
       "      <td>3175</td>\n",
       "      <td>124</td>\n",
       "      <td>LOCALS_OFFLINE</td>\n",
       "      <td>7</td>\n",
       "      <td>3</td>\n",
       "      <td>9</td>\n",
       "      <td>5</td>\n",
       "      <td>12</td>\n",
       "      <td>5</td>\n",
       "      <td>...</td>\n",
       "      <td>0.0</td>\n",
       "      <td>0.0</td>\n",
       "      <td>0.0</td>\n",
       "      <td>24</td>\n",
       "      <td>0.0</td>\n",
       "      <td>0.0</td>\n",
       "      <td>0.0</td>\n",
       "      <td>-2353.158325</td>\n",
       "      <td>201710</td>\n",
       "      <td>0</td>\n",
       "    </tr>\n",
       "    <tr>\n",
       "      <th>1</th>\n",
       "      <td>1</td>\n",
       "      <td>3175</td>\n",
       "      <td>125</td>\n",
       "      <td>LOCALS_OFFLINE</td>\n",
       "      <td>2</td>\n",
       "      <td>2</td>\n",
       "      <td>3</td>\n",
       "      <td>2</td>\n",
       "      <td>9</td>\n",
       "      <td>4</td>\n",
       "      <td>...</td>\n",
       "      <td>0.0</td>\n",
       "      <td>0.0</td>\n",
       "      <td>0.0</td>\n",
       "      <td>19</td>\n",
       "      <td>0.0</td>\n",
       "      <td>0.0</td>\n",
       "      <td>0.0</td>\n",
       "      <td>-4036.028396</td>\n",
       "      <td>201710</td>\n",
       "      <td>0</td>\n",
       "    </tr>\n",
       "    <tr>\n",
       "      <th>2</th>\n",
       "      <td>2</td>\n",
       "      <td>3175</td>\n",
       "      <td>126</td>\n",
       "      <td>LOCALS_OFFLINE</td>\n",
       "      <td>1</td>\n",
       "      <td>0</td>\n",
       "      <td>3</td>\n",
       "      <td>0</td>\n",
       "      <td>11</td>\n",
       "      <td>3</td>\n",
       "      <td>...</td>\n",
       "      <td>0.0</td>\n",
       "      <td>0.0</td>\n",
       "      <td>0.0</td>\n",
       "      <td>20</td>\n",
       "      <td>0.0</td>\n",
       "      <td>0.0</td>\n",
       "      <td>0.0</td>\n",
       "      <td>-4587.927273</td>\n",
       "      <td>201710</td>\n",
       "      <td>0</td>\n",
       "    </tr>\n",
       "    <tr>\n",
       "      <th>3</th>\n",
       "      <td>3</td>\n",
       "      <td>3175</td>\n",
       "      <td>127</td>\n",
       "      <td>LOCALS_OFFLINE</td>\n",
       "      <td>2</td>\n",
       "      <td>0</td>\n",
       "      <td>4</td>\n",
       "      <td>0</td>\n",
       "      <td>10</td>\n",
       "      <td>3</td>\n",
       "      <td>...</td>\n",
       "      <td>0.0</td>\n",
       "      <td>0.0</td>\n",
       "      <td>0.0</td>\n",
       "      <td>22</td>\n",
       "      <td>0.0</td>\n",
       "      <td>0.0</td>\n",
       "      <td>0.0</td>\n",
       "      <td>-4587.927273</td>\n",
       "      <td>201709</td>\n",
       "      <td>0</td>\n",
       "    </tr>\n",
       "    <tr>\n",
       "      <th>4</th>\n",
       "      <td>4</td>\n",
       "      <td>3175</td>\n",
       "      <td>128</td>\n",
       "      <td>LOCALS_OFFLINE</td>\n",
       "      <td>2</td>\n",
       "      <td>0</td>\n",
       "      <td>7</td>\n",
       "      <td>2</td>\n",
       "      <td>12</td>\n",
       "      <td>6</td>\n",
       "      <td>...</td>\n",
       "      <td>0.0</td>\n",
       "      <td>0.0</td>\n",
       "      <td>0.0</td>\n",
       "      <td>22</td>\n",
       "      <td>0.0</td>\n",
       "      <td>0.0</td>\n",
       "      <td>0.0</td>\n",
       "      <td>-4587.927273</td>\n",
       "      <td>201709</td>\n",
       "      <td>0</td>\n",
       "    </tr>\n",
       "  </tbody>\n",
       "</table>\n",
       "<p>5 rows × 512 columns</p>\n",
       "</div>"
      ],
      "text/plain": [
       "   Unnamed: 0  APPPOSID  PERIOD_7     SUB_CHANNEL  COUNT_APP_7  COUNT_CONT_7  \\\n",
       "0           0      3175       124  LOCALS_OFFLINE            7             3   \n",
       "1           1      3175       125  LOCALS_OFFLINE            2             2   \n",
       "2           2      3175       126  LOCALS_OFFLINE            1             0   \n",
       "3           3      3175       127  LOCALS_OFFLINE            2             0   \n",
       "4           4      3175       128  LOCALS_OFFLINE            2             0   \n",
       "\n",
       "   COUNT_APP_14  COUNT_CONT_14  COUNT_APP_30  COUNT_CONT_30  ...  \\\n",
       "0             9              5            12              5  ...   \n",
       "1             3              2             9              4  ...   \n",
       "2             3              0            11              3  ...   \n",
       "3             4              0            10              3  ...   \n",
       "4             7              2            12              6  ...   \n",
       "\n",
       "   RULE_DIFF_INC_3_30  RULE_DIFF_INC_7_30 RULE_DIFF_INC_9_30  COUNT_INC_60  \\\n",
       "0                 0.0                 0.0                0.0            24   \n",
       "1                 0.0                 0.0                0.0            19   \n",
       "2                 0.0                 0.0                0.0            20   \n",
       "3                 0.0                 0.0                0.0            22   \n",
       "4                 0.0                 0.0                0.0            22   \n",
       "\n",
       "   RULE_DIFF_INC_3_60  RULE_DIFF_INC_7_60  RULE_DIFF_INC_9_60     LOSS_90P  \\\n",
       "0                 0.0                 0.0                 0.0 -2353.158325   \n",
       "1                 0.0                 0.0                 0.0 -4036.028396   \n",
       "2                 0.0                 0.0                 0.0 -4587.927273   \n",
       "3                 0.0                 0.0                 0.0 -4587.927273   \n",
       "4                 0.0                 0.0                 0.0 -4587.927273   \n",
       "\n",
       "   MONTH_YEAR  BAD_FLAG  \n",
       "0      201710         0  \n",
       "1      201710         0  \n",
       "2      201710         0  \n",
       "3      201709         0  \n",
       "4      201709         0  \n",
       "\n",
       "[5 rows x 512 columns]"
      ]
     },
     "execution_count": 420,
     "metadata": {},
     "output_type": "execute_result"
    }
   ],
   "source": [
    "train.head()"
   ]
  },
  {
   "cell_type": "code",
   "execution_count": 421,
   "metadata": {
    "ExecuteTime": {
     "end_time": "2021-05-12T15:09:23.900690Z",
     "start_time": "2021-05-12T15:09:23.887690Z"
    }
   },
   "outputs": [
    {
     "name": "stdout",
     "output_type": "stream",
     "text": [
      "LOSS_90P\n"
     ]
    }
   ],
   "source": [
    "for i in train.columns.to_list():\n",
    "    if len(re.findall('LOSS', i)) > 0:\n",
    "        print(i)"
   ]
  },
  {
   "cell_type": "code",
   "execution_count": 422,
   "metadata": {
    "ExecuteTime": {
     "end_time": "2021-05-12T15:09:24.099707Z",
     "start_time": "2021-05-12T15:09:23.906690Z"
    }
   },
   "outputs": [
    {
     "data": {
      "text/html": [
       "<div>\n",
       "<style scoped>\n",
       "    .dataframe tbody tr th:only-of-type {\n",
       "        vertical-align: middle;\n",
       "    }\n",
       "\n",
       "    .dataframe tbody tr th {\n",
       "        vertical-align: top;\n",
       "    }\n",
       "\n",
       "    .dataframe thead th {\n",
       "        text-align: right;\n",
       "    }\n",
       "</style>\n",
       "<table border=\"1\" class=\"dataframe\">\n",
       "  <thead>\n",
       "    <tr style=\"text-align: right;\">\n",
       "      <th></th>\n",
       "      <th>Unnamed: 0</th>\n",
       "      <th>APPPOSID</th>\n",
       "      <th>PERIOD_7</th>\n",
       "      <th>SUB_CHANNEL</th>\n",
       "      <th>COUNT_APP_7</th>\n",
       "      <th>COUNT_CONT_7</th>\n",
       "      <th>COUNT_APP_14</th>\n",
       "      <th>COUNT_CONT_14</th>\n",
       "      <th>COUNT_APP_30</th>\n",
       "      <th>COUNT_CONT_30</th>\n",
       "      <th>...</th>\n",
       "      <th>RULE_DIFF_INC_3_30</th>\n",
       "      <th>RULE_DIFF_INC_7_30</th>\n",
       "      <th>RULE_DIFF_INC_9_30</th>\n",
       "      <th>COUNT_INC_60</th>\n",
       "      <th>RULE_DIFF_INC_3_60</th>\n",
       "      <th>RULE_DIFF_INC_7_60</th>\n",
       "      <th>RULE_DIFF_INC_9_60</th>\n",
       "      <th>LOSS_90P</th>\n",
       "      <th>MONTH_YEAR</th>\n",
       "      <th>BAD_FLAG</th>\n",
       "    </tr>\n",
       "  </thead>\n",
       "  <tbody>\n",
       "    <tr>\n",
       "      <th>0</th>\n",
       "      <td>125</td>\n",
       "      <td>8300</td>\n",
       "      <td>52</td>\n",
       "      <td>LOCALS_OFFLINE</td>\n",
       "      <td>4</td>\n",
       "      <td>0</td>\n",
       "      <td>11</td>\n",
       "      <td>0</td>\n",
       "      <td>25</td>\n",
       "      <td>0</td>\n",
       "      <td>...</td>\n",
       "      <td>0.0</td>\n",
       "      <td>0.0</td>\n",
       "      <td>0.0</td>\n",
       "      <td>34</td>\n",
       "      <td>0.0</td>\n",
       "      <td>0.0</td>\n",
       "      <td>0.0</td>\n",
       "      <td>-2369.426353</td>\n",
       "      <td>201903</td>\n",
       "      <td>0</td>\n",
       "    </tr>\n",
       "    <tr>\n",
       "      <th>1</th>\n",
       "      <td>126</td>\n",
       "      <td>8300</td>\n",
       "      <td>70</td>\n",
       "      <td>LOCALS_OFFLINE</td>\n",
       "      <td>6</td>\n",
       "      <td>0</td>\n",
       "      <td>10</td>\n",
       "      <td>0</td>\n",
       "      <td>20</td>\n",
       "      <td>1</td>\n",
       "      <td>...</td>\n",
       "      <td>0.0</td>\n",
       "      <td>0.0</td>\n",
       "      <td>0.0</td>\n",
       "      <td>34</td>\n",
       "      <td>0.0</td>\n",
       "      <td>0.0</td>\n",
       "      <td>0.0</td>\n",
       "      <td>9175.048008</td>\n",
       "      <td>201810</td>\n",
       "      <td>0</td>\n",
       "    </tr>\n",
       "    <tr>\n",
       "      <th>2</th>\n",
       "      <td>127</td>\n",
       "      <td>8300</td>\n",
       "      <td>71</td>\n",
       "      <td>LOCALS_OFFLINE</td>\n",
       "      <td>6</td>\n",
       "      <td>0</td>\n",
       "      <td>12</td>\n",
       "      <td>0</td>\n",
       "      <td>21</td>\n",
       "      <td>2</td>\n",
       "      <td>...</td>\n",
       "      <td>0.0</td>\n",
       "      <td>0.0</td>\n",
       "      <td>0.0</td>\n",
       "      <td>33</td>\n",
       "      <td>0.0</td>\n",
       "      <td>0.0</td>\n",
       "      <td>0.0</td>\n",
       "      <td>9175.048008</td>\n",
       "      <td>201810</td>\n",
       "      <td>0</td>\n",
       "    </tr>\n",
       "    <tr>\n",
       "      <th>3</th>\n",
       "      <td>128</td>\n",
       "      <td>8300</td>\n",
       "      <td>72</td>\n",
       "      <td>LOCALS_OFFLINE</td>\n",
       "      <td>6</td>\n",
       "      <td>0</td>\n",
       "      <td>9</td>\n",
       "      <td>1</td>\n",
       "      <td>16</td>\n",
       "      <td>2</td>\n",
       "      <td>...</td>\n",
       "      <td>0.0</td>\n",
       "      <td>0.0</td>\n",
       "      <td>0.0</td>\n",
       "      <td>36</td>\n",
       "      <td>0.0</td>\n",
       "      <td>0.0</td>\n",
       "      <td>0.0</td>\n",
       "      <td>9175.048008</td>\n",
       "      <td>201810</td>\n",
       "      <td>0</td>\n",
       "    </tr>\n",
       "    <tr>\n",
       "      <th>4</th>\n",
       "      <td>129</td>\n",
       "      <td>8300</td>\n",
       "      <td>73</td>\n",
       "      <td>LOCALS_OFFLINE</td>\n",
       "      <td>6</td>\n",
       "      <td>1</td>\n",
       "      <td>12</td>\n",
       "      <td>2</td>\n",
       "      <td>15</td>\n",
       "      <td>2</td>\n",
       "      <td>...</td>\n",
       "      <td>0.0</td>\n",
       "      <td>0.0</td>\n",
       "      <td>0.0</td>\n",
       "      <td>39</td>\n",
       "      <td>0.0</td>\n",
       "      <td>0.0</td>\n",
       "      <td>0.0</td>\n",
       "      <td>9175.048008</td>\n",
       "      <td>201810</td>\n",
       "      <td>0</td>\n",
       "    </tr>\n",
       "  </tbody>\n",
       "</table>\n",
       "<p>5 rows × 512 columns</p>\n",
       "</div>"
      ],
      "text/plain": [
       "   Unnamed: 0  APPPOSID  PERIOD_7     SUB_CHANNEL  COUNT_APP_7  COUNT_CONT_7  \\\n",
       "0         125      8300        52  LOCALS_OFFLINE            4             0   \n",
       "1         126      8300        70  LOCALS_OFFLINE            6             0   \n",
       "2         127      8300        71  LOCALS_OFFLINE            6             0   \n",
       "3         128      8300        72  LOCALS_OFFLINE            6             0   \n",
       "4         129      8300        73  LOCALS_OFFLINE            6             1   \n",
       "\n",
       "   COUNT_APP_14  COUNT_CONT_14  COUNT_APP_30  COUNT_CONT_30  ...  \\\n",
       "0            11              0            25              0  ...   \n",
       "1            10              0            20              1  ...   \n",
       "2            12              0            21              2  ...   \n",
       "3             9              1            16              2  ...   \n",
       "4            12              2            15              2  ...   \n",
       "\n",
       "   RULE_DIFF_INC_3_30  RULE_DIFF_INC_7_30 RULE_DIFF_INC_9_30  COUNT_INC_60  \\\n",
       "0                 0.0                 0.0                0.0            34   \n",
       "1                 0.0                 0.0                0.0            34   \n",
       "2                 0.0                 0.0                0.0            33   \n",
       "3                 0.0                 0.0                0.0            36   \n",
       "4                 0.0                 0.0                0.0            39   \n",
       "\n",
       "   RULE_DIFF_INC_3_60  RULE_DIFF_INC_7_60  RULE_DIFF_INC_9_60     LOSS_90P  \\\n",
       "0                 0.0                 0.0                 0.0 -2369.426353   \n",
       "1                 0.0                 0.0                 0.0  9175.048008   \n",
       "2                 0.0                 0.0                 0.0  9175.048008   \n",
       "3                 0.0                 0.0                 0.0  9175.048008   \n",
       "4                 0.0                 0.0                 0.0  9175.048008   \n",
       "\n",
       "   MONTH_YEAR  BAD_FLAG  \n",
       "0      201903         0  \n",
       "1      201810         0  \n",
       "2      201810         0  \n",
       "3      201810         0  \n",
       "4      201810         0  \n",
       "\n",
       "[5 rows x 512 columns]"
      ]
     },
     "execution_count": 422,
     "metadata": {},
     "output_type": "execute_result"
    }
   ],
   "source": [
    "oot.head()"
   ]
  },
  {
   "cell_type": "code",
   "execution_count": 423,
   "metadata": {
    "ExecuteTime": {
     "end_time": "2021-05-12T15:09:24.114716Z",
     "start_time": "2021-05-12T15:09:24.102707Z"
    }
   },
   "outputs": [],
   "source": [
    "train.columns = [col.upper() for col in train.columns]\n",
    "test.columns = [col.upper() for col in test.columns]\n",
    "oot.columns = [col.upper() for col in oot.columns]"
   ]
  },
  {
   "cell_type": "code",
   "execution_count": 424,
   "metadata": {
    "ExecuteTime": {
     "end_time": "2021-05-12T15:09:24.143710Z",
     "start_time": "2021-05-12T15:09:24.121708Z"
    },
    "scrolled": true
   },
   "outputs": [],
   "source": [
    "for i in new_features_data['genuine variable'].to_list():\n",
    "    if i not in oot.columns.to_list():\n",
    "        print(i)"
   ]
  },
  {
   "cell_type": "code",
   "execution_count": 425,
   "metadata": {
    "ExecuteTime": {
     "end_time": "2021-05-12T15:09:24.183716Z",
     "start_time": "2021-05-12T15:09:24.147710Z"
    },
    "scrolled": true
   },
   "outputs": [],
   "source": [
    "train_losses = train['LOSS_90P'].copy()\n",
    "test_losses = test['LOSS_90P'].copy()\n",
    "oot_losses = oot['LOSS_90P'].copy()\n",
    "oot_losses_2013 = oot_dataset1['LOSS_90P'].copy()"
   ]
  },
  {
   "cell_type": "code",
   "execution_count": 426,
   "metadata": {
    "ExecuteTime": {
     "end_time": "2021-05-12T15:09:24.223718Z",
     "start_time": "2021-05-12T15:09:24.190713Z"
    }
   },
   "outputs": [],
   "source": [
    "train_period_7 = train['PERIOD_7'].copy()\n",
    "test_period_7 = test['PERIOD_7'].copy()\n",
    "oot_period_7 = oot['PERIOD_7'].copy()\n",
    "oot_period_7_2013 = oot_dataset1['PERIOD_7'].copy()"
   ]
  },
  {
   "cell_type": "code",
   "execution_count": 427,
   "metadata": {
    "ExecuteTime": {
     "end_time": "2021-05-12T15:09:24.247717Z",
     "start_time": "2021-05-12T15:09:24.230716Z"
    },
    "scrolled": true
   },
   "outputs": [
    {
     "data": {
      "text/html": [
       "<div>\n",
       "<style scoped>\n",
       "    .dataframe tbody tr th:only-of-type {\n",
       "        vertical-align: middle;\n",
       "    }\n",
       "\n",
       "    .dataframe tbody tr th {\n",
       "        vertical-align: top;\n",
       "    }\n",
       "\n",
       "    .dataframe thead th {\n",
       "        text-align: right;\n",
       "    }\n",
       "</style>\n",
       "<table border=\"1\" class=\"dataframe\">\n",
       "  <thead>\n",
       "    <tr style=\"text-align: right;\">\n",
       "      <th></th>\n",
       "      <th>Unnamed: 0</th>\n",
       "      <th>new variable</th>\n",
       "      <th>genuine variable</th>\n",
       "      <th>rule</th>\n",
       "      <th>values</th>\n",
       "    </tr>\n",
       "  </thead>\n",
       "  <tbody>\n",
       "    <tr>\n",
       "      <th>0</th>\n",
       "      <td>0</td>\n",
       "      <td>COUNT_CONT_30</td>\n",
       "      <td>COUNT_CONT_30</td>\n",
       "      <td>Missing</td>\n",
       "      <td>NaN</td>\n",
       "    </tr>\n",
       "    <tr>\n",
       "      <th>1</th>\n",
       "      <td>40</td>\n",
       "      <td>AVG_SUM_TT_7</td>\n",
       "      <td>AVG_SUM_TT_7</td>\n",
       "      <td>Missing</td>\n",
       "      <td>NaN</td>\n",
       "    </tr>\n",
       "    <tr>\n",
       "      <th>2</th>\n",
       "      <td>41</td>\n",
       "      <td>AVG_FUND_TT_7</td>\n",
       "      <td>AVG_FUND_TT_7</td>\n",
       "      <td>Missing</td>\n",
       "      <td>NaN</td>\n",
       "    </tr>\n",
       "    <tr>\n",
       "      <th>3</th>\n",
       "      <td>42</td>\n",
       "      <td>AVG_SUM_TT_14</td>\n",
       "      <td>AVG_SUM_TT_14</td>\n",
       "      <td>Missing</td>\n",
       "      <td>NaN</td>\n",
       "    </tr>\n",
       "    <tr>\n",
       "      <th>4</th>\n",
       "      <td>43</td>\n",
       "      <td>STD_SUM_TT_14</td>\n",
       "      <td>STD_SUM_TT_14</td>\n",
       "      <td>Missing</td>\n",
       "      <td>NaN</td>\n",
       "    </tr>\n",
       "    <tr>\n",
       "      <th>...</th>\n",
       "      <td>...</td>\n",
       "      <td>...</td>\n",
       "      <td>...</td>\n",
       "      <td>...</td>\n",
       "      <td>...</td>\n",
       "    </tr>\n",
       "    <tr>\n",
       "      <th>122</th>\n",
       "      <td>161</td>\n",
       "      <td>RULE_1_TRE3_SHARE_14_bin</td>\n",
       "      <td>RULE_1_TRE3_SHARE_14</td>\n",
       "      <td>_bin</td>\n",
       "      <td>NaN</td>\n",
       "    </tr>\n",
       "    <tr>\n",
       "      <th>123</th>\n",
       "      <td>162</td>\n",
       "      <td>COUNT_CONT_FIO7_7_bin</td>\n",
       "      <td>COUNT_CONT_FIO7_7</td>\n",
       "      <td>_bin</td>\n",
       "      <td>NaN</td>\n",
       "    </tr>\n",
       "    <tr>\n",
       "      <th>124</th>\n",
       "      <td>163</td>\n",
       "      <td>BAD_FLAG</td>\n",
       "      <td>BAD_FLAG</td>\n",
       "      <td>Missing</td>\n",
       "      <td>NaN</td>\n",
       "    </tr>\n",
       "    <tr>\n",
       "      <th>125</th>\n",
       "      <td>164</td>\n",
       "      <td>MONTH_YEAR</td>\n",
       "      <td>MONTH_YEAR</td>\n",
       "      <td>Missing</td>\n",
       "      <td>NaN</td>\n",
       "    </tr>\n",
       "    <tr>\n",
       "      <th>126</th>\n",
       "      <td>165</td>\n",
       "      <td>APPPOSID</td>\n",
       "      <td>APPPOSID</td>\n",
       "      <td>Missing</td>\n",
       "      <td>NaN</td>\n",
       "    </tr>\n",
       "  </tbody>\n",
       "</table>\n",
       "<p>127 rows × 5 columns</p>\n",
       "</div>"
      ],
      "text/plain": [
       "     Unnamed: 0              new variable      genuine variable     rule  \\\n",
       "0             0             COUNT_CONT_30         COUNT_CONT_30  Missing   \n",
       "1            40              AVG_SUM_TT_7          AVG_SUM_TT_7  Missing   \n",
       "2            41             AVG_FUND_TT_7         AVG_FUND_TT_7  Missing   \n",
       "3            42             AVG_SUM_TT_14         AVG_SUM_TT_14  Missing   \n",
       "4            43             STD_SUM_TT_14         STD_SUM_TT_14  Missing   \n",
       "..          ...                       ...                   ...      ...   \n",
       "122         161  RULE_1_TRE3_SHARE_14_bin  RULE_1_TRE3_SHARE_14     _bin   \n",
       "123         162     COUNT_CONT_FIO7_7_bin     COUNT_CONT_FIO7_7     _bin   \n",
       "124         163                  BAD_FLAG              BAD_FLAG  Missing   \n",
       "125         164                MONTH_YEAR            MONTH_YEAR  Missing   \n",
       "126         165                  APPPOSID              APPPOSID  Missing   \n",
       "\n",
       "    values  \n",
       "0      NaN  \n",
       "1      NaN  \n",
       "2      NaN  \n",
       "3      NaN  \n",
       "4      NaN  \n",
       "..     ...  \n",
       "122    NaN  \n",
       "123    NaN  \n",
       "124    NaN  \n",
       "125    NaN  \n",
       "126    NaN  \n",
       "\n",
       "[127 rows x 5 columns]"
      ]
     },
     "execution_count": 427,
     "metadata": {},
     "output_type": "execute_result"
    }
   ],
   "source": [
    "selected_features"
   ]
  },
  {
   "cell_type": "code",
   "execution_count": 428,
   "metadata": {
    "ExecuteTime": {
     "end_time": "2021-05-12T15:09:24.263720Z",
     "start_time": "2021-05-12T15:09:24.254720Z"
    }
   },
   "outputs": [],
   "source": [
    "for i in selected_features['genuine variable'].to_list():\n",
    "    if i not in oot.columns.to_list():\n",
    "        print(i)"
   ]
  },
  {
   "cell_type": "code",
   "execution_count": 429,
   "metadata": {
    "ExecuteTime": {
     "end_time": "2021-05-12T15:09:41.609504Z",
     "start_time": "2021-05-12T15:09:24.320724Z"
    },
    "scrolled": true
   },
   "outputs": [],
   "source": [
    "train = turn_variables_with_values(train, selected_features)\n",
    "test = turn_variables_with_values(test, selected_features)\n",
    "oot = turn_variables_with_values(oot, selected_features)\n",
    "oot_2013 = turn_variables_with_values(oot_dataset1, selected_features)"
   ]
  },
  {
   "cell_type": "code",
   "execution_count": 430,
   "metadata": {
    "ExecuteTime": {
     "end_time": "2021-05-12T15:09:41.692506Z",
     "start_time": "2021-05-12T15:09:41.614502Z"
    }
   },
   "outputs": [
    {
     "data": {
      "text/plain": [
       "'BAD_FLAG'"
      ]
     },
     "execution_count": 430,
     "metadata": {},
     "output_type": "execute_result"
    }
   ],
   "source": [
    "target = target.upper()\n",
    "target"
   ]
  },
  {
   "cell_type": "code",
   "execution_count": 431,
   "metadata": {
    "ExecuteTime": {
     "end_time": "2021-05-12T15:09:45.395769Z",
     "start_time": "2021-05-12T15:09:41.703508Z"
    }
   },
   "outputs": [],
   "source": [
    "y_train = train[target]\n",
    "y_test = test[target]\n",
    "y_oot = oot[target]\n",
    "y_oot_2013 = oot_2013[target]\n",
    "\n",
    "train.drop(target, axis = 1, inplace = True)\n",
    "test.drop(target, axis = 1, inplace = True)\n",
    "oot.drop(target, axis = 1, inplace = True)\n",
    "oot_2013.drop(target, axis = 1, inplace = True)"
   ]
  },
  {
   "cell_type": "code",
   "execution_count": 432,
   "metadata": {
    "ExecuteTime": {
     "end_time": "2021-05-12T15:09:45.718793Z",
     "start_time": "2021-05-12T15:09:45.466773Z"
    }
   },
   "outputs": [
    {
     "data": {
      "text/html": [
       "<div>\n",
       "<style scoped>\n",
       "    .dataframe tbody tr th:only-of-type {\n",
       "        vertical-align: middle;\n",
       "    }\n",
       "\n",
       "    .dataframe tbody tr th {\n",
       "        vertical-align: top;\n",
       "    }\n",
       "\n",
       "    .dataframe thead th {\n",
       "        text-align: right;\n",
       "    }\n",
       "</style>\n",
       "<table border=\"1\" class=\"dataframe\">\n",
       "  <thead>\n",
       "    <tr style=\"text-align: right;\">\n",
       "      <th></th>\n",
       "      <th>COUNT_CONT_30</th>\n",
       "      <th>AVG_SUM_TT_7</th>\n",
       "      <th>AVG_FUND_TT_7</th>\n",
       "      <th>AVG_SUM_TT_14</th>\n",
       "      <th>STD_SUM_TT_14</th>\n",
       "      <th>AVG_SUM_TT_30</th>\n",
       "      <th>COUNT_B_TT_30</th>\n",
       "      <th>AVG_SUM_TT_60</th>\n",
       "      <th>STD_SUM_TT_60</th>\n",
       "      <th>BUREAU_DEC_DEV_7</th>\n",
       "      <th>...</th>\n",
       "      <th>AVG_FUND_TT_14_bin</th>\n",
       "      <th>STD_SUM_TT_14_bin</th>\n",
       "      <th>AVG_FUND_TT_30_bin</th>\n",
       "      <th>STD_SUM_TT_30_bin</th>\n",
       "      <th>STD_SUM_TT_60_bin</th>\n",
       "      <th>RULE_1_TRE3_SHARE_7_bin</th>\n",
       "      <th>RULE_1_TRE3_SHARE_14_bin</th>\n",
       "      <th>COUNT_CONT_FIO7_7_bin</th>\n",
       "      <th>MONTH_YEAR</th>\n",
       "      <th>APPPOSID</th>\n",
       "    </tr>\n",
       "  </thead>\n",
       "  <tbody>\n",
       "    <tr>\n",
       "      <th>0</th>\n",
       "      <td>6</td>\n",
       "      <td>29388.500000</td>\n",
       "      <td>29388.500000</td>\n",
       "      <td>23794.000000</td>\n",
       "      <td>9118.044344</td>\n",
       "      <td>46776.300000</td>\n",
       "      <td>1</td>\n",
       "      <td>39775.630000</td>\n",
       "      <td>7938.605110</td>\n",
       "      <td>0.000000</td>\n",
       "      <td>...</td>\n",
       "      <td>1</td>\n",
       "      <td>1</td>\n",
       "      <td>1</td>\n",
       "      <td>1</td>\n",
       "      <td>1</td>\n",
       "      <td>1</td>\n",
       "      <td>1</td>\n",
       "      <td>0</td>\n",
       "      <td>201402</td>\n",
       "      <td>3182</td>\n",
       "    </tr>\n",
       "    <tr>\n",
       "      <th>1</th>\n",
       "      <td>9</td>\n",
       "      <td>65877.420000</td>\n",
       "      <td>20719.603333</td>\n",
       "      <td>55199.848000</td>\n",
       "      <td>11502.210574</td>\n",
       "      <td>49613.454667</td>\n",
       "      <td>3</td>\n",
       "      <td>43286.099630</td>\n",
       "      <td>21102.789614</td>\n",
       "      <td>1.178649</td>\n",
       "      <td>...</td>\n",
       "      <td>1</td>\n",
       "      <td>1</td>\n",
       "      <td>1</td>\n",
       "      <td>1</td>\n",
       "      <td>1</td>\n",
       "      <td>1</td>\n",
       "      <td>1</td>\n",
       "      <td>0</td>\n",
       "      <td>201402</td>\n",
       "      <td>9297</td>\n",
       "    </tr>\n",
       "    <tr>\n",
       "      <th>2</th>\n",
       "      <td>10</td>\n",
       "      <td>7131.010000</td>\n",
       "      <td>7131.010000</td>\n",
       "      <td>21224.140000</td>\n",
       "      <td>18018.285493</td>\n",
       "      <td>47944.964118</td>\n",
       "      <td>2</td>\n",
       "      <td>46322.835667</td>\n",
       "      <td>12540.288387</td>\n",
       "      <td>0.000000</td>\n",
       "      <td>...</td>\n",
       "      <td>1</td>\n",
       "      <td>1</td>\n",
       "      <td>1</td>\n",
       "      <td>1</td>\n",
       "      <td>1</td>\n",
       "      <td>1</td>\n",
       "      <td>1</td>\n",
       "      <td>0</td>\n",
       "      <td>201402</td>\n",
       "      <td>11516</td>\n",
       "    </tr>\n",
       "    <tr>\n",
       "      <th>3</th>\n",
       "      <td>6</td>\n",
       "      <td>25530.666667</td>\n",
       "      <td>25530.666667</td>\n",
       "      <td>31298.800000</td>\n",
       "      <td>14580.110436</td>\n",
       "      <td>22295.449091</td>\n",
       "      <td>1</td>\n",
       "      <td>22923.055833</td>\n",
       "      <td>9189.202734</td>\n",
       "      <td>0.000000</td>\n",
       "      <td>...</td>\n",
       "      <td>1</td>\n",
       "      <td>1</td>\n",
       "      <td>1</td>\n",
       "      <td>1</td>\n",
       "      <td>1</td>\n",
       "      <td>1</td>\n",
       "      <td>1</td>\n",
       "      <td>0</td>\n",
       "      <td>201402</td>\n",
       "      <td>13050</td>\n",
       "    </tr>\n",
       "    <tr>\n",
       "      <th>4</th>\n",
       "      <td>16</td>\n",
       "      <td>18505.000000</td>\n",
       "      <td>15033.500000</td>\n",
       "      <td>23801.627273</td>\n",
       "      <td>8812.912753</td>\n",
       "      <td>21530.271818</td>\n",
       "      <td>2</td>\n",
       "      <td>23435.996176</td>\n",
       "      <td>9262.201784</td>\n",
       "      <td>0.000000</td>\n",
       "      <td>...</td>\n",
       "      <td>1</td>\n",
       "      <td>1</td>\n",
       "      <td>1</td>\n",
       "      <td>1</td>\n",
       "      <td>1</td>\n",
       "      <td>1</td>\n",
       "      <td>1</td>\n",
       "      <td>0</td>\n",
       "      <td>201402</td>\n",
       "      <td>13094</td>\n",
       "    </tr>\n",
       "  </tbody>\n",
       "</table>\n",
       "<p>5 rows × 126 columns</p>\n",
       "</div>"
      ],
      "text/plain": [
       "   COUNT_CONT_30  AVG_SUM_TT_7  AVG_FUND_TT_7  AVG_SUM_TT_14  STD_SUM_TT_14  \\\n",
       "0              6  29388.500000   29388.500000   23794.000000    9118.044344   \n",
       "1              9  65877.420000   20719.603333   55199.848000   11502.210574   \n",
       "2             10   7131.010000    7131.010000   21224.140000   18018.285493   \n",
       "3              6  25530.666667   25530.666667   31298.800000   14580.110436   \n",
       "4             16  18505.000000   15033.500000   23801.627273    8812.912753   \n",
       "\n",
       "   AVG_SUM_TT_30  COUNT_B_TT_30  AVG_SUM_TT_60  STD_SUM_TT_60  \\\n",
       "0   46776.300000              1   39775.630000    7938.605110   \n",
       "1   49613.454667              3   43286.099630   21102.789614   \n",
       "2   47944.964118              2   46322.835667   12540.288387   \n",
       "3   22295.449091              1   22923.055833    9189.202734   \n",
       "4   21530.271818              2   23435.996176    9262.201784   \n",
       "\n",
       "   BUREAU_DEC_DEV_7  ...  AVG_FUND_TT_14_bin  STD_SUM_TT_14_bin  \\\n",
       "0          0.000000  ...                   1                  1   \n",
       "1          1.178649  ...                   1                  1   \n",
       "2          0.000000  ...                   1                  1   \n",
       "3          0.000000  ...                   1                  1   \n",
       "4          0.000000  ...                   1                  1   \n",
       "\n",
       "   AVG_FUND_TT_30_bin  STD_SUM_TT_30_bin  STD_SUM_TT_60_bin  \\\n",
       "0                   1                  1                  1   \n",
       "1                   1                  1                  1   \n",
       "2                   1                  1                  1   \n",
       "3                   1                  1                  1   \n",
       "4                   1                  1                  1   \n",
       "\n",
       "   RULE_1_TRE3_SHARE_7_bin  RULE_1_TRE3_SHARE_14_bin  COUNT_CONT_FIO7_7_bin  \\\n",
       "0                        1                         1                      0   \n",
       "1                        1                         1                      0   \n",
       "2                        1                         1                      0   \n",
       "3                        1                         1                      0   \n",
       "4                        1                         1                      0   \n",
       "\n",
       "   MONTH_YEAR  APPPOSID  \n",
       "0      201402      3182  \n",
       "1      201402      9297  \n",
       "2      201402     11516  \n",
       "3      201402     13050  \n",
       "4      201402     13094  \n",
       "\n",
       "[5 rows x 126 columns]"
      ]
     },
     "execution_count": 432,
     "metadata": {},
     "output_type": "execute_result"
    }
   ],
   "source": [
    "oot_2013.head()"
   ]
  },
  {
   "cell_type": "code",
   "execution_count": 433,
   "metadata": {
    "ExecuteTime": {
     "end_time": "2021-05-12T15:09:46.045816Z",
     "start_time": "2021-05-12T15:09:46.037813Z"
    }
   },
   "outputs": [],
   "source": [
    "list_of_columns = selected_features['new variable'].to_list()\n",
    "list_of_columns_no_sys = list_of_columns.copy()\n",
    "for i in necessary_fields_upper:\n",
    "    if i in list_of_columns_no_sys:\n",
    "        list_of_columns_no_sys.remove(i)"
   ]
  },
  {
   "cell_type": "code",
   "execution_count": 434,
   "metadata": {
    "ExecuteTime": {
     "end_time": "2021-05-12T15:09:46.082818Z",
     "start_time": "2021-05-12T15:09:46.051817Z"
    }
   },
   "outputs": [
    {
     "data": {
      "text/plain": [
       "124"
      ]
     },
     "execution_count": 434,
     "metadata": {},
     "output_type": "execute_result"
    }
   ],
   "source": [
    "len(list_of_columns_no_sys)"
   ]
  },
  {
   "cell_type": "code",
   "execution_count": 435,
   "metadata": {
    "ExecuteTime": {
     "end_time": "2021-05-12T15:10:24.636927Z",
     "start_time": "2021-05-12T15:09:46.086817Z"
    },
    "scrolled": true
   },
   "outputs": [
    {
     "data": {
      "application/vnd.jupyter.widget-view+json": {
       "model_id": "14581be826f646dea4acccb12f9f7fe6",
       "version_major": 2,
       "version_minor": 0
      },
      "text/plain": [
       "HBox(children=(FloatProgress(value=0.0, description='Обработано признаков', max=126.0, style=ProgressStyle(des…"
      ]
     },
     "metadata": {},
     "output_type": "display_data"
    },
    {
     "name": "stdout",
     "output_type": "stream",
     "text": [
      "\n"
     ]
    }
   ],
   "source": [
    "attribute_list_model = attributes_list_new(train, list_of_columns_no_sys, [0.01, 0.5, 1, 2, 5, 95, 97, \n",
    "                                                                           98, 99, 99.5, 99.99])"
   ]
  },
  {
   "cell_type": "code",
   "execution_count": 436,
   "metadata": {
    "ExecuteTime": {
     "end_time": "2021-05-12T15:10:24.725937Z",
     "start_time": "2021-05-12T15:10:24.645930Z"
    },
    "scrolled": true
   },
   "outputs": [
    {
     "data": {
      "text/html": [
       "<div>\n",
       "<style scoped>\n",
       "    .dataframe tbody tr th:only-of-type {\n",
       "        vertical-align: middle;\n",
       "    }\n",
       "\n",
       "    .dataframe tbody tr th {\n",
       "        vertical-align: top;\n",
       "    }\n",
       "\n",
       "    .dataframe thead th {\n",
       "        text-align: right;\n",
       "    }\n",
       "</style>\n",
       "<table border=\"1\" class=\"dataframe\">\n",
       "  <thead>\n",
       "    <tr style=\"text-align: right;\">\n",
       "      <th></th>\n",
       "      <th>attribute</th>\n",
       "      <th>moda_val</th>\n",
       "      <th>count_miss</th>\n",
       "      <th>type_val</th>\n",
       "      <th>count_dist</th>\n",
       "      <th>count_value_moda</th>\n",
       "      <th>count_val</th>\n",
       "      <th>mean</th>\n",
       "      <th>stand_d_val</th>\n",
       "      <th>min_val</th>\n",
       "      <th>...</th>\n",
       "      <th>2%</th>\n",
       "      <th>5%</th>\n",
       "      <th>val_mediana</th>\n",
       "      <th>95%</th>\n",
       "      <th>97%</th>\n",
       "      <th>98%</th>\n",
       "      <th>99%</th>\n",
       "      <th>99.5%</th>\n",
       "      <th>99.99%</th>\n",
       "      <th>max_val</th>\n",
       "    </tr>\n",
       "  </thead>\n",
       "  <tbody>\n",
       "    <tr>\n",
       "      <th>108</th>\n",
       "      <td>DIVISION_Дальневосточный</td>\n",
       "      <td>0.0</td>\n",
       "      <td>0</td>\n",
       "      <td>int32</td>\n",
       "      <td>1</td>\n",
       "      <td>1507599</td>\n",
       "      <td>1507599.0</td>\n",
       "      <td>0.0</td>\n",
       "      <td>0.0</td>\n",
       "      <td>0.0</td>\n",
       "      <td>...</td>\n",
       "      <td>0.0</td>\n",
       "      <td>0.0</td>\n",
       "      <td>0.0</td>\n",
       "      <td>0.0</td>\n",
       "      <td>0.0</td>\n",
       "      <td>0.0</td>\n",
       "      <td>0.0</td>\n",
       "      <td>0.0</td>\n",
       "      <td>0.0</td>\n",
       "      <td>0.0</td>\n",
       "    </tr>\n",
       "    <tr>\n",
       "      <th>109</th>\n",
       "      <td>DIVISION_Московский</td>\n",
       "      <td>0.0</td>\n",
       "      <td>0</td>\n",
       "      <td>int32</td>\n",
       "      <td>1</td>\n",
       "      <td>1507599</td>\n",
       "      <td>1507599.0</td>\n",
       "      <td>0.0</td>\n",
       "      <td>0.0</td>\n",
       "      <td>0.0</td>\n",
       "      <td>...</td>\n",
       "      <td>0.0</td>\n",
       "      <td>0.0</td>\n",
       "      <td>0.0</td>\n",
       "      <td>0.0</td>\n",
       "      <td>0.0</td>\n",
       "      <td>0.0</td>\n",
       "      <td>0.0</td>\n",
       "      <td>0.0</td>\n",
       "      <td>0.0</td>\n",
       "      <td>0.0</td>\n",
       "    </tr>\n",
       "    <tr>\n",
       "      <th>110</th>\n",
       "      <td>DIVISION_Приволжский</td>\n",
       "      <td>0.0</td>\n",
       "      <td>0</td>\n",
       "      <td>int32</td>\n",
       "      <td>1</td>\n",
       "      <td>1507599</td>\n",
       "      <td>1507599.0</td>\n",
       "      <td>0.0</td>\n",
       "      <td>0.0</td>\n",
       "      <td>0.0</td>\n",
       "      <td>...</td>\n",
       "      <td>0.0</td>\n",
       "      <td>0.0</td>\n",
       "      <td>0.0</td>\n",
       "      <td>0.0</td>\n",
       "      <td>0.0</td>\n",
       "      <td>0.0</td>\n",
       "      <td>0.0</td>\n",
       "      <td>0.0</td>\n",
       "      <td>0.0</td>\n",
       "      <td>0.0</td>\n",
       "    </tr>\n",
       "    <tr>\n",
       "      <th>111</th>\n",
       "      <td>DIVISION_Северо-Западный</td>\n",
       "      <td>0.0</td>\n",
       "      <td>0</td>\n",
       "      <td>int32</td>\n",
       "      <td>1</td>\n",
       "      <td>1507599</td>\n",
       "      <td>1507599.0</td>\n",
       "      <td>0.0</td>\n",
       "      <td>0.0</td>\n",
       "      <td>0.0</td>\n",
       "      <td>...</td>\n",
       "      <td>0.0</td>\n",
       "      <td>0.0</td>\n",
       "      <td>0.0</td>\n",
       "      <td>0.0</td>\n",
       "      <td>0.0</td>\n",
       "      <td>0.0</td>\n",
       "      <td>0.0</td>\n",
       "      <td>0.0</td>\n",
       "      <td>0.0</td>\n",
       "      <td>0.0</td>\n",
       "    </tr>\n",
       "    <tr>\n",
       "      <th>112</th>\n",
       "      <td>DIVISION_Северо-Кавказский</td>\n",
       "      <td>0.0</td>\n",
       "      <td>0</td>\n",
       "      <td>int32</td>\n",
       "      <td>1</td>\n",
       "      <td>1507599</td>\n",
       "      <td>1507599.0</td>\n",
       "      <td>0.0</td>\n",
       "      <td>0.0</td>\n",
       "      <td>0.0</td>\n",
       "      <td>...</td>\n",
       "      <td>0.0</td>\n",
       "      <td>0.0</td>\n",
       "      <td>0.0</td>\n",
       "      <td>0.0</td>\n",
       "      <td>0.0</td>\n",
       "      <td>0.0</td>\n",
       "      <td>0.0</td>\n",
       "      <td>0.0</td>\n",
       "      <td>0.0</td>\n",
       "      <td>0.0</td>\n",
       "    </tr>\n",
       "    <tr>\n",
       "      <th>113</th>\n",
       "      <td>DIVISION_Центральный</td>\n",
       "      <td>0.0</td>\n",
       "      <td>0</td>\n",
       "      <td>int32</td>\n",
       "      <td>1</td>\n",
       "      <td>1507599</td>\n",
       "      <td>1507599.0</td>\n",
       "      <td>0.0</td>\n",
       "      <td>0.0</td>\n",
       "      <td>0.0</td>\n",
       "      <td>...</td>\n",
       "      <td>0.0</td>\n",
       "      <td>0.0</td>\n",
       "      <td>0.0</td>\n",
       "      <td>0.0</td>\n",
       "      <td>0.0</td>\n",
       "      <td>0.0</td>\n",
       "      <td>0.0</td>\n",
       "      <td>0.0</td>\n",
       "      <td>0.0</td>\n",
       "      <td>0.0</td>\n",
       "    </tr>\n",
       "    <tr>\n",
       "      <th>114</th>\n",
       "      <td>DIVISION_Южный</td>\n",
       "      <td>0.0</td>\n",
       "      <td>0</td>\n",
       "      <td>int32</td>\n",
       "      <td>1</td>\n",
       "      <td>1507599</td>\n",
       "      <td>1507599.0</td>\n",
       "      <td>0.0</td>\n",
       "      <td>0.0</td>\n",
       "      <td>0.0</td>\n",
       "      <td>...</td>\n",
       "      <td>0.0</td>\n",
       "      <td>0.0</td>\n",
       "      <td>0.0</td>\n",
       "      <td>0.0</td>\n",
       "      <td>0.0</td>\n",
       "      <td>0.0</td>\n",
       "      <td>0.0</td>\n",
       "      <td>0.0</td>\n",
       "      <td>0.0</td>\n",
       "      <td>0.0</td>\n",
       "    </tr>\n",
       "  </tbody>\n",
       "</table>\n",
       "<p>7 rows × 23 columns</p>\n",
       "</div>"
      ],
      "text/plain": [
       "                      attribute  moda_val  count_miss type_val  count_dist  \\\n",
       "108    DIVISION_Дальневосточный       0.0           0    int32           1   \n",
       "109         DIVISION_Московский       0.0           0    int32           1   \n",
       "110        DIVISION_Приволжский       0.0           0    int32           1   \n",
       "111    DIVISION_Северо-Западный       0.0           0    int32           1   \n",
       "112  DIVISION_Северо-Кавказский       0.0           0    int32           1   \n",
       "113        DIVISION_Центральный       0.0           0    int32           1   \n",
       "114              DIVISION_Южный       0.0           0    int32           1   \n",
       "\n",
       "     count_value_moda  count_val  mean  stand_d_val  min_val  ...   2%   5%  \\\n",
       "108           1507599  1507599.0   0.0          0.0      0.0  ...  0.0  0.0   \n",
       "109           1507599  1507599.0   0.0          0.0      0.0  ...  0.0  0.0   \n",
       "110           1507599  1507599.0   0.0          0.0      0.0  ...  0.0  0.0   \n",
       "111           1507599  1507599.0   0.0          0.0      0.0  ...  0.0  0.0   \n",
       "112           1507599  1507599.0   0.0          0.0      0.0  ...  0.0  0.0   \n",
       "113           1507599  1507599.0   0.0          0.0      0.0  ...  0.0  0.0   \n",
       "114           1507599  1507599.0   0.0          0.0      0.0  ...  0.0  0.0   \n",
       "\n",
       "     val_mediana  95%  97%  98%  99%  99.5%  99.99%  max_val  \n",
       "108          0.0  0.0  0.0  0.0  0.0    0.0     0.0      0.0  \n",
       "109          0.0  0.0  0.0  0.0  0.0    0.0     0.0      0.0  \n",
       "110          0.0  0.0  0.0  0.0  0.0    0.0     0.0      0.0  \n",
       "111          0.0  0.0  0.0  0.0  0.0    0.0     0.0      0.0  \n",
       "112          0.0  0.0  0.0  0.0  0.0    0.0     0.0      0.0  \n",
       "113          0.0  0.0  0.0  0.0  0.0    0.0     0.0      0.0  \n",
       "114          0.0  0.0  0.0  0.0  0.0    0.0     0.0      0.0  \n",
       "\n",
       "[7 rows x 23 columns]"
      ]
     },
     "execution_count": 436,
     "metadata": {},
     "output_type": "execute_result"
    }
   ],
   "source": [
    "attribute_list_model[attribute_list_model['99%'] == attribute_list_model['1%']]"
   ]
  },
  {
   "cell_type": "code",
   "execution_count": 437,
   "metadata": {
    "ExecuteTime": {
     "end_time": "2021-05-12T15:10:24.751494Z",
     "start_time": "2021-05-12T15:10:24.743499Z"
    }
   },
   "outputs": [],
   "source": [
    "list_of_categories_sel = attribute_list_model.loc[(attribute_list_model['count_dist'] == 2), 'attribute'].to_list() "
   ]
  },
  {
   "cell_type": "code",
   "execution_count": 438,
   "metadata": {
    "ExecuteTime": {
     "end_time": "2021-05-12T15:10:24.764494Z",
     "start_time": "2021-05-12T15:10:24.754493Z"
    }
   },
   "outputs": [],
   "source": [
    "categorials_data_fin = pd.read_csv(PATH + 'Selection_new/SandBox/categories_fin.csv', sep = '&')"
   ]
  },
  {
   "cell_type": "code",
   "execution_count": 439,
   "metadata": {
    "ExecuteTime": {
     "end_time": "2021-05-12T15:10:24.819500Z",
     "start_time": "2021-05-12T15:10:24.766496Z"
    }
   },
   "outputs": [
    {
     "data": {
      "text/html": [
       "<div>\n",
       "<style scoped>\n",
       "    .dataframe tbody tr th:only-of-type {\n",
       "        vertical-align: middle;\n",
       "    }\n",
       "\n",
       "    .dataframe tbody tr th {\n",
       "        vertical-align: top;\n",
       "    }\n",
       "\n",
       "    .dataframe thead th {\n",
       "        text-align: right;\n",
       "    }\n",
       "</style>\n",
       "<table border=\"1\" class=\"dataframe\">\n",
       "  <thead>\n",
       "    <tr style=\"text-align: right;\">\n",
       "      <th></th>\n",
       "      <th>Unnamed: 0</th>\n",
       "      <th>feature</th>\n",
       "    </tr>\n",
       "  </thead>\n",
       "  <tbody>\n",
       "    <tr>\n",
       "      <th>0</th>\n",
       "      <td>0</td>\n",
       "      <td>SUB_CHANNEL_MEGAFON</td>\n",
       "    </tr>\n",
       "    <tr>\n",
       "      <th>1</th>\n",
       "      <td>1</td>\n",
       "      <td>RULE_SAME_MOB_CONT6_9_30_bin</td>\n",
       "    </tr>\n",
       "    <tr>\n",
       "      <th>2</th>\n",
       "      <td>2</td>\n",
       "      <td>COUNT_CONT_FIO8_14_bin</td>\n",
       "    </tr>\n",
       "    <tr>\n",
       "      <th>3</th>\n",
       "      <td>3</td>\n",
       "      <td>RULE_3_TRE3_SHARE_7_bin</td>\n",
       "    </tr>\n",
       "    <tr>\n",
       "      <th>4</th>\n",
       "      <td>4</td>\n",
       "      <td>COUNT_CONT_FIO8_7_bin</td>\n",
       "    </tr>\n",
       "  </tbody>\n",
       "</table>\n",
       "</div>"
      ],
      "text/plain": [
       "   Unnamed: 0                       feature\n",
       "0           0           SUB_CHANNEL_MEGAFON\n",
       "1           1  RULE_SAME_MOB_CONT6_9_30_bin\n",
       "2           2        COUNT_CONT_FIO8_14_bin\n",
       "3           3       RULE_3_TRE3_SHARE_7_bin\n",
       "4           4         COUNT_CONT_FIO8_7_bin"
      ]
     },
     "execution_count": 439,
     "metadata": {},
     "output_type": "execute_result"
    }
   ],
   "source": [
    "categorials_data_fin.head()"
   ]
  },
  {
   "cell_type": "code",
   "execution_count": 440,
   "metadata": {
    "ExecuteTime": {
     "end_time": "2021-05-12T15:10:24.973515Z",
     "start_time": "2021-05-12T15:10:24.859502Z"
    }
   },
   "outputs": [],
   "source": [
    "for i in list_of_columns_no_sys:\n",
    "    if i in categorials_data_fin['feature'].to_list():\n",
    "        list_of_categories_sel.append(i)"
   ]
  },
  {
   "cell_type": "code",
   "execution_count": 441,
   "metadata": {
    "ExecuteTime": {
     "end_time": "2021-05-12T15:10:25.177526Z",
     "start_time": "2021-05-12T15:10:25.122521Z"
    }
   },
   "outputs": [
    {
     "data": {
      "text/plain": [
       "['SUB_CHANNEL_EUROSET',\n",
       " 'SUB_CHANNEL_LOCALS',\n",
       " 'SUB_CHANNEL_LOCALS_DESHELI',\n",
       " 'SUB_CHANNEL_LOCALS_DNS',\n",
       " 'SUB_CHANNEL_LOCALS_FURNITURE',\n",
       " 'SUB_CHANNEL_LOCALS_RBT',\n",
       " 'SUB_CHANNEL_MEGAFON',\n",
       " 'SUB_CHANNEL_SVYAZNOY_POS',\n",
       " 'AVG_FUND_TT_7_bin',\n",
       " 'AVG_FUND_TT_14_bin',\n",
       " 'STD_SUM_TT_14_bin',\n",
       " 'AVG_FUND_TT_30_bin',\n",
       " 'STD_SUM_TT_30_bin',\n",
       " 'STD_SUM_TT_60_bin',\n",
       " 'RULE_1_TRE3_SHARE_7_bin',\n",
       " 'RULE_1_TRE3_SHARE_14_bin',\n",
       " 'COUNT_CONT_FIO7_7_bin',\n",
       " 'SUB_CHANNEL_EUROSET',\n",
       " 'SUB_CHANNEL_LOCALS',\n",
       " 'SUB_CHANNEL_LOCALS_DESHELI',\n",
       " 'SUB_CHANNEL_LOCALS_DNS',\n",
       " 'SUB_CHANNEL_LOCALS_FURNITURE',\n",
       " 'SUB_CHANNEL_LOCALS_RBT',\n",
       " 'SUB_CHANNEL_MEGAFON',\n",
       " 'SUB_CHANNEL_SVYAZNOY_POS',\n",
       " 'DIVISION_Дальневосточный',\n",
       " 'DIVISION_Московский',\n",
       " 'DIVISION_Приволжский',\n",
       " 'DIVISION_Северо-Западный',\n",
       " 'DIVISION_Северо-Кавказский',\n",
       " 'DIVISION_Центральный',\n",
       " 'DIVISION_Южный',\n",
       " 'AVG_FUND_TT_7_bin',\n",
       " 'AVG_FUND_TT_14_bin',\n",
       " 'STD_SUM_TT_14_bin',\n",
       " 'AVG_FUND_TT_30_bin',\n",
       " 'STD_SUM_TT_30_bin',\n",
       " 'STD_SUM_TT_60_bin',\n",
       " 'RULE_1_TRE3_SHARE_7_bin',\n",
       " 'RULE_1_TRE3_SHARE_14_bin',\n",
       " 'COUNT_CONT_FIO7_7_bin']"
      ]
     },
     "execution_count": 441,
     "metadata": {},
     "output_type": "execute_result"
    }
   ],
   "source": [
    "list_of_categories_sel"
   ]
  },
  {
   "cell_type": "code",
   "execution_count": 443,
   "metadata": {
    "ExecuteTime": {
     "end_time": "2021-05-12T15:10:25.859923Z",
     "start_time": "2021-05-12T15:10:25.192526Z"
    }
   },
   "outputs": [],
   "source": [
    "once_rows = sum(y_train)\n",
    "second_rows = (len(y_train) - sum(y_train))\n",
    "y_unique = sorted(y_train.unique())\n",
    "all_rows = len(y_train)\n",
    "\n",
    "once_rows_share = once_rows/all_rows\n",
    "second_rows_share = second_rows/all_rows\n",
    "second_rows_share/once_rows_share\n",
    "\n",
    "if once_rows < second_rows:\n",
    "    w_b = once_rows/second_rows\n",
    "else:\n",
    "    w_b = second_rows/once_rows"
   ]
  },
  {
   "cell_type": "code",
   "execution_count": 444,
   "metadata": {
    "ExecuteTime": {
     "end_time": "2021-05-12T15:10:25.896918Z",
     "start_time": "2021-05-12T15:10:25.865917Z"
    }
   },
   "outputs": [
    {
     "data": {
      "text/plain": [
       "(0.00278190685984801, 0.997218093140152)"
      ]
     },
     "execution_count": 444,
     "metadata": {},
     "output_type": "execute_result"
    }
   ],
   "source": [
    "once_rows_share, second_rows_share"
   ]
  },
  {
   "cell_type": "code",
   "execution_count": 445,
   "metadata": {
    "ExecuteTime": {
     "end_time": "2021-05-12T15:10:25.912922Z",
     "start_time": "2021-05-12T15:10:25.901919Z"
    }
   },
   "outputs": [
    {
     "data": {
      "text/plain": [
       "0.0027896674548774283"
      ]
     },
     "execution_count": 445,
     "metadata": {},
     "output_type": "execute_result"
    }
   ],
   "source": [
    "w_b"
   ]
  },
  {
   "cell_type": "code",
   "execution_count": 446,
   "metadata": {
    "ExecuteTime": {
     "end_time": "2021-05-12T15:10:25.991927Z",
     "start_time": "2021-05-12T15:10:25.967923Z"
    }
   },
   "outputs": [
    {
     "data": {
      "text/plain": [
       "0    1503405\n",
       "1       4194\n",
       "Name: BAD_FLAG, dtype: int64"
      ]
     },
     "execution_count": 446,
     "metadata": {},
     "output_type": "execute_result"
    }
   ],
   "source": [
    "y_train.value_counts()"
   ]
  },
  {
   "cell_type": "code",
   "execution_count": 447,
   "metadata": {
    "ExecuteTime": {
     "end_time": "2021-05-12T15:10:26.067262Z",
     "start_time": "2021-05-12T15:10:26.021927Z"
    }
   },
   "outputs": [
    {
     "data": {
      "text/plain": [
       "0    0.997218\n",
       "1    0.002782\n",
       "Name: BAD_FLAG, dtype: float64"
      ]
     },
     "execution_count": 447,
     "metadata": {},
     "output_type": "execute_result"
    }
   ],
   "source": [
    "y_train.value_counts()/len(y_train)"
   ]
  },
  {
   "cell_type": "code",
   "execution_count": 448,
   "metadata": {
    "ExecuteTime": {
     "end_time": "2021-05-12T15:10:26.130493Z",
     "start_time": "2021-05-12T15:10:26.113490Z"
    }
   },
   "outputs": [
    {
     "data": {
      "text/plain": [
       "0    186942\n",
       "1       558\n",
       "Name: BAD_FLAG, dtype: int64"
      ]
     },
     "execution_count": 448,
     "metadata": {},
     "output_type": "execute_result"
    }
   ],
   "source": [
    "y_test.value_counts()"
   ]
  },
  {
   "cell_type": "code",
   "execution_count": 449,
   "metadata": {
    "ExecuteTime": {
     "end_time": "2021-05-12T15:10:26.279546Z",
     "start_time": "2021-05-12T15:10:26.137493Z"
    }
   },
   "outputs": [
    {
     "data": {
      "text/plain": [
       "0    0.997024\n",
       "1    0.002976\n",
       "Name: BAD_FLAG, dtype: float64"
      ]
     },
     "execution_count": 449,
     "metadata": {},
     "output_type": "execute_result"
    }
   ],
   "source": [
    "y_test.value_counts()/len(y_test)"
   ]
  },
  {
   "cell_type": "code",
   "execution_count": 451,
   "metadata": {
    "ExecuteTime": {
     "end_time": "2021-05-12T15:10:26.365457Z",
     "start_time": "2021-05-12T15:10:26.347678Z"
    }
   },
   "outputs": [],
   "source": [
    "from Filter_and_Grid_Search import br_correction\n",
    "from Filter_and_Grid_Search import lr_test_one_simple, lr_test_all_features"
   ]
  },
  {
   "cell_type": "code",
   "execution_count": 452,
   "metadata": {
    "ExecuteTime": {
     "end_time": "2021-05-12T15:10:29.358975Z",
     "start_time": "2021-05-12T15:10:26.381079Z"
    },
    "scrolled": true
   },
   "outputs": [],
   "source": [
    "train = train.join(y_train)"
   ]
  },
  {
   "cell_type": "code",
   "execution_count": 453,
   "metadata": {
    "ExecuteTime": {
     "end_time": "2021-05-12T15:10:29.388757Z",
     "start_time": "2021-05-12T15:10:29.365977Z"
    }
   },
   "outputs": [],
   "source": [
    "from sklearn.model_selection import GridSearchCV, RandomizedSearchCV\n",
    "from lightgbm import LGBMClassifier"
   ]
  },
  {
   "cell_type": "code",
   "execution_count": 454,
   "metadata": {
    "ExecuteTime": {
     "end_time": "2021-05-12T15:10:38.146855Z",
     "start_time": "2021-05-12T15:10:29.388757Z"
    },
    "scrolled": true
   },
   "outputs": [],
   "source": [
    "train2 = train.copy()\n",
    "y_train = train2[target]\n",
    "train2.drop(target, axis = 1, inplace = True)"
   ]
  },
  {
   "cell_type": "code",
   "execution_count": 455,
   "metadata": {
    "ExecuteTime": {
     "end_time": "2021-05-12T15:11:36.298853Z",
     "start_time": "2021-05-12T15:10:38.151334Z"
    }
   },
   "outputs": [],
   "source": [
    "train_lgbm_data, test_lgbm_data, y_train, y_test = data_preprocessing(train2,\n",
    "                                                          train[target], \n",
    "                                                        test, \n",
    "                                                          y_test, necessary_fields_upper, \n",
    "                                                       categorial_list = list_of_categories_sel,\n",
    "                                                 yeo_johnson = False, attribute_list = None, \n",
    "                                                       var_col = None,\n",
    "                                                       scale = False, median = 'median', check_percentile = 5,\n",
    "                                                   high_outlier = None, low_outlier = None, \n",
    "                                                       cols_outlier = [], \n",
    "                                             cut_non_out_9999 = False)\n",
    "\n",
    "train_lgbm_data, oot_lgbm_data, y_train, y_oot = data_preprocessing(train2,\n",
    "                                                          train[target], \n",
    "                                                        oot, \n",
    "                                                          y_oot, necessary_fields_upper, \n",
    "                                                       categorial_list = list_of_categories_sel,\n",
    "                                                 yeo_johnson = False, attribute_list = None, \n",
    "                                                       var_col = None,\n",
    "                                                       scale = False, median = 'median', check_percentile = 5,\n",
    "                                                   high_outlier = None, low_outlier = None, \n",
    "                                                       cols_outlier = [], \n",
    "                                             cut_non_out_9999 = False)\n",
    "\n",
    "train_lgbm_data, oot_lgbm_data_2013, y_train, y_oot_2013 = data_preprocessing(train2,\n",
    "                                                          train[target], \n",
    "                                                        oot_2013, \n",
    "                                                          y_oot_2013, necessary_fields_upper, \n",
    "                                                       categorial_list = list_of_categories_sel,\n",
    "                                                 yeo_johnson = False, attribute_list = None, \n",
    "                                                       var_col = None,\n",
    "                                                       scale = False, median = 'median', check_percentile = 5,\n",
    "                                                   high_outlier = None, low_outlier = None, \n",
    "                                                       cols_outlier = [], \n",
    "                                             cut_non_out_9999 = False)"
   ]
  },
  {
   "cell_type": "markdown",
   "metadata": {},
   "source": [
    "### Forest"
   ]
  },
  {
   "cell_type": "code",
   "execution_count": 290,
   "metadata": {
    "ExecuteTime": {
     "end_time": "2021-05-11T19:36:54.991466Z",
     "start_time": "2021-05-11T19:36:54.971465Z"
    }
   },
   "outputs": [],
   "source": [
    "params_forest = {\n",
    "    'max_depth': 6,\n",
    "    'n_estimators': 100,\n",
    "    'class_weight': {0: 3*w_b, 1: 1},\n",
    "    'random_state': 241, \n",
    "    'n_jobs': 5}"
   ]
  },
  {
   "cell_type": "code",
   "execution_count": 291,
   "metadata": {
    "ExecuteTime": {
     "end_time": "2021-05-11T19:42:09.536004Z",
     "start_time": "2021-05-11T19:36:54.998464Z"
    }
   },
   "outputs": [
    {
     "name": "stdout",
     "output_type": "stream",
     "text": [
      "Starting training... 11.05.2021 22:36:55\n",
      "Ending training... 11.05.2021 22:39:06\n",
      "roc auc train =  0.9423 aps train =  0.0938 nap train =  0.0912 bf train =  0.0028\n",
      "groc aucini test =  0.9264 aps test =  0.0564 nap test =  0.0536 bf test =  0.003\n",
      "roc auc oot =  0.9437 aps oot =  0.057 nap oot =  0.0541 bf oot =  0.0031\n",
      "roc auc oot 2013 =  0.8613 aps oot 2013 =  0.0799 nap oot 2013 =  0.0672 bf oot 2013 =  0.0137\n",
      "Calculate profits\n"
     ]
    }
   ],
   "source": [
    "forest_class = RandomForestClassifier(**params_forest)\n",
    "from datetime import datetime\n",
    "\n",
    "print('Starting training...', datetime.strftime(datetime.now(), \"%d.%m.%Y %H:%M:%S\"))\n",
    "\n",
    "forest3 = forest_class.fit(train_lgbm_data, y_train)\n",
    "\n",
    "print('Ending training...', datetime.strftime(datetime.now(), \"%d.%m.%Y %H:%M:%S\"))\n",
    "\n",
    "y_train_pred = forest3.predict_proba(train_lgbm_data)[:, 1]\n",
    "y_test_pred = forest3.predict_proba(test_lgbm_data)[:, 1]\n",
    "y_oot_pred = forest3.predict_proba(oot_lgbm_data)[:, 1]\n",
    "y_oot_pred_2013 = forest3.predict_proba(oot_lgbm_data_2013)[:, 1]\n",
    "##########################################################################\n",
    "\n",
    "roc_auc_train = roc_auc_score(y_train, y_train_pred)\n",
    "aps_train = average_precision_score(y_train, y_train_pred)\n",
    "br_train = np.mean(y_train)\n",
    "nap_train = (aps_train - br_train)/(1-br_train)\n",
    "auc_train, auc_var_train, lower_upper_ci_train = auc_ci_Delong(y_train, y_train_pred)\n",
    "lower_apr_train, upper_apr_train = aps_ci_logit(y_train, y_train_pred, epsilon=0.05)\n",
    "\n",
    "roc_auc_test = roc_auc_score(y_test, y_test_pred)\n",
    "aps_test = average_precision_score(y_test, y_test_pred)\n",
    "br_test = np.mean(y_test)\n",
    "nap_test = (aps_test - br_test)/(1-br_test)\n",
    "auc_test, auc_var_test, lower_upper_ci_test = auc_ci_Delong(y_test, y_test_pred)\n",
    "lower_apr_test, upper_apr_test = aps_ci_logit(y_test, y_test_pred, epsilon=0.05)\n",
    "\n",
    "roc_auc_oot = roc_auc_score(y_oot, y_oot_pred)\n",
    "aps_oot = average_precision_score(y_oot, y_oot_pred)\n",
    "br_oot = np.mean(y_oot)\n",
    "nap_oot = (aps_oot - br_oot)/(1-br_oot)\n",
    "auc_oot, auc_var_oot, lower_upper_ci_oot = auc_ci_Delong(y_oot, y_oot_pred)\n",
    "lower_apr_oot, upper_apr_oot = aps_ci_logit(y_oot, y_oot_pred, epsilon=0.05)\n",
    "\n",
    "roc_auc_oot_2013 = roc_auc_score(y_oot_2013, y_oot_pred_2013)\n",
    "aps_oot_2013 = average_precision_score(y_oot_2013, y_oot_pred_2013)\n",
    "br_oot_2013 = np.mean(y_oot_2013)\n",
    "nap_oot_2013 = (aps_oot_2013 - br_oot_2013)/(1-br_oot_2013)\n",
    "auc_oot_2013, auc_var_oot_2013, lower_upper_ci_oot_2013 = auc_ci_Delong(y_oot_2013, y_oot_pred_2013)\n",
    "lower_apr_oot_2013, upper_apr_oot_2013 = aps_ci_logit(y_oot_2013, y_oot_pred_2013, epsilon=0.05)\n",
    "\n",
    "##########################################################################\n",
    "\n",
    "print('roc auc train = ', round(roc_auc_train, 4), \n",
    "      'aps train = ', round(aps_train, 4),\n",
    "      'nap train = ', round(nap_train, 4),\n",
    "      'bf train = ', round(br_train, 4))\n",
    "\n",
    "print('groc aucini test = ', round(roc_auc_test, 4), \n",
    "      'aps test = ', round(aps_test, 4),\n",
    "      'nap test = ', round(nap_test, 4),\n",
    "      'bf test = ', round(br_test, 4))\n",
    "\n",
    "print('roc auc oot = ', round(roc_auc_oot, 4), \n",
    "      'aps oot = ', round(aps_oot, 4),\n",
    "      'nap oot = ', round(nap_oot, 4),\n",
    "      'bf oot = ', round(br_oot, 4))\n",
    "\n",
    "print('roc auc oot 2013 = ', round(roc_auc_oot_2013, 4), \n",
    "      'aps oot 2013 = ', round(aps_oot_2013, 4),\n",
    "      'nap oot 2013 = ', round(nap_oot_2013, 4),\n",
    "      'bf oot 2013 = ', round(br_oot_2013, 4))\n",
    "\n",
    "scores_default = pd.DataFrame()\n",
    "scores_default['bad rate train'] = [br_train]\n",
    "scores_default['bad rate test'] = [br_test]\n",
    "scores_default['bad rate oot'] = [br_oot]\n",
    "scores_default['bad rate oot 2013'] = [br_oot_2013]\n",
    "\n",
    "scores_default['roc auc train'] = [roc_auc_train]\n",
    "scores_default['roc auc test'] = [roc_auc_test]\n",
    "scores_default['roc auc oot'] = [roc_auc_oot]\n",
    "scores_default['roc auc oot 2013'] = [roc_auc_oot_2013]\n",
    "\n",
    "scores_default['roc_auc train lower upper'] = [lower_upper_ci_train]\n",
    "scores_default['roc_auc test lower upper'] = [lower_upper_ci_test]\n",
    "scores_default['roc_auc oot lower upper'] = [lower_upper_ci_oot]\n",
    "scores_default['roc_auc oot 2013 lower upper'] = [lower_upper_ci_oot_2013]\n",
    "\n",
    "scores_default['aps train'] = [aps_train]\n",
    "scores_default['aps test'] = [aps_test]\n",
    "scores_default['aps oot'] = [aps_oot]\n",
    "scores_default['aps oot 2013'] = [aps_oot_2013]\n",
    "\n",
    "scores_default['aps upper train'] = [upper_apr_train]\n",
    "scores_default['aps upper test'] = [upper_apr_test]\n",
    "scores_default['aps upper oot'] = [upper_apr_oot]\n",
    "scores_default['aps upper oot 2013'] = [upper_apr_oot_2013]\n",
    "\n",
    "scores_default['aps lower train'] = [lower_apr_train]\n",
    "scores_default['aps lower test'] = [lower_apr_test]\n",
    "scores_default['aps lower oot'] = [lower_apr_oot]\n",
    "scores_default['aps lower oot 2013'] = [lower_apr_oot_2013]\n",
    "\n",
    "scores_default['nap train'] = [nap_train]\n",
    "scores_default['nap test'] = [nap_test]\n",
    "scores_default['nap oot'] = [nap_oot]\n",
    "scores_default['nap oot 2013'] = [nap_oot_2013]\n",
    "\n",
    "#####################################################################\n",
    "\n",
    "predictions_train = pd.DataFrame()\n",
    "predictions_test = pd.DataFrame()\n",
    "predictions_oot = pd.DataFrame()\n",
    "predictions_oot_2013 = pd.DataFrame()\n",
    "\n",
    "predictions_train['prediction'] = y_train_pred\n",
    "predictions_train['bad_flag'] = y_train\n",
    "predictions_train['loss_90p'] = train_losses\n",
    "predictions_train['period_7'] = train_period_7\n",
    "predictions_train['APPPOSID'] = train['APPPOSID'].copy()\n",
    "\n",
    "predictions_test['prediction'] = y_test_pred\n",
    "predictions_test['bad_flag'] = y_test\n",
    "predictions_test['loss_90p'] = test_losses\n",
    "predictions_test['period_7'] = test_period_7\n",
    "predictions_test['APPPOSID'] = test['APPPOSID'].copy()\n",
    "\n",
    "predictions_oot['prediction'] = y_oot_pred\n",
    "predictions_oot['bad_flag'] = y_oot\n",
    "predictions_oot['loss_90p'] = oot_losses\n",
    "predictions_oot['period_7'] = oot_period_7\n",
    "predictions_oot['APPPOSID'] = oot['APPPOSID'].copy()\n",
    "\n",
    "predictions_oot_2013['prediction'] = y_oot_pred_2013\n",
    "predictions_oot_2013['bad_flag'] = y_oot_2013\n",
    "predictions_oot_2013['loss_90p'] = oot_losses_2013\n",
    "predictions_oot_2013['period_7'] = oot_period_7_2013\n",
    "predictions_oot_2013['APPPOSID'] = oot_2013['APPPOSID'].copy()\n",
    "\n",
    "print('Calculate profits')\n",
    "\n",
    "saved_money_test_tt = antifraud_profit_metrics_by_periods(predictions_test, \n",
    "                                                                   'prediction', 'loss_90p', \n",
    "                                                                   'bad_flag', 'period_7', \n",
    "                                                                   to_select = 5, n_jobs = 3)[0]\n",
    "saved_money_test_2_tt = antifraud_profit_metrics_by_periods(predictions_oot, \n",
    "                                                                     'prediction', 'loss_90p', \n",
    "                                                                     'bad_flag', 'period_7',\n",
    "                                                                     to_select = 5, n_jobs = 3)[0]\n",
    "saved_money_2013_tt = antifraud_profit_metrics_by_periods(predictions_oot_2013, \n",
    "                                                                   'prediction', 'loss_90p', \n",
    "                                                                   'bad_flag', 'period_7',\n",
    "                                                                   to_select = 40, n_jobs = 3)[0]\n",
    "\n",
    "#####################################################################################\n",
    "\n",
    "saved_money_test_distinct_tt = antifraud_profit_metrics_by_periods_unique_tt(predictions_test, \n",
    "                                                                             'prediction', 'loss_90p', \n",
    "                                                                             'bad_flag', 'period_7', \n",
    "                                                                             'APPPOSID',\n",
    "                                                                             to_select = 5, n_jobs = 1)\n",
    "saved_money_test_2_distinct_tt = antifraud_profit_metrics_by_periods_unique_tt(predictions_oot, \n",
    "                                                                               'prediction', 'loss_90p', \n",
    "                                                                               'bad_flag', 'period_7', \n",
    "                                                                               'APPPOSID',\n",
    "                                                                               to_select = 5, n_jobs = 1)\n",
    "saved_money_2013_distinct_tt = antifraud_profit_metrics_by_periods_unique_tt(predictions_oot_2013, \n",
    "                                                                             'prediction', 'loss_90p', \n",
    "                                                                             'bad_flag', 'period_7', \n",
    "                                                                             'APPPOSID',\n",
    "                                                                             to_select = 40, n_jobs = 1)\n",
    "\n",
    "#####################################################################################\n",
    "\n",
    "saved_money_test_distinct_tt_new = antifraud_profit_metrics_by_periods_unique_tt3(predictions_test, \n",
    "                                                                                  'prediction', 'loss_90p',\n",
    "                                                                                  'bad_flag', 'period_7', \n",
    "                                                                                  'APPPOSID',\n",
    "                                                                                  to_select = 5)[0]\n",
    "saved_money_test_2_distinct_tt_new = antifraud_profit_metrics_by_periods_unique_tt3(predictions_oot, \n",
    "                                                                                    'prediction', 'loss_90p',\n",
    "                                                                                    'bad_flag', 'period_7', \n",
    "                                                                                    'APPPOSID',\n",
    "                                                                                    to_select = 5)[0]\n",
    "saved_money_2013_distinct_tt_new = antifraud_profit_metrics_by_periods_unique_tt3(predictions_oot_2013, \n",
    "                                                                                  'prediction', 'loss_90p', \n",
    "                                                                                  'bad_flag', 'period_7', \n",
    "                                                                                  'APPPOSID',\n",
    "                                                                                  to_select = 40)[0]\n",
    "\n",
    "scores_default['saved_money_test_tt'] = [saved_money_test_tt]\n",
    "scores_default['saved_money_test_tt_multiply'] = [saved_money_test_tt*8]\n",
    "scores_default['saved_money_test_2_tt'] = [saved_money_test_2_tt]\n",
    "scores_default['saved_money_test_2_tt_multiply'] = [saved_money_test_2_tt*8]\n",
    "scores_default['saved_money_2013_tt'] = [saved_money_2013_tt]\n",
    "scores_default['saved_money_2013_tt_multiply'] = [saved_money_2013_tt]\n",
    "\n",
    "scores_default['saved_money_test_unique_tt'] = [saved_money_test_distinct_tt]\n",
    "scores_default['saved_money_test_unique_tt_multiply'] = [saved_money_test_distinct_tt*8]\n",
    "scores_default['saved_money_test_2_unique_tt'] = [saved_money_test_2_distinct_tt]\n",
    "scores_default['saved_money_test_2_unique_tt_multiply'] = [saved_money_test_2_distinct_tt*8]\n",
    "scores_default['saved_money_2013_unique_tt'] = [saved_money_2013_distinct_tt]\n",
    "scores_default['saved_money_2013_unique_tt_multiply'] = [saved_money_2013_distinct_tt]\n",
    "\n",
    "scores_default['saved_money_test_unique_tt_new'] = [saved_money_test_distinct_tt_new]\n",
    "scores_default['saved_money_test_unique_tt_new_multiply'] = [saved_money_test_distinct_tt_new*8]\n",
    "scores_default['saved_money_test_2_unique_tt_new'] = [saved_money_test_2_distinct_tt_new]\n",
    "scores_default['saved_money_test_2_unique_tt_new_multiply'] = [saved_money_test_2_distinct_tt_new*8]\n",
    "scores_default['saved_money_2013_unique_tt_new'] = [saved_money_2013_distinct_tt_new]\n",
    "scores_default['saved_money_2013_unique_tt_new_multiply'] = [saved_money_2013_distinct_tt_new]\n",
    "\n",
    "scores_default.to_csv(PATH + 'Modeling_fin_no_b_test/scores_forest1.csv', sep = '&')"
   ]
  },
  {
   "cell_type": "code",
   "execution_count": null,
   "metadata": {},
   "outputs": [],
   "source": []
  },
  {
   "cell_type": "code",
   "execution_count": 294,
   "metadata": {
    "ExecuteTime": {
     "end_time": "2021-05-11T20:32:23.496920Z",
     "start_time": "2021-05-11T20:32:23.488921Z"
    },
    "scrolled": true
   },
   "outputs": [],
   "source": [
    "params_dictionary = {'max_depth': [3, 7],\n",
    "        'verbose': 0,\n",
    "        'n_estimators': [30, 200],\n",
    "        'class_weight_0': [0.01*w_b, 6*w_b],\n",
    "        'random_state': 241\n",
    "    }\n",
    "\n",
    "pass_model = RandomForestClassifier\n",
    "sort_by_var = sort_by_var.upper()\n",
    "list_of_vars_for_strat = ['MONTH_YEAR']\n",
    "second_target = None\n",
    "yeo_johnson = False\n",
    "n_folds = 2\n",
    "simple_b_score = simple_b_score_crm\n",
    "business_dictionary = {'m_s': 15900, 'k': 47, 'c': 1}\n"
   ]
  },
  {
   "cell_type": "code",
   "execution_count": 295,
   "metadata": {
    "ExecuteTime": {
     "end_time": "2021-05-12T03:48:30.216350Z",
     "start_time": "2021-05-11T20:32:23.739937Z"
    },
    "scrolled": true
   },
   "outputs": [
    {
     "name": "stdout",
     "output_type": "stream",
     "text": [
      "Запущен новый подборЗапущен новый подбор\n",
      "\n",
      "{{'class_weight''class_weight': : {0: 0.01673800472926457, 1: 1}{0: 0.01673800472926457, 1: 1},\n",
      " ,\n",
      " 'max_depth''max_depth': : 54,\n",
      " ,\n",
      " 'n_estimators''n_estimators': : 74142,\n",
      " ,\n",
      " 'random_state''random_state': : 241241,\n",
      " ,\n",
      " 'verbose''verbose': : 00}}\n",
      "\n",
      "{{'high_outlier''high_outlier': : NoneNone,\n",
      " ,\n",
      " 'low_outlier''low_outlier': : NoneNone,\n",
      " ,\n",
      " 'scale''scale': 'mean',\n",
      " 'yeo_johnson': False}\n",
      ": 'mean',\n",
      " 'yeo_johnson': False}\n",
      "-------------------- 11.05.2021 23:41:35 0 -------------------- \n",
      " Параметры: {'max_depth': 5, 'verbose': 0, 'n_estimators': 74, 'class_weight': {0: 0.01673800472926457, 1: 1}, 'random_state': 241} \n",
      " Среднее значение APS = 0.054420346613776656 \n",
      " Среднее значение AUC = 0.9168976040447183 \n",
      " Минимальное значение AUC = 0.9125189779779234\n"
     ]
    },
    {
     "name": "stderr",
     "output_type": "stream",
     "text": [
      "[I 2021-05-11 23:41:36,375] Trial 1 finished with value: 0.04158055425713973 and parameters: {'max_depth': 5, 'n_estimators': 74, 'class_weight': 0.01673800472926457}. Best is trial 1 with value: 0.04158055425713973.\n"
     ]
    },
    {
     "name": "stdout",
     "output_type": "stream",
     "text": [
      "Запущен новый подбор\n",
      "{'class_weight': {0: 2.7896674548774282e-05, 1: 1},\n",
      " 'max_depth': 7,\n",
      " 'n_estimators': 32,\n",
      " 'random_state': 241,\n",
      " 'verbose': 0}\n",
      "{'high_outlier': None,\n",
      " 'low_outlier': None,\n",
      " 'scale': 'mean',\n",
      " 'yeo_johnson': False}\n",
      "-------------------- 11.05.2021 23:45:27 1 -------------------- \n",
      " Параметры: {'max_depth': 4, 'verbose': 0, 'n_estimators': 142, 'class_weight': {0: 0.01673800472926457, 1: 1}, 'random_state': 241} \n",
      " Среднее значение APS = 0.045839894507445335 \n",
      " Среднее значение AUC = 0.9074021899410553 \n",
      " Минимальное значение AUC = 0.9021709449011441\n"
     ]
    },
    {
     "name": "stderr",
     "output_type": "stream",
     "text": [
      "[I 2021-05-11 23:45:28,236] Trial 0 finished with value: 0.04323088132653048 and parameters: {'max_depth': 4, 'n_estimators': 142, 'class_weight': 0.01673800472926457}. Best is trial 0 with value: 0.04323088132653048.\n"
     ]
    },
    {
     "name": "stdout",
     "output_type": "stream",
     "text": [
      "Запущен новый подбор\n",
      "{'class_weight': {0: 0.01673800472926457, 1: 1},\n",
      " 'max_depth': 5,\n",
      " 'n_estimators': 181,\n",
      " 'random_state': 241,\n",
      " 'verbose': 0}\n",
      "{'high_outlier': None,\n",
      " 'low_outlier': None,\n",
      " 'scale': 'mean',\n",
      " 'yeo_johnson': False}\n",
      "-------------------- 11.05.2021 23:48:13 2 -------------------- \n",
      " Параметры: {'max_depth': 7, 'verbose': 0, 'n_estimators': 32, 'class_weight': {0: 2.7896674548774282e-05, 1: 1}, 'random_state': 241} \n",
      " Среднее значение APS = 0.03252547254578074 \n",
      " Среднее значение AUC = 0.8737159353990371 \n",
      " Минимальное значение AUC = 0.8709321714293938\n"
     ]
    },
    {
     "name": "stderr",
     "output_type": "stream",
     "text": [
      "[I 2021-05-11 23:48:13,690] Trial 2 finished with value: 0.03136049585573716 and parameters: {'max_depth': 7, 'n_estimators': 32, 'class_weight': 2.7896674548774282e-05}. Best is trial 0 with value: 0.04323088132653048.\n"
     ]
    },
    {
     "name": "stdout",
     "output_type": "stream",
     "text": [
      "Запущен новый подбор\n",
      "{'class_weight': {0: 2.7896674548774282e-05, 1: 1},\n",
      " 'max_depth': 4,\n",
      " 'n_estimators': 114,\n",
      " 'random_state': 241,\n",
      " 'verbose': 0}\n",
      "{'high_outlier': None,\n",
      " 'low_outlier': None,\n",
      " 'scale': 'mean',\n",
      " 'yeo_johnson': False}\n",
      "-------------------- 11.05.2021 23:57:32 3 -------------------- \n",
      " Параметры: {'max_depth': 4, 'verbose': 0, 'n_estimators': 114, 'class_weight': {0: 2.7896674548774282e-05, 1: 1}, 'random_state': 241} \n",
      " Среднее значение APS = 0.033150435368931974 \n",
      " Среднее значение AUC = 0.8740315658133802 \n",
      " Минимальное значение AUC = 0.8599891331633125\n"
     ]
    },
    {
     "name": "stderr",
     "output_type": "stream",
     "text": [
      "[I 2021-05-11 23:57:33,200] Trial 4 finished with value: 0.03152959106840745 and parameters: {'max_depth': 4, 'n_estimators': 114, 'class_weight': 2.7896674548774282e-05}. Best is trial 0 with value: 0.04323088132653048.\n"
     ]
    },
    {
     "name": "stdout",
     "output_type": "stream",
     "text": [
      "Запущен новый подбор\n",
      "{'class_weight': {0: 2.7896674548774282e-05, 1: 1},\n",
      " 'max_depth': 4,\n",
      " 'n_estimators': 35,\n",
      " 'random_state': 241,\n",
      " 'verbose': 0}\n",
      "{'high_outlier': None,\n",
      " 'low_outlier': None,\n",
      " 'scale': 'mean',\n",
      " 'yeo_johnson': False}\n",
      "-------------------- 12.05.2021 00:02:35 4 -------------------- \n",
      " Параметры: {'max_depth': 5, 'verbose': 0, 'n_estimators': 181, 'class_weight': {0: 0.01673800472926457, 1: 1}, 'random_state': 241} \n",
      " Среднее значение APS = 0.05431817751711802 \n",
      " Среднее значение AUC = 0.9139068505781611 \n",
      " Минимальное значение AUC = 0.9084877320749194\n"
     ]
    },
    {
     "name": "stderr",
     "output_type": "stream",
     "text": [
      "[I 2021-05-12 00:02:35,692] Trial 3 finished with value: 0.04456603950644919 and parameters: {'max_depth': 5, 'n_estimators': 181, 'class_weight': 0.01673800472926457}. Best is trial 3 with value: 0.04456603950644919.\n"
     ]
    },
    {
     "name": "stdout",
     "output_type": "stream",
     "text": [
      "Запущен новый подбор\n",
      "{'class_weight': {0: 0.01673800472926457, 1: 1},\n",
      " 'max_depth': 6,\n",
      " 'n_estimators': 177,\n",
      " 'random_state': 241,\n",
      " 'verbose': 0}\n",
      "{'high_outlier': None,\n",
      " 'low_outlier': None,\n",
      " 'scale': 'mean',\n",
      " 'yeo_johnson': False}\n",
      "-------------------- 12.05.2021 00:02:56 5 -------------------- \n",
      " Параметры: {'max_depth': 4, 'verbose': 0, 'n_estimators': 35, 'class_weight': {0: 2.7896674548774282e-05, 1: 1}, 'random_state': 241} \n",
      " Среднее значение APS = 0.03406616827711293 \n",
      " Среднее значение AUC = 0.8749672343261214 \n",
      " Минимальное значение AUC = 0.8731222041969396\n"
     ]
    },
    {
     "name": "stderr",
     "output_type": "stream",
     "text": [
      "[I 2021-05-12 00:02:56,784] Trial 5 finished with value: 0.026858484985616063 and parameters: {'max_depth': 4, 'n_estimators': 35, 'class_weight': 2.7896674548774282e-05}. Best is trial 3 with value: 0.04456603950644919.\n"
     ]
    },
    {
     "name": "stdout",
     "output_type": "stream",
     "text": [
      "Запущен новый подбор\n",
      "{'class_weight': {0: 2.7896674548774282e-05, 1: 1},\n",
      " 'max_depth': 6,\n",
      " 'n_estimators': 42,\n",
      " 'random_state': 241,\n",
      " 'verbose': 0}\n",
      "{'high_outlier': None,\n",
      " 'low_outlier': None,\n",
      " 'scale': 'mean',\n",
      " 'yeo_johnson': False}\n",
      "-------------------- 12.05.2021 00:09:34 6 -------------------- \n",
      " Параметры: {'max_depth': 6, 'verbose': 0, 'n_estimators': 42, 'class_weight': {0: 2.7896674548774282e-05, 1: 1}, 'random_state': 241} \n",
      " Среднее значение APS = 0.03525967080752457 \n",
      " Среднее значение AUC = 0.8796771088864248 \n",
      " Минимальное значение AUC = 0.8781851495683627\n"
     ]
    },
    {
     "name": "stderr",
     "output_type": "stream",
     "text": [
      "[I 2021-05-12 00:09:34,610] Trial 7 finished with value: 0.034383848682965706 and parameters: {'max_depth': 6, 'n_estimators': 42, 'class_weight': 2.7896674548774282e-05}. Best is trial 3 with value: 0.04456603950644919.\n"
     ]
    },
    {
     "name": "stdout",
     "output_type": "stream",
     "text": [
      "Запущен новый подбор\n",
      "{'class_weight': {0: 2.7896674548774282e-05, 1: 1},\n",
      " 'max_depth': 7,\n",
      " 'n_estimators': 193,\n",
      " 'random_state': 241,\n",
      " 'verbose': 0}\n",
      "{'high_outlier': None,\n",
      " 'low_outlier': None,\n",
      " 'scale': 'mean',\n",
      " 'yeo_johnson': False}\n",
      "-------------------- 12.05.2021 00:20:43 7 -------------------- \n",
      " Параметры: {'max_depth': 6, 'verbose': 0, 'n_estimators': 177, 'class_weight': {0: 0.01673800472926457, 1: 1}, 'random_state': 241} \n",
      " Среднее значение APS = 0.05937535288078043 \n",
      " Среднее значение AUC = 0.9266132773467364 \n",
      " Минимальное значение AUC = 0.9228287313327167\n"
     ]
    },
    {
     "name": "stderr",
     "output_type": "stream",
     "text": [
      "[I 2021-05-12 00:20:44,088] Trial 6 finished with value: 0.048304558246094545 and parameters: {'max_depth': 6, 'n_estimators': 177, 'class_weight': 0.01673800472926457}. Best is trial 6 with value: 0.048304558246094545.\n"
     ]
    },
    {
     "name": "stdout",
     "output_type": "stream",
     "text": [
      "Запущен новый подбор\n",
      "{'class_weight': {0: 0.01673800472926457, 1: 1},\n",
      " 'max_depth': 4,\n",
      " 'n_estimators': 166,\n",
      " 'random_state': 241,\n",
      " 'verbose': 0}\n",
      "{'high_outlier': None,\n",
      " 'low_outlier': None,\n",
      " 'scale': 'mean',\n",
      " 'yeo_johnson': False}\n",
      "-------------------- 12.05.2021 00:30:25 8 -------------------- \n",
      " Параметры: {'max_depth': 7, 'verbose': 0, 'n_estimators': 193, 'class_weight': {0: 2.7896674548774282e-05, 1: 1}, 'random_state': 241} \n",
      " Среднее значение APS = 0.035164839220330014 \n",
      " Среднее значение AUC = 0.8795752351697825 \n",
      " Минимальное значение AUC = 0.8716498974795382\n"
     ]
    },
    {
     "name": "stderr",
     "output_type": "stream",
     "text": [
      "[I 2021-05-12 00:30:26,030] Trial 8 finished with value: 0.028030910337052403 and parameters: {'max_depth': 7, 'n_estimators': 193, 'class_weight': 2.7896674548774282e-05}. Best is trial 6 with value: 0.048304558246094545.\n"
     ]
    },
    {
     "name": "stdout",
     "output_type": "stream",
     "text": [
      "Запущен новый подбор\n",
      "{'class_weight': {0: 0.01673800472926457, 1: 1},\n",
      " 'max_depth': 4,\n",
      " 'n_estimators': 88,\n",
      " 'random_state': 241,\n",
      " 'verbose': 0}\n",
      "{'high_outlier': None,\n",
      " 'low_outlier': None,\n",
      " 'scale': 'mean',\n",
      " 'yeo_johnson': False}\n",
      "-------------------- 12.05.2021 00:34:51 9 -------------------- \n",
      " Параметры: {'max_depth': 4, 'verbose': 0, 'n_estimators': 166, 'class_weight': {0: 0.01673800472926457, 1: 1}, 'random_state': 241} \n",
      " Среднее значение APS = 0.04986296365549889 \n",
      " Среднее значение AUC = 0.9091270429242073 \n",
      " Минимальное значение AUC = 0.9065287375681882\n"
     ]
    },
    {
     "name": "stderr",
     "output_type": "stream",
     "text": [
      "[I 2021-05-12 00:34:51,782] Trial 9 finished with value: 0.041973122516295085 and parameters: {'max_depth': 4, 'n_estimators': 166, 'class_weight': 0.01673800472926457}. Best is trial 6 with value: 0.048304558246094545.\n"
     ]
    },
    {
     "name": "stdout",
     "output_type": "stream",
     "text": [
      "Запущен новый подбор\n",
      "{'class_weight': {0: 0.01673800472926457, 1: 1},\n",
      " 'max_depth': 6,\n",
      " 'n_estimators': 114,\n",
      " 'random_state': 241,\n",
      " 'verbose': 0}\n",
      "{'high_outlier': None,\n",
      " 'low_outlier': None,\n",
      " 'scale': 'mean',\n",
      " 'yeo_johnson': False}\n",
      "-------------------- 12.05.2021 00:39:34 10 -------------------- \n",
      " Параметры: {'max_depth': 4, 'verbose': 0, 'n_estimators': 88, 'class_weight': {0: 0.01673800472926457, 1: 1}, 'random_state': 241} \n",
      " Среднее значение APS = 0.04584021023423597 \n",
      " Среднее значение AUC = 0.9030093186365262 \n",
      " Минимальное значение AUC = 0.8899161325855407\n"
     ]
    },
    {
     "name": "stderr",
     "output_type": "stream",
     "text": [
      "[I 2021-05-12 00:39:35,008] Trial 10 finished with value: 0.04267476322215846 and parameters: {'max_depth': 4, 'n_estimators': 88, 'class_weight': 0.01673800472926457}. Best is trial 6 with value: 0.048304558246094545.\n"
     ]
    },
    {
     "name": "stdout",
     "output_type": "stream",
     "text": [
      "Запущен новый подбор\n",
      "{'class_weight': {0: 0.01673800472926457, 1: 1},\n",
      " 'max_depth': 6,\n",
      " 'n_estimators': 200,\n",
      " 'random_state': 241,\n",
      " 'verbose': 0}\n",
      "{'high_outlier': None,\n",
      " 'low_outlier': None,\n",
      " 'scale': 'mean',\n",
      " 'yeo_johnson': False}\n",
      "-------------------- 12.05.2021 00:48:45 11 -------------------- \n",
      " Параметры: {'max_depth': 6, 'verbose': 0, 'n_estimators': 114, 'class_weight': {0: 0.01673800472926457, 1: 1}, 'random_state': 241} \n",
      " Среднее значение APS = 0.0629179698074578 \n",
      " Среднее значение AUC = 0.9250850205497443 \n",
      " Минимальное значение AUC = 0.9231057975174224\n"
     ]
    },
    {
     "name": "stderr",
     "output_type": "stream",
     "text": [
      "[I 2021-05-12 00:48:46,203] Trial 11 finished with value: 0.049519809455516435 and parameters: {'max_depth': 6, 'n_estimators': 114, 'class_weight': 0.01673800472926457}. Best is trial 11 with value: 0.049519809455516435.\n"
     ]
    },
    {
     "name": "stdout",
     "output_type": "stream",
     "text": [
      "Запущен новый подбор\n",
      "{'class_weight': {0: 0.01673800472926457, 1: 1},\n",
      " 'max_depth': 6,\n",
      " 'n_estimators': 139,\n",
      " 'random_state': 241,\n",
      " 'verbose': 0}\n",
      "{'high_outlier': None,\n",
      " 'low_outlier': None,\n",
      " 'scale': 'mean',\n",
      " 'yeo_johnson': False}\n",
      "-------------------- 12.05.2021 01:01:08 12 -------------------- \n",
      " Параметры: {'max_depth': 6, 'verbose': 0, 'n_estimators': 200, 'class_weight': {0: 0.01673800472926457, 1: 1}, 'random_state': 241} \n",
      " Среднее значение APS = 0.06237387683109864 \n",
      " Среднее значение AUC = 0.9257879065004619 \n",
      " Минимальное значение AUC = 0.9248912334421611\n"
     ]
    },
    {
     "name": "stderr",
     "output_type": "stream",
     "text": [
      "[I 2021-05-12 01:01:09,234] Trial 12 finished with value: 0.05892043300995658 and parameters: {'max_depth': 6, 'n_estimators': 200, 'class_weight': 0.01673800472926457}. Best is trial 12 with value: 0.05892043300995658.\n"
     ]
    },
    {
     "name": "stdout",
     "output_type": "stream",
     "text": [
      "Запущен новый подбор\n",
      "{'class_weight': {0: 0.01673800472926457, 1: 1},\n",
      " 'max_depth': 6,\n",
      " 'n_estimators': 132,\n",
      " 'random_state': 241,\n",
      " 'verbose': 0}\n",
      "{'high_outlier': None,\n",
      " 'low_outlier': None,\n",
      " 'scale': 'mean',\n",
      " 'yeo_johnson': False}\n",
      "-------------------- 12.05.2021 01:04:14 13 -------------------- \n",
      " Параметры: {'max_depth': 6, 'verbose': 0, 'n_estimators': 139, 'class_weight': {0: 0.01673800472926457, 1: 1}, 'random_state': 241} \n",
      " Среднее значение APS = 0.06464559837890656 \n",
      " Среднее значение AUC = 0.9247558656894348 \n",
      " Минимальное значение AUC = 0.9168638272895407\n"
     ]
    },
    {
     "name": "stderr",
     "output_type": "stream",
     "text": [
      "[I 2021-05-12 01:04:14,670] Trial 13 finished with value: 0.04802326414300811 and parameters: {'max_depth': 6, 'n_estimators': 139, 'class_weight': 0.01673800472926457}. Best is trial 12 with value: 0.05892043300995658.\n"
     ]
    },
    {
     "name": "stdout",
     "output_type": "stream",
     "text": [
      "Запущен новый подбор\n",
      "{'class_weight': {0: 0.01673800472926457, 1: 1},\n",
      " 'max_depth': 6,\n",
      " 'n_estimators': 104,\n",
      " 'random_state': 241,\n",
      " 'verbose': 0}\n",
      "{'high_outlier': None,\n",
      " 'low_outlier': None,\n",
      " 'scale': 'mean',\n",
      " 'yeo_johnson': False}\n",
      "-------------------- 12.05.2021 01:16:17 14 -------------------- \n",
      " Параметры: {'max_depth': 6, 'verbose': 0, 'n_estimators': 132, 'class_weight': {0: 0.01673800472926457, 1: 1}, 'random_state': 241} \n",
      " Среднее значение APS = 0.06307657643571501 \n",
      " Среднее значение AUC = 0.92311114525038 \n",
      " Минимальное значение AUC = 0.9189447396493814\n"
     ]
    },
    {
     "name": "stderr",
     "output_type": "stream",
     "text": [
      "[I 2021-05-12 01:16:18,089] Trial 14 finished with value: 0.0501810454706559 and parameters: {'max_depth': 6, 'n_estimators': 132, 'class_weight': 0.01673800472926457}. Best is trial 12 with value: 0.05892043300995658.\n"
     ]
    },
    {
     "name": "stdout",
     "output_type": "stream",
     "text": [
      "Запущен новый подбор\n",
      "{'class_weight': {0: 0.01673800472926457, 1: 1},\n",
      " 'max_depth': 7,\n",
      " 'n_estimators': 153,\n",
      " 'random_state': 241,\n",
      " 'verbose': 0}\n",
      "{'high_outlier': None,\n",
      " 'low_outlier': None,\n",
      " 'scale': 'mean',\n",
      " 'yeo_johnson': False}\n",
      "-------------------- 12.05.2021 01:16:47 15 -------------------- \n",
      " Параметры: {'max_depth': 6, 'verbose': 0, 'n_estimators': 104, 'class_weight': {0: 0.01673800472926457, 1: 1}, 'random_state': 241} \n",
      " Среднее значение APS = 0.0627698614801182 \n",
      " Среднее значение AUC = 0.9252964864382458 \n",
      " Минимальное значение AUC = 0.9164943947447769\n"
     ]
    },
    {
     "name": "stderr",
     "output_type": "stream",
     "text": [
      "[I 2021-05-12 01:16:47,848] Trial 15 finished with value: 0.0495497949903807 and parameters: {'max_depth': 6, 'n_estimators': 104, 'class_weight': 0.01673800472926457}. Best is trial 12 with value: 0.05892043300995658.\n"
     ]
    },
    {
     "name": "stdout",
     "output_type": "stream",
     "text": [
      "Запущен новый подбор\n",
      "{'class_weight': {0: 0.01673800472926457, 1: 1},\n",
      " 'max_depth': 7,\n",
      " 'n_estimators': 150,\n",
      " 'random_state': 241,\n",
      " 'verbose': 0}\n",
      "{'high_outlier': None,\n",
      " 'low_outlier': None,\n",
      " 'scale': 'mean',\n",
      " 'yeo_johnson': False}\n",
      "-------------------- 12.05.2021 01:36:00 16 -------------------- \n",
      " Параметры: {'max_depth': 7, 'verbose': 0, 'n_estimators': 153, 'class_weight': {0: 0.01673800472926457, 1: 1}, 'random_state': 241} \n",
      " Среднее значение APS = 0.062007692161992936 \n",
      " Среднее значение AUC = 0.9332232539440032 \n",
      " Минимальное значение AUC = 0.9311213759066004\n"
     ]
    },
    {
     "name": "stderr",
     "output_type": "stream",
     "text": [
      "[I 2021-05-12 01:36:01,134] Trial 16 finished with value: 0.059612038222989626 and parameters: {'max_depth': 7, 'n_estimators': 153, 'class_weight': 0.01673800472926457}. Best is trial 16 with value: 0.059612038222989626.\n"
     ]
    },
    {
     "name": "stdout",
     "output_type": "stream",
     "text": [
      "Запущен новый подбор\n",
      "{'class_weight': {0: 0.01673800472926457, 1: 1},\n",
      " 'max_depth': 7,\n",
      " 'n_estimators': 200,\n",
      " 'random_state': 241,\n",
      " 'verbose': 0}\n",
      "{'high_outlier': None,\n",
      " 'low_outlier': None,\n",
      " 'scale': 'mean',\n",
      " 'yeo_johnson': False}\n",
      "-------------------- 12.05.2021 01:36:28 17 -------------------- \n",
      " Параметры: {'max_depth': 7, 'verbose': 0, 'n_estimators': 150, 'class_weight': {0: 0.01673800472926457, 1: 1}, 'random_state': 241} \n",
      " Среднее значение APS = 0.06384718489589356 \n",
      " Среднее значение AUC = 0.9304491534217676 \n",
      " Минимальное значение AUC = 0.9240586906991531\n"
     ]
    },
    {
     "name": "stderr",
     "output_type": "stream",
     "text": [
      "[I 2021-05-12 01:36:28,867] Trial 17 finished with value: 0.05664149574421165 and parameters: {'max_depth': 7, 'n_estimators': 150, 'class_weight': 0.01673800472926457}. Best is trial 16 with value: 0.059612038222989626.\n"
     ]
    },
    {
     "name": "stdout",
     "output_type": "stream",
     "text": [
      "Запущен новый подбор\n",
      "{'class_weight': {0: 0.01673800472926457, 1: 1},\n",
      " 'max_depth': 7,\n",
      " 'n_estimators': 200,\n",
      " 'random_state': 241,\n",
      " 'verbose': 0}\n",
      "{'high_outlier': None,\n",
      " 'low_outlier': None,\n",
      " 'scale': 'mean',\n",
      " 'yeo_johnson': False}\n",
      "-------------------- 12.05.2021 01:59:49 18 -------------------- \n",
      " Параметры: {'max_depth': 7, 'verbose': 0, 'n_estimators': 200, 'class_weight': {0: 0.01673800472926457, 1: 1}, 'random_state': 241} \n",
      " Среднее значение APS = 0.06545900467055765 \n",
      " Среднее значение AUC = 0.9325740976463399 \n",
      " Минимальное значение AUC = 0.9237347678350653\n"
     ]
    },
    {
     "name": "stderr",
     "output_type": "stream",
     "text": [
      "[I 2021-05-12 01:59:49,583] Trial 18 finished with value: 0.061004167835032264 and parameters: {'max_depth': 7, 'n_estimators': 200, 'class_weight': 0.01673800472926457}. Best is trial 18 with value: 0.061004167835032264.\n"
     ]
    },
    {
     "name": "stdout",
     "output_type": "stream",
     "text": [
      "Запущен новый подбор\n",
      "{'class_weight': {0: 0.01673800472926457, 1: 1},\n",
      " 'max_depth': 3,\n",
      " 'n_estimators': 162,\n",
      " 'random_state': 241,\n",
      " 'verbose': 0}\n",
      "{'high_outlier': None,\n",
      " 'low_outlier': None,\n",
      " 'scale': 'mean',\n",
      " 'yeo_johnson': False}\n",
      "-------------------- 12.05.2021 02:00:15 19 -------------------- \n",
      " Параметры: {'max_depth': 7, 'verbose': 0, 'n_estimators': 200, 'class_weight': {0: 0.01673800472926457, 1: 1}, 'random_state': 241} \n",
      " Среднее значение APS = 0.07517104091330268 \n",
      " Среднее значение AUC = 0.93307050754144 \n",
      " Минимальное значение AUC = 0.931082585218347\n"
     ]
    },
    {
     "name": "stderr",
     "output_type": "stream",
     "text": [
      "[I 2021-05-12 02:00:16,319] Trial 19 finished with value: 0.06276648855791347 and parameters: {'max_depth': 7, 'n_estimators': 200, 'class_weight': 0.01673800472926457}. Best is trial 19 with value: 0.06276648855791347.\n"
     ]
    },
    {
     "name": "stdout",
     "output_type": "stream",
     "text": [
      "Запущен новый подбор\n",
      "{'class_weight': {0: 0.01673800472926457, 1: 1},\n",
      " 'max_depth': 3,\n",
      " 'n_estimators': 195,\n",
      " 'random_state': 241,\n",
      " 'verbose': 0}\n",
      "{'high_outlier': None,\n",
      " 'low_outlier': None,\n",
      " 'scale': 'mean',\n",
      " 'yeo_johnson': False}\n",
      "-------------------- 12.05.2021 02:12:32 20 -------------------- \n",
      " Параметры: {'max_depth': 3, 'verbose': 0, 'n_estimators': 162, 'class_weight': {0: 0.01673800472926457, 1: 1}, 'random_state': 241} \n",
      " Среднее значение APS = 0.04276776682272246 \n",
      " Среднее значение AUC = 0.8908282820812434 \n",
      " Минимальное значение AUC = 0.8842105263157896\n"
     ]
    },
    {
     "name": "stderr",
     "output_type": "stream",
     "text": [
      "[I 2021-05-12 02:12:33,314] Trial 20 finished with value: 0.04156419274532849 and parameters: {'max_depth': 3, 'n_estimators': 162, 'class_weight': 0.01673800472926457}. Best is trial 19 with value: 0.06276648855791347.\n"
     ]
    },
    {
     "name": "stdout",
     "output_type": "stream",
     "text": [
      "Запущен новый подбор\n",
      "{'class_weight': {0: 0.01673800472926457, 1: 1},\n",
      " 'max_depth': 7,\n",
      " 'n_estimators': 199,\n",
      " 'random_state': 241,\n",
      " 'verbose': 0}\n",
      "{'high_outlier': None,\n",
      " 'low_outlier': None,\n",
      " 'scale': 'mean',\n",
      " 'yeo_johnson': False}\n",
      "-------------------- 12.05.2021 02:15:02 21 -------------------- \n",
      " Параметры: {'max_depth': 3, 'verbose': 0, 'n_estimators': 195, 'class_weight': {0: 0.01673800472926457, 1: 1}, 'random_state': 241} \n",
      " Среднее значение APS = 0.04338480207207243 \n",
      " Среднее значение AUC = 0.8924917567555756 \n",
      " Минимальное значение AUC = 0.8890421259838783\n"
     ]
    },
    {
     "name": "stderr",
     "output_type": "stream",
     "text": [
      "[I 2021-05-12 02:15:02,698] Trial 21 finished with value: 0.04096841751554885 and parameters: {'max_depth': 3, 'n_estimators': 195, 'class_weight': 0.01673800472926457}. Best is trial 19 with value: 0.06276648855791347.\n"
     ]
    },
    {
     "name": "stdout",
     "output_type": "stream",
     "text": [
      "Запущен новый подбор\n",
      "{'class_weight': {0: 0.01673800472926457, 1: 1},\n",
      " 'max_depth': 7,\n",
      " 'n_estimators': 179,\n",
      " 'random_state': 241,\n",
      " 'verbose': 0}\n",
      "{'high_outlier': None,\n",
      " 'low_outlier': None,\n",
      " 'scale': 'mean',\n",
      " 'yeo_johnson': False}\n",
      "-------------------- 12.05.2021 02:35:42 22 -------------------- \n",
      " Параметры: {'max_depth': 7, 'verbose': 0, 'n_estimators': 199, 'class_weight': {0: 0.01673800472926457, 1: 1}, 'random_state': 241} \n",
      " Среднее значение APS = 0.06480532254205461 \n",
      " Среднее значение AUC = 0.9294417707797296 \n",
      " Минимальное значение AUC = 0.925624773788247\n"
     ]
    },
    {
     "name": "stderr",
     "output_type": "stream",
     "text": [
      "[I 2021-05-12 02:35:42,594] Trial 22 finished with value: 0.060027932923359326 and parameters: {'max_depth': 7, 'n_estimators': 199, 'class_weight': 0.01673800472926457}. Best is trial 19 with value: 0.06276648855791347.\n"
     ]
    },
    {
     "name": "stdout",
     "output_type": "stream",
     "text": [
      "Запущен новый подбор\n",
      "{'class_weight': {0: 0.01673800472926457, 1: 1},\n",
      " 'max_depth': 7,\n",
      " 'n_estimators': 186,\n",
      " 'random_state': 241,\n",
      " 'verbose': 0}\n",
      "{'high_outlier': None,\n",
      " 'low_outlier': None,\n",
      " 'scale': 'mean',\n",
      " 'yeo_johnson': False}\n",
      "-------------------- 12.05.2021 02:37:53 23 -------------------- \n",
      " Параметры: {'max_depth': 7, 'verbose': 0, 'n_estimators': 179, 'class_weight': {0: 0.01673800472926457, 1: 1}, 'random_state': 241} \n",
      " Среднее значение APS = 0.06005289030531637 \n",
      " Среднее значение AUC = 0.9312730508782598 \n",
      " Минимальное значение AUC = 0.9287273330884801\n"
     ]
    },
    {
     "name": "stderr",
     "output_type": "stream",
     "text": [
      "[I 2021-05-12 02:37:54,237] Trial 23 finished with value: 0.05234831781615871 and parameters: {'max_depth': 7, 'n_estimators': 179, 'class_weight': 0.01673800472926457}. Best is trial 19 with value: 0.06276648855791347.\n"
     ]
    },
    {
     "name": "stdout",
     "output_type": "stream",
     "text": [
      "Запущен новый подбор\n",
      "{'class_weight': {0: 0.01673800472926457, 1: 1},\n",
      " 'max_depth': 7,\n",
      " 'n_estimators': 198,\n",
      " 'random_state': 241,\n",
      " 'verbose': 0}\n",
      "{'high_outlier': None,\n",
      " 'low_outlier': None,\n",
      " 'scale': 'mean',\n",
      " 'yeo_johnson': False}\n",
      "-------------------- 12.05.2021 02:57:18 24 -------------------- \n",
      " Параметры: {'max_depth': 7, 'verbose': 0, 'n_estimators': 186, 'class_weight': {0: 0.01673800472926457, 1: 1}, 'random_state': 241} \n",
      " Среднее значение APS = 0.0681110491218049 \n",
      " Среднее значение AUC = 0.9317019310632672 \n",
      " Минимальное значение AUC = 0.9174198819259836\n"
     ]
    },
    {
     "name": "stderr",
     "output_type": "stream",
     "text": [
      "[I 2021-05-12 02:57:18,599] Trial 24 finished with value: 0.051351999102597815 and parameters: {'max_depth': 7, 'n_estimators': 186, 'class_weight': 0.01673800472926457}. Best is trial 19 with value: 0.06276648855791347.\n"
     ]
    },
    {
     "name": "stdout",
     "output_type": "stream",
     "text": [
      "Запущен новый подбор\n",
      "{'class_weight': {0: 0.01673800472926457, 1: 1},\n",
      " 'max_depth': 7,\n",
      " 'n_estimators': 200,\n",
      " 'random_state': 241,\n",
      " 'verbose': 0}\n",
      "{'high_outlier': None,\n",
      " 'low_outlier': None,\n",
      " 'scale': 'mean',\n",
      " 'yeo_johnson': False}\n",
      "-------------------- 12.05.2021 03:00:58 25 -------------------- \n",
      " Параметры: {'max_depth': 7, 'verbose': 0, 'n_estimators': 198, 'class_weight': {0: 0.01673800472926457, 1: 1}, 'random_state': 241} \n",
      " Среднее значение APS = 0.06760764831175703 \n",
      " Среднее значение AUC = 0.9318791680754046 \n",
      " Минимальное значение AUC = 0.9201105978958941\n"
     ]
    },
    {
     "name": "stderr",
     "output_type": "stream",
     "text": [
      "[I 2021-05-12 03:00:59,206] Trial 25 finished with value: 0.0486273418451251 and parameters: {'max_depth': 7, 'n_estimators': 198, 'class_weight': 0.01673800472926457}. Best is trial 19 with value: 0.06276648855791347.\n"
     ]
    },
    {
     "name": "stdout",
     "output_type": "stream",
     "text": [
      "Запущен новый подбор\n",
      "{'class_weight': {0: 0.01673800472926457, 1: 1},\n",
      " 'max_depth': 7,\n",
      " 'n_estimators': 169,\n",
      " 'random_state': 241,\n",
      " 'verbose': 0}\n",
      "{'high_outlier': None,\n",
      " 'low_outlier': None,\n",
      " 'scale': 'mean',\n",
      " 'yeo_johnson': False}\n",
      "-------------------- 12.05.2021 03:20:29 26 -------------------- \n",
      " Параметры: {'max_depth': 7, 'verbose': 0, 'n_estimators': 200, 'class_weight': {0: 0.01673800472926457, 1: 1}, 'random_state': 241} \n",
      " Среднее значение APS = 0.06696042761651323 \n",
      " Среднее значение AUC = 0.9321823662409582 \n",
      " Минимальное значение AUC = 0.9268600686606445\n"
     ]
    },
    {
     "name": "stderr",
     "output_type": "stream",
     "text": [
      "[I 2021-05-12 03:20:29,777] Trial 26 finished with value: 0.06090067912525087 and parameters: {'max_depth': 7, 'n_estimators': 200, 'class_weight': 0.01673800472926457}. Best is trial 19 with value: 0.06276648855791347.\n"
     ]
    },
    {
     "name": "stdout",
     "output_type": "stream",
     "text": [
      "Запущен новый подбор\n",
      "{'class_weight': {0: 0.01673800472926457, 1: 1},\n",
      " 'max_depth': 7,\n",
      " 'n_estimators': 165,\n",
      " 'random_state': 241,\n",
      " 'verbose': 0}\n",
      "{'high_outlier': None,\n",
      " 'low_outlier': None,\n",
      " 'scale': 'mean',\n",
      " 'yeo_johnson': False}\n",
      "-------------------- 12.05.2021 03:21:12 27 -------------------- \n",
      " Параметры: {'max_depth': 7, 'verbose': 0, 'n_estimators': 169, 'class_weight': {0: 0.01673800472926457, 1: 1}, 'random_state': 241} \n",
      " Среднее значение APS = 0.06502573146238602 \n",
      " Среднее значение AUC = 0.9297787016031 \n",
      " Минимальное значение AUC = 0.9221822195335778\n"
     ]
    },
    {
     "name": "stderr",
     "output_type": "stream",
     "text": [
      "[I 2021-05-12 03:21:13,128] Trial 27 finished with value: 0.06417147837694105 and parameters: {'max_depth': 7, 'n_estimators': 169, 'class_weight': 0.01673800472926457}. Best is trial 27 with value: 0.06417147837694105.\n"
     ]
    },
    {
     "name": "stdout",
     "output_type": "stream",
     "text": [
      "Запущен новый подбор\n",
      "{'class_weight': {0: 0.01673800472926457, 1: 1},\n",
      " 'max_depth': 5,\n",
      " 'n_estimators': 165,\n",
      " 'random_state': 241,\n",
      " 'verbose': 0}\n",
      "{'high_outlier': None,\n",
      " 'low_outlier': None,\n",
      " 'scale': 'mean',\n",
      " 'yeo_johnson': False}\n",
      "-------------------- 12.05.2021 03:36:54 28 -------------------- \n",
      " Параметры: {'max_depth': 5, 'verbose': 0, 'n_estimators': 165, 'class_weight': {0: 0.01673800472926457, 1: 1}, 'random_state': 241} \n",
      " Среднее значение APS = 0.05841361198434583 \n",
      " Среднее значение AUC = 0.9160092062084944 \n",
      " Минимальное значение AUC = 0.9052470998299559\n"
     ]
    },
    {
     "name": "stderr",
     "output_type": "stream",
     "text": [
      "[I 2021-05-12 03:36:54,981] Trial 29 finished with value: 0.037743153654019194 and parameters: {'max_depth': 5, 'n_estimators': 165, 'class_weight': 0.01673800472926457}. Best is trial 27 with value: 0.06417147837694105.\n"
     ]
    },
    {
     "name": "stdout",
     "output_type": "stream",
     "text": [
      "Запущен новый подбор\n",
      "{'class_weight': {0: 0.01673800472926457, 1: 1},\n",
      " 'max_depth': 7,\n",
      " 'n_estimators': 171,\n",
      " 'random_state': 241,\n",
      " 'verbose': 0}\n",
      "{'high_outlier': None,\n",
      " 'low_outlier': None,\n",
      " 'scale': 'mean',\n",
      " 'yeo_johnson': False}\n",
      "-------------------- 12.05.2021 03:41:03 29 -------------------- \n",
      " Параметры: {'max_depth': 7, 'verbose': 0, 'n_estimators': 165, 'class_weight': {0: 0.01673800472926457, 1: 1}, 'random_state': 241} \n",
      " Среднее значение APS = 0.06583177699117354 \n",
      " Среднее значение AUC = 0.9315074682635418 \n",
      " Минимальное значение AUC = 0.9304665615048747\n"
     ]
    },
    {
     "name": "stderr",
     "output_type": "stream",
     "text": [
      "[I 2021-05-12 03:41:03,851] Trial 28 finished with value: 0.06285957974744265 and parameters: {'max_depth': 7, 'n_estimators': 165, 'class_weight': 0.01673800472926457}. Best is trial 27 with value: 0.06417147837694105.\n"
     ]
    },
    {
     "name": "stdout",
     "output_type": "stream",
     "text": [
      "Запущен новый подбор\n",
      "{'class_weight': {0: 0.01673800472926457, 1: 1},\n",
      " 'max_depth': 6,\n",
      " 'n_estimators': 141,\n",
      " 'random_state': 241,\n",
      " 'verbose': 0}\n",
      "{'high_outlier': None,\n",
      " 'low_outlier': None,\n",
      " 'scale': 'mean',\n",
      " 'yeo_johnson': False}\n",
      "-------------------- 12.05.2021 03:56:37 30 -------------------- \n",
      " Параметры: {'max_depth': 6, 'verbose': 0, 'n_estimators': 141, 'class_weight': {0: 0.01673800472926457, 1: 1}, 'random_state': 241} \n",
      " Среднее значение APS = 0.0613521723346476 \n",
      " Среднее значение AUC = 0.9230644326190252 \n",
      " Минимальное значение AUC = 0.9159398219800904\n"
     ]
    },
    {
     "name": "stderr",
     "output_type": "stream",
     "text": [
      "[I 2021-05-12 03:56:38,288] Trial 31 finished with value: 0.051418529245146644 and parameters: {'max_depth': 6, 'n_estimators': 141, 'class_weight': 0.01673800472926457}. Best is trial 27 with value: 0.06417147837694105.\n"
     ]
    },
    {
     "name": "stdout",
     "output_type": "stream",
     "text": [
      "Запущен новый подбор\n",
      "{'class_weight': {0: 0.01673800472926457, 1: 1},\n",
      " 'max_depth': 7,\n",
      " 'n_estimators': 174,\n",
      " 'random_state': 241,\n",
      " 'verbose': 0}\n",
      "{'high_outlier': None,\n",
      " 'low_outlier': None,\n",
      " 'scale': 'mean',\n",
      " 'yeo_johnson': False}\n",
      "-------------------- 12.05.2021 03:58:02 31 -------------------- \n",
      " Параметры: {'max_depth': 7, 'verbose': 0, 'n_estimators': 171, 'class_weight': {0: 0.01673800472926457, 1: 1}, 'random_state': 241} \n",
      " Среднее значение APS = 0.0621673102459023 \n",
      " Среднее значение AUC = 0.9308392093002023 \n",
      " Минимальное значение AUC = 0.9249039306842503\n"
     ]
    },
    {
     "name": "stderr",
     "output_type": "stream",
     "text": [
      "[I 2021-05-12 03:58:02,898] Trial 30 finished with value: 0.058631618449037644 and parameters: {'max_depth': 7, 'n_estimators': 171, 'class_weight': 0.01673800472926457}. Best is trial 27 with value: 0.06417147837694105.\n"
     ]
    },
    {
     "name": "stdout",
     "output_type": "stream",
     "text": [
      "Запущен новый подбор\n",
      "{'class_weight': {0: 0.01673800472926457, 1: 1},\n",
      " 'max_depth': 7,\n",
      " 'n_estimators': 128,\n",
      " 'random_state': 241,\n",
      " 'verbose': 0}\n",
      "{'high_outlier': None,\n",
      " 'low_outlier': None,\n",
      " 'scale': 'mean',\n",
      " 'yeo_johnson': False}\n",
      "-------------------- 12.05.2021 04:13:37 32 -------------------- \n",
      " Параметры: {'max_depth': 7, 'verbose': 0, 'n_estimators': 128, 'class_weight': {0: 0.01673800472926457, 1: 1}, 'random_state': 241} \n",
      " Среднее значение APS = 0.058974347749722225 \n",
      " Среднее значение AUC = 0.9303582849058061 \n",
      " Минимальное значение AUC = 0.9192472248341058\n"
     ]
    },
    {
     "name": "stderr",
     "output_type": "stream",
     "text": [
      "[I 2021-05-12 04:13:37,747] Trial 33 finished with value: 0.046071367529525065 and parameters: {'max_depth': 7, 'n_estimators': 128, 'class_weight': 0.01673800472926457}. Best is trial 27 with value: 0.06417147837694105.\n"
     ]
    },
    {
     "name": "stdout",
     "output_type": "stream",
     "text": [
      "Запущен новый подбор\n",
      "{'class_weight': {0: 0.01673800472926457, 1: 1},\n",
      " 'max_depth': 7,\n",
      " 'n_estimators': 153,\n",
      " 'random_state': 241,\n",
      " 'verbose': 0}\n",
      "{'high_outlier': None,\n",
      " 'low_outlier': None,\n",
      " 'scale': 'mean',\n",
      " 'yeo_johnson': False}\n",
      "-------------------- 12.05.2021 04:17:31 33 -------------------- \n",
      " Параметры: {'max_depth': 7, 'verbose': 0, 'n_estimators': 174, 'class_weight': {0: 0.01673800472926457, 1: 1}, 'random_state': 241} \n",
      " Среднее значение APS = 0.06670087860490842 \n",
      " Среднее значение AUC = 0.9325087065712426 \n",
      " Минимальное значение AUC = 0.9232495911720016\n"
     ]
    },
    {
     "name": "stderr",
     "output_type": "stream",
     "text": [
      "[I 2021-05-12 04:17:31,785] Trial 32 finished with value: 0.05260980559378442 and parameters: {'max_depth': 7, 'n_estimators': 174, 'class_weight': 0.01673800472926457}. Best is trial 27 with value: 0.06417147837694105.\n"
     ]
    },
    {
     "name": "stdout",
     "output_type": "stream",
     "text": [
      "Запущен новый подбор\n",
      "{'class_weight': {0: 0.01673800472926457, 1: 1},\n",
      " 'max_depth': 7,\n",
      " 'n_estimators': 154,\n",
      " 'random_state': 241,\n",
      " 'verbose': 0}\n",
      "{'high_outlier': None,\n",
      " 'low_outlier': None,\n",
      " 'scale': 'mean',\n",
      " 'yeo_johnson': False}\n",
      "-------------------- 12.05.2021 04:31:47 34 -------------------- \n",
      " Параметры: {'max_depth': 7, 'verbose': 0, 'n_estimators': 153, 'class_weight': {0: 0.01673800472926457, 1: 1}, 'random_state': 241} \n",
      " Среднее значение APS = 0.059309823311033995 \n",
      " Среднее значение AUC = 0.9304364254313472 \n",
      " Минимальное значение AUC = 0.9257070174039097\n"
     ]
    },
    {
     "name": "stderr",
     "output_type": "stream",
     "text": [
      "[I 2021-05-12 04:31:47,497] Trial 34 finished with value: 0.054111417802189726 and parameters: {'max_depth': 7, 'n_estimators': 153, 'class_weight': 0.01673800472926457}. Best is trial 27 with value: 0.06417147837694105.\n"
     ]
    },
    {
     "name": "stdout",
     "output_type": "stream",
     "text": [
      "Запущен новый подбор\n",
      "{'class_weight': {0: 0.01673800472926457, 1: 1},\n",
      " 'max_depth': 5,\n",
      " 'n_estimators': 184,\n",
      " 'random_state': 241,\n",
      " 'verbose': 0}\n",
      "{'high_outlier': None,\n",
      " 'low_outlier': None,\n",
      " 'scale': 'mean',\n",
      " 'yeo_johnson': False}\n",
      "-------------------- 12.05.2021 04:36:29 35 -------------------- \n",
      " Параметры: {'max_depth': 7, 'verbose': 0, 'n_estimators': 154, 'class_weight': {0: 0.01673800472926457, 1: 1}, 'random_state': 241} \n",
      " Среднее значение APS = 0.06838382004565959 \n",
      " Среднее значение AUC = 0.9307221761283851 \n",
      " Минимальное значение AUC = 0.9304103425616325\n"
     ]
    },
    {
     "name": "stderr",
     "output_type": "stream",
     "text": [
      "[I 2021-05-12 04:36:29,430] Trial 35 finished with value: 0.06362365101440617 and parameters: {'max_depth': 7, 'n_estimators': 154, 'class_weight': 0.01673800472926457}. Best is trial 27 with value: 0.06417147837694105.\n"
     ]
    },
    {
     "name": "stdout",
     "output_type": "stream",
     "text": [
      "Запущен новый подбор\n",
      "{'class_weight': {0: 2.7896674548774282e-05, 1: 1},\n",
      " 'max_depth': 6,\n",
      " 'n_estimators': 188,\n",
      " 'random_state': 241,\n",
      " 'verbose': 0}\n",
      "{'high_outlier': None,\n",
      " 'low_outlier': None,\n",
      " 'scale': 'mean',\n",
      " 'yeo_johnson': False}\n",
      "-------------------- 12.05.2021 04:48:49 36 -------------------- \n",
      " Параметры: {'max_depth': 5, 'verbose': 0, 'n_estimators': 184, 'class_weight': {0: 0.01673800472926457, 1: 1}, 'random_state': 241} \n",
      " Среднее значение APS = 0.05807176149060829 \n",
      " Среднее значение AUC = 0.9182988860833985 \n",
      " Минимальное значение AUC = 0.9132832158166854\n"
     ]
    },
    {
     "name": "stderr",
     "output_type": "stream",
     "text": [
      "[I 2021-05-12 04:48:49,994] Trial 36 finished with value: 0.05099905414719196 and parameters: {'max_depth': 5, 'n_estimators': 184, 'class_weight': 0.01673800472926457}. Best is trial 27 with value: 0.06417147837694105.\n"
     ]
    },
    {
     "name": "stdout",
     "output_type": "stream",
     "text": [
      "Запущен новый подбор\n",
      "{'class_weight': {0: 2.7896674548774282e-05, 1: 1},\n",
      " 'max_depth': 6,\n",
      " 'n_estimators': 157,\n",
      " 'random_state': 241,\n",
      " 'verbose': 0}\n",
      "{'high_outlier': None,\n",
      " 'low_outlier': None,\n",
      " 'scale': 'mean',\n",
      " 'yeo_johnson': False}\n",
      "-------------------- 12.05.2021 04:55:20 37 -------------------- \n",
      " Параметры: {'max_depth': 6, 'verbose': 0, 'n_estimators': 188, 'class_weight': {0: 2.7896674548774282e-05, 1: 1}, 'random_state': 241} \n",
      " Среднее значение APS = 0.03521065019912769 \n",
      " Среднее значение AUC = 0.8832814299822829 \n",
      " Минимальное значение AUC = 0.8812580939083628\n"
     ]
    },
    {
     "name": "stderr",
     "output_type": "stream",
     "text": [
      "[I 2021-05-12 04:55:21,208] Trial 37 finished with value: 0.03211433233309617 and parameters: {'max_depth': 6, 'n_estimators': 188, 'class_weight': 2.7896674548774282e-05}. Best is trial 27 with value: 0.06417147837694105.\n"
     ]
    },
    {
     "name": "stdout",
     "output_type": "stream",
     "text": [
      "Запущен новый подбор\n",
      "{'class_weight': {0: 0.01673800472926457, 1: 1},\n",
      " 'max_depth': 7,\n",
      " 'n_estimators': 159,\n",
      " 'random_state': 241,\n",
      " 'verbose': 0}\n",
      "{'high_outlier': None,\n",
      " 'low_outlier': None,\n",
      " 'scale': 'mean',\n",
      " 'yeo_johnson': False}\n",
      "-------------------- 12.05.2021 05:05:49 38 -------------------- \n",
      " Параметры: {'max_depth': 6, 'verbose': 0, 'n_estimators': 157, 'class_weight': {0: 2.7896674548774282e-05, 1: 1}, 'random_state': 241} \n",
      " Среднее значение APS = 0.03096743702941384 \n",
      " Среднее значение AUC = 0.872677482683933 \n",
      " Минимальное значение AUC = 0.8558475438696342\n"
     ]
    },
    {
     "name": "stderr",
     "output_type": "stream",
     "text": [
      "[I 2021-05-12 05:05:49,864] Trial 38 finished with value: 0.02751858182923488 and parameters: {'max_depth': 6, 'n_estimators': 157, 'class_weight': 2.7896674548774282e-05}. Best is trial 27 with value: 0.06417147837694105.\n"
     ]
    },
    {
     "name": "stdout",
     "output_type": "stream",
     "text": [
      "Запущен новый подбор\n",
      "{'class_weight': {0: 0.01673800472926457, 1: 1},\n",
      " 'max_depth': 7,\n",
      " 'n_estimators': 131,\n",
      " 'random_state': 241,\n",
      " 'verbose': 0}\n",
      "{'high_outlier': None,\n",
      " 'low_outlier': None,\n",
      " 'scale': 'mean',\n",
      " 'yeo_johnson': False}\n",
      "-------------------- 12.05.2021 05:14:39 39 -------------------- \n",
      " Параметры: {'max_depth': 7, 'verbose': 0, 'n_estimators': 159, 'class_weight': {0: 0.01673800472926457, 1: 1}, 'random_state': 241} \n",
      " Среднее значение APS = 0.06345039671737455 \n",
      " Среднее значение AUC = 0.9316759065671095 \n",
      " Минимальное значение AUC = 0.927771999803924\n"
     ]
    },
    {
     "name": "stderr",
     "output_type": "stream",
     "text": [
      "[I 2021-05-12 05:14:39,597] Trial 39 finished with value: 0.059560649229027006 and parameters: {'max_depth': 7, 'n_estimators': 159, 'class_weight': 0.01673800472926457}. Best is trial 27 with value: 0.06417147837694105.\n"
     ]
    },
    {
     "name": "stdout",
     "output_type": "stream",
     "text": [
      "Запущен новый подбор\n",
      "{'class_weight': {0: 0.01673800472926457, 1: 1},\n",
      " 'max_depth': 7,\n",
      " 'n_estimators': 130,\n",
      " 'random_state': 241,\n",
      " 'verbose': 0}\n",
      "{'high_outlier': None,\n",
      " 'low_outlier': None,\n",
      " 'scale': 'mean',\n",
      " 'yeo_johnson': False}\n",
      "-------------------- 12.05.2021 05:22:07 40 -------------------- \n",
      " Параметры: {'max_depth': 7, 'verbose': 0, 'n_estimators': 131, 'class_weight': {0: 0.01673800472926457, 1: 1}, 'random_state': 241} \n",
      " Среднее значение APS = 0.06337691477848682 \n",
      " Среднее значение AUC = 0.9331641491475184 \n",
      " Минимальное значение AUC = 0.9272956295746021\n"
     ]
    },
    {
     "name": "stderr",
     "output_type": "stream",
     "text": [
      "[I 2021-05-12 05:22:08,080] Trial 40 finished with value: 0.05065830145071006 and parameters: {'max_depth': 7, 'n_estimators': 131, 'class_weight': 0.01673800472926457}. Best is trial 27 with value: 0.06417147837694105.\n"
     ]
    },
    {
     "name": "stdout",
     "output_type": "stream",
     "text": [
      "Запущен новый подбор\n",
      "{'class_weight': {0: 0.01673800472926457, 1: 1},\n",
      " 'max_depth': 7,\n",
      " 'n_estimators': 174,\n",
      " 'random_state': 241,\n",
      " 'verbose': 0}\n",
      "{'high_outlier': None,\n",
      " 'low_outlier': None,\n",
      " 'scale': 'mean',\n",
      " 'yeo_johnson': False}\n",
      "-------------------- 12.05.2021 05:31:21 41 -------------------- \n",
      " Параметры: {'max_depth': 7, 'verbose': 0, 'n_estimators': 130, 'class_weight': {0: 0.01673800472926457, 1: 1}, 'random_state': 241} \n",
      " Среднее значение APS = 0.0589287431130394 \n",
      " Среднее значение AUC = 0.9327703477653386 \n",
      " Минимальное значение AUC = 0.9269431314600437\n"
     ]
    },
    {
     "name": "stderr",
     "output_type": "stream",
     "text": [
      "[I 2021-05-12 05:31:21,717] Trial 41 finished with value: 0.05452544511805452 and parameters: {'max_depth': 7, 'n_estimators': 130, 'class_weight': 0.01673800472926457}. Best is trial 27 with value: 0.06417147837694105.\n"
     ]
    },
    {
     "name": "stdout",
     "output_type": "stream",
     "text": [
      "Запущен новый подбор\n",
      "{'class_weight': {0: 0.01673800472926457, 1: 1},\n",
      " 'max_depth': 7,\n",
      " 'n_estimators': 168,\n",
      " 'random_state': 241,\n",
      " 'verbose': 0}\n",
      "{'high_outlier': None,\n",
      " 'low_outlier': None,\n",
      " 'scale': 'mean',\n",
      " 'yeo_johnson': False}\n",
      "-------------------- 12.05.2021 05:43:51 42 -------------------- \n",
      " Параметры: {'max_depth': 7, 'verbose': 0, 'n_estimators': 174, 'class_weight': {0: 0.01673800472926457, 1: 1}, 'random_state': 241} \n",
      " Среднее значение APS = 0.06691286135442355 \n",
      " Среднее значение AUC = 0.9286147394676677 \n",
      " Минимальное значение AUC = 0.9242874680006194\n"
     ]
    },
    {
     "name": "stderr",
     "output_type": "stream",
     "text": [
      "[I 2021-05-12 05:43:51,990] Trial 42 finished with value: 0.05591147382472467 and parameters: {'max_depth': 7, 'n_estimators': 174, 'class_weight': 0.01673800472926457}. Best is trial 27 with value: 0.06417147837694105.\n"
     ]
    },
    {
     "name": "stdout",
     "output_type": "stream",
     "text": [
      "Запущен новый подбор\n",
      "{'class_weight': {0: 0.01673800472926457, 1: 1},\n",
      " 'max_depth': 7,\n",
      " 'n_estimators': 185,\n",
      " 'random_state': 241,\n",
      " 'verbose': 0}\n",
      "{'high_outlier': None,\n",
      " 'low_outlier': None,\n",
      " 'scale': 'mean',\n",
      " 'yeo_johnson': False}\n",
      "-------------------- 12.05.2021 05:51:31 43 -------------------- \n",
      " Параметры: {'max_depth': 7, 'verbose': 0, 'n_estimators': 168, 'class_weight': {0: 0.01673800472926457, 1: 1}, 'random_state': 241} \n",
      " Среднее значение APS = 0.06487524448536197 \n",
      " Среднее значение AUC = 0.9303104970891296 \n",
      " Минимальное значение AUC = 0.9273168652797392\n"
     ]
    },
    {
     "name": "stderr",
     "output_type": "stream",
     "text": [
      "[I 2021-05-12 05:51:32,413] Trial 43 finished with value: 0.05822153747234638 and parameters: {'max_depth': 7, 'n_estimators': 168, 'class_weight': 0.01673800472926457}. Best is trial 27 with value: 0.06417147837694105.\n"
     ]
    },
    {
     "name": "stdout",
     "output_type": "stream",
     "text": [
      "Запущен новый подбор\n",
      "{'class_weight': {0: 0.01673800472926457, 1: 1},\n",
      " 'max_depth': 7,\n",
      " 'n_estimators': 147,\n",
      " 'random_state': 241,\n",
      " 'verbose': 0}\n",
      "{'high_outlier': None,\n",
      " 'low_outlier': None,\n",
      " 'scale': 'mean',\n",
      " 'yeo_johnson': False}\n",
      "-------------------- 12.05.2021 06:05:23 44 -------------------- \n",
      " Параметры: {'max_depth': 7, 'verbose': 0, 'n_estimators': 185, 'class_weight': {0: 0.01673800472926457, 1: 1}, 'random_state': 241} \n",
      " Среднее значение APS = 0.06612612060158095 \n",
      " Среднее значение AUC = 0.9282907283463914 \n",
      " Минимальное значение AUC = 0.9201444008117919\n"
     ]
    },
    {
     "name": "stderr",
     "output_type": "stream",
     "text": [
      "[I 2021-05-12 06:05:24,421] Trial 44 finished with value: 0.06549286176844671 and parameters: {'max_depth': 7, 'n_estimators': 185, 'class_weight': 0.01673800472926457}. Best is trial 44 with value: 0.06549286176844671.\n"
     ]
    },
    {
     "name": "stdout",
     "output_type": "stream",
     "text": [
      "Запущен новый подбор\n",
      "{'class_weight': {0: 2.7896674548774282e-05, 1: 1},\n",
      " 'max_depth': 6,\n",
      " 'n_estimators': 147,\n",
      " 'random_state': 241,\n",
      " 'verbose': 0}\n",
      "{'high_outlier': None,\n",
      " 'low_outlier': None,\n",
      " 'scale': 'mean',\n",
      " 'yeo_johnson': False}\n",
      "-------------------- 12.05.2021 06:09:22 45 -------------------- \n",
      " Параметры: {'max_depth': 7, 'verbose': 0, 'n_estimators': 147, 'class_weight': {0: 0.01673800472926457, 1: 1}, 'random_state': 241} \n",
      " Среднее значение APS = 0.06036947041758331 \n",
      " Среднее значение AUC = 0.9315733907116959 \n",
      " Минимальное значение AUC = 0.9297848548680828\n"
     ]
    },
    {
     "name": "stderr",
     "output_type": "stream",
     "text": [
      "[I 2021-05-12 06:09:22,689] Trial 45 finished with value: 0.05519594463276469 and parameters: {'max_depth': 7, 'n_estimators': 147, 'class_weight': 0.01673800472926457}. Best is trial 44 with value: 0.06549286176844671.\n"
     ]
    },
    {
     "name": "stdout",
     "output_type": "stream",
     "text": [
      "Запущен новый подбор\n",
      "{'class_weight': {0: 2.7896674548774282e-05, 1: 1},\n",
      " 'max_depth': 6,\n",
      " 'n_estimators': 189,\n",
      " 'random_state': 241,\n",
      " 'verbose': 0}\n",
      "{'high_outlier': None,\n",
      " 'low_outlier': None,\n",
      " 'scale': 'mean',\n",
      " 'yeo_johnson': False}\n",
      "-------------------- 12.05.2021 06:21:20 46 -------------------- \n",
      " Параметры: {'max_depth': 6, 'verbose': 0, 'n_estimators': 147, 'class_weight': {0: 2.7896674548774282e-05, 1: 1}, 'random_state': 241} \n",
      " Среднее значение APS = 0.031484122914999316 \n",
      " Среднее значение AUC = 0.8741248589790217 \n",
      " Минимальное значение AUC = 0.8629829526797432\n"
     ]
    },
    {
     "name": "stderr",
     "output_type": "stream",
     "text": [
      "[I 2021-05-12 06:21:20,502] Trial 46 finished with value: 0.02837620672556897 and parameters: {'max_depth': 6, 'n_estimators': 147, 'class_weight': 2.7896674548774282e-05}. Best is trial 44 with value: 0.06549286176844671.\n"
     ]
    },
    {
     "name": "stdout",
     "output_type": "stream",
     "text": [
      "Запущен новый подбор\n",
      "{'class_weight': {0: 0.01673800472926457, 1: 1},\n",
      " 'max_depth': 6,\n",
      " 'n_estimators': 190,\n",
      " 'random_state': 241,\n",
      " 'verbose': 0}\n",
      "{'high_outlier': None,\n",
      " 'low_outlier': None,\n",
      " 'scale': 'mean',\n",
      " 'yeo_johnson': False}\n",
      "-------------------- 12.05.2021 06:28:45 47 -------------------- \n",
      " Параметры: {'max_depth': 6, 'verbose': 0, 'n_estimators': 189, 'class_weight': {0: 2.7896674548774282e-05, 1: 1}, 'random_state': 241} \n",
      " Среднее значение APS = 0.03417435072601947 \n",
      " Среднее значение AUC = 0.8796479031276287 \n",
      " Минимальное значение AUC = 0.8748114060439436\n"
     ]
    },
    {
     "name": "stderr",
     "output_type": "stream",
     "text": [
      "[I 2021-05-12 06:28:46,217] Trial 47 finished with value: 0.030721462374807253 and parameters: {'max_depth': 6, 'n_estimators': 189, 'class_weight': 2.7896674548774282e-05}. Best is trial 44 with value: 0.06549286176844671.\n"
     ]
    },
    {
     "name": "stdout",
     "output_type": "stream",
     "text": [
      "Запущен новый подбор\n",
      "{'class_weight': {0: 0.01673800472926457, 1: 1},\n",
      " 'max_depth': 7,\n",
      " 'n_estimators': 180,\n",
      " 'random_state': 241,\n",
      " 'verbose': 0}\n",
      "{'high_outlier': None,\n",
      " 'low_outlier': None,\n",
      " 'scale': 'mean',\n",
      " 'yeo_johnson': False}\n",
      "-------------------- 12.05.2021 06:41:14 48 -------------------- \n",
      " Параметры: {'max_depth': 6, 'verbose': 0, 'n_estimators': 190, 'class_weight': {0: 0.01673800472926457, 1: 1}, 'random_state': 241} \n",
      " Среднее значение APS = 0.06435669976629224 \n",
      " Среднее значение AUC = 0.9261653065241067 \n",
      " Минимальное значение AUC = 0.918419221914876\n"
     ]
    },
    {
     "name": "stderr",
     "output_type": "stream",
     "text": [
      "[I 2021-05-12 06:41:15,083] Trial 48 finished with value: 0.04472427669035995 and parameters: {'max_depth': 6, 'n_estimators': 190, 'class_weight': 0.01673800472926457}. Best is trial 44 with value: 0.06549286176844671.\n"
     ]
    },
    {
     "name": "stdout",
     "output_type": "stream",
     "text": [
      "-------------------- 12.05.2021 06:48:29 49 -------------------- \n",
      " Параметры: {'max_depth': 7, 'verbose': 0, 'n_estimators': 180, 'class_weight': {0: 0.01673800472926457, 1: 1}, 'random_state': 241} \n",
      " Среднее значение APS = 0.062381716227082364 \n",
      " Среднее значение AUC = 0.9327374987828418 \n",
      " Минимальное значение AUC = 0.9298566704869754\n"
     ]
    },
    {
     "name": "stderr",
     "output_type": "stream",
     "text": [
      "[I 2021-05-12 06:48:29,744] Trial 49 finished with value: 0.06164324535597926 and parameters: {'max_depth': 7, 'n_estimators': 180, 'class_weight': 0.01673800472926457}. Best is trial 44 with value: 0.06549286176844671.\n"
     ]
    }
   ],
   "source": [
    "params_df = find_meta_params_optuna(train2, train[target], params_dictionary, pass_model, \n",
    "                     sort_by_var, list_of_vars_for_strat, n_folds, second_target, yeo_johnson, \n",
    "                     attribute_list = None, var_col = None, categorial_list = list_of_categories_sel, \n",
    "                     cols_outlier = None, need_business = False, \n",
    "                     draw = False, draw_by_approval_rate = False,\n",
    "                     simple_b_score = None, business_dict = None, business_dict_sec = None,\n",
    "                     scale = 'mean', median = 'median',\n",
    "                     high_outlier = None, \n",
    "                     low_outlier = None, check_percentile = 1, random_state = None, task = 'binary', k_logs = 1,\n",
    "                     cut_non_out_9999 = True, optimize_metric=\"APS\",\n",
    "                     direction='maximize', n_trials=50, path=PATH+'Modeling_fin_no_b_test/', \n",
    "                     n_jobs=2,a=0, k_fold_method=\"min\")"
   ]
  },
  {
   "cell_type": "code",
   "execution_count": null,
   "metadata": {},
   "outputs": [],
   "source": []
  },
  {
   "cell_type": "code",
   "execution_count": 296,
   "metadata": {
    "ExecuteTime": {
     "end_time": "2021-05-12T03:48:30.243510Z",
     "start_time": "2021-05-12T03:48:30.216350Z"
    }
   },
   "outputs": [],
   "source": [
    "params_df_forest_no_b_test = params_df.copy()\n",
    "params_df_forest_no_b_test.reset_index(inplace=True)\n",
    "params_df_forest_no_b_test.to_csv(PATH+'Modeling_fin_no_b_test/params_df_forest.csv', sep= '&')"
   ]
  },
  {
   "cell_type": "code",
   "execution_count": 457,
   "metadata": {
    "ExecuteTime": {
     "end_time": "2021-05-12T15:12:43.822745Z",
     "start_time": "2021-05-12T15:12:43.810741Z"
    }
   },
   "outputs": [],
   "source": [
    "# best_forest_by_aps = params_df_forest_no_b_test.sort_values(by='APS', ascending=False)['index'].to_list()[0]\n",
    "best_forest_by_aps = 44\n",
    "best_forest_by_auc = params_df_forest_no_b_test.sort_values(by='AUC', ascending=False)['index'].to_list()[0]"
   ]
  },
  {
   "cell_type": "code",
   "execution_count": 458,
   "metadata": {
    "ExecuteTime": {
     "end_time": "2021-05-12T15:12:43.978756Z",
     "start_time": "2021-05-12T15:12:43.825744Z"
    }
   },
   "outputs": [
    {
     "data": {
      "text/html": [
       "<div>\n",
       "<style scoped>\n",
       "    .dataframe tbody tr th:only-of-type {\n",
       "        vertical-align: middle;\n",
       "    }\n",
       "\n",
       "    .dataframe tbody tr th {\n",
       "        vertical-align: top;\n",
       "    }\n",
       "\n",
       "    .dataframe thead th {\n",
       "        text-align: right;\n",
       "    }\n",
       "</style>\n",
       "<table border=\"1\" class=\"dataframe\">\n",
       "  <thead>\n",
       "    <tr style=\"text-align: right;\">\n",
       "      <th></th>\n",
       "      <th>index</th>\n",
       "      <th>max_depth</th>\n",
       "      <th>verbose</th>\n",
       "      <th>n_estimators</th>\n",
       "      <th>class_weight_0</th>\n",
       "      <th>random_state</th>\n",
       "      <th>ScoreF1</th>\n",
       "      <th>Acc</th>\n",
       "      <th>Pre</th>\n",
       "      <th>Rec</th>\n",
       "      <th>...</th>\n",
       "      <th>AUC</th>\n",
       "      <th>Bad_Rate</th>\n",
       "      <th>ScoreF1_std</th>\n",
       "      <th>Acc_std</th>\n",
       "      <th>Pre_std</th>\n",
       "      <th>Rec_std</th>\n",
       "      <th>APS_std</th>\n",
       "      <th>Brier_score_std</th>\n",
       "      <th>AUC_std</th>\n",
       "      <th>Bad_Rate_std</th>\n",
       "    </tr>\n",
       "  </thead>\n",
       "  <tbody>\n",
       "    <tr>\n",
       "      <th>0</th>\n",
       "      <td>0</td>\n",
       "      <td>5</td>\n",
       "      <td>0</td>\n",
       "      <td>74</td>\n",
       "      <td>{0: 0.01673800472926457, 1: 1}</td>\n",
       "      <td>241</td>\n",
       "      <td>0.113459</td>\n",
       "      <td>0.985433</td>\n",
       "      <td>0.068767</td>\n",
       "      <td>0.327690</td>\n",
       "      <td>...</td>\n",
       "      <td>0.916898</td>\n",
       "      <td>0.002782</td>\n",
       "      <td>0.031635</td>\n",
       "      <td>0.002582</td>\n",
       "      <td>0.021057</td>\n",
       "      <td>0.046964</td>\n",
       "      <td>0.018158</td>\n",
       "      <td>0.001085</td>\n",
       "      <td>0.006192</td>\n",
       "      <td>0.000011</td>\n",
       "    </tr>\n",
       "    <tr>\n",
       "      <th>1</th>\n",
       "      <td>1</td>\n",
       "      <td>4</td>\n",
       "      <td>0</td>\n",
       "      <td>142</td>\n",
       "      <td>{0: 0.01673800472926457, 1: 1}</td>\n",
       "      <td>241</td>\n",
       "      <td>0.107472</td>\n",
       "      <td>0.987072</td>\n",
       "      <td>0.066580</td>\n",
       "      <td>0.279617</td>\n",
       "      <td>...</td>\n",
       "      <td>0.907402</td>\n",
       "      <td>0.002782</td>\n",
       "      <td>0.004552</td>\n",
       "      <td>0.000722</td>\n",
       "      <td>0.004063</td>\n",
       "      <td>0.010103</td>\n",
       "      <td>0.003690</td>\n",
       "      <td>0.001708</td>\n",
       "      <td>0.007398</td>\n",
       "      <td>0.000077</td>\n",
       "    </tr>\n",
       "    <tr>\n",
       "      <th>2</th>\n",
       "      <td>2</td>\n",
       "      <td>7</td>\n",
       "      <td>0</td>\n",
       "      <td>32</td>\n",
       "      <td>{0: 2.7896674548774282e-05, 1: 1}</td>\n",
       "      <td>241</td>\n",
       "      <td>0.006174</td>\n",
       "      <td>0.108329</td>\n",
       "      <td>0.003096</td>\n",
       "      <td>0.994031</td>\n",
       "      <td>...</td>\n",
       "      <td>0.873716</td>\n",
       "      <td>0.002782</td>\n",
       "      <td>0.000456</td>\n",
       "      <td>0.036734</td>\n",
       "      <td>0.000229</td>\n",
       "      <td>0.000530</td>\n",
       "      <td>0.001648</td>\n",
       "      <td>0.025682</td>\n",
       "      <td>0.003937</td>\n",
       "      <td>0.000091</td>\n",
       "    </tr>\n",
       "    <tr>\n",
       "      <th>3</th>\n",
       "      <td>3</td>\n",
       "      <td>4</td>\n",
       "      <td>0</td>\n",
       "      <td>114</td>\n",
       "      <td>{0: 2.7896674548774282e-05, 1: 1}</td>\n",
       "      <td>241</td>\n",
       "      <td>0.005568</td>\n",
       "      <td>0.008422</td>\n",
       "      <td>0.002792</td>\n",
       "      <td>0.997840</td>\n",
       "      <td>...</td>\n",
       "      <td>0.874032</td>\n",
       "      <td>0.002782</td>\n",
       "      <td>0.000054</td>\n",
       "      <td>0.004939</td>\n",
       "      <td>0.000027</td>\n",
       "      <td>0.003055</td>\n",
       "      <td>0.002292</td>\n",
       "      <td>0.001569</td>\n",
       "      <td>0.019859</td>\n",
       "      <td>0.000032</td>\n",
       "    </tr>\n",
       "    <tr>\n",
       "      <th>4</th>\n",
       "      <td>4</td>\n",
       "      <td>5</td>\n",
       "      <td>0</td>\n",
       "      <td>181</td>\n",
       "      <td>{0: 0.01673800472926457, 1: 1}</td>\n",
       "      <td>241</td>\n",
       "      <td>0.109672</td>\n",
       "      <td>0.984519</td>\n",
       "      <td>0.065366</td>\n",
       "      <td>0.341616</td>\n",
       "      <td>...</td>\n",
       "      <td>0.913907</td>\n",
       "      <td>0.002782</td>\n",
       "      <td>0.010313</td>\n",
       "      <td>0.001104</td>\n",
       "      <td>0.007106</td>\n",
       "      <td>0.005778</td>\n",
       "      <td>0.013792</td>\n",
       "      <td>0.000865</td>\n",
       "      <td>0.007664</td>\n",
       "      <td>0.000049</td>\n",
       "    </tr>\n",
       "    <tr>\n",
       "      <th>5</th>\n",
       "      <td>5</td>\n",
       "      <td>4</td>\n",
       "      <td>0</td>\n",
       "      <td>35</td>\n",
       "      <td>{0: 2.7896674548774282e-05, 1: 1}</td>\n",
       "      <td>241</td>\n",
       "      <td>0.005569</td>\n",
       "      <td>0.008654</td>\n",
       "      <td>0.002792</td>\n",
       "      <td>0.997479</td>\n",
       "      <td>...</td>\n",
       "      <td>0.874967</td>\n",
       "      <td>0.002783</td>\n",
       "      <td>0.000463</td>\n",
       "      <td>0.005248</td>\n",
       "      <td>0.000233</td>\n",
       "      <td>0.003566</td>\n",
       "      <td>0.010193</td>\n",
       "      <td>0.001382</td>\n",
       "      <td>0.002609</td>\n",
       "      <td>0.000237</td>\n",
       "    </tr>\n",
       "    <tr>\n",
       "      <th>6</th>\n",
       "      <td>6</td>\n",
       "      <td>6</td>\n",
       "      <td>0</td>\n",
       "      <td>42</td>\n",
       "      <td>{0: 2.7896674548774282e-05, 1: 1}</td>\n",
       "      <td>241</td>\n",
       "      <td>0.005808</td>\n",
       "      <td>0.051309</td>\n",
       "      <td>0.002913</td>\n",
       "      <td>0.996239</td>\n",
       "      <td>...</td>\n",
       "      <td>0.879677</td>\n",
       "      <td>0.002782</td>\n",
       "      <td>0.000323</td>\n",
       "      <td>0.000455</td>\n",
       "      <td>0.000162</td>\n",
       "      <td>0.001797</td>\n",
       "      <td>0.001239</td>\n",
       "      <td>0.009618</td>\n",
       "      <td>0.002110</td>\n",
       "      <td>0.000159</td>\n",
       "    </tr>\n",
       "    <tr>\n",
       "      <th>7</th>\n",
       "      <td>7</td>\n",
       "      <td>6</td>\n",
       "      <td>0</td>\n",
       "      <td>177</td>\n",
       "      <td>{0: 0.01673800472926457, 1: 1}</td>\n",
       "      <td>241</td>\n",
       "      <td>0.107153</td>\n",
       "      <td>0.983258</td>\n",
       "      <td>0.062908</td>\n",
       "      <td>0.361225</td>\n",
       "      <td>...</td>\n",
       "      <td>0.926613</td>\n",
       "      <td>0.002782</td>\n",
       "      <td>0.003226</td>\n",
       "      <td>0.000168</td>\n",
       "      <td>0.001710</td>\n",
       "      <td>0.016954</td>\n",
       "      <td>0.015656</td>\n",
       "      <td>0.000272</td>\n",
       "      <td>0.005352</td>\n",
       "      <td>0.000009</td>\n",
       "    </tr>\n",
       "    <tr>\n",
       "      <th>8</th>\n",
       "      <td>8</td>\n",
       "      <td>7</td>\n",
       "      <td>0</td>\n",
       "      <td>193</td>\n",
       "      <td>{0: 2.7896674548774282e-05, 1: 1}</td>\n",
       "      <td>241</td>\n",
       "      <td>0.006014</td>\n",
       "      <td>0.083793</td>\n",
       "      <td>0.003016</td>\n",
       "      <td>0.995136</td>\n",
       "      <td>...</td>\n",
       "      <td>0.879575</td>\n",
       "      <td>0.002781</td>\n",
       "      <td>0.000636</td>\n",
       "      <td>0.029144</td>\n",
       "      <td>0.000320</td>\n",
       "      <td>0.003286</td>\n",
       "      <td>0.010089</td>\n",
       "      <td>0.028176</td>\n",
       "      <td>0.011208</td>\n",
       "      <td>0.000217</td>\n",
       "    </tr>\n",
       "    <tr>\n",
       "      <th>9</th>\n",
       "      <td>9</td>\n",
       "      <td>4</td>\n",
       "      <td>0</td>\n",
       "      <td>166</td>\n",
       "      <td>{0: 0.01673800472926457, 1: 1}</td>\n",
       "      <td>241</td>\n",
       "      <td>0.109704</td>\n",
       "      <td>0.986522</td>\n",
       "      <td>0.067197</td>\n",
       "      <td>0.298590</td>\n",
       "      <td>...</td>\n",
       "      <td>0.909127</td>\n",
       "      <td>0.002782</td>\n",
       "      <td>0.005758</td>\n",
       "      <td>0.000065</td>\n",
       "      <td>0.003389</td>\n",
       "      <td>0.018401</td>\n",
       "      <td>0.011158</td>\n",
       "      <td>0.000612</td>\n",
       "      <td>0.003675</td>\n",
       "      <td>0.000021</td>\n",
       "    </tr>\n",
       "    <tr>\n",
       "      <th>10</th>\n",
       "      <td>10</td>\n",
       "      <td>4</td>\n",
       "      <td>0</td>\n",
       "      <td>88</td>\n",
       "      <td>{0: 0.01673800472926457, 1: 1}</td>\n",
       "      <td>241</td>\n",
       "      <td>0.107775</td>\n",
       "      <td>0.987291</td>\n",
       "      <td>0.066976</td>\n",
       "      <td>0.276139</td>\n",
       "      <td>...</td>\n",
       "      <td>0.903009</td>\n",
       "      <td>0.002782</td>\n",
       "      <td>0.006874</td>\n",
       "      <td>0.000496</td>\n",
       "      <td>0.005041</td>\n",
       "      <td>0.004497</td>\n",
       "      <td>0.004477</td>\n",
       "      <td>0.000658</td>\n",
       "      <td>0.018517</td>\n",
       "      <td>0.000262</td>\n",
       "    </tr>\n",
       "    <tr>\n",
       "      <th>11</th>\n",
       "      <td>11</td>\n",
       "      <td>6</td>\n",
       "      <td>0</td>\n",
       "      <td>114</td>\n",
       "      <td>{0: 0.01673800472926457, 1: 1}</td>\n",
       "      <td>241</td>\n",
       "      <td>0.114011</td>\n",
       "      <td>0.983770</td>\n",
       "      <td>0.067311</td>\n",
       "      <td>0.373444</td>\n",
       "      <td>...</td>\n",
       "      <td>0.925085</td>\n",
       "      <td>0.002782</td>\n",
       "      <td>0.015012</td>\n",
       "      <td>0.001362</td>\n",
       "      <td>0.009717</td>\n",
       "      <td>0.022669</td>\n",
       "      <td>0.018948</td>\n",
       "      <td>0.000389</td>\n",
       "      <td>0.002799</td>\n",
       "      <td>0.000012</td>\n",
       "    </tr>\n",
       "    <tr>\n",
       "      <th>12</th>\n",
       "      <td>12</td>\n",
       "      <td>6</td>\n",
       "      <td>0</td>\n",
       "      <td>200</td>\n",
       "      <td>{0: 0.01673800472926457, 1: 1}</td>\n",
       "      <td>241</td>\n",
       "      <td>0.113482</td>\n",
       "      <td>0.983838</td>\n",
       "      <td>0.067013</td>\n",
       "      <td>0.371270</td>\n",
       "      <td>...</td>\n",
       "      <td>0.925788</td>\n",
       "      <td>0.002782</td>\n",
       "      <td>0.007001</td>\n",
       "      <td>0.000835</td>\n",
       "      <td>0.004994</td>\n",
       "      <td>0.003572</td>\n",
       "      <td>0.004884</td>\n",
       "      <td>0.001072</td>\n",
       "      <td>0.001268</td>\n",
       "      <td>0.000077</td>\n",
       "    </tr>\n",
       "    <tr>\n",
       "      <th>13</th>\n",
       "      <td>13</td>\n",
       "      <td>6</td>\n",
       "      <td>0</td>\n",
       "      <td>139</td>\n",
       "      <td>{0: 0.01673800472926457, 1: 1}</td>\n",
       "      <td>241</td>\n",
       "      <td>0.108448</td>\n",
       "      <td>0.983172</td>\n",
       "      <td>0.063775</td>\n",
       "      <td>0.364777</td>\n",
       "      <td>...</td>\n",
       "      <td>0.924756</td>\n",
       "      <td>0.002782</td>\n",
       "      <td>0.015175</td>\n",
       "      <td>0.002096</td>\n",
       "      <td>0.010165</td>\n",
       "      <td>0.009925</td>\n",
       "      <td>0.023508</td>\n",
       "      <td>0.001419</td>\n",
       "      <td>0.011161</td>\n",
       "      <td>0.000015</td>\n",
       "    </tr>\n",
       "    <tr>\n",
       "      <th>14</th>\n",
       "      <td>14</td>\n",
       "      <td>6</td>\n",
       "      <td>0</td>\n",
       "      <td>132</td>\n",
       "      <td>{0: 0.01673800472926457, 1: 1}</td>\n",
       "      <td>241</td>\n",
       "      <td>0.108213</td>\n",
       "      <td>0.983422</td>\n",
       "      <td>0.063624</td>\n",
       "      <td>0.361687</td>\n",
       "      <td>...</td>\n",
       "      <td>0.923111</td>\n",
       "      <td>0.002781</td>\n",
       "      <td>0.008072</td>\n",
       "      <td>0.001280</td>\n",
       "      <td>0.004669</td>\n",
       "      <td>0.029457</td>\n",
       "      <td>0.018237</td>\n",
       "      <td>0.000466</td>\n",
       "      <td>0.005892</td>\n",
       "      <td>0.000209</td>\n",
       "    </tr>\n",
       "    <tr>\n",
       "      <th>15</th>\n",
       "      <td>15</td>\n",
       "      <td>6</td>\n",
       "      <td>0</td>\n",
       "      <td>104</td>\n",
       "      <td>{0: 0.01673800472926457, 1: 1}</td>\n",
       "      <td>241</td>\n",
       "      <td>0.110641</td>\n",
       "      <td>0.983479</td>\n",
       "      <td>0.065070</td>\n",
       "      <td>0.369331</td>\n",
       "      <td>...</td>\n",
       "      <td>0.925296</td>\n",
       "      <td>0.002782</td>\n",
       "      <td>0.001659</td>\n",
       "      <td>0.000381</td>\n",
       "      <td>0.001230</td>\n",
       "      <td>0.002640</td>\n",
       "      <td>0.018696</td>\n",
       "      <td>0.001348</td>\n",
       "      <td>0.012448</td>\n",
       "      <td>0.000003</td>\n",
       "    </tr>\n",
       "    <tr>\n",
       "      <th>16</th>\n",
       "      <td>16</td>\n",
       "      <td>7</td>\n",
       "      <td>0</td>\n",
       "      <td>153</td>\n",
       "      <td>{0: 0.01673800472926457, 1: 1}</td>\n",
       "      <td>241</td>\n",
       "      <td>0.113821</td>\n",
       "      <td>0.983388</td>\n",
       "      <td>0.066943</td>\n",
       "      <td>0.382000</td>\n",
       "      <td>...</td>\n",
       "      <td>0.933223</td>\n",
       "      <td>0.002782</td>\n",
       "      <td>0.005979</td>\n",
       "      <td>0.002070</td>\n",
       "      <td>0.004701</td>\n",
       "      <td>0.018554</td>\n",
       "      <td>0.003388</td>\n",
       "      <td>0.000668</td>\n",
       "      <td>0.002973</td>\n",
       "      <td>0.000047</td>\n",
       "    </tr>\n",
       "    <tr>\n",
       "      <th>17</th>\n",
       "      <td>17</td>\n",
       "      <td>7</td>\n",
       "      <td>0</td>\n",
       "      <td>150</td>\n",
       "      <td>{0: 0.01673800472926457, 1: 1}</td>\n",
       "      <td>241</td>\n",
       "      <td>0.106074</td>\n",
       "      <td>0.982536</td>\n",
       "      <td>0.061846</td>\n",
       "      <td>0.373021</td>\n",
       "      <td>...</td>\n",
       "      <td>0.930449</td>\n",
       "      <td>0.002782</td>\n",
       "      <td>0.003622</td>\n",
       "      <td>0.000570</td>\n",
       "      <td>0.001550</td>\n",
       "      <td>0.033088</td>\n",
       "      <td>0.010190</td>\n",
       "      <td>0.000563</td>\n",
       "      <td>0.009037</td>\n",
       "      <td>0.000050</td>\n",
       "    </tr>\n",
       "    <tr>\n",
       "      <th>18</th>\n",
       "      <td>18</td>\n",
       "      <td>7</td>\n",
       "      <td>0</td>\n",
       "      <td>200</td>\n",
       "      <td>{0: 0.01673800472926457, 1: 1}</td>\n",
       "      <td>241</td>\n",
       "      <td>0.110558</td>\n",
       "      <td>0.983566</td>\n",
       "      <td>0.065163</td>\n",
       "      <td>0.367652</td>\n",
       "      <td>...</td>\n",
       "      <td>0.932574</td>\n",
       "      <td>0.002782</td>\n",
       "      <td>0.001707</td>\n",
       "      <td>0.001367</td>\n",
       "      <td>0.002420</td>\n",
       "      <td>0.039105</td>\n",
       "      <td>0.006300</td>\n",
       "      <td>0.001953</td>\n",
       "      <td>0.012501</td>\n",
       "      <td>0.000113</td>\n",
       "    </tr>\n",
       "    <tr>\n",
       "      <th>19</th>\n",
       "      <td>19</td>\n",
       "      <td>7</td>\n",
       "      <td>0</td>\n",
       "      <td>200</td>\n",
       "      <td>{0: 0.01673800472926457, 1: 1}</td>\n",
       "      <td>241</td>\n",
       "      <td>0.112732</td>\n",
       "      <td>0.983154</td>\n",
       "      <td>0.066116</td>\n",
       "      <td>0.382903</td>\n",
       "      <td>...</td>\n",
       "      <td>0.933071</td>\n",
       "      <td>0.002782</td>\n",
       "      <td>0.017196</td>\n",
       "      <td>0.001209</td>\n",
       "      <td>0.010711</td>\n",
       "      <td>0.037250</td>\n",
       "      <td>0.017543</td>\n",
       "      <td>0.000444</td>\n",
       "      <td>0.002811</td>\n",
       "      <td>0.000009</td>\n",
       "    </tr>\n",
       "    <tr>\n",
       "      <th>20</th>\n",
       "      <td>20</td>\n",
       "      <td>3</td>\n",
       "      <td>0</td>\n",
       "      <td>162</td>\n",
       "      <td>{0: 0.01673800472926457, 1: 1}</td>\n",
       "      <td>241</td>\n",
       "      <td>0.103633</td>\n",
       "      <td>0.990472</td>\n",
       "      <td>0.070173</td>\n",
       "      <td>0.200248</td>\n",
       "      <td>...</td>\n",
       "      <td>0.890828</td>\n",
       "      <td>0.002781</td>\n",
       "      <td>0.009794</td>\n",
       "      <td>0.000419</td>\n",
       "      <td>0.003481</td>\n",
       "      <td>0.043992</td>\n",
       "      <td>0.001702</td>\n",
       "      <td>0.001939</td>\n",
       "      <td>0.009359</td>\n",
       "      <td>0.000200</td>\n",
       "    </tr>\n",
       "    <tr>\n",
       "      <th>21</th>\n",
       "      <td>21</td>\n",
       "      <td>3</td>\n",
       "      <td>0</td>\n",
       "      <td>195</td>\n",
       "      <td>{0: 0.01673800472926457, 1: 1}</td>\n",
       "      <td>241</td>\n",
       "      <td>0.110593</td>\n",
       "      <td>0.990585</td>\n",
       "      <td>0.076138</td>\n",
       "      <td>0.209126</td>\n",
       "      <td>...</td>\n",
       "      <td>0.892492</td>\n",
       "      <td>0.002783</td>\n",
       "      <td>0.012315</td>\n",
       "      <td>0.001609</td>\n",
       "      <td>0.014692</td>\n",
       "      <td>0.024158</td>\n",
       "      <td>0.003417</td>\n",
       "      <td>0.001895</td>\n",
       "      <td>0.004879</td>\n",
       "      <td>0.000193</td>\n",
       "    </tr>\n",
       "    <tr>\n",
       "      <th>22</th>\n",
       "      <td>22</td>\n",
       "      <td>7</td>\n",
       "      <td>0</td>\n",
       "      <td>199</td>\n",
       "      <td>{0: 0.01673800472926457, 1: 1}</td>\n",
       "      <td>241</td>\n",
       "      <td>0.112076</td>\n",
       "      <td>0.983232</td>\n",
       "      <td>0.066244</td>\n",
       "      <td>0.377782</td>\n",
       "      <td>...</td>\n",
       "      <td>0.929442</td>\n",
       "      <td>0.002781</td>\n",
       "      <td>0.016402</td>\n",
       "      <td>0.002904</td>\n",
       "      <td>0.012630</td>\n",
       "      <td>0.041356</td>\n",
       "      <td>0.006756</td>\n",
       "      <td>0.002523</td>\n",
       "      <td>0.005398</td>\n",
       "      <td>0.000280</td>\n",
       "    </tr>\n",
       "    <tr>\n",
       "      <th>23</th>\n",
       "      <td>23</td>\n",
       "      <td>7</td>\n",
       "      <td>0</td>\n",
       "      <td>179</td>\n",
       "      <td>{0: 0.01673800472926457, 1: 1}</td>\n",
       "      <td>241</td>\n",
       "      <td>0.112276</td>\n",
       "      <td>0.983477</td>\n",
       "      <td>0.066089</td>\n",
       "      <td>0.377964</td>\n",
       "      <td>...</td>\n",
       "      <td>0.931273</td>\n",
       "      <td>0.002782</td>\n",
       "      <td>0.001339</td>\n",
       "      <td>0.001350</td>\n",
       "      <td>0.000988</td>\n",
       "      <td>0.061833</td>\n",
       "      <td>0.010896</td>\n",
       "      <td>0.002463</td>\n",
       "      <td>0.003600</td>\n",
       "      <td>0.000192</td>\n",
       "    </tr>\n",
       "    <tr>\n",
       "      <th>24</th>\n",
       "      <td>24</td>\n",
       "      <td>7</td>\n",
       "      <td>0</td>\n",
       "      <td>186</td>\n",
       "      <td>{0: 0.01673800472926457, 1: 1}</td>\n",
       "      <td>241</td>\n",
       "      <td>0.108022</td>\n",
       "      <td>0.983304</td>\n",
       "      <td>0.063637</td>\n",
       "      <td>0.360064</td>\n",
       "      <td>...</td>\n",
       "      <td>0.931702</td>\n",
       "      <td>0.002782</td>\n",
       "      <td>0.013690</td>\n",
       "      <td>0.002444</td>\n",
       "      <td>0.009396</td>\n",
       "      <td>0.002564</td>\n",
       "      <td>0.023701</td>\n",
       "      <td>0.001051</td>\n",
       "      <td>0.020198</td>\n",
       "      <td>0.000032</td>\n",
       "    </tr>\n",
       "    <tr>\n",
       "      <th>25</th>\n",
       "      <td>25</td>\n",
       "      <td>7</td>\n",
       "      <td>0</td>\n",
       "      <td>198</td>\n",
       "      <td>{0: 0.01673800472926457, 1: 1}</td>\n",
       "      <td>241</td>\n",
       "      <td>0.110748</td>\n",
       "      <td>0.983298</td>\n",
       "      <td>0.065476</td>\n",
       "      <td>0.367019</td>\n",
       "      <td>...</td>\n",
       "      <td>0.931879</td>\n",
       "      <td>0.002782</td>\n",
       "      <td>0.020397</td>\n",
       "      <td>0.003363</td>\n",
       "      <td>0.014299</td>\n",
       "      <td>0.004484</td>\n",
       "      <td>0.026842</td>\n",
       "      <td>0.001774</td>\n",
       "      <td>0.016643</td>\n",
       "      <td>0.000049</td>\n",
       "    </tr>\n",
       "    <tr>\n",
       "      <th>26</th>\n",
       "      <td>26</td>\n",
       "      <td>7</td>\n",
       "      <td>0</td>\n",
       "      <td>200</td>\n",
       "      <td>{0: 0.01673800472926457, 1: 1}</td>\n",
       "      <td>241</td>\n",
       "      <td>0.113339</td>\n",
       "      <td>0.983531</td>\n",
       "      <td>0.067090</td>\n",
       "      <td>0.372223</td>\n",
       "      <td>...</td>\n",
       "      <td>0.932182</td>\n",
       "      <td>0.002782</td>\n",
       "      <td>0.018245</td>\n",
       "      <td>0.003293</td>\n",
       "      <td>0.013000</td>\n",
       "      <td>0.009089</td>\n",
       "      <td>0.008570</td>\n",
       "      <td>0.000677</td>\n",
       "      <td>0.007527</td>\n",
       "      <td>0.000015</td>\n",
       "    </tr>\n",
       "    <tr>\n",
       "      <th>27</th>\n",
       "      <td>27</td>\n",
       "      <td>7</td>\n",
       "      <td>0</td>\n",
       "      <td>169</td>\n",
       "      <td>{0: 0.01673800472926457, 1: 1}</td>\n",
       "      <td>241</td>\n",
       "      <td>0.108403</td>\n",
       "      <td>0.983310</td>\n",
       "      <td>0.063875</td>\n",
       "      <td>0.363516</td>\n",
       "      <td>...</td>\n",
       "      <td>0.929779</td>\n",
       "      <td>0.002782</td>\n",
       "      <td>0.006530</td>\n",
       "      <td>0.002385</td>\n",
       "      <td>0.005680</td>\n",
       "      <td>0.037365</td>\n",
       "      <td>0.001208</td>\n",
       "      <td>0.000371</td>\n",
       "      <td>0.010743</td>\n",
       "      <td>0.000076</td>\n",
       "    </tr>\n",
       "    <tr>\n",
       "      <th>28</th>\n",
       "      <td>28</td>\n",
       "      <td>5</td>\n",
       "      <td>0</td>\n",
       "      <td>165</td>\n",
       "      <td>{0: 0.01673800472926457, 1: 1}</td>\n",
       "      <td>241</td>\n",
       "      <td>0.113253</td>\n",
       "      <td>0.985465</td>\n",
       "      <td>0.068714</td>\n",
       "      <td>0.324340</td>\n",
       "      <td>...</td>\n",
       "      <td>0.916009</td>\n",
       "      <td>0.002783</td>\n",
       "      <td>0.036102</td>\n",
       "      <td>0.003580</td>\n",
       "      <td>0.023462</td>\n",
       "      <td>0.067332</td>\n",
       "      <td>0.029232</td>\n",
       "      <td>0.000756</td>\n",
       "      <td>0.015220</td>\n",
       "      <td>0.000258</td>\n",
       "    </tr>\n",
       "    <tr>\n",
       "      <th>29</th>\n",
       "      <td>29</td>\n",
       "      <td>7</td>\n",
       "      <td>0</td>\n",
       "      <td>165</td>\n",
       "      <td>{0: 0.01673800472926457, 1: 1}</td>\n",
       "      <td>241</td>\n",
       "      <td>0.111096</td>\n",
       "      <td>0.983776</td>\n",
       "      <td>0.065587</td>\n",
       "      <td>0.363596</td>\n",
       "      <td>...</td>\n",
       "      <td>0.931507</td>\n",
       "      <td>0.002782</td>\n",
       "      <td>0.009678</td>\n",
       "      <td>0.000858</td>\n",
       "      <td>0.006376</td>\n",
       "      <td>0.011250</td>\n",
       "      <td>0.004203</td>\n",
       "      <td>0.000684</td>\n",
       "      <td>0.001472</td>\n",
       "      <td>0.000040</td>\n",
       "    </tr>\n",
       "    <tr>\n",
       "      <th>30</th>\n",
       "      <td>30</td>\n",
       "      <td>6</td>\n",
       "      <td>0</td>\n",
       "      <td>141</td>\n",
       "      <td>{0: 0.01673800472926457, 1: 1}</td>\n",
       "      <td>241</td>\n",
       "      <td>0.107573</td>\n",
       "      <td>0.983148</td>\n",
       "      <td>0.063159</td>\n",
       "      <td>0.366082</td>\n",
       "      <td>...</td>\n",
       "      <td>0.923064</td>\n",
       "      <td>0.002783</td>\n",
       "      <td>0.001614</td>\n",
       "      <td>0.001671</td>\n",
       "      <td>0.000482</td>\n",
       "      <td>0.053001</td>\n",
       "      <td>0.014048</td>\n",
       "      <td>0.000078</td>\n",
       "      <td>0.010076</td>\n",
       "      <td>0.000081</td>\n",
       "    </tr>\n",
       "    <tr>\n",
       "      <th>31</th>\n",
       "      <td>31</td>\n",
       "      <td>7</td>\n",
       "      <td>0</td>\n",
       "      <td>171</td>\n",
       "      <td>{0: 0.01673800472926457, 1: 1}</td>\n",
       "      <td>241</td>\n",
       "      <td>0.109211</td>\n",
       "      <td>0.982664</td>\n",
       "      <td>0.063762</td>\n",
       "      <td>0.383958</td>\n",
       "      <td>...</td>\n",
       "      <td>0.930839</td>\n",
       "      <td>0.002782</td>\n",
       "      <td>0.002707</td>\n",
       "      <td>0.001264</td>\n",
       "      <td>0.000205</td>\n",
       "      <td>0.058795</td>\n",
       "      <td>0.005000</td>\n",
       "      <td>0.001261</td>\n",
       "      <td>0.008394</td>\n",
       "      <td>0.000147</td>\n",
       "    </tr>\n",
       "    <tr>\n",
       "      <th>32</th>\n",
       "      <td>32</td>\n",
       "      <td>7</td>\n",
       "      <td>0</td>\n",
       "      <td>128</td>\n",
       "      <td>{0: 0.01673800472926457, 1: 1}</td>\n",
       "      <td>241</td>\n",
       "      <td>0.107891</td>\n",
       "      <td>0.983340</td>\n",
       "      <td>0.063613</td>\n",
       "      <td>0.358374</td>\n",
       "      <td>...</td>\n",
       "      <td>0.930358</td>\n",
       "      <td>0.002782</td>\n",
       "      <td>0.020501</td>\n",
       "      <td>0.001784</td>\n",
       "      <td>0.013504</td>\n",
       "      <td>0.022203</td>\n",
       "      <td>0.018248</td>\n",
       "      <td>0.000112</td>\n",
       "      <td>0.015713</td>\n",
       "      <td>0.000125</td>\n",
       "    </tr>\n",
       "    <tr>\n",
       "      <th>33</th>\n",
       "      <td>33</td>\n",
       "      <td>7</td>\n",
       "      <td>0</td>\n",
       "      <td>174</td>\n",
       "      <td>{0: 0.01673800472926457, 1: 1}</td>\n",
       "      <td>241</td>\n",
       "      <td>0.110881</td>\n",
       "      <td>0.983139</td>\n",
       "      <td>0.065154</td>\n",
       "      <td>0.374137</td>\n",
       "      <td>...</td>\n",
       "      <td>0.932509</td>\n",
       "      <td>0.002782</td>\n",
       "      <td>0.016065</td>\n",
       "      <td>0.002514</td>\n",
       "      <td>0.010585</td>\n",
       "      <td>0.015988</td>\n",
       "      <td>0.019928</td>\n",
       "      <td>0.000821</td>\n",
       "      <td>0.013094</td>\n",
       "      <td>0.000080</td>\n",
       "    </tr>\n",
       "    <tr>\n",
       "      <th>34</th>\n",
       "      <td>34</td>\n",
       "      <td>7</td>\n",
       "      <td>0</td>\n",
       "      <td>153</td>\n",
       "      <td>{0: 0.01673800472926457, 1: 1}</td>\n",
       "      <td>241</td>\n",
       "      <td>0.108717</td>\n",
       "      <td>0.983257</td>\n",
       "      <td>0.064023</td>\n",
       "      <td>0.366248</td>\n",
       "      <td>...</td>\n",
       "      <td>0.930436</td>\n",
       "      <td>0.002783</td>\n",
       "      <td>0.007095</td>\n",
       "      <td>0.002191</td>\n",
       "      <td>0.006085</td>\n",
       "      <td>0.038447</td>\n",
       "      <td>0.007352</td>\n",
       "      <td>0.001085</td>\n",
       "      <td>0.006688</td>\n",
       "      <td>0.000131</td>\n",
       "    </tr>\n",
       "    <tr>\n",
       "      <th>35</th>\n",
       "      <td>35</td>\n",
       "      <td>7</td>\n",
       "      <td>0</td>\n",
       "      <td>154</td>\n",
       "      <td>{0: 0.01673800472926457, 1: 1}</td>\n",
       "      <td>241</td>\n",
       "      <td>0.109564</td>\n",
       "      <td>0.983011</td>\n",
       "      <td>0.064431</td>\n",
       "      <td>0.375784</td>\n",
       "      <td>...</td>\n",
       "      <td>0.930722</td>\n",
       "      <td>0.002782</td>\n",
       "      <td>0.006054</td>\n",
       "      <td>0.002723</td>\n",
       "      <td>0.005950</td>\n",
       "      <td>0.059819</td>\n",
       "      <td>0.006732</td>\n",
       "      <td>0.002153</td>\n",
       "      <td>0.000441</td>\n",
       "      <td>0.000169</td>\n",
       "    </tr>\n",
       "    <tr>\n",
       "      <th>36</th>\n",
       "      <td>36</td>\n",
       "      <td>5</td>\n",
       "      <td>0</td>\n",
       "      <td>184</td>\n",
       "      <td>{0: 0.01673800472926457, 1: 1}</td>\n",
       "      <td>241</td>\n",
       "      <td>0.109874</td>\n",
       "      <td>0.984475</td>\n",
       "      <td>0.065556</td>\n",
       "      <td>0.342055</td>\n",
       "      <td>...</td>\n",
       "      <td>0.918299</td>\n",
       "      <td>0.002782</td>\n",
       "      <td>0.014980</td>\n",
       "      <td>0.001606</td>\n",
       "      <td>0.010424</td>\n",
       "      <td>0.005645</td>\n",
       "      <td>0.010002</td>\n",
       "      <td>0.001145</td>\n",
       "      <td>0.007093</td>\n",
       "      <td>0.000093</td>\n",
       "    </tr>\n",
       "    <tr>\n",
       "      <th>37</th>\n",
       "      <td>37</td>\n",
       "      <td>6</td>\n",
       "      <td>0</td>\n",
       "      <td>188</td>\n",
       "      <td>{0: 2.7896674548774282e-05, 1: 1}</td>\n",
       "      <td>241</td>\n",
       "      <td>0.005735</td>\n",
       "      <td>0.039875</td>\n",
       "      <td>0.002876</td>\n",
       "      <td>0.995236</td>\n",
       "      <td>...</td>\n",
       "      <td>0.883281</td>\n",
       "      <td>0.002782</td>\n",
       "      <td>0.000129</td>\n",
       "      <td>0.009585</td>\n",
       "      <td>0.000065</td>\n",
       "      <td>0.001313</td>\n",
       "      <td>0.004379</td>\n",
       "      <td>0.012362</td>\n",
       "      <td>0.002861</td>\n",
       "      <td>0.000039</td>\n",
       "    </tr>\n",
       "    <tr>\n",
       "      <th>38</th>\n",
       "      <td>38</td>\n",
       "      <td>6</td>\n",
       "      <td>0</td>\n",
       "      <td>157</td>\n",
       "      <td>{0: 2.7896674548774282e-05, 1: 1}</td>\n",
       "      <td>241</td>\n",
       "      <td>0.005734</td>\n",
       "      <td>0.037524</td>\n",
       "      <td>0.002875</td>\n",
       "      <td>0.997204</td>\n",
       "      <td>...</td>\n",
       "      <td>0.872677</td>\n",
       "      <td>0.002782</td>\n",
       "      <td>0.000258</td>\n",
       "      <td>0.025056</td>\n",
       "      <td>0.000130</td>\n",
       "      <td>0.003954</td>\n",
       "      <td>0.004877</td>\n",
       "      <td>0.007490</td>\n",
       "      <td>0.023801</td>\n",
       "      <td>0.000064</td>\n",
       "    </tr>\n",
       "    <tr>\n",
       "      <th>39</th>\n",
       "      <td>39</td>\n",
       "      <td>7</td>\n",
       "      <td>0</td>\n",
       "      <td>159</td>\n",
       "      <td>{0: 0.01673800472926457, 1: 1}</td>\n",
       "      <td>241</td>\n",
       "      <td>0.108215</td>\n",
       "      <td>0.983088</td>\n",
       "      <td>0.063485</td>\n",
       "      <td>0.367867</td>\n",
       "      <td>...</td>\n",
       "      <td>0.931676</td>\n",
       "      <td>0.002782</td>\n",
       "      <td>0.006732</td>\n",
       "      <td>0.001422</td>\n",
       "      <td>0.004877</td>\n",
       "      <td>0.008329</td>\n",
       "      <td>0.005501</td>\n",
       "      <td>0.000488</td>\n",
       "      <td>0.005521</td>\n",
       "      <td>0.000023</td>\n",
       "    </tr>\n",
       "    <tr>\n",
       "      <th>40</th>\n",
       "      <td>40</td>\n",
       "      <td>7</td>\n",
       "      <td>0</td>\n",
       "      <td>131</td>\n",
       "      <td>{0: 0.01673800472926457, 1: 1}</td>\n",
       "      <td>241</td>\n",
       "      <td>0.111109</td>\n",
       "      <td>0.982806</td>\n",
       "      <td>0.064915</td>\n",
       "      <td>0.385495</td>\n",
       "      <td>...</td>\n",
       "      <td>0.933164</td>\n",
       "      <td>0.002782</td>\n",
       "      <td>0.010591</td>\n",
       "      <td>0.001002</td>\n",
       "      <td>0.006531</td>\n",
       "      <td>0.024603</td>\n",
       "      <td>0.017987</td>\n",
       "      <td>0.000484</td>\n",
       "      <td>0.008299</td>\n",
       "      <td>0.000041</td>\n",
       "    </tr>\n",
       "    <tr>\n",
       "      <th>41</th>\n",
       "      <td>41</td>\n",
       "      <td>7</td>\n",
       "      <td>0</td>\n",
       "      <td>130</td>\n",
       "      <td>{0: 0.01673800472926457, 1: 1}</td>\n",
       "      <td>241</td>\n",
       "      <td>0.115213</td>\n",
       "      <td>0.983869</td>\n",
       "      <td>0.068169</td>\n",
       "      <td>0.376136</td>\n",
       "      <td>...</td>\n",
       "      <td>0.932770</td>\n",
       "      <td>0.002782</td>\n",
       "      <td>0.006929</td>\n",
       "      <td>0.002146</td>\n",
       "      <td>0.005840</td>\n",
       "      <td>0.030357</td>\n",
       "      <td>0.006227</td>\n",
       "      <td>0.001557</td>\n",
       "      <td>0.008241</td>\n",
       "      <td>0.000043</td>\n",
       "    </tr>\n",
       "    <tr>\n",
       "      <th>42</th>\n",
       "      <td>42</td>\n",
       "      <td>7</td>\n",
       "      <td>0</td>\n",
       "      <td>174</td>\n",
       "      <td>{0: 0.01673800472926457, 1: 1}</td>\n",
       "      <td>241</td>\n",
       "      <td>0.107533</td>\n",
       "      <td>0.983208</td>\n",
       "      <td>0.063077</td>\n",
       "      <td>0.364529</td>\n",
       "      <td>...</td>\n",
       "      <td>0.928615</td>\n",
       "      <td>0.002784</td>\n",
       "      <td>0.012535</td>\n",
       "      <td>0.001058</td>\n",
       "      <td>0.006981</td>\n",
       "      <td>0.054840</td>\n",
       "      <td>0.015558</td>\n",
       "      <td>0.001101</td>\n",
       "      <td>0.006120</td>\n",
       "      <td>0.000231</td>\n",
       "    </tr>\n",
       "    <tr>\n",
       "      <th>43</th>\n",
       "      <td>43</td>\n",
       "      <td>7</td>\n",
       "      <td>0</td>\n",
       "      <td>168</td>\n",
       "      <td>{0: 0.01673800472926457, 1: 1}</td>\n",
       "      <td>241</td>\n",
       "      <td>0.111309</td>\n",
       "      <td>0.983351</td>\n",
       "      <td>0.065813</td>\n",
       "      <td>0.371434</td>\n",
       "      <td>...</td>\n",
       "      <td>0.930310</td>\n",
       "      <td>0.002782</td>\n",
       "      <td>0.014204</td>\n",
       "      <td>0.003035</td>\n",
       "      <td>0.011006</td>\n",
       "      <td>0.036447</td>\n",
       "      <td>0.009410</td>\n",
       "      <td>0.002014</td>\n",
       "      <td>0.004234</td>\n",
       "      <td>0.000164</td>\n",
       "    </tr>\n",
       "    <tr>\n",
       "      <th>44</th>\n",
       "      <td>44</td>\n",
       "      <td>7</td>\n",
       "      <td>0</td>\n",
       "      <td>185</td>\n",
       "      <td>{0: 0.01673800472926457, 1: 1}</td>\n",
       "      <td>241</td>\n",
       "      <td>0.114072</td>\n",
       "      <td>0.983248</td>\n",
       "      <td>0.066878</td>\n",
       "      <td>0.387626</td>\n",
       "      <td>...</td>\n",
       "      <td>0.928291</td>\n",
       "      <td>0.002782</td>\n",
       "      <td>0.004054</td>\n",
       "      <td>0.000083</td>\n",
       "      <td>0.002555</td>\n",
       "      <td>0.007779</td>\n",
       "      <td>0.000896</td>\n",
       "      <td>0.000472</td>\n",
       "      <td>0.011521</td>\n",
       "      <td>0.000070</td>\n",
       "    </tr>\n",
       "    <tr>\n",
       "      <th>45</th>\n",
       "      <td>45</td>\n",
       "      <td>7</td>\n",
       "      <td>0</td>\n",
       "      <td>147</td>\n",
       "      <td>{0: 0.01673800472926457, 1: 1}</td>\n",
       "      <td>241</td>\n",
       "      <td>0.108816</td>\n",
       "      <td>0.983170</td>\n",
       "      <td>0.063886</td>\n",
       "      <td>0.367759</td>\n",
       "      <td>...</td>\n",
       "      <td>0.931573</td>\n",
       "      <td>0.002781</td>\n",
       "      <td>0.008499</td>\n",
       "      <td>0.001985</td>\n",
       "      <td>0.005751</td>\n",
       "      <td>0.003408</td>\n",
       "      <td>0.007316</td>\n",
       "      <td>0.000664</td>\n",
       "      <td>0.002529</td>\n",
       "      <td>0.000111</td>\n",
       "    </tr>\n",
       "    <tr>\n",
       "      <th>46</th>\n",
       "      <td>46</td>\n",
       "      <td>6</td>\n",
       "      <td>0</td>\n",
       "      <td>147</td>\n",
       "      <td>{0: 2.7896674548774282e-05, 1: 1}</td>\n",
       "      <td>241</td>\n",
       "      <td>0.005746</td>\n",
       "      <td>0.041532</td>\n",
       "      <td>0.002881</td>\n",
       "      <td>0.995560</td>\n",
       "      <td>...</td>\n",
       "      <td>0.874125</td>\n",
       "      <td>0.002782</td>\n",
       "      <td>0.000467</td>\n",
       "      <td>0.000508</td>\n",
       "      <td>0.000235</td>\n",
       "      <td>0.003725</td>\n",
       "      <td>0.004395</td>\n",
       "      <td>0.006312</td>\n",
       "      <td>0.015757</td>\n",
       "      <td>0.000216</td>\n",
       "    </tr>\n",
       "    <tr>\n",
       "      <th>47</th>\n",
       "      <td>47</td>\n",
       "      <td>6</td>\n",
       "      <td>0</td>\n",
       "      <td>189</td>\n",
       "      <td>{0: 2.7896674548774282e-05, 1: 1}</td>\n",
       "      <td>241</td>\n",
       "      <td>0.005723</td>\n",
       "      <td>0.036654</td>\n",
       "      <td>0.002870</td>\n",
       "      <td>0.996481</td>\n",
       "      <td>...</td>\n",
       "      <td>0.879648</td>\n",
       "      <td>0.002782</td>\n",
       "      <td>0.000243</td>\n",
       "      <td>0.007361</td>\n",
       "      <td>0.000122</td>\n",
       "      <td>0.002895</td>\n",
       "      <td>0.004883</td>\n",
       "      <td>0.006898</td>\n",
       "      <td>0.006840</td>\n",
       "      <td>0.000105</td>\n",
       "    </tr>\n",
       "    <tr>\n",
       "      <th>48</th>\n",
       "      <td>48</td>\n",
       "      <td>6</td>\n",
       "      <td>0</td>\n",
       "      <td>190</td>\n",
       "      <td>{0: 0.01673800472926457, 1: 1}</td>\n",
       "      <td>241</td>\n",
       "      <td>0.112126</td>\n",
       "      <td>0.983515</td>\n",
       "      <td>0.066126</td>\n",
       "      <td>0.370251</td>\n",
       "      <td>...</td>\n",
       "      <td>0.926165</td>\n",
       "      <td>0.002782</td>\n",
       "      <td>0.019766</td>\n",
       "      <td>0.002238</td>\n",
       "      <td>0.012732</td>\n",
       "      <td>0.031046</td>\n",
       "      <td>0.027764</td>\n",
       "      <td>0.000409</td>\n",
       "      <td>0.010955</td>\n",
       "      <td>0.000057</td>\n",
       "    </tr>\n",
       "    <tr>\n",
       "      <th>49</th>\n",
       "      <td>49</td>\n",
       "      <td>7</td>\n",
       "      <td>0</td>\n",
       "      <td>180</td>\n",
       "      <td>{0: 0.01673800472926457, 1: 1}</td>\n",
       "      <td>241</td>\n",
       "      <td>0.112118</td>\n",
       "      <td>0.983694</td>\n",
       "      <td>0.066111</td>\n",
       "      <td>0.369241</td>\n",
       "      <td>...</td>\n",
       "      <td>0.932737</td>\n",
       "      <td>0.002782</td>\n",
       "      <td>0.012924</td>\n",
       "      <td>0.000516</td>\n",
       "      <td>0.008206</td>\n",
       "      <td>0.024185</td>\n",
       "      <td>0.001044</td>\n",
       "      <td>0.000532</td>\n",
       "      <td>0.004074</td>\n",
       "      <td>0.000092</td>\n",
       "    </tr>\n",
       "  </tbody>\n",
       "</table>\n",
       "<p>50 rows × 22 columns</p>\n",
       "</div>"
      ],
      "text/plain": [
       "    index  max_depth  verbose  n_estimators  \\\n",
       "0       0          5        0            74   \n",
       "1       1          4        0           142   \n",
       "2       2          7        0            32   \n",
       "3       3          4        0           114   \n",
       "4       4          5        0           181   \n",
       "5       5          4        0            35   \n",
       "6       6          6        0            42   \n",
       "7       7          6        0           177   \n",
       "8       8          7        0           193   \n",
       "9       9          4        0           166   \n",
       "10     10          4        0            88   \n",
       "11     11          6        0           114   \n",
       "12     12          6        0           200   \n",
       "13     13          6        0           139   \n",
       "14     14          6        0           132   \n",
       "15     15          6        0           104   \n",
       "16     16          7        0           153   \n",
       "17     17          7        0           150   \n",
       "18     18          7        0           200   \n",
       "19     19          7        0           200   \n",
       "20     20          3        0           162   \n",
       "21     21          3        0           195   \n",
       "22     22          7        0           199   \n",
       "23     23          7        0           179   \n",
       "24     24          7        0           186   \n",
       "25     25          7        0           198   \n",
       "26     26          7        0           200   \n",
       "27     27          7        0           169   \n",
       "28     28          5        0           165   \n",
       "29     29          7        0           165   \n",
       "30     30          6        0           141   \n",
       "31     31          7        0           171   \n",
       "32     32          7        0           128   \n",
       "33     33          7        0           174   \n",
       "34     34          7        0           153   \n",
       "35     35          7        0           154   \n",
       "36     36          5        0           184   \n",
       "37     37          6        0           188   \n",
       "38     38          6        0           157   \n",
       "39     39          7        0           159   \n",
       "40     40          7        0           131   \n",
       "41     41          7        0           130   \n",
       "42     42          7        0           174   \n",
       "43     43          7        0           168   \n",
       "44     44          7        0           185   \n",
       "45     45          7        0           147   \n",
       "46     46          6        0           147   \n",
       "47     47          6        0           189   \n",
       "48     48          6        0           190   \n",
       "49     49          7        0           180   \n",
       "\n",
       "                       class_weight_0  random_state   ScoreF1       Acc  \\\n",
       "0      {0: 0.01673800472926457, 1: 1}           241  0.113459  0.985433   \n",
       "1      {0: 0.01673800472926457, 1: 1}           241  0.107472  0.987072   \n",
       "2   {0: 2.7896674548774282e-05, 1: 1}           241  0.006174  0.108329   \n",
       "3   {0: 2.7896674548774282e-05, 1: 1}           241  0.005568  0.008422   \n",
       "4      {0: 0.01673800472926457, 1: 1}           241  0.109672  0.984519   \n",
       "5   {0: 2.7896674548774282e-05, 1: 1}           241  0.005569  0.008654   \n",
       "6   {0: 2.7896674548774282e-05, 1: 1}           241  0.005808  0.051309   \n",
       "7      {0: 0.01673800472926457, 1: 1}           241  0.107153  0.983258   \n",
       "8   {0: 2.7896674548774282e-05, 1: 1}           241  0.006014  0.083793   \n",
       "9      {0: 0.01673800472926457, 1: 1}           241  0.109704  0.986522   \n",
       "10     {0: 0.01673800472926457, 1: 1}           241  0.107775  0.987291   \n",
       "11     {0: 0.01673800472926457, 1: 1}           241  0.114011  0.983770   \n",
       "12     {0: 0.01673800472926457, 1: 1}           241  0.113482  0.983838   \n",
       "13     {0: 0.01673800472926457, 1: 1}           241  0.108448  0.983172   \n",
       "14     {0: 0.01673800472926457, 1: 1}           241  0.108213  0.983422   \n",
       "15     {0: 0.01673800472926457, 1: 1}           241  0.110641  0.983479   \n",
       "16     {0: 0.01673800472926457, 1: 1}           241  0.113821  0.983388   \n",
       "17     {0: 0.01673800472926457, 1: 1}           241  0.106074  0.982536   \n",
       "18     {0: 0.01673800472926457, 1: 1}           241  0.110558  0.983566   \n",
       "19     {0: 0.01673800472926457, 1: 1}           241  0.112732  0.983154   \n",
       "20     {0: 0.01673800472926457, 1: 1}           241  0.103633  0.990472   \n",
       "21     {0: 0.01673800472926457, 1: 1}           241  0.110593  0.990585   \n",
       "22     {0: 0.01673800472926457, 1: 1}           241  0.112076  0.983232   \n",
       "23     {0: 0.01673800472926457, 1: 1}           241  0.112276  0.983477   \n",
       "24     {0: 0.01673800472926457, 1: 1}           241  0.108022  0.983304   \n",
       "25     {0: 0.01673800472926457, 1: 1}           241  0.110748  0.983298   \n",
       "26     {0: 0.01673800472926457, 1: 1}           241  0.113339  0.983531   \n",
       "27     {0: 0.01673800472926457, 1: 1}           241  0.108403  0.983310   \n",
       "28     {0: 0.01673800472926457, 1: 1}           241  0.113253  0.985465   \n",
       "29     {0: 0.01673800472926457, 1: 1}           241  0.111096  0.983776   \n",
       "30     {0: 0.01673800472926457, 1: 1}           241  0.107573  0.983148   \n",
       "31     {0: 0.01673800472926457, 1: 1}           241  0.109211  0.982664   \n",
       "32     {0: 0.01673800472926457, 1: 1}           241  0.107891  0.983340   \n",
       "33     {0: 0.01673800472926457, 1: 1}           241  0.110881  0.983139   \n",
       "34     {0: 0.01673800472926457, 1: 1}           241  0.108717  0.983257   \n",
       "35     {0: 0.01673800472926457, 1: 1}           241  0.109564  0.983011   \n",
       "36     {0: 0.01673800472926457, 1: 1}           241  0.109874  0.984475   \n",
       "37  {0: 2.7896674548774282e-05, 1: 1}           241  0.005735  0.039875   \n",
       "38  {0: 2.7896674548774282e-05, 1: 1}           241  0.005734  0.037524   \n",
       "39     {0: 0.01673800472926457, 1: 1}           241  0.108215  0.983088   \n",
       "40     {0: 0.01673800472926457, 1: 1}           241  0.111109  0.982806   \n",
       "41     {0: 0.01673800472926457, 1: 1}           241  0.115213  0.983869   \n",
       "42     {0: 0.01673800472926457, 1: 1}           241  0.107533  0.983208   \n",
       "43     {0: 0.01673800472926457, 1: 1}           241  0.111309  0.983351   \n",
       "44     {0: 0.01673800472926457, 1: 1}           241  0.114072  0.983248   \n",
       "45     {0: 0.01673800472926457, 1: 1}           241  0.108816  0.983170   \n",
       "46  {0: 2.7896674548774282e-05, 1: 1}           241  0.005746  0.041532   \n",
       "47  {0: 2.7896674548774282e-05, 1: 1}           241  0.005723  0.036654   \n",
       "48     {0: 0.01673800472926457, 1: 1}           241  0.112126  0.983515   \n",
       "49     {0: 0.01673800472926457, 1: 1}           241  0.112118  0.983694   \n",
       "\n",
       "         Pre       Rec  ...       AUC  Bad_Rate  ScoreF1_std   Acc_std  \\\n",
       "0   0.068767  0.327690  ...  0.916898  0.002782     0.031635  0.002582   \n",
       "1   0.066580  0.279617  ...  0.907402  0.002782     0.004552  0.000722   \n",
       "2   0.003096  0.994031  ...  0.873716  0.002782     0.000456  0.036734   \n",
       "3   0.002792  0.997840  ...  0.874032  0.002782     0.000054  0.004939   \n",
       "4   0.065366  0.341616  ...  0.913907  0.002782     0.010313  0.001104   \n",
       "5   0.002792  0.997479  ...  0.874967  0.002783     0.000463  0.005248   \n",
       "6   0.002913  0.996239  ...  0.879677  0.002782     0.000323  0.000455   \n",
       "7   0.062908  0.361225  ...  0.926613  0.002782     0.003226  0.000168   \n",
       "8   0.003016  0.995136  ...  0.879575  0.002781     0.000636  0.029144   \n",
       "9   0.067197  0.298590  ...  0.909127  0.002782     0.005758  0.000065   \n",
       "10  0.066976  0.276139  ...  0.903009  0.002782     0.006874  0.000496   \n",
       "11  0.067311  0.373444  ...  0.925085  0.002782     0.015012  0.001362   \n",
       "12  0.067013  0.371270  ...  0.925788  0.002782     0.007001  0.000835   \n",
       "13  0.063775  0.364777  ...  0.924756  0.002782     0.015175  0.002096   \n",
       "14  0.063624  0.361687  ...  0.923111  0.002781     0.008072  0.001280   \n",
       "15  0.065070  0.369331  ...  0.925296  0.002782     0.001659  0.000381   \n",
       "16  0.066943  0.382000  ...  0.933223  0.002782     0.005979  0.002070   \n",
       "17  0.061846  0.373021  ...  0.930449  0.002782     0.003622  0.000570   \n",
       "18  0.065163  0.367652  ...  0.932574  0.002782     0.001707  0.001367   \n",
       "19  0.066116  0.382903  ...  0.933071  0.002782     0.017196  0.001209   \n",
       "20  0.070173  0.200248  ...  0.890828  0.002781     0.009794  0.000419   \n",
       "21  0.076138  0.209126  ...  0.892492  0.002783     0.012315  0.001609   \n",
       "22  0.066244  0.377782  ...  0.929442  0.002781     0.016402  0.002904   \n",
       "23  0.066089  0.377964  ...  0.931273  0.002782     0.001339  0.001350   \n",
       "24  0.063637  0.360064  ...  0.931702  0.002782     0.013690  0.002444   \n",
       "25  0.065476  0.367019  ...  0.931879  0.002782     0.020397  0.003363   \n",
       "26  0.067090  0.372223  ...  0.932182  0.002782     0.018245  0.003293   \n",
       "27  0.063875  0.363516  ...  0.929779  0.002782     0.006530  0.002385   \n",
       "28  0.068714  0.324340  ...  0.916009  0.002783     0.036102  0.003580   \n",
       "29  0.065587  0.363596  ...  0.931507  0.002782     0.009678  0.000858   \n",
       "30  0.063159  0.366082  ...  0.923064  0.002783     0.001614  0.001671   \n",
       "31  0.063762  0.383958  ...  0.930839  0.002782     0.002707  0.001264   \n",
       "32  0.063613  0.358374  ...  0.930358  0.002782     0.020501  0.001784   \n",
       "33  0.065154  0.374137  ...  0.932509  0.002782     0.016065  0.002514   \n",
       "34  0.064023  0.366248  ...  0.930436  0.002783     0.007095  0.002191   \n",
       "35  0.064431  0.375784  ...  0.930722  0.002782     0.006054  0.002723   \n",
       "36  0.065556  0.342055  ...  0.918299  0.002782     0.014980  0.001606   \n",
       "37  0.002876  0.995236  ...  0.883281  0.002782     0.000129  0.009585   \n",
       "38  0.002875  0.997204  ...  0.872677  0.002782     0.000258  0.025056   \n",
       "39  0.063485  0.367867  ...  0.931676  0.002782     0.006732  0.001422   \n",
       "40  0.064915  0.385495  ...  0.933164  0.002782     0.010591  0.001002   \n",
       "41  0.068169  0.376136  ...  0.932770  0.002782     0.006929  0.002146   \n",
       "42  0.063077  0.364529  ...  0.928615  0.002784     0.012535  0.001058   \n",
       "43  0.065813  0.371434  ...  0.930310  0.002782     0.014204  0.003035   \n",
       "44  0.066878  0.387626  ...  0.928291  0.002782     0.004054  0.000083   \n",
       "45  0.063886  0.367759  ...  0.931573  0.002781     0.008499  0.001985   \n",
       "46  0.002881  0.995560  ...  0.874125  0.002782     0.000467  0.000508   \n",
       "47  0.002870  0.996481  ...  0.879648  0.002782     0.000243  0.007361   \n",
       "48  0.066126  0.370251  ...  0.926165  0.002782     0.019766  0.002238   \n",
       "49  0.066111  0.369241  ...  0.932737  0.002782     0.012924  0.000516   \n",
       "\n",
       "     Pre_std   Rec_std   APS_std  Brier_score_std   AUC_std  Bad_Rate_std  \n",
       "0   0.021057  0.046964  0.018158         0.001085  0.006192      0.000011  \n",
       "1   0.004063  0.010103  0.003690         0.001708  0.007398      0.000077  \n",
       "2   0.000229  0.000530  0.001648         0.025682  0.003937      0.000091  \n",
       "3   0.000027  0.003055  0.002292         0.001569  0.019859      0.000032  \n",
       "4   0.007106  0.005778  0.013792         0.000865  0.007664      0.000049  \n",
       "5   0.000233  0.003566  0.010193         0.001382  0.002609      0.000237  \n",
       "6   0.000162  0.001797  0.001239         0.009618  0.002110      0.000159  \n",
       "7   0.001710  0.016954  0.015656         0.000272  0.005352      0.000009  \n",
       "8   0.000320  0.003286  0.010089         0.028176  0.011208      0.000217  \n",
       "9   0.003389  0.018401  0.011158         0.000612  0.003675      0.000021  \n",
       "10  0.005041  0.004497  0.004477         0.000658  0.018517      0.000262  \n",
       "11  0.009717  0.022669  0.018948         0.000389  0.002799      0.000012  \n",
       "12  0.004994  0.003572  0.004884         0.001072  0.001268      0.000077  \n",
       "13  0.010165  0.009925  0.023508         0.001419  0.011161      0.000015  \n",
       "14  0.004669  0.029457  0.018237         0.000466  0.005892      0.000209  \n",
       "15  0.001230  0.002640  0.018696         0.001348  0.012448      0.000003  \n",
       "16  0.004701  0.018554  0.003388         0.000668  0.002973      0.000047  \n",
       "17  0.001550  0.033088  0.010190         0.000563  0.009037      0.000050  \n",
       "18  0.002420  0.039105  0.006300         0.001953  0.012501      0.000113  \n",
       "19  0.010711  0.037250  0.017543         0.000444  0.002811      0.000009  \n",
       "20  0.003481  0.043992  0.001702         0.001939  0.009359      0.000200  \n",
       "21  0.014692  0.024158  0.003417         0.001895  0.004879      0.000193  \n",
       "22  0.012630  0.041356  0.006756         0.002523  0.005398      0.000280  \n",
       "23  0.000988  0.061833  0.010896         0.002463  0.003600      0.000192  \n",
       "24  0.009396  0.002564  0.023701         0.001051  0.020198      0.000032  \n",
       "25  0.014299  0.004484  0.026842         0.001774  0.016643      0.000049  \n",
       "26  0.013000  0.009089  0.008570         0.000677  0.007527      0.000015  \n",
       "27  0.005680  0.037365  0.001208         0.000371  0.010743      0.000076  \n",
       "28  0.023462  0.067332  0.029232         0.000756  0.015220      0.000258  \n",
       "29  0.006376  0.011250  0.004203         0.000684  0.001472      0.000040  \n",
       "30  0.000482  0.053001  0.014048         0.000078  0.010076      0.000081  \n",
       "31  0.000205  0.058795  0.005000         0.001261  0.008394      0.000147  \n",
       "32  0.013504  0.022203  0.018248         0.000112  0.015713      0.000125  \n",
       "33  0.010585  0.015988  0.019928         0.000821  0.013094      0.000080  \n",
       "34  0.006085  0.038447  0.007352         0.001085  0.006688      0.000131  \n",
       "35  0.005950  0.059819  0.006732         0.002153  0.000441      0.000169  \n",
       "36  0.010424  0.005645  0.010002         0.001145  0.007093      0.000093  \n",
       "37  0.000065  0.001313  0.004379         0.012362  0.002861      0.000039  \n",
       "38  0.000130  0.003954  0.004877         0.007490  0.023801      0.000064  \n",
       "39  0.004877  0.008329  0.005501         0.000488  0.005521      0.000023  \n",
       "40  0.006531  0.024603  0.017987         0.000484  0.008299      0.000041  \n",
       "41  0.005840  0.030357  0.006227         0.001557  0.008241      0.000043  \n",
       "42  0.006981  0.054840  0.015558         0.001101  0.006120      0.000231  \n",
       "43  0.011006  0.036447  0.009410         0.002014  0.004234      0.000164  \n",
       "44  0.002555  0.007779  0.000896         0.000472  0.011521      0.000070  \n",
       "45  0.005751  0.003408  0.007316         0.000664  0.002529      0.000111  \n",
       "46  0.000235  0.003725  0.004395         0.006312  0.015757      0.000216  \n",
       "47  0.000122  0.002895  0.004883         0.006898  0.006840      0.000105  \n",
       "48  0.012732  0.031046  0.027764         0.000409  0.010955      0.000057  \n",
       "49  0.008206  0.024185  0.001044         0.000532  0.004074      0.000092  \n",
       "\n",
       "[50 rows x 22 columns]"
      ]
     },
     "execution_count": 458,
     "metadata": {},
     "output_type": "execute_result"
    }
   ],
   "source": [
    "params_df_forest_no_b_test"
   ]
  },
  {
   "cell_type": "code",
   "execution_count": null,
   "metadata": {},
   "outputs": [],
   "source": []
  },
  {
   "cell_type": "code",
   "execution_count": 459,
   "metadata": {
    "ExecuteTime": {
     "end_time": "2021-05-12T15:12:43.996757Z",
     "start_time": "2021-05-12T15:12:43.987755Z"
    }
   },
   "outputs": [],
   "source": [
    "params = {i:params_df_forest_no_b_test.loc[params_df_forest_no_b_test['index'] == best_forest_by_auc, i].to_list()[0] for i in  \n",
    "                      ['max_depth', 'n_estimators', 'class_weight_0', 'random_state']}\n",
    "best_params_by_auc = {}\n",
    "for key, value in params.items():\n",
    "    if len(re.findall('class_weight', key)) > 0:\n",
    "        best_params_by_auc['class_weight'] = value\n",
    "    else:\n",
    "        best_params_by_auc[key] = value"
   ]
  },
  {
   "cell_type": "code",
   "execution_count": 460,
   "metadata": {
    "ExecuteTime": {
     "end_time": "2021-05-12T15:12:44.055761Z",
     "start_time": "2021-05-12T15:12:44.000756Z"
    }
   },
   "outputs": [
    {
     "data": {
      "text/plain": [
       "{'max_depth': 7,\n",
       " 'n_estimators': 153,\n",
       " 'class_weight': {0: 0.01673800472926457, 1: 1},\n",
       " 'random_state': 241}"
      ]
     },
     "execution_count": 460,
     "metadata": {},
     "output_type": "execute_result"
    }
   ],
   "source": [
    "best_params_by_auc"
   ]
  },
  {
   "cell_type": "code",
   "execution_count": 461,
   "metadata": {
    "ExecuteTime": {
     "end_time": "2021-05-12T15:12:44.063762Z",
     "start_time": "2021-05-12T15:12:44.059761Z"
    }
   },
   "outputs": [],
   "source": [
    "# params_df.to_csv()"
   ]
  },
  {
   "cell_type": "code",
   "execution_count": 462,
   "metadata": {
    "ExecuteTime": {
     "end_time": "2021-05-12T15:40:14.579403Z",
     "start_time": "2021-05-12T15:12:44.110763Z"
    }
   },
   "outputs": [
    {
     "name": "stdout",
     "output_type": "stream",
     "text": [
      "Starting training... 12.05.2021 18:12:44\n",
      "Ending training... 12.05.2021 18:34:34\n",
      "roc auc train =  0.9498 aps train =  0.1397 nap train =  0.1373 bf train =  0.0028\n",
      "roc auc test =  0.932 aps test =  0.0615 nap test =  0.0587 bf test =  0.003\n",
      "roc auc oot =  0.9461 aps oot =  0.0627 nap oot =  0.0598 bf oot =  0.0031\n",
      "roc auc oot 2013 =  0.8579 aps oot 2013 =  0.081 nap oot 2013 =  0.0683 bf oot 2013 =  0.0137\n",
      "Calculate profits\n"
     ]
    }
   ],
   "source": [
    "forest_class = RandomForestClassifier(**best_params_by_auc)\n",
    "print('Starting training...', datetime.strftime(datetime.now(), \"%d.%m.%Y %H:%M:%S\"))\n",
    "# train\n",
    "best_forest = forest_class.fit(train_lgbm_data, y_train)\n",
    "\n",
    "print('Ending training...', datetime.strftime(datetime.now(), \"%d.%m.%Y %H:%M:%S\"))\n",
    "\n",
    "y_train_pred = best_forest.predict_proba(train_lgbm_data)[:, 1]\n",
    "y_test_pred = best_forest.predict_proba(test_lgbm_data)[:, 1]\n",
    "y_oot_pred = best_forest.predict_proba(oot_lgbm_data)[:, 1]\n",
    "y_oot_pred_2013 = best_forest.predict_proba(oot_lgbm_data_2013)[:, 1]\n",
    "\n",
    "##########################################################################\n",
    "\n",
    "roc_auc_train = roc_auc_score(y_train, y_train_pred)\n",
    "aps_train = average_precision_score(y_train, y_train_pred)\n",
    "br_train = np.mean(y_train)\n",
    "nap_train = (aps_train - br_train)/(1-br_train)\n",
    "auc_train, auc_var_train, lower_upper_ci_train = auc_ci_Delong(y_train, y_train_pred)\n",
    "lower_apr_train, upper_apr_train = aps_ci_logit(y_train, y_train_pred, epsilon=0.05)\n",
    "\n",
    "roc_auc_test = roc_auc_score(y_test, y_test_pred)\n",
    "aps_test = average_precision_score(y_test, y_test_pred)\n",
    "br_test = np.mean(y_test)\n",
    "nap_test = (aps_test - br_test)/(1-br_test)\n",
    "auc_test, auc_var_test, lower_upper_ci_test = auc_ci_Delong(y_test, y_test_pred)\n",
    "lower_apr_test, upper_apr_test = aps_ci_logit(y_test, y_test_pred, epsilon=0.05)\n",
    "\n",
    "roc_auc_oot = roc_auc_score(y_oot, y_oot_pred)\n",
    "aps_oot = average_precision_score(y_oot, y_oot_pred)\n",
    "br_oot = np.mean(y_oot)\n",
    "nap_oot = (aps_oot - br_oot)/(1-br_oot)\n",
    "auc_oot, auc_var_oot, lower_upper_ci_oot = auc_ci_Delong(y_oot, y_oot_pred)\n",
    "lower_apr_oot, upper_apr_oot = aps_ci_logit(y_oot, y_oot_pred, epsilon=0.05)\n",
    "\n",
    "roc_auc_oot_2013 = roc_auc_score(y_oot_2013, y_oot_pred_2013)\n",
    "aps_oot_2013 = average_precision_score(y_oot_2013, y_oot_pred_2013)\n",
    "br_oot_2013 = np.mean(y_oot_2013)\n",
    "nap_oot_2013 = (aps_oot_2013 - br_oot_2013)/(1-br_oot_2013)\n",
    "auc_oot_2013, auc_var_oot_2013, lower_upper_ci_oot_2013 = auc_ci_Delong(y_oot_2013, y_oot_pred_2013)\n",
    "lower_apr_oot_2013, upper_apr_oot_2013 = aps_ci_logit(y_oot_2013, y_oot_pred_2013, epsilon=0.05)\n",
    "\n",
    "##########################################################################\n",
    "\n",
    "print('roc auc train = ', round(roc_auc_train, 4), \n",
    "      'aps train = ', round(aps_train, 4),\n",
    "      'nap train = ', round(nap_train, 4),\n",
    "      'bf train = ', round(br_train, 4))\n",
    "\n",
    "print('roc auc test = ', round(roc_auc_test, 4), \n",
    "      'aps test = ', round(aps_test, 4),\n",
    "      'nap test = ', round(nap_test, 4),\n",
    "      'bf test = ', round(br_test, 4))\n",
    "\n",
    "print('roc auc oot = ', round(roc_auc_oot, 4), \n",
    "      'aps oot = ', round(aps_oot, 4),\n",
    "      'nap oot = ', round(nap_oot, 4),\n",
    "      'bf oot = ', round(br_oot, 4))\n",
    "\n",
    "print('roc auc oot 2013 = ', round(roc_auc_oot_2013, 4), \n",
    "      'aps oot 2013 = ', round(aps_oot_2013, 4),\n",
    "      'nap oot 2013 = ', round(nap_oot_2013, 4),\n",
    "      'bf oot 2013 = ', round(br_oot_2013, 4))\n",
    "\n",
    "scores_optuna = pd.DataFrame()\n",
    "\n",
    "scores_optuna['bad rate train'] = [br_train]\n",
    "scores_optuna['bad rate test'] = [br_test]\n",
    "scores_optuna['bad rate oot'] = [br_oot]\n",
    "scores_optuna['bad rate oot 2013'] = [br_oot_2013]\n",
    "\n",
    "scores_optuna['roc auc train'] = [roc_auc_train]\n",
    "scores_optuna['roc auc test'] = [roc_auc_test]\n",
    "scores_optuna['roc auc oot'] = [roc_auc_oot]\n",
    "scores_optuna['roc auc oot 2013'] = [roc_auc_oot_2013]\n",
    "\n",
    "scores_optuna['roc_auc train lower upper'] = [lower_upper_ci_train]\n",
    "scores_optuna['roc_auc test lower upper'] = [lower_upper_ci_test]\n",
    "scores_optuna['roc_auc oot lower upper'] = [lower_upper_ci_oot]\n",
    "scores_optuna['roc_auc oot 2013 lower upper'] = [lower_upper_ci_oot_2013]\n",
    "\n",
    "scores_optuna['aps train'] = [aps_train]\n",
    "scores_optuna['aps test'] = [aps_test]\n",
    "scores_optuna['aps oot'] = [aps_oot]\n",
    "scores_optuna['aps oot 2013'] = [aps_oot_2013]\n",
    "\n",
    "scores_optuna['aps upper train'] = [upper_apr_train]\n",
    "scores_optuna['aps upper test'] = [upper_apr_test]\n",
    "scores_optuna['aps upper oot'] = [upper_apr_oot]\n",
    "scores_optuna['aps upper oot 2013'] = [upper_apr_oot_2013]\n",
    "\n",
    "scores_optuna['aps lower train'] = [lower_apr_train]\n",
    "scores_optuna['aps lower test'] = [lower_apr_test]\n",
    "scores_optuna['aps lower oot'] = [lower_apr_oot]\n",
    "scores_optuna['aps lower oot 2013'] = [lower_apr_oot_2013]\n",
    "\n",
    "scores_optuna['nap train'] = [nap_train]\n",
    "scores_optuna['nap test'] = [nap_test]\n",
    "scores_optuna['nap oot'] = [nap_oot]\n",
    "scores_optuna['nap oot 2013'] = [nap_oot_2013]\n",
    "\n",
    "#########################################################################\n",
    "\n",
    "predictions_train = pd.DataFrame()\n",
    "predictions_test = pd.DataFrame()\n",
    "predictions_oot = pd.DataFrame()\n",
    "predictions_oot_2013 = pd.DataFrame()\n",
    "\n",
    "predictions_train['prediction'] = y_train_pred\n",
    "predictions_train['bad_flag'] = y_train\n",
    "predictions_train['loss_90p'] = train_losses\n",
    "predictions_train['period_7'] = train_period_7\n",
    "predictions_train['APPPOSID'] = train['APPPOSID'].copy()\n",
    "\n",
    "predictions_test['prediction'] = y_test_pred\n",
    "predictions_test['bad_flag'] = y_test\n",
    "predictions_test['loss_90p'] = test_losses\n",
    "predictions_test['period_7'] = test_period_7\n",
    "predictions_test['APPPOSID'] = test['APPPOSID'].copy()\n",
    "\n",
    "predictions_oot['prediction'] = y_oot_pred\n",
    "predictions_oot['bad_flag'] = y_oot\n",
    "predictions_oot['loss_90p'] = oot_losses\n",
    "predictions_oot['period_7'] = oot_period_7\n",
    "predictions_oot['APPPOSID'] = oot['APPPOSID'].copy()\n",
    "\n",
    "predictions_oot_2013['prediction'] = y_oot_pred_2013\n",
    "predictions_oot_2013['bad_flag'] = y_oot_2013\n",
    "predictions_oot_2013['loss_90p'] = oot_losses_2013\n",
    "predictions_oot_2013['period_7'] = oot_period_7_2013\n",
    "predictions_oot_2013['APPPOSID'] = oot_2013['APPPOSID'].copy()\n",
    "\n",
    "print('Calculate profits')\n",
    "\n",
    "saved_money_test_tt = antifraud_profit_metrics_by_periods(predictions_test, \n",
    "                                                                   'prediction', 'loss_90p', \n",
    "                                                                   'bad_flag', 'period_7', \n",
    "                                                                   to_select = 5, n_jobs = 3)[0]\n",
    "saved_money_test_2_tt = antifraud_profit_metrics_by_periods(predictions_oot, \n",
    "                                                                     'prediction', 'loss_90p', \n",
    "                                                                     'bad_flag', 'period_7',\n",
    "                                                                     to_select = 5, n_jobs = 3)[0]\n",
    "saved_money_2013_tt = antifraud_profit_metrics_by_periods(predictions_oot_2013, \n",
    "                                                                   'prediction', 'loss_90p', \n",
    "                                                                   'bad_flag', 'period_7',\n",
    "                                                                   to_select = 40, n_jobs = 3)[0]\n",
    "\n",
    "#####################################################################################\n",
    "\n",
    "saved_money_test_distinct_tt = antifraud_profit_metrics_by_periods_unique_tt(predictions_test, \n",
    "                                                                             'prediction', 'loss_90p', \n",
    "                                                                             'bad_flag', 'period_7', \n",
    "                                                                             'APPPOSID',\n",
    "                                                                             to_select = 5, n_jobs = 1)\n",
    "saved_money_test_2_distinct_tt = antifraud_profit_metrics_by_periods_unique_tt(predictions_oot, \n",
    "                                                                               'prediction', 'loss_90p', \n",
    "                                                                               'bad_flag', 'period_7', \n",
    "                                                                               'APPPOSID',\n",
    "                                                                               to_select = 5, n_jobs = 1)\n",
    "saved_money_2013_distinct_tt = antifraud_profit_metrics_by_periods_unique_tt(predictions_oot_2013, \n",
    "                                                                             'prediction', 'loss_90p', \n",
    "                                                                             'bad_flag', 'period_7', \n",
    "                                                                             'APPPOSID',\n",
    "                                                                             to_select = 40, n_jobs = 1)\n",
    "\n",
    "#####################################################################################\n",
    "\n",
    "saved_money_test_distinct_tt_new = antifraud_profit_metrics_by_periods_unique_tt3(predictions_test, \n",
    "                                                                                  'prediction', 'loss_90p',\n",
    "                                                                                  'bad_flag', 'period_7', \n",
    "                                                                                  'APPPOSID',\n",
    "                                                                                  to_select = 5)[0]\n",
    "saved_money_test_2_distinct_tt_new = antifraud_profit_metrics_by_periods_unique_tt3(predictions_oot, \n",
    "                                                                                    'prediction', 'loss_90p',\n",
    "                                                                                    'bad_flag', 'period_7', \n",
    "                                                                                    'APPPOSID',\n",
    "                                                                                    to_select = 5)[0]\n",
    "saved_money_2013_distinct_tt_new = antifraud_profit_metrics_by_periods_unique_tt3(predictions_oot_2013, \n",
    "                                                                                  'prediction', 'loss_90p', \n",
    "                                                                                  'bad_flag', 'period_7', \n",
    "                                                                                  'APPPOSID',\n",
    "                                                                                  to_select = 40)[0]\n",
    "scores_optuna['saved_money_test_tt'] = [saved_money_test_tt]\n",
    "scores_optuna['saved_money_test_tt_multiply'] = [saved_money_test_tt*8]\n",
    "scores_optuna['saved_money_test_2_tt'] = [saved_money_test_2_tt]\n",
    "scores_optuna['saved_money_test_2_tt_multiply'] = [saved_money_test_2_tt*8]\n",
    "scores_optuna['saved_money_2013_tt'] = [saved_money_2013_tt]\n",
    "scores_optuna['saved_money_2013_tt_multiply'] = [saved_money_2013_tt]\n",
    "\n",
    "scores_optuna['saved_money_test_unique_tt'] = [saved_money_test_distinct_tt]\n",
    "scores_optuna['saved_money_test_unique_tt_multiply'] = [saved_money_test_distinct_tt*8]\n",
    "scores_optuna['saved_money_test_2_unique_tt'] = [saved_money_test_2_distinct_tt]\n",
    "scores_optuna['saved_money_test_2_unique_tt_multiply'] = [saved_money_test_2_distinct_tt*8]\n",
    "scores_optuna['saved_money_2013_unique_tt'] = [saved_money_2013_distinct_tt]\n",
    "scores_optuna['saved_money_2013_unique_tt_multiply'] = [saved_money_2013_distinct_tt]\n",
    "\n",
    "scores_optuna['saved_money_test_unique_tt_new'] = [saved_money_test_distinct_tt_new]\n",
    "scores_optuna['saved_money_test_unique_tt_new_multiply'] = [saved_money_test_distinct_tt_new*8]\n",
    "scores_optuna['saved_money_test_2_unique_tt_new'] = [saved_money_test_2_distinct_tt_new]\n",
    "scores_optuna['saved_money_test_2_unique_tt_new_multiply'] = [saved_money_test_2_distinct_tt_new*8]\n",
    "scores_optuna['saved_money_2013_unique_tt_new'] = [saved_money_2013_distinct_tt_new]\n",
    "scores_optuna['saved_money_2013_unique_tt_new_multiply'] = [saved_money_2013_distinct_tt_new]\n",
    "\n",
    "scores_optuna.to_csv(PATH + 'Modeling_fin_no_b_test/scores_forest_optuna1_roc.csv', sep = '&')"
   ]
  },
  {
   "cell_type": "code",
   "execution_count": null,
   "metadata": {},
   "outputs": [],
   "source": []
  },
  {
   "cell_type": "code",
   "execution_count": 302,
   "metadata": {
    "ExecuteTime": {
     "end_time": "2021-05-12T07:47:20.736158Z",
     "start_time": "2021-05-12T07:25:57.052646Z"
    }
   },
   "outputs": [
    {
     "name": "stdout",
     "output_type": "stream",
     "text": [
      "Starting training... 12.05.2021 10:25:57\n",
      "Ending training... 12.05.2021 10:43:08\n",
      "roc auc train =  0.95 aps train =  0.1397 nap train =  0.1373 bf train =  0.0028\n",
      "roc auc test =  0.9321 aps test =  0.0619 nap test =  0.0591 bf test =  0.003\n",
      "roc auc oot =  0.9465 aps oot =  0.0633 nap oot =  0.0604 bf oot =  0.0031\n",
      "roc auc oot 2013 =  0.8592 aps oot 2013 =  0.0812 nap oot 2013 =  0.0684 bf oot 2013 =  0.0137\n",
      "Calculate profits\n"
     ]
    }
   ],
   "source": [
    "best_forest = joblib.load('D:/Share/01 -Risk Desc Science/AntiFraud/Modeling_fin_no_b_test/model_44.dat')\n",
    "best_forest_params = best_forest.get_params()\n",
    "\n",
    "forest_class = RandomForestClassifier(**best_forest_params)\n",
    "print('Starting training...', datetime.strftime(datetime.now(), \"%d.%m.%Y %H:%M:%S\"))\n",
    "# train\n",
    "best_forest = forest_class.fit(train_lgbm_data, y_train)\n",
    "\n",
    "print('Ending training...', datetime.strftime(datetime.now(), \"%d.%m.%Y %H:%M:%S\"))\n",
    "\n",
    "y_train_pred = best_forest.predict_proba(train_lgbm_data)[:, 1]\n",
    "y_test_pred = best_forest.predict_proba(test_lgbm_data)[:, 1]\n",
    "y_oot_pred = best_forest.predict_proba(oot_lgbm_data)[:, 1]\n",
    "y_oot_pred_2013 = best_forest.predict_proba(oot_lgbm_data_2013)[:, 1]\n",
    "\n",
    "##########################################################################\n",
    "\n",
    "roc_auc_train = roc_auc_score(y_train, y_train_pred)\n",
    "aps_train = average_precision_score(y_train, y_train_pred)\n",
    "br_train = np.mean(y_train)\n",
    "nap_train = (aps_train - br_train)/(1-br_train)\n",
    "auc_train, auc_var_train, lower_upper_ci_train = auc_ci_Delong(y_train, y_train_pred)\n",
    "lower_apr_train, upper_apr_train = aps_ci_logit(y_train, y_train_pred, epsilon=0.05)\n",
    "\n",
    "roc_auc_test = roc_auc_score(y_test, y_test_pred)\n",
    "aps_test = average_precision_score(y_test, y_test_pred)\n",
    "br_test = np.mean(y_test)\n",
    "nap_test = (aps_test - br_test)/(1-br_test)\n",
    "auc_test, auc_var_test, lower_upper_ci_test = auc_ci_Delong(y_test, y_test_pred)\n",
    "lower_apr_test, upper_apr_test = aps_ci_logit(y_test, y_test_pred, epsilon=0.05)\n",
    "\n",
    "roc_auc_oot = roc_auc_score(y_oot, y_oot_pred)\n",
    "aps_oot = average_precision_score(y_oot, y_oot_pred)\n",
    "br_oot = np.mean(y_oot)\n",
    "nap_oot = (aps_oot - br_oot)/(1-br_oot)\n",
    "auc_oot, auc_var_oot, lower_upper_ci_oot = auc_ci_Delong(y_oot, y_oot_pred)\n",
    "lower_apr_oot, upper_apr_oot = aps_ci_logit(y_oot, y_oot_pred, epsilon=0.05)\n",
    "\n",
    "roc_auc_oot_2013 = roc_auc_score(y_oot_2013, y_oot_pred_2013)\n",
    "aps_oot_2013 = average_precision_score(y_oot_2013, y_oot_pred_2013)\n",
    "br_oot_2013 = np.mean(y_oot_2013)\n",
    "nap_oot_2013 = (aps_oot_2013 - br_oot_2013)/(1-br_oot_2013)\n",
    "auc_oot_2013, auc_var_oot_2013, lower_upper_ci_oot_2013 = auc_ci_Delong(y_oot_2013, y_oot_pred_2013)\n",
    "lower_apr_oot_2013, upper_apr_oot_2013 = aps_ci_logit(y_oot_2013, y_oot_pred_2013, epsilon=0.05)\n",
    "\n",
    "##########################################################################\n",
    "\n",
    "print('roc auc train = ', round(roc_auc_train, 4), \n",
    "      'aps train = ', round(aps_train, 4),\n",
    "      'nap train = ', round(nap_train, 4),\n",
    "      'bf train = ', round(br_train, 4))\n",
    "\n",
    "print('roc auc test = ', round(roc_auc_test, 4), \n",
    "      'aps test = ', round(aps_test, 4),\n",
    "      'nap test = ', round(nap_test, 4),\n",
    "      'bf test = ', round(br_test, 4))\n",
    "\n",
    "print('roc auc oot = ', round(roc_auc_oot, 4), \n",
    "      'aps oot = ', round(aps_oot, 4),\n",
    "      'nap oot = ', round(nap_oot, 4),\n",
    "      'bf oot = ', round(br_oot, 4))\n",
    "\n",
    "print('roc auc oot 2013 = ', round(roc_auc_oot_2013, 4), \n",
    "      'aps oot 2013 = ', round(aps_oot_2013, 4),\n",
    "      'nap oot 2013 = ', round(nap_oot_2013, 4),\n",
    "      'bf oot 2013 = ', round(br_oot_2013, 4))\n",
    "\n",
    "scores_optuna = pd.DataFrame()\n",
    "\n",
    "scores_optuna['bad rate train'] = [br_train]\n",
    "scores_optuna['bad rate test'] = [br_test]\n",
    "scores_optuna['bad rate oot'] = [br_oot]\n",
    "scores_optuna['bad rate oot 2013'] = [br_oot_2013]\n",
    "\n",
    "scores_optuna['roc auc train'] = [roc_auc_train]\n",
    "scores_optuna['roc auc test'] = [roc_auc_test]\n",
    "scores_optuna['roc auc oot'] = [roc_auc_oot]\n",
    "scores_optuna['roc auc oot 2013'] = [roc_auc_oot_2013]\n",
    "\n",
    "scores_optuna['roc_auc train lower upper'] = [lower_upper_ci_train]\n",
    "scores_optuna['roc_auc test lower upper'] = [lower_upper_ci_test]\n",
    "scores_optuna['roc_auc oot lower upper'] = [lower_upper_ci_oot]\n",
    "scores_optuna['roc_auc oot 2013 lower upper'] = [lower_upper_ci_oot_2013]\n",
    "\n",
    "scores_optuna['aps train'] = [aps_train]\n",
    "scores_optuna['aps test'] = [aps_test]\n",
    "scores_optuna['aps oot'] = [aps_oot]\n",
    "scores_optuna['aps oot 2013'] = [aps_oot_2013]\n",
    "\n",
    "scores_optuna['aps upper train'] = [upper_apr_train]\n",
    "scores_optuna['aps upper test'] = [upper_apr_test]\n",
    "scores_optuna['aps upper oot'] = [upper_apr_oot]\n",
    "scores_optuna['aps upper oot 2013'] = [upper_apr_oot_2013]\n",
    "\n",
    "scores_optuna['aps lower train'] = [lower_apr_train]\n",
    "scores_optuna['aps lower test'] = [lower_apr_test]\n",
    "scores_optuna['aps lower oot'] = [lower_apr_oot]\n",
    "scores_optuna['aps lower oot 2013'] = [lower_apr_oot_2013]\n",
    "\n",
    "scores_optuna['nap train'] = [nap_train]\n",
    "scores_optuna['nap test'] = [nap_test]\n",
    "scores_optuna['nap oot'] = [nap_oot]\n",
    "scores_optuna['nap oot 2013'] = [nap_oot_2013]\n",
    "\n",
    "#########################################################################\n",
    "\n",
    "predictions_train = pd.DataFrame()\n",
    "predictions_test = pd.DataFrame()\n",
    "predictions_oot = pd.DataFrame()\n",
    "predictions_oot_2013 = pd.DataFrame()\n",
    "\n",
    "predictions_train['prediction'] = y_train_pred\n",
    "predictions_train['bad_flag'] = y_train\n",
    "predictions_train['loss_90p'] = train_losses\n",
    "predictions_train['period_7'] = train_period_7\n",
    "predictions_train['APPPOSID'] = train['APPPOSID'].copy()\n",
    "\n",
    "predictions_test['prediction'] = y_test_pred\n",
    "predictions_test['bad_flag'] = y_test\n",
    "predictions_test['loss_90p'] = test_losses\n",
    "predictions_test['period_7'] = test_period_7\n",
    "predictions_test['APPPOSID'] = test['APPPOSID'].copy()\n",
    "\n",
    "predictions_oot['prediction'] = y_oot_pred\n",
    "predictions_oot['bad_flag'] = y_oot\n",
    "predictions_oot['loss_90p'] = oot_losses\n",
    "predictions_oot['period_7'] = oot_period_7\n",
    "predictions_oot['APPPOSID'] = oot['APPPOSID'].copy()\n",
    "\n",
    "predictions_oot_2013['prediction'] = y_oot_pred_2013\n",
    "predictions_oot_2013['bad_flag'] = y_oot_2013\n",
    "predictions_oot_2013['loss_90p'] = oot_losses_2013\n",
    "predictions_oot_2013['period_7'] = oot_period_7_2013\n",
    "predictions_oot_2013['APPPOSID'] = oot_2013['APPPOSID'].copy()\n",
    "\n",
    "print('Calculate profits')\n",
    "\n",
    "saved_money_test_tt = antifraud_profit_metrics_by_periods(predictions_test, \n",
    "                                                                   'prediction', 'loss_90p', \n",
    "                                                                   'bad_flag', 'period_7', \n",
    "                                                                   to_select = 5, n_jobs = 3)[0]\n",
    "saved_money_test_2_tt = antifraud_profit_metrics_by_periods(predictions_oot, \n",
    "                                                                     'prediction', 'loss_90p', \n",
    "                                                                     'bad_flag', 'period_7',\n",
    "                                                                     to_select = 5, n_jobs = 3)[0]\n",
    "saved_money_2013_tt = antifraud_profit_metrics_by_periods(predictions_oot_2013, \n",
    "                                                                   'prediction', 'loss_90p', \n",
    "                                                                   'bad_flag', 'period_7',\n",
    "                                                                   to_select = 40, n_jobs = 3)[0]\n",
    "\n",
    "#####################################################################################\n",
    "\n",
    "saved_money_test_distinct_tt = antifraud_profit_metrics_by_periods_unique_tt(predictions_test, \n",
    "                                                                             'prediction', 'loss_90p', \n",
    "                                                                             'bad_flag', 'period_7', \n",
    "                                                                             'APPPOSID',\n",
    "                                                                             to_select = 5, n_jobs = 1)\n",
    "saved_money_test_2_distinct_tt = antifraud_profit_metrics_by_periods_unique_tt(predictions_oot, \n",
    "                                                                               'prediction', 'loss_90p', \n",
    "                                                                               'bad_flag', 'period_7', \n",
    "                                                                               'APPPOSID',\n",
    "                                                                               to_select = 5, n_jobs = 1)\n",
    "saved_money_2013_distinct_tt = antifraud_profit_metrics_by_periods_unique_tt(predictions_oot_2013, \n",
    "                                                                             'prediction', 'loss_90p', \n",
    "                                                                             'bad_flag', 'period_7', \n",
    "                                                                             'APPPOSID',\n",
    "                                                                             to_select = 40, n_jobs = 1)\n",
    "\n",
    "#####################################################################################\n",
    "\n",
    "saved_money_test_distinct_tt_new = antifraud_profit_metrics_by_periods_unique_tt3(predictions_test, \n",
    "                                                                                  'prediction', 'loss_90p',\n",
    "                                                                                  'bad_flag', 'period_7', \n",
    "                                                                                  'APPPOSID',\n",
    "                                                                                  to_select = 5)[0]\n",
    "saved_money_test_2_distinct_tt_new = antifraud_profit_metrics_by_periods_unique_tt3(predictions_oot, \n",
    "                                                                                    'prediction', 'loss_90p',\n",
    "                                                                                    'bad_flag', 'period_7', \n",
    "                                                                                    'APPPOSID',\n",
    "                                                                                    to_select = 5)[0]\n",
    "saved_money_2013_distinct_tt_new = antifraud_profit_metrics_by_periods_unique_tt3(predictions_oot_2013, \n",
    "                                                                                  'prediction', 'loss_90p', \n",
    "                                                                                  'bad_flag', 'period_7', \n",
    "                                                                                  'APPPOSID',\n",
    "                                                                                  to_select = 40)[0]\n",
    "scores_optuna['saved_money_test_tt'] = [saved_money_test_tt]\n",
    "scores_optuna['saved_money_test_tt_multiply'] = [saved_money_test_tt*8]\n",
    "scores_optuna['saved_money_test_2_tt'] = [saved_money_test_2_tt]\n",
    "scores_optuna['saved_money_test_2_tt_multiply'] = [saved_money_test_2_tt*8]\n",
    "scores_optuna['saved_money_2013_tt'] = [saved_money_2013_tt]\n",
    "scores_optuna['saved_money_2013_tt_multiply'] = [saved_money_2013_tt]\n",
    "\n",
    "scores_optuna['saved_money_test_unique_tt'] = [saved_money_test_distinct_tt]\n",
    "scores_optuna['saved_money_test_unique_tt_multiply'] = [saved_money_test_distinct_tt*8]\n",
    "scores_optuna['saved_money_test_2_unique_tt'] = [saved_money_test_2_distinct_tt]\n",
    "scores_optuna['saved_money_test_2_unique_tt_multiply'] = [saved_money_test_2_distinct_tt*8]\n",
    "scores_optuna['saved_money_2013_unique_tt'] = [saved_money_2013_distinct_tt]\n",
    "scores_optuna['saved_money_2013_unique_tt_multiply'] = [saved_money_2013_distinct_tt]\n",
    "\n",
    "scores_optuna['saved_money_test_unique_tt_new'] = [saved_money_test_distinct_tt_new]\n",
    "scores_optuna['saved_money_test_unique_tt_new_multiply'] = [saved_money_test_distinct_tt_new*8]\n",
    "scores_optuna['saved_money_test_2_unique_tt_new'] = [saved_money_test_2_distinct_tt_new]\n",
    "scores_optuna['saved_money_test_2_unique_tt_new_multiply'] = [saved_money_test_2_distinct_tt_new*8]\n",
    "scores_optuna['saved_money_2013_unique_tt_new'] = [saved_money_2013_distinct_tt_new]\n",
    "scores_optuna['saved_money_2013_unique_tt_new_multiply'] = [saved_money_2013_distinct_tt_new]\n",
    "\n",
    "scores_optuna.to_csv(PATH + 'Modeling_fin_no_b_test/scores_forest_optuna1.csv', sep = '&')"
   ]
  }
 ],
 "metadata": {
  "kernelspec": {
   "display_name": "Python 3",
   "language": "python",
   "name": "python3"
  },
  "language_info": {
   "codemirror_mode": {
    "name": "ipython",
    "version": 3
   },
   "file_extension": ".py",
   "mimetype": "text/x-python",
   "name": "python",
   "nbconvert_exporter": "python",
   "pygments_lexer": "ipython3",
   "version": "3.7.4"
  },
  "toc": {
   "base_numbering": 1,
   "nav_menu": {},
   "number_sections": true,
   "sideBar": true,
   "skip_h1_title": false,
   "title_cell": "Table of Contents",
   "title_sidebar": "Contents",
   "toc_cell": false,
   "toc_position": {
    "height": "calc(100% - 180px)",
    "left": "10px",
    "top": "150px",
    "width": "371.563px"
   },
   "toc_section_display": true,
   "toc_window_display": true
  }
 },
 "nbformat": 4,
 "nbformat_minor": 1
}
